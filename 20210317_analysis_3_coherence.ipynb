{
 "cells": [
  {
   "cell_type": "code",
   "execution_count": 1,
   "metadata": {
    "ExecuteTime": {
     "end_time": "2021-03-17T06:54:58.339717Z",
     "start_time": "2021-03-17T06:54:57.448719Z"
    }
   },
   "outputs": [],
   "source": [
    "#pip install --upgrade tomotopy\n",
    "#pip install --upgrade pandas\n",
    "#pip install reshape\n",
    "#pip install gensim\n",
    "\n",
    "import re\n",
    "import gensim\n",
    "import numpy as np\n",
    "import tomotopy as tp\n",
    "import tomotopy.coherence\n",
    "from kiwipiepy import Kiwi, Option\n",
    "from pyvis.network import Network"
   ]
  },
  {
   "cell_type": "code",
   "execution_count": 2,
   "metadata": {
    "ExecuteTime": {
     "end_time": "2021-03-17T06:58:26.949326Z",
     "start_time": "2021-03-17T06:58:26.131816Z"
    }
   },
   "outputs": [],
   "source": [
    "kiwi = Kiwi()"
   ]
  },
  {
   "cell_type": "code",
   "execution_count": 3,
   "metadata": {
    "ExecuteTime": {
     "end_time": "2021-03-17T06:58:29.073621Z",
     "start_time": "2021-03-17T06:58:28.283381Z"
    }
   },
   "outputs": [
    {
     "data": {
      "text/plain": [
       "<kiwipiepy.Kiwi at 0x7fa6d637bfd0>"
      ]
     },
     "execution_count": 3,
     "metadata": {},
     "output_type": "execute_result"
    }
   ],
   "source": [
    "Kiwi(num_workers=-0, model_path='./', options=Option.LOAD_DEFAULT_DICTIONARY | Option.INTEGRATE_ALLOMORPH)"
   ]
  },
  {
   "cell_type": "code",
   "execution_count": 4,
   "metadata": {
    "ExecuteTime": {
     "end_time": "2021-03-17T06:58:30.894332Z",
     "start_time": "2021-03-17T06:58:29.618578Z"
    }
   },
   "outputs": [],
   "source": [
    "try:\n",
    "    corpus = tp.utils.Corpus.load('k.cps')\n",
    "except IOError:\n",
    "    kiwi = Kiwi()\n",
    "    kiwi.add_user_word('전달력', tag='NNG')\n",
    "    kiwi.add_user_word('영상미', tag='NNG')\n",
    "    kiwi.add_user_word('영상기법', tag='NNG')\n",
    "    kiwi.add_user_word('영상구도', tag='NNG')\n",
    "    kiwi.add_user_word('배경음악', tag='NNG')\n",
    "    kiwi.add_user_word('구독자수', tag='NNG')   \n",
    "    kiwi.add_user_word('레고프렌즈', tag='NNG')\n",
    "    kiwi.add_user_word('딱히', tag='MAG')\n",
    "    kiwi.add_user_word('교육', tag='NNP')\n",
    "    kiwi.add_user_word('방송', tag='NNP')\n",
    "    kiwi.add_user_word('브이로그', tag='NNP')\n",
    "    kiwi.add_user_word('생일', tag='NNP')\n",
    "    kiwi.add_user_word('날', tag='NNP')\n",
    "    kiwi.add_user_word('전반적', tag='NNP')\n",
    "    kiwi.add_user_word('조회수', tag='NNP')\n",
    "    kiwi.add_user_word('매니아층', tag='NNP')\n",
    "    kiwi.add_user_word('생방송', tag='NNP')\n",
    "    kiwi.add_user_word('먹방', tag='NNP')\n",
    "    kiwi.add_user_word('배경음악', tag='NNP')\n",
    "    kiwi.add_user_word('맛집', tag='NNP')\n",
    "    kiwi.add_user_word('재건축', tag='NNP')\n",
    "    kiwi.add_user_word('언박싱', tag='NNP')    \n",
    "    kiwi.prepare()\n",
    "    pat_tag = re.compile('NN[GP]|V[VA]|MAG|MM') "
   ]
  },
  {
   "cell_type": "code",
   "execution_count": 5,
   "metadata": {
    "ExecuteTime": {
     "end_time": "2021-03-17T06:58:31.257800Z",
     "start_time": "2021-03-17T06:58:31.254534Z"
    }
   },
   "outputs": [],
   "source": [
    "    def tokenizer(raw, user_data):\n",
    "        res, _ = user_data()[0]\n",
    "        for w, tag, start, l in res:\n",
    "            if not pat_tag.match(tag) or len(w) <= 1: continue\n",
    "            yield w + ('다' if tag.startswith('V') else ''), start, l"
   ]
  },
  {
   "cell_type": "code",
   "execution_count": 6,
   "metadata": {
    "ExecuteTime": {
     "end_time": "2021-03-17T06:58:32.533060Z",
     "start_time": "2021-03-17T06:58:32.509255Z"
    }
   },
   "outputs": [],
   "source": [
    "    corpus = tp.utils.Corpus(\n",
    "        tokenizer=tokenizer\n",
    "    )\n",
    "    \n",
    "    corpus.process((line, kiwi.async_analyze(line)) for line in open('ctm_data_final_210317.txt', encoding='UTF-8'))\n",
    "    corpus.save('data_210317_2.cps')"
   ]
  },
  {
   "cell_type": "markdown",
   "metadata": {},
   "source": [
    "case1. tw기본값 (tw=tp.TermWeight.ONE)으로 세팅했을 때!"
   ]
  },
  {
   "cell_type": "code",
   "execution_count": 15,
   "metadata": {
    "ExecuteTime": {
     "end_time": "2021-03-17T06:08:46.432927Z",
     "start_time": "2021-03-17T06:08:46.430513Z"
    }
   },
   "outputs": [],
   "source": [
    "# 최소 1개 이상 문헌에 등장하고, 전체 출현빈도는 2 이상인 단어만 사용\n",
    "# 그리고 상위 10개 고빈도 단어는 분석에서 제외하고싶으면 rm_top=10을 추가, 안하고 싶으면 0\n",
    "# 주제 개수는 20개\n",
    "\n",
    "#tw=용어 가중치(tp.TermWeight.ONE은 기본값으로 모든 용어의 가중치를 동일하게 간주)\n",
    "\n",
    "#아래는 코드 (#지우기)\n",
    "#mdl = tp.CTModel(tw=tp.TermWeight.ONE, min_df=1, min_cf=2, rm_top=0, k=20, corpus=corpus)\n",
    "#mdl.train(0)"
   ]
  },
  {
   "cell_type": "markdown",
   "metadata": {},
   "source": [
    "case2. tw에 PMI로 가중치 부여했을 때"
   ]
  },
  {
   "cell_type": "code",
   "execution_count": null,
   "metadata": {
    "ExecuteTime": {
     "end_time": "2021-03-17T06:07:14.572940Z",
     "start_time": "2021-03-17T06:07:10.827Z"
    }
   },
   "outputs": [],
   "source": [
    "# 최소 1개 이상 문헌에 등장하고, 전체 출현빈도는 2 이상인 단어만 사용\n",
    "# 그리고 상위 10개 고빈도 단어는 분석에서 제외하고싶으면 rm_top=10을 추가, 안하고 싶으면 0\n",
    "# 주제 개수는 20개\n",
    "\n",
    "#tw=용어 가중치(tp.TermWeight.ONE은 기본값으로 모든 용어의 가중치를 동일하게 간주)\n",
    "\n",
    "#아래는 코드 (#지우기)\n",
    "#mdl = tp.CTModel(tw=tp.TermWeight.PMI, min_df=1, min_cf=2, rm_top=0, k=20, corpus=corpus)\n",
    "#mdl.train(0)"
   ]
  },
  {
   "cell_type": "markdown",
   "metadata": {},
   "source": [
    "case3. tw에 PMI로 가중치 부여하고, min_df=1, min_cf=1로 설정 (개발자분 피드백)"
   ]
  },
  {
   "cell_type": "code",
   "execution_count": 8,
   "metadata": {
    "ExecuteTime": {
     "end_time": "2021-03-17T06:58:44.526412Z",
     "start_time": "2021-03-17T06:58:44.521978Z"
    }
   },
   "outputs": [],
   "source": [
    "# 최소 0개 이상 문헌에 등장하고, 전체 출현빈도는 0 이상인 단어만 사용\n",
    "# 그리고 상위 10개 고빈도 단어는 분석에서 제외하고싶으면 rm_top=10을 추가, 안하고 싶으면 0\n",
    "# 주제 개수는 10개\n",
    "\n",
    "#tw=용어 가중치(tp.TermWeight.ONE은 기본값으로 모든 용어의 가중치를 동일하게 간주)\n",
    "\n",
    "mdl = tp.CTModel(tw=tp.TermWeight.PMI, min_df=0, min_cf=0, rm_top=0, k=10, corpus=corpus)\n",
    "mdl.train(0)"
   ]
  },
  {
   "cell_type": "code",
   "execution_count": 9,
   "metadata": {
    "ExecuteTime": {
     "end_time": "2021-03-17T06:58:52.522972Z",
     "start_time": "2021-03-17T06:58:52.519234Z"
    }
   },
   "outputs": [
    {
     "name": "stdout",
     "output_type": "stream",
     "text": [
      "Num docs:147, Total Words:465\n"
     ]
    }
   ],
   "source": [
    "#num_beta_sample은 만 개 이상이면 1~5, 수 천개라면 최소 10, 수 백개에 불과하면 20이상으로 키우기\n",
    "mdl.num_beta_sample = 10\n",
    "print('Num docs:{}, Total Words:{}'.format(\n",
    "    len(mdl.docs), mdl.num_words\n",
    "))"
   ]
  },
  {
   "cell_type": "code",
   "execution_count": 10,
   "metadata": {
    "ExecuteTime": {
     "end_time": "2021-03-17T06:59:04.098097Z",
     "start_time": "2021-03-17T06:59:00.458007Z"
    }
   },
   "outputs": [
    {
     "name": "stdout",
     "output_type": "stream",
     "text": [
      "Iteration: 0000, LL per word: -27.45\n",
      "Iteration: 0020, LL per word: -25.43\n",
      "Iteration: 0040, LL per word: -26.71\n",
      "Iteration: 0060, LL per word: -28.57\n",
      "Iteration: 0080, LL per word: -28.24\n",
      "Iteration: 0100, LL per word: -29.28\n",
      "Iteration: 0120, LL per word: -28.49\n",
      "Iteration: 0140, LL per word: -29.21\n",
      "Iteration: 0160, LL per word: -29.7\n",
      "Iteration: 0180, LL per word: -28.78\n",
      "Iteration: 0200, LL per word: -29.08\n",
      "Iteration: 0220, LL per word: -29.52\n",
      "Iteration: 0240, LL per word: -29.66\n",
      "Iteration: 0260, LL per word: -28.93\n",
      "Iteration: 0280, LL per word: -28.85\n",
      "Iteration: 0300, LL per word: -28.46\n",
      "Iteration: 0320, LL per word: -28.93\n",
      "Iteration: 0340, LL per word: -28.56\n",
      "Iteration: 0360, LL per word: -29.3\n",
      "Iteration: 0380, LL per word: -28.95\n",
      "Iteration: 0400, LL per word: -28.96\n",
      "Iteration: 0420, LL per word: -29.69\n",
      "Iteration: 0440, LL per word: -29.84\n",
      "Iteration: 0460, LL per word: -29.42\n",
      "Iteration: 0480, LL per word: -29.12\n",
      "Iteration: 0500, LL per word: -28.43\n",
      "Iteration: 0520, LL per word: -28.5\n",
      "Iteration: 0540, LL per word: -28.9\n",
      "Iteration: 0560, LL per word: -28.43\n",
      "Iteration: 0580, LL per word: -28.44\n",
      "Iteration: 0600, LL per word: -28.78\n",
      "Iteration: 0620, LL per word: -27.77\n",
      "Iteration: 0640, LL per word: -29.16\n",
      "Iteration: 0660, LL per word: -29.28\n",
      "Iteration: 0680, LL per word: -29.14\n",
      "Iteration: 0700, LL per word: -29.69\n",
      "Iteration: 0720, LL per word: -28.57\n",
      "Iteration: 0740, LL per word: -28.71\n",
      "Iteration: 0760, LL per word: -28.17\n",
      "Iteration: 0780, LL per word: -28.23\n",
      "Iteration: 0800, LL per word: -28.74\n",
      "Iteration: 0820, LL per word: -27.42\n",
      "Iteration: 0840, LL per word: -28.39\n",
      "Iteration: 0860, LL per word: -28.33\n",
      "Iteration: 0880, LL per word: -27.97\n",
      "Iteration: 0900, LL per word: -28.27\n",
      "Iteration: 0920, LL per word: -27.88\n",
      "Iteration: 0940, LL per word: -28.47\n",
      "Iteration: 0960, LL per word: -27.9\n",
      "Iteration: 0980, LL per word: -29.33\n"
     ]
    }
   ],
   "source": [
    "#깁스샘플링\n",
    "for i in range(0, 1000, 20):\n",
    "    print('Iteration: {:04}, LL per word: {:.4}'.format(i, mdl.ll_per_word))\n",
    "    mdl.train(20)"
   ]
  },
  {
   "cell_type": "code",
   "execution_count": 11,
   "metadata": {
    "ExecuteTime": {
     "end_time": "2021-03-17T06:59:15.071942Z",
     "start_time": "2021-03-17T06:59:15.068332Z"
    }
   },
   "outputs": [
    {
     "name": "stdout",
     "output_type": "stream",
     "text": [
      "Iteration: 0980, LL per word: -28.06\n"
     ]
    }
   ],
   "source": [
    "print('Iteration: {:04}, LL per word: {:.4}'.format(i, mdl.ll_per_word))"
   ]
  },
  {
   "cell_type": "code",
   "execution_count": 12,
   "metadata": {
    "ExecuteTime": {
     "end_time": "2021-03-17T06:59:15.621398Z",
     "start_time": "2021-03-17T06:59:15.612240Z"
    },
    "scrolled": true
   },
   "outputs": [
    {
     "name": "stdout",
     "output_type": "stream",
     "text": [
      "<Basic Info>\n",
      "| CTModel (current version: 0.10.2)\n",
      "| 147 docs, 465 words\n",
      "| Total Vocabs: 273, Used Vocabs: 273\n",
      "| Entropy of words: -5.33406\n",
      "| Removed Vocabs: <NA>\n",
      "|\n",
      "<Training Info>\n",
      "| Iterations: 1000, Burn-in steps: 0\n",
      "| Optimization Interval: 2\n",
      "| Log-likelihood per word: -28.06273\n",
      "|\n",
      "<Initial Parameters>\n",
      "| tw: TermWeight.PMI\n",
      "| min_cf: 0 (minimum collection frequency of words)\n",
      "| min_df: 0 (minimum document frequency of words)\n",
      "| rm_top: 0 (the number of top words to be removed)\n",
      "| k: 10 (the number of topics between 1 ~ 32767)\n",
      "| smoothing_alpha: 0.1 (small smoothing value for preventing topic counts to be zero)\n",
      "| eta: 0.01 (hyperparameter of Dirichlet distribution for topic-word)\n",
      "| seed: 547930673 (random seed)\n",
      "| trained in version 0.10.2\n",
      "|\n",
      "<Parameters>\n",
      "| prior_mean (Prior mean of Logit-normal for the per-document topic distributions)\n",
      "|  [-4.1397047 -4.2771854 -4.144798  -2.9072309 -4.4188123 -3.843314\n",
      "|   -4.112764  -4.033484  -2.6398475 -2.3532903]\n",
      "| prior_cov (Prior covariance of Logit-normal for the per-document topic distributions)\n",
      "|  [[ 1.10835619e+01  4.90701586e-01 -2.40429878e+00  9.09888372e-03\n",
      "|     1.93600440e+00 -2.49078155e+00  1.15999305e+00 -1.03274369e+00\n",
      "|     8.51516068e-01 -4.57379520e-01]\n",
      "|   [ 4.90701586e-01  1.08882074e+01  1.85178697e+00  9.08129096e-01\n",
      "|     1.08836746e+00  4.33327913e-01  5.84541738e-01  5.99149942e-01\n",
      "|     3.11129838e-01 -4.25407380e-01]\n",
      "|   [-2.40429878e+00  1.85178697e+00  1.43807955e+01  1.81551945e+00\n",
      "|     1.32329595e+00  8.27494442e-01 -2.96843863e+00  2.87948679e-02\n",
      "|     6.02959633e-01 -8.64215791e-01]\n",
      "|   [ 9.09888372e-03  9.08129096e-01  1.81551945e+00  1.00817041e+01\n",
      "|     7.51206934e-01  6.02921665e-01  3.29746068e-01  6.36800826e-01\n",
      "|     6.02694690e-01 -1.11411047e+00]\n",
      "|   [ 1.93600440e+00  1.08836746e+00  1.32329595e+00  7.51206934e-01\n",
      "|     1.17669239e+01  5.80626950e-02  1.30157554e+00  1.93755138e+00\n",
      "|     1.40007114e+00 -2.29528904e+00]\n",
      "|   [-2.49078155e+00  4.33327913e-01  8.27494442e-01  6.02921665e-01\n",
      "|     5.80626950e-02  1.06815825e+01  4.27777559e-01  2.66670966e+00\n",
      "|    -1.53136373e-01 -2.67167830e+00]\n",
      "|   [ 1.15999305e+00  5.84541738e-01 -2.96843863e+00  3.29746068e-01\n",
      "|     1.30157554e+00  4.27777559e-01  1.06275663e+01  1.29004014e+00\n",
      "|     1.24415660e+00 -2.08328629e+00]\n",
      "|   [-1.03274369e+00  5.99149942e-01  2.87948679e-02  6.36800826e-01\n",
      "|     1.93755138e+00  2.66670966e+00  1.29004014e+00  1.25435295e+01\n",
      "|     4.96847361e-01 -3.94807100e+00]\n",
      "|   [ 8.51516068e-01  3.11129838e-01  6.02959633e-01  6.02694690e-01\n",
      "|     1.40007114e+00 -1.53136373e-01  1.24415660e+00  4.96847361e-01\n",
      "|     8.94829464e+00 -1.49310195e+00]\n",
      "|   [-4.57379520e-01 -4.25407380e-01 -8.64215791e-01 -1.11411047e+00\n",
      "|    -2.29528904e+00 -2.67167830e+00 -2.08328629e+00 -3.94807100e+00\n",
      "|    -1.49310195e+00  3.92105508e+00]]\n",
      "| eta (Dirichlet prior on the per-topic word distribution)\n",
      "|  0.01\n",
      "|\n",
      "<Topics>\n",
      "| #0 (53) : 편집 시청자 많이 즐거움 방송\n",
      "| #1 (28) : 운동 공감 먹방 육아 레고\n",
      "| #2 (47) : 강아지 모습 귀엽다 보이다 반려\n",
      "| #3 (53) : 브이로그 게임 일상 소통 교육\n",
      "| #4 (28) : 여행 주제 라이브 자연 베이킹\n",
      "| #5 (56) : 정보 공유 생활 관심 내용\n",
      "| #6 (45) : 만들다 가장 분야 대하다 처음\n",
      "| #7 (43) : 패션 콘텐츠 영상미 영상 수업\n",
      "| #8 (66) : 영상 좋아하다 자유 활동 추억\n",
      "| #9 (46) : 재미있다 음악 고양이 사용 가족\n",
      "|\n",
      "\n"
     ]
    }
   ],
   "source": [
    "mdl.summary()\n",
    "\n",
    "#Words: CTM 분석 후 추출된 문서들 전체의 단어의 개수 (문서 당 같은 단어가 2개 있을 수도 있고 중복 가능)\n",
    "#Total Vocabs: 작은 빈도의 단어들을 제거한 뒤 남은 토픽모델링 후 어휘의 개수\n",
    "#Used_Vocabs: 모델에 실제로 사용된 어휘만을 포함하는 dictionary 타입의 어휘 사전\n",
    "#prior_cov : 토픽의 사전분포인 로지스틱 정규분포의 공분산 행렬\n",
    "#prior_mean : 토픽의 사전분포인 로지스틱 정규분포의 평균 벡터\n",
    "#k : 토픽의 개수, 1 ~ 32767 범위의 정수.\n",
    "#alpha는 CTM 모형의 모수 \n",
    "#eta는 모수 \n",
    "#num.iterations는 반복 횟수로 z를 몇 번 추출하느냐\n"
   ]
  },
  {
   "cell_type": "code",
   "execution_count": 13,
   "metadata": {
    "ExecuteTime": {
     "end_time": "2021-03-17T06:59:40.375530Z",
     "start_time": "2021-03-17T06:59:40.354596Z"
    }
   },
   "outputs": [],
   "source": [
    "mdl.save('trained_ctm_model.bin')"
   ]
  },
  {
   "cell_type": "code",
   "execution_count": 14,
   "metadata": {
    "ExecuteTime": {
     "end_time": "2021-03-17T06:59:47.414036Z",
     "start_time": "2021-03-17T06:59:47.405581Z"
    }
   },
   "outputs": [
    {
     "name": "stdout",
     "output_type": "stream",
     "text": [
      "==== Coherence : u_mass ====\n",
      "Average: -22.695269587683853 \n",
      "Per Topic: [-19.421244469839415, -25.199343956493824, -22.29227354169433, -25.30077391629495, -25.30663981731466, -19.444854986330444, -18.15599961061216, -24.678924100531002, -20.709848867631784, -26.442792610095985]\n",
      "\n",
      "==== Coherence : c_uci ====\n",
      "Average: -15.372814631251398 \n",
      "Per Topic: [-13.409686511932275, -16.14768570650404, -14.929257712545175, -17.801549411497405, -16.746832157186507, -12.985294904445828, -12.317418477567301, -16.55002952626775, -14.854377833359669, -17.986014071208043]\n",
      "\n",
      "==== Coherence : c_npmi ====\n",
      "Average: -0.4683005924503026 \n",
      "Per Topic: [-0.35099741298801457, -0.5155628128197335, -0.4283757736107375, -0.6006074424353394, -0.5583287931603876, -0.34703604791350234, -0.26685749071697545, -0.54890795004523, -0.4391583439557247, -0.6271738568573811]\n",
      "\n",
      "==== Coherence : c_v ====\n",
      "Average: 0.9185593688488007 \n",
      "Per Topic: [0.8915929615497589, 0.9541544616222382, 0.9357196390628815, 0.9196041285991668, 0.9358926057815552, 0.9102115750312805, 0.8849460065364838, 0.9325627744197845, 0.8894208788871765, 0.9314886569976807]\n",
      "\n"
     ]
    }
   ],
   "source": [
    "for preset in ('u_mass', 'c_uci', 'c_npmi', 'c_v'):\n",
    "    coh = tp.coherence.Coherence(mdl, coherence=preset)\n",
    "    average_coherence = coh.get_score()\n",
    "    coherence_per_topic = [coh.get_score(topic_id=k) for k in range(mdl.k)]\n",
    "    print('==== Coherence : {} ===='.format(preset))\n",
    "    print('Average:', average_coherence, '\\nPer Topic:', coherence_per_topic)\n",
    "    print()"
   ]
  },
  {
   "cell_type": "code",
   "execution_count": 17,
   "metadata": {
    "ExecuteTime": {
     "end_time": "2021-03-17T07:00:54.075040Z",
     "start_time": "2021-03-17T07:00:54.072721Z"
    }
   },
   "outputs": [],
   "source": [
    "import itertools"
   ]
  },
  {
   "cell_type": "code",
   "execution_count": 33,
   "metadata": {
    "ExecuteTime": {
     "end_time": "2021-03-17T08:42:01.301212Z",
     "start_time": "2021-03-17T08:42:01.049074Z"
    },
    "scrolled": true
   },
   "outputs": [
    {
     "name": "stdout",
     "output_type": "stream",
     "text": [
      "==== Coherence : <Segmentation.ONE_ONE: 1>, <ConfirmMeasure.DIFFERENCE: 1>, <IndirectMeasure.NONE: 0> ====\n",
      "Average: 0.0648883849772805 \n",
      "Per Topic: [0.11020408162494019, 0.07195767194605714, 0.0767573696087279, 0.02562988157796251, 0.04052910052218984, 0.06748677248228047, 0.1564436885760537, 0.03631897202800393, 0.05444822372956853, 0.009108087677020878]\n",
      "\n",
      "==== Coherence : <Segmentation.ONE_ONE: 1>, <ConfirmMeasure.DIFFERENCE: 1>, <IndirectMeasure.COSINE: 1> ====\n",
      "Average: 0.08934091739102612 \n",
      "Per Topic: [0.11152251205510563, 0.011295983733402359, 0.10901049705098743, 0.122258392152273, 0.04723568952694121, 0.09798650960955355, 0.1641538253319191, 0.1012679673808937, 0.05954391576815397, 0.0691338813010311]\n",
      "\n",
      "==== Coherence : <Segmentation.ONE_ONE: 1>, <ConfirmMeasure.DIFFERENCE: 1>, <IndirectMeasure.DICE: 2> ====\n",
      "Average: 149131.73289229168 \n",
      "Per Topic: [-4.3399435420831045, 1491305.331062754, 4.124833387798733, 2.26373837656445, 0.5873201436466641, 2.4838722176022, 0.024737685877415868, 4.971373363335927, 1.7945174296696982, 0.08741110033459133]\n",
      "\n",
      "==== Coherence : <Segmentation.ONE_ONE: 1>, <ConfirmMeasure.DIFFERENCE: 1>, <IndirectMeasure.JACCARD: 3> ====\n",
      "Average: -6104.250884695565 \n",
      "Per Topic: [-0.8874209605985217, -1.5482360389497545, 172905.479795999, -0.7872670438554552, -3.801645412709978, -2.8441566586494447, -0.6041244090845187, -233932.6728825622, -2.139254152774811, -2.703655715783437]\n",
      "\n",
      "==== Coherence : <Segmentation.ONE_ONE: 1>, <ConfirmMeasure.RATIO: 2>, <IndirectMeasure.NONE: 0> ====\n",
      "Average: 4.897277740801515 \n",
      "Per Topic: [6.5333333112469125, 10.888888669277428, 5.444444423120563, 1.7240740705881779, 3.0488888725748944, 4.183148136170281, 9.573148113493437, 2.649629613638081, 3.0216666604873708, 1.905555537418002]\n",
      "\n",
      "==== Coherence : <Segmentation.ONE_ONE: 1>, <ConfirmMeasure.RATIO: 2>, <IndirectMeasure.COSINE: 1> ====\n",
      "Average: 0.12118488592173282 \n",
      "Per Topic: [0.2035309995783286, 0.08515112002690634, 0.15158278030964237, 0.061413906597428854, 0.06261786765988088, 0.16500195095626016, 0.25521985174467166, 0.06386851528659462, 0.13417174801644352, 0.02929011904117134]\n",
      "\n",
      "==== Coherence : <Segmentation.ONE_ONE: 1>, <ConfirmMeasure.RATIO: 2>, <IndirectMeasure.DICE: 2> ====\n",
      "Average: 0.05040817306066553 \n",
      "Per Topic: [0.08502601314749983, 0.03991769552230835, 0.06869365473588308, 0.023735308626459704, 0.02167549284381999, 0.0714960258661045, 0.10597341859506236, 0.02324868051542176, 0.053633784875273705, 0.010681655878822008]\n",
      "\n",
      "==== Coherence : <Segmentation.ONE_ONE: 1>, <ConfirmMeasure.RATIO: 2>, <IndirectMeasure.JACCARD: 3> ====\n",
      "Average: 0.06844860385172069 \n",
      "Per Topic: [0.11405487695915831, 0.07602339188257853, 0.0953084458079603, 0.03406662067605389, 0.028100553041117058, 0.0855665598064661, 0.14613053678638405, 0.03011372019019392, 0.06087536166111628, 0.014245971706178454]\n",
      "\n",
      "==== Coherence : <Segmentation.ONE_ONE: 1>, <ConfirmMeasure.LIKELIHOOD: 3>, <IndirectMeasure.NONE: 0> ====\n",
      "Average: 16763857398.480457 \n",
      "Per Topic: [29024943316.391304, 69841269832.16983, 10.692592590564965, 10578861175.991564, 10068027212.545021, 6.590287036031656, 32728647025.78121, 8586545731.21336, 1330309906.1036901, 5479969767.325718]\n",
      "\n",
      "==== Coherence : <Segmentation.ONE_ONE: 1>, <ConfirmMeasure.LIKELIHOOD: 3>, <IndirectMeasure.COSINE: 1> ====\n",
      "Average: nan \n",
      "Per Topic: [0.13419051997219433, nan, 0.13156279535032808, nan, nan, 0.1400362817156646, 0.19991583302617072, nan, 0.10529313511645313, nan]\n",
      "\n",
      "==== Coherence : <Segmentation.ONE_ONE: 1>, <ConfirmMeasure.LIKELIHOOD: 3>, <IndirectMeasure.DICE: 2> ====\n",
      "Average: nan \n",
      "Per Topic: [0.037881284814936536, nan, 0.056835396029055116, nan, 0.008475133270597417, 0.055094638818667996, 0.052684780369145735, nan, 0.03403102122228919, nan]\n",
      "\n",
      "==== Coherence : <Segmentation.ONE_ONE: 1>, <ConfirmMeasure.LIKELIHOOD: 3>, <IndirectMeasure.JACCARD: 3> ====\n",
      "Average: nan \n",
      "Per Topic: [0.042904765890898915, nan, 0.07567718608511818, nan, 0.01278630886325501, 0.06295488576094309, 0.06319315848825018, nan, 0.037978559090676364, nan]\n",
      "\n",
      "==== Coherence : <Segmentation.ONE_ONE: 1>, <ConfirmMeasure.LOGLIKELIHOOD: 4>, <IndirectMeasure.NONE: 0> ====\n",
      "Average: -21.17599334055541 \n",
      "Per Topic: [-17.037497613284877, -22.99107012912149, -21.32226526876249, -24.13632198127881, -23.84654014134581, -18.181166471155162, -15.482217343818153, -23.469670453411396, -19.309529723518153, -25.98365427985774]\n",
      "\n",
      "==== Coherence : <Segmentation.ONE_ONE: 1>, <ConfirmMeasure.LOGLIKELIHOOD: 4>, <IndirectMeasure.COSINE: 1> ====\n",
      "Average: 0.9369394473234811 \n",
      "Per Topic: [0.908450706799825, 0.9676005403200786, 0.9615722086694506, 0.9358764582210117, 0.9504630870289272, 0.9297972400983174, 0.9037155283821954, 0.9478060788578457, 0.9040371947818332, 0.9600754300753276]\n",
      "\n",
      "==== Coherence : <Segmentation.ONE_ONE: 1>, <ConfirmMeasure.LOGLIKELIHOOD: 4>, <IndirectMeasure.DICE: 2> ====\n",
      "Average: 0.5274824873606364 \n",
      "Per Topic: [0.5408269206682841, 0.5090327925152249, 0.5173288332091437, 0.5281038178337945, 0.5186924126413134, 0.5324891567230224, 0.5426657027668423, 0.5231506400638156, 0.5450836658477783, 0.5174509313371446]\n",
      "\n",
      "==== Coherence : <Segmentation.ONE_ONE: 1>, <ConfirmMeasure.LOGLIKELIHOOD: 4>, <IndirectMeasure.JACCARD: 3> ====\n",
      "Average: 1.1202512407302858 \n",
      "Per Topic: [1.1798691352208455, 1.0368921120961507, 1.0724093145794338, 1.1221199035644531, 1.079433012008667, 1.1401557021670872, 1.1891101042429606, 1.1043181710773045, 1.204593022664388, 1.073611929681566]\n",
      "\n",
      "==== Coherence : <Segmentation.ONE_ONE: 1>, <ConfirmMeasure.PMI: 5>, <IndirectMeasure.NONE: 0> ====\n",
      "Average: -15.125803813608835 \n",
      "Per Topic: [-12.809988400760949, -16.134640529015147, -14.916970975468757, -17.576757296865168, -16.6397862540464, -12.97376660791326, -11.553211023126076, -16.5006717254742, -14.237116220398157, -17.91512910302023]\n",
      "\n",
      "==== Coherence : <Segmentation.ONE_ONE: 1>, <ConfirmMeasure.PMI: 5>, <IndirectMeasure.COSINE: 1> ====\n",
      "Average: 0.9279053371482424 \n",
      "Per Topic: [0.9007368312941657, 0.9721594174702962, 0.9483629160457188, 0.9245229866769579, 0.9480848444832696, 0.9157263755798339, 0.8973607328202989, 0.9386699040730794, 0.8888342261314393, 0.9445951369073656]\n",
      "\n",
      "==== Coherence : <Segmentation.ONE_ONE: 1>, <ConfirmMeasure.PMI: 5>, <IndirectMeasure.DICE: 2> ====\n",
      "Average: 0.539100994931327 \n",
      "Per Topic: [0.5500581118795607, 0.5168130265341865, 0.5261747731102837, 0.5464485446612041, 0.5315766308042739, 0.5427444418271382, 0.5504106044769287, 0.5378896156946819, 0.5575366881158617, 0.5313575122091505]\n",
      "\n",
      "==== Coherence : <Segmentation.ONE_ONE: 1>, <ConfirmMeasure.PMI: 5>, <IndirectMeasure.JACCARD: 3> ====\n",
      "Average: 1.1759996920161773 \n",
      "Per Topic: [1.2263529380162557, 1.0701613823572795, 1.1120332294040256, 1.2103303988774619, 1.13846914768219, 1.1890715837478638, 1.2297880517111883, 1.1765796687867907, 1.270873204867045, 1.1363373147116766]\n",
      "\n",
      "==== Coherence : <Segmentation.ONE_ONE: 1>, <ConfirmMeasure.NPMI: 6>, <IndirectMeasure.NONE: 0> ====\n",
      "Average: -0.4543971053628727 \n",
      "Per Topic: [-0.3136170489028307, -0.5151059506041492, -0.42788984491306475, -0.5887390722677069, -0.5510049297771787, -0.3464752654100836, -0.22049824955042305, -0.544816706244699, -0.41227537035125245, -0.6235486156073384]\n",
      "\n",
      "==== Coherence : <Segmentation.ONE_ONE: 1>, <ConfirmMeasure.NPMI: 6>, <IndirectMeasure.COSINE: 1> ====\n",
      "Average: 0.8233707302146488 \n",
      "Per Topic: [0.7674341400464376, 0.8990950226783753, 0.8591423273086548, 0.8246534453497992, 0.8594485402107239, 0.8052481836742825, 0.7542658487955729, 0.8519547727372911, 0.7623342434565227, 0.8501307778888278]\n",
      "\n",
      "==== Coherence : <Segmentation.ONE_ONE: 1>, <ConfirmMeasure.NPMI: 6>, <IndirectMeasure.DICE: 2> ====\n",
      "Average: 0.5616638457775116 \n",
      "Per Topic: [0.5823275301191542, 0.5283449636565314, 0.5432025286886427, 0.5673710200521681, 0.5484887335035536, 0.567585085497962, 0.5853801435894437, 0.556112015247345, 0.5889455702569749, 0.5488808671633403]\n",
      "\n",
      "==== Coherence : <Segmentation.ONE_ONE: 1>, <ConfirmMeasure.NPMI: 6>, <IndirectMeasure.JACCARD: 3> ====\n",
      "Average: 1.2982105064392089 \n",
      "Per Topic: [1.4060283766852484, 1.1213851584328545, 1.193358188205295, 1.3237781789567735, 1.223599245813158, 1.3181092235777112, 1.4307958205540976, 1.2808213551839194, 1.4620470762252809, 1.2221824407577515]\n",
      "\n",
      "==== Coherence : <Segmentation.ONE_ONE: 1>, <ConfirmMeasure.LOGCOND: 7>, <IndirectMeasure.NONE: 0> ====\n",
      "Average: -22.653757304133862 \n",
      "Per Topic: [-19.353817518862225, -25.18713715328747, -22.261467000337788, -25.248750235996734, -25.240785083697894, -19.436246195557832, -18.09046042671062, -24.67239313758939, -20.608228847070833, -26.438287442227836]\n",
      "\n",
      "==== Coherence : <Segmentation.ONE_ONE: 1>, <ConfirmMeasure.LOGCOND: 7>, <IndirectMeasure.COSINE: 1> ====\n",
      "Average: 0.9500095718436772 \n",
      "Per Topic: [0.9320734434657627, 0.9812384883562724, 0.9649972438812255, 0.946405373679267, 0.964727693133884, 0.9421061886681451, 0.9297458834118313, 0.9555108361774021, 0.9207630846235487, 0.9625274830394321]\n",
      "\n",
      "==== Coherence : <Segmentation.ONE_ONE: 1>, <ConfirmMeasure.LOGCOND: 7>, <IndirectMeasure.DICE: 2> ====\n",
      "Average: 0.5262125616603427 \n",
      "Per Topic: [0.5356830517450969, 0.5094460725784302, 0.5181610504786174, 0.5281618714332581, 0.5184157490730286, 0.5303679916593763, 0.5367607394854228, 0.5236779027514987, 0.5419319576687283, 0.5195192297299703]\n",
      "\n",
      "==== Coherence : <Segmentation.ONE_ONE: 1>, <ConfirmMeasure.LOGCOND: 7>, <IndirectMeasure.JACCARD: 3> ====\n",
      "Average: 1.1138275559743245 \n",
      "Per Topic: [1.1556958622402616, 1.0386260800891451, 1.0761243714226616, 1.1219943470425076, 1.077877598338657, 1.1304216782251995, 1.1614526059892443, 1.1051736275355022, 1.1886276112662422, 1.0822817775938245]\n",
      "\n",
      "==== Coherence : <Segmentation.ONE_PRE: 2>, <ConfirmMeasure.DIFFERENCE: 1>, <IndirectMeasure.NONE: 0> ====\n",
      "Average: 0.0530764676200469 \n",
      "Per Topic: [0.0851095993905498, 0.06681783823624676, 0.06681783824200874, 0.01526203073739635, 0.012275132274377307, 0.06392290249051902, 0.13242630384743465, 0.038216175355932795, 0.03472411186518867, 0.015192743760814921]\n",
      "\n",
      "==== Coherence : <Segmentation.ONE_PRE: 2>, <ConfirmMeasure.DIFFERENCE: 1>, <IndirectMeasure.COSINE: 1> ====\n",
      "Average: 0.08934091739102612 \n",
      "Per Topic: [0.11152251205510563, 0.011295983733402359, 0.10901049705098743, 0.122258392152273, 0.04723568952694121, 0.09798650960955355, 0.1641538253319191, 0.1012679673808937, 0.05954391576815397, 0.0691338813010311]\n",
      "\n",
      "==== Coherence : <Segmentation.ONE_PRE: 2>, <ConfirmMeasure.DIFFERENCE: 1>, <IndirectMeasure.DICE: 2> ====\n",
      "Average: 149131.73289229168 \n",
      "Per Topic: [-4.3399435420831045, 1491305.331062754, 4.124833387798733, 2.26373837656445, 0.5873201436466641, 2.4838722176022, 0.024737685877415868, 4.971373363335927, 1.7945174296696982, 0.08741110033459133]\n",
      "\n",
      "==== Coherence : <Segmentation.ONE_PRE: 2>, <ConfirmMeasure.DIFFERENCE: 1>, <IndirectMeasure.JACCARD: 3> ====\n",
      "Average: -6104.250884695565 \n",
      "Per Topic: [-0.8874209605985217, -1.5482360389497545, 172905.479795999, -0.7872670438554552, -3.801645412709978, -2.8441566586494447, -0.6041244090845187, -233932.6728825622, -2.139254152774811, -2.703655715783437]\n",
      "\n",
      "==== Coherence : <Segmentation.ONE_PRE: 2>, <ConfirmMeasure.RATIO: 2>, <IndirectMeasure.NONE: 0> ====\n",
      "Average: 4.897277740801515 \n",
      "Per Topic: [6.5333333112469125, 10.888888669277428, 5.444444423120563, 1.7240740705881779, 3.0488888725748944, 4.183148136170282, 9.573148113493437, 2.6496296136380804, 3.0216666604873708, 1.905555537418002]\n",
      "\n",
      "==== Coherence : <Segmentation.ONE_PRE: 2>, <ConfirmMeasure.RATIO: 2>, <IndirectMeasure.COSINE: 1> ====\n",
      "Average: 0.12118488592173282 \n",
      "Per Topic: [0.2035309995783286, 0.08515112002690634, 0.15158278030964237, 0.061413906597428854, 0.06261786765988088, 0.16500195095626016, 0.25521985174467166, 0.06386851528659462, 0.13417174801644352, 0.02929011904117134]\n",
      "\n",
      "==== Coherence : <Segmentation.ONE_PRE: 2>, <ConfirmMeasure.RATIO: 2>, <IndirectMeasure.DICE: 2> ====\n",
      "Average: 0.05040817306066553 \n",
      "Per Topic: [0.08502601314749983, 0.03991769552230835, 0.06869365473588308, 0.023735308626459704, 0.02167549284381999, 0.0714960258661045, 0.10597341859506236, 0.02324868051542176, 0.053633784875273705, 0.010681655878822008]\n",
      "\n",
      "==== Coherence : <Segmentation.ONE_PRE: 2>, <ConfirmMeasure.RATIO: 2>, <IndirectMeasure.JACCARD: 3> ====\n",
      "Average: 0.06844860385172069 \n",
      "Per Topic: [0.11405487695915831, 0.07602339188257853, 0.0953084458079603, 0.03406662067605389, 0.028100553041117058, 0.0855665598064661, 0.14613053678638405, 0.03011372019019392, 0.06087536166111628, 0.014245971706178454]\n",
      "\n",
      "==== Coherence : <Segmentation.ONE_PRE: 2>, <ConfirmMeasure.LIKELIHOOD: 3>, <IndirectMeasure.NONE: 0> ====\n",
      "Average: 21160367854.01652 \n",
      "Per Topic: [36130007564.14232, 73469387745.01315, 11.733333330973576, 21157722347.721024, 20136054421.034485, 6.977333332196892, 43537414976.27158, 14512471655.225212, 2660619808.2801313, 3.766666665623238]\n",
      "\n",
      "==== Coherence : <Segmentation.ONE_PRE: 2>, <ConfirmMeasure.LIKELIHOOD: 3>, <IndirectMeasure.COSINE: 1> ====\n",
      "Average: nan \n",
      "Per Topic: [0.13419051997219428, nan, 0.13156279535032808, nan, nan, 0.1400362817156646, 0.19991583302617072, nan, 0.10529313511645315, nan]\n",
      "\n",
      "==== Coherence : <Segmentation.ONE_PRE: 2>, <ConfirmMeasure.LIKELIHOOD: 3>, <IndirectMeasure.DICE: 2> ====\n",
      "Average: nan \n",
      "Per Topic: [0.037881284814936536, nan, 0.056835396029055116, nan, 0.008475133270597417, 0.055094638818667996, 0.05268478036914573, nan, 0.03403102122228919, nan]\n",
      "\n",
      "==== Coherence : <Segmentation.ONE_PRE: 2>, <ConfirmMeasure.LIKELIHOOD: 3>, <IndirectMeasure.JACCARD: 3> ====\n",
      "Average: nan \n",
      "Per Topic: [0.04290476589089892, nan, 0.07567718608511818, nan, 0.01278630886325501, 0.06295488576094309, 0.06319315848825016, nan, 0.03797855909067636, nan]\n",
      "\n",
      "==== Coherence : <Segmentation.ONE_PRE: 2>, <ConfirmMeasure.LOGLIKELIHOOD: 4>, <IndirectMeasure.NONE: 0> ====\n",
      "Average: -20.839290984260483 \n",
      "Per Topic: [-16.504742663583745, -22.744166461353963, -21.298468956225296, -23.388237169435627, -22.853314293115535, -18.17207669397936, -14.951922226100217, -23.236251791488368, -19.021656233044187, -26.222073354278532]\n",
      "\n",
      "==== Coherence : <Segmentation.ONE_PRE: 2>, <ConfirmMeasure.LOGLIKELIHOOD: 4>, <IndirectMeasure.COSINE: 1> ====\n",
      "Average: 0.9369394473234811 \n",
      "Per Topic: [0.908450706799825, 0.9676005403200786, 0.9615722086694506, 0.9358764582210117, 0.9504630870289272, 0.9297972400983174, 0.9037155283821954, 0.9478060788578457, 0.9040371947818332, 0.9600754300753276]\n",
      "\n",
      "==== Coherence : <Segmentation.ONE_PRE: 2>, <ConfirmMeasure.LOGLIKELIHOOD: 4>, <IndirectMeasure.DICE: 2> ====\n",
      "Average: 0.5274824873606364 \n",
      "Per Topic: [0.5408269206682841, 0.5090327925152249, 0.5173288332091437, 0.5281038178337945, 0.5186924126413134, 0.5324891567230224, 0.5426657027668423, 0.5231506400638156, 0.5450836658477783, 0.5174509313371446]\n",
      "\n",
      "==== Coherence : <Segmentation.ONE_PRE: 2>, <ConfirmMeasure.LOGLIKELIHOOD: 4>, <IndirectMeasure.JACCARD: 3> ====\n",
      "Average: 1.1202512407302858 \n",
      "Per Topic: [1.1798691352208455, 1.0368921120961507, 1.0724093145794338, 1.1221199035644531, 1.079433012008667, 1.1401557021670872, 1.1891101042429606, 1.1043181710773045, 1.204593022664388, 1.073611929681566]\n",
      "\n",
      "==== Coherence : <Segmentation.ONE_PRE: 2>, <ConfirmMeasure.PMI: 5>, <IndirectMeasure.NONE: 0> ====\n",
      "Average: -15.125803813608831 \n",
      "Per Topic: [-12.80998840076096, -16.134640529015137, -14.91697097546878, -17.57675729686516, -16.6397862540464, -12.973766607913264, -11.553211023126083, -16.50067172547418, -14.237116220398157, -17.91512910302022]\n",
      "\n",
      "==== Coherence : <Segmentation.ONE_PRE: 2>, <ConfirmMeasure.PMI: 5>, <IndirectMeasure.COSINE: 1> ====\n",
      "Average: 0.9279053371482424 \n",
      "Per Topic: [0.9007368312941657, 0.9721594174702962, 0.9483629160457188, 0.9245229866769579, 0.9480848444832696, 0.9157263755798339, 0.8973607328202989, 0.9386699040730794, 0.8888342261314393, 0.9445951369073656]\n",
      "\n",
      "==== Coherence : <Segmentation.ONE_PRE: 2>, <ConfirmMeasure.PMI: 5>, <IndirectMeasure.DICE: 2> ====\n",
      "Average: 0.539100994931327 \n",
      "Per Topic: [0.5500581118795607, 0.5168130265341865, 0.5261747731102837, 0.5464485446612041, 0.5315766308042739, 0.5427444418271382, 0.5504106044769287, 0.5378896156946819, 0.5575366881158617, 0.5313575122091505]\n",
      "\n",
      "==== Coherence : <Segmentation.ONE_PRE: 2>, <ConfirmMeasure.PMI: 5>, <IndirectMeasure.JACCARD: 3> ====\n",
      "Average: 1.1759996920161773 \n",
      "Per Topic: [1.2263529380162557, 1.0701613823572795, 1.1120332294040256, 1.2103303988774619, 1.13846914768219, 1.1890715837478638, 1.2297880517111883, 1.1765796687867907, 1.270873204867045, 1.1363373147116766]\n",
      "\n",
      "==== Coherence : <Segmentation.ONE_PRE: 2>, <ConfirmMeasure.NPMI: 6>, <IndirectMeasure.NONE: 0> ====\n",
      "Average: -0.4543971053628729 \n",
      "Per Topic: [-0.31361704890283115, -0.5151059506041492, -0.42788984491306514, -0.5887390722677075, -0.5510049297771785, -0.3464752654100838, -0.22049824955042296, -0.5448167062446992, -0.4122753703512527, -0.6235486156073388]\n",
      "\n",
      "==== Coherence : <Segmentation.ONE_PRE: 2>, <ConfirmMeasure.NPMI: 6>, <IndirectMeasure.COSINE: 1> ====\n",
      "Average: 0.8233707302146488 \n",
      "Per Topic: [0.7674341400464376, 0.8990950226783753, 0.8591423273086548, 0.8246534453497992, 0.8594485402107239, 0.8052481836742825, 0.7542658487955729, 0.8519547727372911, 0.7623342434565227, 0.8501307778888278]\n",
      "\n",
      "==== Coherence : <Segmentation.ONE_PRE: 2>, <ConfirmMeasure.NPMI: 6>, <IndirectMeasure.DICE: 2> ====\n",
      "Average: 0.5616638457775116 \n",
      "Per Topic: [0.5823275301191542, 0.5283449636565314, 0.5432025286886427, 0.5673710200521681, 0.5484887335035536, 0.567585085497962, 0.5853801435894437, 0.556112015247345, 0.5889455702569749, 0.5488808671633403]\n",
      "\n",
      "==== Coherence : <Segmentation.ONE_PRE: 2>, <ConfirmMeasure.NPMI: 6>, <IndirectMeasure.JACCARD: 3> ====\n",
      "Average: 1.2982105064392089 \n",
      "Per Topic: [1.4060283766852484, 1.1213851584328545, 1.193358188205295, 1.3237781789567735, 1.223599245813158, 1.3181092235777112, 1.4307958205540976, 1.2808213551839194, 1.4620470762252809, 1.2221824407577515]\n",
      "\n",
      "==== Coherence : <Segmentation.ONE_PRE: 2>, <ConfirmMeasure.LOGCOND: 7>, <IndirectMeasure.NONE: 0> ====\n",
      "Average: -22.695269587683853 \n",
      "Per Topic: [-19.421244469839415, -25.199343956493824, -22.29227354169433, -25.30077391629495, -25.30663981731466, -19.444854986330444, -18.15599961061216, -24.678924100531002, -20.709848867631784, -26.442792610095985]\n",
      "\n",
      "==== Coherence : <Segmentation.ONE_PRE: 2>, <ConfirmMeasure.LOGCOND: 7>, <IndirectMeasure.COSINE: 1> ====\n",
      "Average: 0.9500095718436772 \n",
      "Per Topic: [0.9320734434657627, 0.9812384883562724, 0.9649972438812255, 0.946405373679267, 0.964727693133884, 0.9421061886681451, 0.9297458834118313, 0.9555108361774021, 0.9207630846235487, 0.9625274830394321]\n",
      "\n",
      "==== Coherence : <Segmentation.ONE_PRE: 2>, <ConfirmMeasure.LOGCOND: 7>, <IndirectMeasure.DICE: 2> ====\n",
      "Average: 0.5262125616603427 \n",
      "Per Topic: [0.5356830517450969, 0.5094460725784302, 0.5181610504786174, 0.5281618714332581, 0.5184157490730286, 0.5303679916593763, 0.5367607394854228, 0.5236779027514987, 0.5419319576687283, 0.5195192297299703]\n",
      "\n",
      "==== Coherence : <Segmentation.ONE_PRE: 2>, <ConfirmMeasure.LOGCOND: 7>, <IndirectMeasure.JACCARD: 3> ====\n",
      "Average: 1.1138275559743245 \n",
      "Per Topic: [1.1556958622402616, 1.0386260800891451, 1.0761243714226616, 1.1219943470425076, 1.077877598338657, 1.1304216782251995, 1.1614526059892443, 1.1051736275355022, 1.1886276112662422, 1.0822817775938245]\n",
      "\n",
      "==== Coherence : <Segmentation.ONE_SUC: 3>, <ConfirmMeasure.DIFFERENCE: 1>, <IndirectMeasure.NONE: 0> ====\n",
      "Average: -0.01020408163265306 \n",
      "Per Topic: [-0.013605442176870748, -0.006802721088435374, -0.013605442176870748, -0.006802721088435374, -0.006802721088435374, -0.013605442176870748, -0.013605442176870748, -0.006802721088435374, -0.013605442176870748, -0.006802721088435374]\n",
      "\n",
      "==== Coherence : <Segmentation.ONE_SUC: 3>, <ConfirmMeasure.DIFFERENCE: 1>, <IndirectMeasure.COSINE: 1> ====\n",
      "Average: 0.08170054256916046 \n",
      "Per Topic: [0.03774656355381012, -0.03545263782143593, -0.01859167031943798, 0.13405975699424744, 0.08840923011302948, 0.43158093094825745, -0.09909599274396896, 0.13405975699424744, 0.010229730978608131, 0.13405975699424744]\n",
      "\n",
      "==== Coherence : <Segmentation.ONE_SUC: 3>, <ConfirmMeasure.DIFFERENCE: 1>, <IndirectMeasure.DICE: 2> ====\n",
      "Average: -0.1671465277671814 \n",
      "Per Topic: [-15.418906211853027, 4.0790815353393555, 1.8764013051986694, 1.9195678234100342, 2.2948009967803955, 1.9514424800872803, -13.322453498840332, 1.9195678234100342, 11.109464645385742, 1.9195678234100342]\n",
      "\n",
      "==== Coherence : <Segmentation.ONE_SUC: 3>, <ConfirmMeasure.DIFFERENCE: 1>, <IndirectMeasure.JACCARD: 3> ====\n",
      "Average: -1.6519748747348786 \n",
      "Per Topic: [-0.9390944838523865, -1.3247721195220947, -2.1410300731658936, -2.0874669551849365, -1.772318959236145, -2.0510356426239014, -0.9301794767379761, -2.0874669551849365, -1.0989171266555786, -2.0874669551849365]\n",
      "\n",
      "==== Coherence : <Segmentation.ONE_SUC: 3>, <ConfirmMeasure.RATIO: 2>, <IndirectMeasure.NONE: 0> ====\n",
      "Average: 0.0 \n",
      "Per Topic: [0.0, 0.0, 0.0, 0.0, 0.0, 0.0, 0.0, 0.0, 0.0, 0.0]\n",
      "\n",
      "==== Coherence : <Segmentation.ONE_SUC: 3>, <ConfirmMeasure.RATIO: 2>, <IndirectMeasure.COSINE: 1> ====\n",
      "Average: 0.02892396003007889 \n",
      "Per Topic: [0.06280361115932465, 0.0, 0.0, 0.0, 0.01944252848625183, 0.1619056761264801, 0.0, 0.0, 0.0450877845287323, 0.0]\n",
      "\n",
      "==== Coherence : <Segmentation.ONE_SUC: 3>, <ConfirmMeasure.RATIO: 2>, <IndirectMeasure.DICE: 2> ====\n",
      "Average: 0.014762083906680346 \n",
      "Per Topic: [0.033161383122205734, 0.0, 0.0, 0.0, 0.013914656825363636, 0.06358381360769272, 0.0, 0.0, 0.03696098551154137, 0.0]\n",
      "\n",
      "==== Coherence : <Segmentation.ONE_SUC: 3>, <ConfirmMeasure.RATIO: 2>, <IndirectMeasure.JACCARD: 3> ====\n",
      "Average: 0.015469054412096738 \n",
      "Per Topic: [0.03429877758026123, 0.0, 0.0, 0.0, 0.014111007563769817, 0.06790123134851456, 0.0, 0.0, 0.03837952762842178, 0.0]\n",
      "\n",
      "==== Coherence : <Segmentation.ONE_SUC: 3>, <ConfirmMeasure.LIKELIHOOD: 3>, <IndirectMeasure.NONE: 0> ====\n",
      "Average: 0.0 \n",
      "Per Topic: [0.0, 0.0, 0.0, 0.0, 0.0, 0.0, 0.0, 0.0, 0.0, 0.0]\n",
      "\n",
      "==== Coherence : <Segmentation.ONE_SUC: 3>, <ConfirmMeasure.LIKELIHOOD: 3>, <IndirectMeasure.COSINE: 1> ====\n",
      "Average: nan \n",
      "Per Topic: [0.1279604434967041, 0.0, 0.0, nan, 0.1058250144124031, 0.4393330514431, 0.0, nan, 1.1403560040701421e-10, nan]\n",
      "\n",
      "==== Coherence : <Segmentation.ONE_SUC: 3>, <ConfirmMeasure.LIKELIHOOD: 3>, <IndirectMeasure.DICE: 2> ====\n",
      "Average: 0.008078484998582276 \n",
      "Per Topic: [1.259453218799278e-11, 0.0, 0.0, 0.0, 1.331213785038532e-11, 0.08078484982252121, 0.0, 0.0, 1.3739488713415682e-10, 0.0]\n",
      "\n",
      "==== Coherence : <Segmentation.ONE_SUC: 3>, <ConfirmMeasure.LIKELIHOOD: 3>, <IndirectMeasure.JACCARD: 3> ====\n",
      "Average: 0.008788459764359864 \n",
      "Per Topic: [1.259453218799278e-11, 0.0, 0.0, 0.0, 1.331213785038532e-11, 0.08788459748029709, 0.0, 0.0, 1.3739488713415682e-10, 0.0]\n",
      "\n",
      "==== Coherence : <Segmentation.ONE_SUC: 3>, <ConfirmMeasure.LOGLIKELIHOOD: 4>, <IndirectMeasure.NONE: 0> ====\n",
      "Average: -27.631021115928547 \n",
      "Per Topic: [-27.631021115928547, -27.631021115928547, -27.631021115928547, -27.631021115928547, -27.631021115928547, -27.631021115928547, -27.631021115928547, -27.631021115928547, -27.631021115928547, -27.631021115928547]\n",
      "\n",
      "==== Coherence : <Segmentation.ONE_SUC: 3>, <ConfirmMeasure.LOGLIKELIHOOD: 4>, <IndirectMeasure.COSINE: 1> ====\n",
      "Average: 0.9169038116931916 \n",
      "Per Topic: [0.8814713358879089, 0.9123167991638184, 0.918643593788147, 0.9339651465415955, 0.9152676463127136, 0.9375161528587341, 0.8784040212631226, 0.9339651465415955, 0.8854915499687195, 0.9339651465415955]\n",
      "\n",
      "==== Coherence : <Segmentation.ONE_SUC: 3>, <ConfirmMeasure.LOGLIKELIHOOD: 4>, <IndirectMeasure.DICE: 2> ====\n",
      "Average: 0.5396937370300293 \n",
      "Per Topic: [0.5522250533103943, 0.5376765131950378, 0.5384735465049744, 0.5318413376808167, 0.5374093055725098, 0.5300041437149048, 0.5560397505760193, 0.5318413376808167, 0.5495850443840027, 0.5318413376808167]\n",
      "\n",
      "==== Coherence : <Segmentation.ONE_SUC: 3>, <ConfirmMeasure.LOGLIKELIHOOD: 4>, <IndirectMeasure.JACCARD: 3> ====\n",
      "Average: 1.1840978264808655 \n",
      "Per Topic: [1.2332648038864136, 1.1629875898361206, 1.1667230129241943, 1.1360280513763428, 1.1617385149002075, 1.1276781558990479, 1.2524539232254028, 1.1360280513763428, 1.22017502784729, 1.1360280513763428]\n",
      "\n",
      "==== Coherence : <Segmentation.ONE_SUC: 3>, <ConfirmMeasure.PMI: 5>, <IndirectMeasure.NONE: 0> ====\n",
      "Average: -19.788489004580228 \n",
      "Per Topic: [-20.135062593959827, -19.44191541520063, -20.135062593959827, -19.44191541520063, -19.44191541520063, -20.135062593959827, -20.135062593959827, -19.44191541520063, -20.135062593959827, -19.44191541520063]\n",
      "\n",
      "==== Coherence : <Segmentation.ONE_SUC: 3>, <ConfirmMeasure.PMI: 5>, <IndirectMeasure.COSINE: 1> ====\n",
      "Average: 0.8932534456253052 \n",
      "Per Topic: [0.8701832890510559, 0.9006674289703369, 0.8929101824760437, 0.9096677303314209, 0.9066131711006165, 0.9136905074119568, 0.8492588996887207, 0.9096677303314209, 0.8702077865600586, 0.9096677303314209]\n",
      "\n",
      "==== Coherence : <Segmentation.ONE_SUC: 3>, <ConfirmMeasure.PMI: 5>, <IndirectMeasure.DICE: 2> ====\n",
      "Average: 0.5641644775867463 \n",
      "Per Topic: [0.5699363946914673, 0.5649541616439819, 0.5601656436920166, 0.5613020658493042, 0.5626233220100403, 0.5514836311340332, 0.5787556171417236, 0.5613020658493042, 0.5698198080062866, 0.5613020658493042]\n",
      "\n",
      "==== Coherence : <Segmentation.ONE_SUC: 3>, <ConfirmMeasure.PMI: 5>, <IndirectMeasure.JACCARD: 3> ====\n",
      "Average: 1.295030450820923 \n",
      "Per Topic: [1.325237512588501, 1.2986081838607788, 1.2735830545425415, 1.2794727087020874, 1.2863585948944092, 1.2295730113983154, 1.373918890953064, 1.2794727087020874, 1.3246071338653564, 1.2794727087020874]\n",
      "\n",
      "==== Coherence : <Segmentation.ONE_SUC: 3>, <ConfirmMeasure.NPMI: 6>, <IndirectMeasure.NONE: 0> ====\n",
      "Average: -0.7161692983243639 \n",
      "Per Topic: [-0.7287122147777774, -0.7036263818709503, -0.7287122147777774, -0.7036263818709503, -0.7036263818709503, -0.7287122147777774, -0.7287122147777774, -0.7036263818709503, -0.7287122147777774, -0.7036263818709503]\n",
      "\n",
      "==== Coherence : <Segmentation.ONE_SUC: 3>, <ConfirmMeasure.NPMI: 6>, <IndirectMeasure.COSINE: 1> ====\n",
      "Average: 0.7634994924068451 \n",
      "Per Topic: [0.7077010273933411, 0.7752657532691956, 0.7666637897491455, 0.8052699565887451, 0.791850209236145, 0.8080807328224182, 0.6603021025657654, 0.8052698969841003, 0.7093215584754944, 0.8052698969841003]\n",
      "\n",
      "==== Coherence : <Segmentation.ONE_SUC: 3>, <ConfirmMeasure.NPMI: 6>, <IndirectMeasure.DICE: 2> ====\n",
      "Average: 0.59322789311409 \n",
      "Per Topic: [0.609247088432312, 0.5913724303245544, 0.5870187878608704, 0.5834253430366516, 0.5884647369384766, 0.5755200982093811, 0.6225246787071228, 0.5834253430366516, 0.6078550815582275, 0.5834253430366516]\n",
      "\n",
      "==== Coherence : <Segmentation.ONE_SUC: 3>, <ConfirmMeasure.NPMI: 6>, <IndirectMeasure.JACCARD: 3> ====\n",
      "Average: 1.477185845375061 \n",
      "Per Topic: [1.5591613054275513, 1.4472156763076782, 1.4214173555374146, 1.4005297422409058, 1.4299253225326538, 1.3558237552642822, 1.6491789817810059, 1.4005297422409058, 1.5500774383544922, 1.4005297422409058]\n",
      "\n",
      "==== Coherence : <Segmentation.ONE_SUC: 3>, <ConfirmMeasure.LOGCOND: 7>, <IndirectMeasure.NONE: 0> ====\n",
      "Average: -27.631021115928547 \n",
      "Per Topic: [-27.631021115928547, -27.631021115928547, -27.631021115928547, -27.631021115928547, -27.631021115928547, -27.631021115928547, -27.631021115928547, -27.631021115928547, -27.631021115928547, -27.631021115928547]\n",
      "\n",
      "==== Coherence : <Segmentation.ONE_SUC: 3>, <ConfirmMeasure.LOGCOND: 7>, <IndirectMeasure.COSINE: 1> ====\n",
      "Average: 0.9262856185436249 \n",
      "Per Topic: [0.9116663932800293, 0.9309242367744446, 0.9257248044013977, 0.9370596408843994, 0.9357471466064453, 0.9400891065597534, 0.8959566950798035, 0.9370596408843994, 0.9115688800811768, 0.9370596408843994]\n",
      "\n",
      "==== Coherence : <Segmentation.ONE_SUC: 3>, <ConfirmMeasure.LOGCOND: 7>, <IndirectMeasure.DICE: 2> ====\n",
      "Average: 0.5389550983905792 \n",
      "Per Topic: [0.5460777282714844, 0.536679208278656, 0.5393673181533813, 0.5337561368942261, 0.5341230034828186, 0.5317026376724243, 0.5541579723358154, 0.5337561368942261, 0.5461747050285339, 0.5337561368942261]\n",
      "\n",
      "==== Coherence : <Segmentation.ONE_SUC: 3>, <ConfirmMeasure.LOGCOND: 7>, <IndirectMeasure.JACCARD: 3> ====\n",
      "Average: 1.1695002555847167 \n",
      "Per Topic: [1.2030199766159058, 1.1583317518234253, 1.1709270477294922, 1.1448005437850952, 1.1464890241622925, 1.1353951692581177, 1.2429468631744385, 1.1448005437850952, 1.2034910917282104, 1.1448005437850952]\n",
      "\n",
      "==== Coherence : <Segmentation.ONE_ALL: 4>, <ConfirmMeasure.DIFFERENCE: 1>, <IndirectMeasure.NONE: 0> ====\n",
      "Average: -0.02027210884353741 \n",
      "Per Topic: [-0.023129251700680264, -0.009523809523809521, -0.017687074829931967, -0.02653061224489796, -0.014285714285714285, -0.023809523809523805, -0.020408163265306114, -0.021088435374149662, -0.03129251700680273, -0.014965986394557823]\n",
      "\n",
      "==== Coherence : <Segmentation.ONE_ALL: 4>, <ConfirmMeasure.DIFFERENCE: 1>, <IndirectMeasure.COSINE: 1> ====\n",
      "Average: 0.13779935742728414 \n",
      "Per Topic: [0.269124710559845, -0.026636528549715877, 0.21128785274922848, 0.10645841304212808, 0.0009044202510267496, 0.22680654078722, 0.3327082276344299, 0.09705282608047128, 0.1306156747043133, 0.029671437013894318]\n",
      "\n",
      "==== Coherence : <Segmentation.ONE_ALL: 4>, <ConfirmMeasure.DIFFERENCE: 1>, <IndirectMeasure.DICE: 2> ====\n",
      "Average: 2.136264471411705 \n",
      "Per Topic: [-3.0099579095840454, 6.169245958328247, 2.3634594202041628, 1.777410340309143, 3.077542233467102, 3.066438627243042, -0.9121849715709687, 2.8355585098266602, 4.043693017959595, 1.9514394879341126]\n",
      "\n",
      "==== Coherence : <Segmentation.ONE_ALL: 4>, <ConfirmMeasure.DIFFERENCE: 1>, <IndirectMeasure.JACCARD: 3> ====\n",
      "Average: -1.4398695504665375 \n",
      "Per Topic: [-0.7486505627632141, -1.1940581321716308, -1.7359848618507385, -2.301324725151062, -1.4831003308296205, -1.4868423581123351, -0.47420105934143064, -1.5851456761360168, -1.3316795825958252, -2.057708215713501]\n",
      "\n",
      "==== Coherence : <Segmentation.ONE_ALL: 4>, <ConfirmMeasure.RATIO: 2>, <IndirectMeasure.NONE: 0> ====\n",
      "Average: 0.0 \n",
      "Per Topic: [0.0, 0.0, 0.0, 0.0, 0.0, 0.0, 0.0, 0.0, 0.0, 0.0]\n",
      "\n",
      "==== Coherence : <Segmentation.ONE_ALL: 4>, <ConfirmMeasure.RATIO: 2>, <IndirectMeasure.COSINE: 1> ====\n",
      "Average: 0.24426387565908958 \n",
      "Per Topic: [0.3883147746324539, 0.21204440742731095, 0.30883657857775687, 0.11568209752440453, 0.14183795338030905, 0.3201229840517044, 0.45509119629859923, 0.1399816762190312, 0.2723088085651398, 0.08841827991418541]\n",
      "\n",
      "==== Coherence : <Segmentation.ONE_ALL: 4>, <ConfirmMeasure.RATIO: 2>, <IndirectMeasure.DICE: 2> ====\n",
      "Average: 0.06205883448012171 \n",
      "Per Topic: [0.08794761467725039, 0.0874316893517971, 0.07970838397741317, 0.03805341888219118, 0.0351748873712495, 0.08021291084587574, 0.08758776001632214, 0.037995099928230046, 0.06140772327780723, 0.025068856473080815]\n",
      "\n",
      "==== Coherence : <Segmentation.ONE_ALL: 4>, <ConfirmMeasure.RATIO: 2>, <IndirectMeasure.JACCARD: 3> ====\n",
      "Average: 0.06838819665135816 \n",
      "Per Topic: [0.09877115041017533, 0.09970889613032341, 0.08785495795309543, 0.04105143863707781, 0.037161624245345595, 0.08798811919987201, 0.09741713032126427, 0.04062430653721094, 0.06586048901081085, 0.027443854068405927]\n",
      "\n",
      "==== Coherence : <Segmentation.ONE_ALL: 4>, <ConfirmMeasure.LIKELIHOOD: 3>, <IndirectMeasure.NONE: 0> ====\n",
      "Average: 0.0 \n",
      "Per Topic: [0.0, 0.0, 0.0, 0.0, 0.0, 0.0, 0.0, 0.0, 0.0, 0.0]\n",
      "\n",
      "==== Coherence : <Segmentation.ONE_ALL: 4>, <ConfirmMeasure.LIKELIHOOD: 3>, <IndirectMeasure.COSINE: 1> ====\n",
      "Average: nan \n",
      "Per Topic: [0.1608777899458357, nan, 0.25874795094132425, nan, nan, 0.2799037270247936, 0.22609141844109706, nan, 0.06871415703459235, nan]\n",
      "\n",
      "==== Coherence : <Segmentation.ONE_ALL: 4>, <ConfirmMeasure.LIKELIHOOD: 3>, <IndirectMeasure.DICE: 2> ====\n",
      "Average: 0.023448319591564567 \n",
      "Per Topic: [0.024479168686053637, 0.0, 0.07294548097997904, 2.5318472839097606e-11, 0.03262961507112247, 0.07140352576971054, 0.03302540486146231, 1.9897493808845867e-11, 4.959276878047092e-10, 6.174000199976603e-12]\n",
      "\n",
      "==== Coherence : <Segmentation.ONE_ALL: 4>, <ConfirmMeasure.LIKELIHOOD: 3>, <IndirectMeasure.JACCARD: 3> ====\n",
      "Average: 0.02650185066087308 \n",
      "Per Topic: [0.027893176707408308, 0.0, 0.08051396980881691, 2.5318472839097606e-11, 0.03899090588361484, 0.07806305326521397, 0.03955740039635916, 1.9897493808845867e-11, 4.959276878047092e-10, 6.174000199976603e-12]\n",
      "\n",
      "==== Coherence : <Segmentation.ONE_ALL: 4>, <ConfirmMeasure.LOGLIKELIHOOD: 4>, <IndirectMeasure.NONE: 0> ====\n",
      "Average: -27.631021115928547 \n",
      "Per Topic: [-27.631021115928547, -27.631021115928547, -27.631021115928547, -27.631021115928547, -27.631021115928547, -27.631021115928547, -27.631021115928547, -27.631021115928547, -27.631021115928547, -27.631021115928547]\n",
      "\n",
      "==== Coherence : <Segmentation.ONE_ALL: 4>, <ConfirmMeasure.LOGLIKELIHOOD: 4>, <IndirectMeasure.COSINE: 1> ====\n",
      "Average: 0.9644384855031969 \n",
      "Per Topic: [0.9479471147060394, 0.9818504929542542, 0.978473323583603, 0.9639672040939331, 0.972232061624527, 0.9603203773498535, 0.9451888024806976, 0.9710482001304627, 0.9456767261028289, 0.9776805520057679]\n",
      "\n",
      "==== Coherence : <Segmentation.ONE_ALL: 4>, <ConfirmMeasure.LOGLIKELIHOOD: 4>, <IndirectMeasure.DICE: 2> ====\n",
      "Average: 0.9000095641613006 \n",
      "Per Topic: [0.9000956118106842, 0.8999999701976776, 0.8999999940395356, 0.9000000119209289, 0.9, 0.9, 0.9000000178813934, 0.9000000178813934, 0.9, 0.9000000178813934]\n",
      "\n",
      "==== Coherence : <Segmentation.ONE_ALL: 4>, <ConfirmMeasure.LOGLIKELIHOOD: 4>, <IndirectMeasure.JACCARD: 3> ====\n",
      "Average: 9.029055814743042 \n",
      "Per Topic: [9.039883136749268, 9.000990676879884, 9.006083393096924, 9.034246253967286, 9.017578315734863, 9.013133335113526, 9.025057983398437, 9.071789836883545, 9.068915557861327, 9.012879657745362]\n",
      "\n",
      "==== Coherence : <Segmentation.ONE_ALL: 4>, <ConfirmMeasure.PMI: 5>, <IndirectMeasure.NONE: 0> ====\n",
      "Average: 0.0 \n",
      "Per Topic: [0.0, 0.0, 0.0, 0.0, 0.0, 0.0, 0.0, 0.0, 0.0, 0.0]\n",
      "\n",
      "==== Coherence : <Segmentation.ONE_ALL: 4>, <ConfirmMeasure.PMI: 5>, <IndirectMeasure.COSINE: 1> ====\n",
      "Average: 0.9591189843416215 \n",
      "Per Topic: [0.9433679223060608, 0.9844130933284759, 0.9709342420101166, 0.9572145164012908, 0.9707732915878295, 0.9521271288394928, 0.9414168775081635, 0.9655816316604614, 0.9365870356559753, 0.9687741041183472]\n",
      "\n",
      "==== Coherence : <Segmentation.ONE_ALL: 4>, <ConfirmMeasure.PMI: 5>, <IndirectMeasure.DICE: 2> ====\n",
      "Average: 0.8999999964237213 \n",
      "Per Topic: [0.8999999940395356, 0.899999988079071, 0.899999988079071, 0.8999999940395356, 0.900000023841858, 0.9000000119209289, 0.9000000059604645, 0.8999999701976776, 0.8999999940395356, 0.8999999940395356]\n",
      "\n",
      "==== Coherence : <Segmentation.ONE_ALL: 4>, <ConfirmMeasure.PMI: 5>, <IndirectMeasure.JACCARD: 3> ====\n",
      "Average: 9.014815578460695 \n",
      "Per Topic: [9.021323585510254, 9.004310989379883, 9.003182125091552, 9.011092376708984, 9.008977222442628, 9.007649803161621, 9.01441011428833, 9.031373023986816, 9.041115665435791, 9.004720878601074]\n",
      "\n",
      "==== Coherence : <Segmentation.ONE_ALL: 4>, <ConfirmMeasure.NPMI: 6>, <IndirectMeasure.NONE: 0> ====\n",
      "Average: 0.0 \n",
      "Per Topic: [0.0, 0.0, 0.0, 0.0, 0.0, 0.0, 0.0, 0.0, 0.0, 0.0]\n",
      "\n",
      "==== Coherence : <Segmentation.ONE_ALL: 4>, <ConfirmMeasure.NPMI: 6>, <IndirectMeasure.COSINE: 1> ====\n",
      "Average: 0.8965197998285295 \n",
      "Per Topic: [0.8617553532123565, 0.9423488676548004, 0.9186646282672882, 0.8976441025733948, 0.9188483536243439, 0.8856421113014221, 0.8534397482872009, 0.9146759331226348, 0.8589726507663726, 0.9132062494754791]\n",
      "\n",
      "==== Coherence : <Segmentation.ONE_ALL: 4>, <ConfirmMeasure.NPMI: 6>, <IndirectMeasure.DICE: 2> ====\n",
      "Average: 0.9015106230974197 \n",
      "Per Topic: [0.9050693571567535, 0.9000000178813934, 0.9002038478851319, 0.9000000059604645, 0.9000000059604645, 0.9019613921642303, 0.9074656546115876, 0.8999999940395356, 0.9004059612751008, 0.8999999940395356]\n",
      "\n",
      "==== Coherence : <Segmentation.ONE_ALL: 4>, <ConfirmMeasure.NPMI: 6>, <IndirectMeasure.JACCARD: 3> ====\n",
      "Average: 9.1983876991272 \n",
      "Per Topic: [9.560789394378663, 9.006152725219726, 9.030043888092042, 9.02848310470581, 9.025360870361329, 9.218553829193116, 9.88237543106079, 9.07907485961914, 9.13942518234253, 9.013617706298827]\n",
      "\n",
      "==== Coherence : <Segmentation.ONE_ALL: 4>, <ConfirmMeasure.LOGCOND: 7>, <IndirectMeasure.NONE: 0> ====\n",
      "Average: -27.631021115928547 \n",
      "Per Topic: [-27.631021115928547, -27.631021115928547, -27.631021115928547, -27.631021115928547, -27.631021115928547, -27.631021115928547, -27.631021115928547, -27.631021115928547, -27.631021115928547, -27.631021115928547]\n",
      "\n",
      "==== Coherence : <Segmentation.ONE_ALL: 4>, <ConfirmMeasure.LOGCOND: 7>, <IndirectMeasure.COSINE: 1> ====\n",
      "Average: 0.9719271785020828 \n",
      "Per Topic: [0.9616292536258697, 0.9895282447338104, 0.9804030001163483, 0.9699623763561249, 0.9803165972232819, 0.9673738300800323, 0.96031813621521, 0.9753481328487397, 0.9553478240966797, 0.9790443897247314]\n",
      "\n",
      "==== Coherence : <Segmentation.ONE_ALL: 4>, <ConfirmMeasure.LOGCOND: 7>, <IndirectMeasure.DICE: 2> ====\n",
      "Average: 0.9000000023841859 \n",
      "Per Topic: [0.9000000178813934, 0.8999999821186065, 0.9, 0.9000000059604645, 0.9000000178813934, 0.9000000119209289, 0.899999988079071, 0.9, 0.9, 0.9]\n",
      "\n",
      "==== Coherence : <Segmentation.ONE_ALL: 4>, <ConfirmMeasure.LOGCOND: 7>, <IndirectMeasure.JACCARD: 3> ====\n",
      "Average: 9.023494262695312 \n",
      "Per Topic: [9.0238862991333, 9.000625705718994, 9.004715251922608, 9.028638935089111, 9.014888954162597, 9.010428333282471, 9.02165641784668, 9.061756896972657, 9.058020401000977, 9.01032543182373]\n",
      "\n",
      "==== Coherence : <Segmentation.ONE_SET: 5>, <ConfirmMeasure.DIFFERENCE: 1>, <IndirectMeasure.NONE: 0> ====\n",
      "Average: -0.02027210884353741 \n",
      "Per Topic: [-0.023129251700680264, -0.009523809523809521, -0.017687074829931967, -0.02653061224489796, -0.014285714285714285, -0.023809523809523805, -0.020408163265306114, -0.021088435374149662, -0.03129251700680273, -0.014965986394557823]\n",
      "\n",
      "==== Coherence : <Segmentation.ONE_SET: 5>, <ConfirmMeasure.DIFFERENCE: 1>, <IndirectMeasure.COSINE: 1> ====\n",
      "Average: 0.35878258377313615 \n",
      "Per Topic: [0.43438962697982786, 0.2711017899215221, 0.4290154784917831, 0.34050676226615906, 0.2443290278315544, 0.4297098875045776, 0.4786119818687439, 0.3030329428613186, 0.353180792927742, 0.30394754707813265]\n",
      "\n",
      "==== Coherence : <Segmentation.ONE_SET: 5>, <ConfirmMeasure.DIFFERENCE: 1>, <IndirectMeasure.DICE: 2> ====\n",
      "Average: 2.099408160448074 \n",
      "Per Topic: [-3.1127928376197813, 6.581743764877319, 2.2988149881362916, 1.6791874051094056, 3.096414566040039, 3.0076658725738525, -0.896995484828949, 2.650182843208313, 3.8499794006347656, 1.8398810863494872]\n",
      "\n",
      "==== Coherence : <Segmentation.ONE_SET: 5>, <ConfirmMeasure.DIFFERENCE: 1>, <IndirectMeasure.JACCARD: 3> ====\n",
      "Average: -1.504199552834034 \n",
      "Per Topic: [-0.7436617493629456, -1.221041476726532, -1.776418650150299, -2.5383168697357177, -1.5497507572174072, -1.5123703718185424, -0.4668084293603897, -1.6143476724624635, -1.3635720491409302, -2.2557075023651123]\n",
      "\n",
      "==== Coherence : <Segmentation.ONE_SET: 5>, <ConfirmMeasure.RATIO: 2>, <IndirectMeasure.NONE: 0> ====\n",
      "Average: 0.0 \n",
      "Per Topic: [0.0, 0.0, 0.0, 0.0, 0.0, 0.0, 0.0, 0.0, 0.0, 0.0]\n",
      "\n",
      "==== Coherence : <Segmentation.ONE_SET: 5>, <ConfirmMeasure.RATIO: 2>, <IndirectMeasure.COSINE: 1> ====\n",
      "Average: 0.4362738361954689 \n",
      "Per Topic: [0.5218846663832665, 0.40268986374139787, 0.47915849685668943, 0.35738582611083985, 0.3885520607233047, 0.4832282394170761, 0.5616687655448913, 0.3771043673157692, 0.4612880527973175, 0.3297780230641365]\n",
      "\n",
      "==== Coherence : <Segmentation.ONE_SET: 5>, <ConfirmMeasure.RATIO: 2>, <IndirectMeasure.DICE: 2> ====\n",
      "Average: 0.09018780019134282 \n",
      "Per Topic: [0.08999982662498951, 0.08962472938001156, 0.0906152918934822, 0.09024454541504383, 0.090497225522995, 0.09041741341352463, 0.09030525460839271, 0.09043369889259338, 0.0899739045649767, 0.08976611159741879]\n",
      "\n",
      "==== Coherence : <Segmentation.ONE_SET: 5>, <ConfirmMeasure.RATIO: 2>, <IndirectMeasure.JACCARD: 3> ====\n",
      "Average: 0.09999999899417161 \n",
      "Per Topic: [0.10000000223517418, 0.09999999515712261, 0.10000000074505806, 0.09999999701976776, 0.10000000335276127, 0.09999999627470971, 0.10000001043081283, 0.09999999478459358, 0.09999999478459358, 0.09999999515712261]\n",
      "\n",
      "==== Coherence : <Segmentation.ONE_SET: 5>, <ConfirmMeasure.LIKELIHOOD: 3>, <IndirectMeasure.NONE: 0> ====\n",
      "Average: 0.0 \n",
      "Per Topic: [0.0, 0.0, 0.0, 0.0, 0.0, 0.0, 0.0, 0.0, 0.0, 0.0]\n",
      "\n",
      "==== Coherence : <Segmentation.ONE_SET: 5>, <ConfirmMeasure.LIKELIHOOD: 3>, <IndirectMeasure.COSINE: 1> ====\n",
      "Average: nan \n",
      "Per Topic: [0.16087778996300667, nan, 0.44881649911403654, nan, nan, 0.45595255494117737, 0.22609141845945402, nan, 0.0552531143316297, nan]\n",
      "\n",
      "==== Coherence : <Segmentation.ONE_SET: 5>, <ConfirmMeasure.LIKELIHOOD: 3>, <IndirectMeasure.DICE: 2> ====\n",
      "Average: 0.0718573818758856 \n",
      "Per Topic: [0.06666666274243023, 0.08680743575298375, 0.0897407166659832, 0.06430178513201676, 0.0817097880332465, 0.08986019864678382, 0.06666666275648048, 0.07282056813911222, 0.050000000704139305, 0.05000000018567959]\n",
      "\n",
      "==== Coherence : <Segmentation.ONE_SET: 5>, <ConfirmMeasure.LIKELIHOOD: 3>, <IndirectMeasure.JACCARD: 3> ====\n",
      "Average: 0.09999999948151214 \n",
      "Per Topic: [0.09999998812847759, 0.10000000409984178, 0.09999999552965164, 0.09999999930533372, 0.10000000525402972, 0.1000000074505806, 0.1000000000634568, 0.09999999409393094, 0.10000000070413931, 0.1000000001856796]\n",
      "\n",
      "==== Coherence : <Segmentation.ONE_SET: 5>, <ConfirmMeasure.LOGLIKELIHOOD: 4>, <IndirectMeasure.NONE: 0> ====\n",
      "Average: -27.631021115928547 \n",
      "Per Topic: [-27.631021115928547, -27.631021115928547, -27.631021115928547, -27.631021115928547, -27.631021115928547, -27.631021115928547, -27.631021115928547, -27.631021115928547, -27.631021115928547, -27.631021115928547]\n",
      "\n",
      "==== Coherence : <Segmentation.ONE_SET: 5>, <ConfirmMeasure.LOGLIKELIHOOD: 4>, <IndirectMeasure.COSINE: 1> ====\n",
      "Average: 0.9711423861980439 \n",
      "Per Topic: [0.9579123973846435, 0.9853123903274537, 0.9825547933578491, 0.9707099258899688, 0.9774515390396118, 0.9678920149803162, 0.9556838810443878, 0.9762121200561523, 0.9558265507221222, 0.9818682491779327]\n",
      "\n",
      "==== Coherence : <Segmentation.ONE_SET: 5>, <ConfirmMeasure.LOGLIKELIHOOD: 4>, <IndirectMeasure.DICE: 2> ====\n",
      "Average: 0.9091100388765335 \n",
      "Per Topic: [0.9091123640537262, 0.9090916454792023, 0.9090952932834625, 0.9091154277324677, 0.9091030716896057, 0.9091006219387054, 0.9091089785099029, 0.9091350436210632, 0.9091378211975097, 0.9091001212596893]\n",
      "\n",
      "==== Coherence : <Segmentation.ONE_SET: 5>, <ConfirmMeasure.LOGLIKELIHOOD: 4>, <IndirectMeasure.JACCARD: 3> ====\n",
      "Average: 10.028093118667602 \n",
      "Per Topic: [10.030253887176514, 10.000990962982177, 10.00608320236206, 10.034246063232422, 10.017578411102296, 10.013134098052978, 10.025057888031006, 10.071790027618409, 10.068916034698486, 10.012880611419678]\n",
      "\n",
      "==== Coherence : <Segmentation.ONE_SET: 5>, <ConfirmMeasure.PMI: 5>, <IndirectMeasure.NONE: 0> ====\n",
      "Average: 0.0 \n",
      "Per Topic: [0.0, 0.0, 0.0, 0.0, 0.0, 0.0, 0.0, 0.0, 0.0, 0.0]\n",
      "\n",
      "==== Coherence : <Segmentation.ONE_SET: 5>, <ConfirmMeasure.PMI: 5>, <IndirectMeasure.COSINE: 1> ====\n",
      "Average: 0.9669386929273607 \n",
      "Per Topic: [0.954283457994461, 0.9873914599418641, 0.9764865577220917, 0.9654366672039032, 0.976357501745224, 0.9613285303115845, 0.9526925802230835, 0.9720086753368378, 0.9486530184745788, 0.9747484803199769]\n",
      "\n"
     ]
    },
    {
     "name": "stdout",
     "output_type": "stream",
     "text": [
      "==== Coherence : <Segmentation.ONE_SET: 5>, <ConfirmMeasure.PMI: 5>, <IndirectMeasure.DICE: 2> ====\n",
      "Average: 0.9091014659404755 \n",
      "Per Topic: [0.9091062843799591, 0.9090942203998565, 0.9090932488441468, 0.9090989291667938, 0.9090974628925323, 0.9090966045856476, 0.909101402759552, 0.9091117680072784, 0.9091202974319458, 0.9090944409370423]\n",
      "\n",
      "==== Coherence : <Segmentation.ONE_SET: 5>, <ConfirmMeasure.PMI: 5>, <IndirectMeasure.JACCARD: 3> ====\n",
      "Average: 10.014815587997436 \n",
      "Per Topic: [10.021323871612548, 10.004312419891358, 10.003182220458985, 10.011092567443848, 10.008977127075195, 10.007648468017578, 10.01440896987915, 10.031373310089112, 10.041115856170654, 10.004721069335938]\n",
      "\n",
      "==== Coherence : <Segmentation.ONE_SET: 5>, <ConfirmMeasure.NPMI: 6>, <IndirectMeasure.NONE: 0> ====\n",
      "Average: 0.0 \n",
      "Per Topic: [0.0, 0.0, 0.0, 0.0, 0.0, 0.0, 0.0, 0.0, 0.0, 0.0]\n",
      "\n",
      "==== Coherence : <Segmentation.ONE_SET: 5>, <ConfirmMeasure.NPMI: 6>, <IndirectMeasure.COSINE: 1> ====\n",
      "Average: 0.9167887419462204 \n",
      "Per Topic: [0.8892061293125153, 0.953510457277298, 0.9344659268856048, 0.9177022874355316, 0.9346108973026276, 0.9081416189670563, 0.8825174033641815, 0.9309979856014252, 0.8866192698478699, 0.9301154434680938]\n",
      "\n",
      "==== Coherence : <Segmentation.ONE_SET: 5>, <ConfirmMeasure.NPMI: 6>, <IndirectMeasure.DICE: 2> ====\n",
      "Average: 0.9099571007490159 \n",
      "Per Topic: [0.9124388873577118, 0.909095698595047, 0.9090972959995269, 0.9091110050678253, 0.909108144044876, 0.9093923568725586, 0.9139307081699372, 0.9091390132904053, 0.9091570198535919, 0.909100878238678]\n",
      "\n",
      "==== Coherence : <Segmentation.ONE_SET: 5>, <ConfirmMeasure.NPMI: 6>, <IndirectMeasure.JACCARD: 3> ====\n",
      "Average: 10.14414885520935 \n",
      "Per Topic: [10.458291053771973, 10.006153202056884, 10.008950805664062, 10.028483295440674, 10.02536096572876, 10.05388879776001, 10.672437381744384, 10.079074573516845, 10.095230197906494, 10.013618278503419]\n",
      "\n",
      "==== Coherence : <Segmentation.ONE_SET: 5>, <ConfirmMeasure.LOGCOND: 7>, <IndirectMeasure.NONE: 0> ====\n",
      "Average: -27.631021115928547 \n",
      "Per Topic: [-27.631021115928547, -27.631021115928547, -27.631021115928547, -27.631021115928547, -27.631021115928547, -27.631021115928547, -27.631021115928547, -27.631021115928547, -27.631021115928547, -27.631021115928547]\n",
      "\n",
      "==== Coherence : <Segmentation.ONE_SET: 5>, <ConfirmMeasure.LOGCOND: 7>, <IndirectMeasure.COSINE: 1> ====\n",
      "Average: 0.9772051012516021 \n",
      "Per Topic: [0.9689460098743439, 0.9915213048458099, 0.9841222405433655, 0.9755792737007141, 0.9839975416660309, 0.9735980153083801, 0.9678645610809327, 0.9797592401504517, 0.9636711776256561, 0.9829916477203369]\n",
      "\n",
      "==== Coherence : <Segmentation.ONE_SET: 5>, <ConfirmMeasure.LOGCOND: 7>, <IndirectMeasure.DICE: 2> ====\n",
      "Average: 0.9091069447994231 \n",
      "Per Topic: [0.909107780456543, 0.9090913951396942, 0.9090943336486816, 0.9091114282608033, 0.9091012895107269, 0.9090986251831055, 0.9091065108776093, 0.9091293334960937, 0.9091304481029511, 0.9090983033180237]\n",
      "\n",
      "==== Coherence : <Segmentation.ONE_SET: 5>, <ConfirmMeasure.LOGCOND: 7>, <IndirectMeasure.JACCARD: 3> ====\n",
      "Average: 10.023494625091555 \n",
      "Per Topic: [10.02388687133789, 10.000626850128175, 10.004715538024902, 10.028638935089111, 10.01488971710205, 10.010429191589356, 10.021656227111816, 10.061756801605224, 10.058020782470702, 10.0103253364563]\n",
      "\n"
     ]
    }
   ],
   "source": [
    "for seg, cm, im in itertools.product(tp.coherence.Segmentation, tp.coherence.ConfirmMeasure, tp.coherence.IndirectMeasure):\n",
    "    coh = tp.coherence.Coherence(mdl, coherence=(tp.coherence.ProbEstimation.DOCUMENT, seg, cm, im))\n",
    "    average_coherence = coh.get_score()\n",
    "    coherence_per_topic = [coh.get_score(topic_id=k) for k in range(mdl.k)]\n",
    "    print('==== Coherence : {}, {}, {} ===='.format(repr(seg), repr(cm), repr(im)))\n",
    "    print('Average:', average_coherence, '\\nPer Topic:', coherence_per_topic)\n",
    "    print()"
   ]
  },
  {
   "cell_type": "code",
   "execution_count": 19,
   "metadata": {
    "ExecuteTime": {
     "end_time": "2021-03-17T07:18:33.977279Z",
     "start_time": "2021-03-17T07:18:33.696580Z"
    }
   },
   "outputs": [],
   "source": [
    "import matplotlib.pyplot as plt"
   ]
  },
  {
   "cell_type": "code",
   "execution_count": 50,
   "metadata": {
    "ExecuteTime": {
     "end_time": "2021-03-17T06:29:21.082297Z",
     "start_time": "2021-03-17T06:29:21.079292Z"
    }
   },
   "outputs": [],
   "source": [
    "import gensim"
   ]
  },
  {
   "cell_type": "code",
   "execution_count": 21,
   "metadata": {
    "ExecuteTime": {
     "end_time": "2021-03-17T06:10:52.452458Z",
     "start_time": "2021-03-17T06:10:52.449233Z"
    }
   },
   "outputs": [
    {
     "data": {
      "text/plain": [
       "['영상', '브이로그', '일상', '게임', '편집', '재미있다', '좋아하다', '만들다', '사람', '정보', '주제', '여행', '자유', '소통', '공유', '많이', '모습', '강아지', '대하다', '가장', '활동', '시청자', '도움', '관심', '패션', '생활', '콘텐츠', '업로드', '라이브', '보이다', '추억', '운동', '취미', '교육', '귀엽다', '분야', '관련', '처음', '방송', '실시간', '제작', '즐거움', '음악', '내용', '먹방', '촬영', '자연', '영상미', '고양이', '수업', '아이', '직장', '반려', '즐기다', '함께', '노력', '직접', '연주', '노래', '지식', '전달', '기존', '리뷰', '위하다', '사회', '경험', '기록', '어리다', '공감', '나오다', '가족', '요리', '배경음악', '신경', '요소', '제품', '비교', '올리다', '사용', '다이어트', '새롭다', '메뉴', '딱히', '구독자수', '얽매이다', '저장', '건강', '차량', '시승', '전달력', '메추리', '실력', '다양', '접근성', '용이', '남기다', '온라인', '헬스장', '다른', '동료', '동호회', '구입', '골프', '연습', '방법', '환경', '정성', '들어가다', '자녀', '역사', '컨셉', '생각', '그저', '그대로', '산책', '해외', '소개', '패션쇼', '유명한', '밴드', '신규', '접하다', '겨울왕국', '라이', '특징', '후원', '채팅', '식물', '키우다', '실무', '동기', '동창', '리액션', '너무', '공감대', '다시', '지금', '학교', '과제', '시연', '스피드', '페인팅', '제공', '주식', '토크', '경제', '유투', '육아', '베이비', '특정', '자신', '특별', '매니아층', '토킹', '편하다', '과외', '영화', '채널', '알차다', '생방송', '활기차다', '인상', '멋지다', '풍경', '행복감', '지이', '베이킹', '관심거리', '남자', '어르신', '손쉽다', '캠핑', '로또', '밀접', '동물', '평소', '하울', '시간', '들이다', '바탕', '전자제품', '개봉', '창단', '쿠리코', '언덕', '정엽', '이별', '여름', '눈싸움', '음원', '커버', '부르다', '인천', '동네', '레고', '나라', '아직', '블로그', '흥미', '제일', '플레이', '최대한', '아기', '음식', '장난감', '언박싱', '힘들다', '개인', '테이블', '수집', '관하다', '다루다', '기억', '느끼다', '집중', '스타일', '검토', '소비자', '현명', '소비', '드리다', '이제', '시작', '긴장감', '설레다', '공략', '편안', '인기', '검색어', '레고프렌즈', '실체', '재건축', '현장', '마지막', '철거', '이루어지다', '마음', '아프다', '가지다', '세일', '의미', '생일날', '기념', '조금', '재미', '매끄럽다', '흘러가다', '구도', '모든', '애착', '홍보', '문화', '언어', '구독자', '진짜', '성공', '부자', '중요', '행복', '주장', '대학원', '지내다', '반경', '범위', '영상기법', '영상구도', '같이', '전반적', '주의', '기울이다', '작업', '반응', '장소']"
      ]
     },
     "execution_count": 21,
     "metadata": {},
     "output_type": "execute_result"
    }
   ],
   "source": [
    "mdl.used_vocabs   \n",
    "\n",
    "#Used Vocabs 의미 >> 78개\n",
    "#242 words >> k(20)에 속한 총 단어의 수 (84개가 중복되어서 들어감)  == 총 단어의 빈도 수"
   ]
  },
  {
   "cell_type": "code",
   "execution_count": 22,
   "metadata": {
    "ExecuteTime": {
     "end_time": "2021-03-17T06:10:55.310219Z",
     "start_time": "2021-03-17T06:10:55.307371Z"
    }
   },
   "outputs": [],
   "source": [
    "#Visualize the result\n",
    "\n",
    "g = Network(width=800, height=800, font_color=\"#333\")\n",
    "correl = mdl.get_correlations().reshape([-1])"
   ]
  },
  {
   "cell_type": "code",
   "execution_count": 23,
   "metadata": {
    "ExecuteTime": {
     "end_time": "2021-03-17T06:10:56.227052Z",
     "start_time": "2021-03-17T06:10:56.224258Z"
    }
   },
   "outputs": [],
   "source": [
    "correl.sort()"
   ]
  },
  {
   "cell_type": "code",
   "execution_count": 24,
   "metadata": {
    "ExecuteTime": {
     "end_time": "2021-03-17T06:10:56.815133Z",
     "start_time": "2021-03-17T06:10:56.812031Z"
    }
   },
   "outputs": [],
   "source": [
    "# 상관계수 상위 10%만 간선으로 잇고\n",
    "top_tenth = mdl.k * (mdl.k - 1) // 10\n",
    "top_tenth = correl[-mdl.k - top_tenth]"
   ]
  },
  {
   "cell_type": "code",
   "execution_count": 25,
   "metadata": {
    "ExecuteTime": {
     "end_time": "2021-03-17T06:10:57.806110Z",
     "start_time": "2021-03-17T06:10:57.803932Z"
    }
   },
   "outputs": [],
   "source": [
    "topic_counts = mdl.get_count_by_topics()"
   ]
  },
  {
   "cell_type": "code",
   "execution_count": 26,
   "metadata": {
    "ExecuteTime": {
     "end_time": "2021-03-17T06:10:58.958557Z",
     "start_time": "2021-03-17T06:10:58.955942Z"
    }
   },
   "outputs": [
    {
     "name": "stdout",
     "output_type": "stream",
     "text": [
      "[41 31 60 44 42 36 58 40 52 61]\n"
     ]
    }
   ],
   "source": [
    "print(topic_counts)\n",
    "\n",
    "#합하면 242 (242words) >> 빈도수 242"
   ]
  },
  {
   "cell_type": "code",
   "execution_count": 27,
   "metadata": {
    "ExecuteTime": {
     "end_time": "2021-03-17T06:11:06.608195Z",
     "start_time": "2021-03-17T06:11:06.601548Z"
    }
   },
   "outputs": [
    {
     "name": "stdout",
     "output_type": "stream",
     "text": [
      "Topic #0 브이로그 주제 시청자 즐거움 로또 개인 과외 흥미\n",
      "Topic #1 재미있다 콘텐츠 자연 연주 촬영 노래 요리 환경\n",
      "Topic #2 소통 편집 자유 강아지 많이 귀엽다 실시간 나오다\n",
      "Topic #3 일상 정보 공유 음악 업로드 제공 부르다 언덕\n",
      "Topic #4 영상 패션 추억 운동 관련 고양이 먹방 직접\n",
      "Topic #5 게임 취미 방송 리뷰 사용 아직 힘들다 최대한\n",
      "Topic #6 영상 좋아하다 만들다 가장 보이다 어리다 영상미 즐기다\n",
      "Topic #7 활동 교육 생활 공감 반려 직장 위하다 제품\n",
      "Topic #8 여행 내용 분야 대하다 관심 가족 지식 전달\n",
      "Topic #9 사람 라이브 모습 제작 처음 도움 기록 올리다\n"
     ]
    }
   ],
   "source": [
    "for k in range(mdl.k):\n",
    "    label = \"#{}\".format(k)\n",
    "    title= ' '.join(word for word, _ in mdl.get_topic_words(k, top_n=8))\n",
    "    print('Topic', label, title)\n",
    "    label += '\\n' + ' '.join(word for word, _ in mdl.get_topic_words(k, top_n=3))\n",
    "    g.add_node(k, label=label, title=title, shape='ellipse', value=float(topic_counts[k]))\n",
    "    for l, correlation in zip(range(k - 1), mdl.get_correlations(k)):\n",
    "        if correlation < top_tenth: continue\n",
    "        g.add_edge(k, l, value=float(correlation), title='{:.02}'.format(correlation))"
   ]
  },
  {
   "cell_type": "code",
   "execution_count": 28,
   "metadata": {
    "ExecuteTime": {
     "end_time": "2021-03-17T06:11:12.429372Z",
     "start_time": "2021-03-17T06:11:12.426905Z"
    },
    "scrolled": true
   },
   "outputs": [],
   "source": [
    "#토픽 topic_id에 속하는 상위 top_n개의 단어와 각각의 확률을 반환.\n",
    "#반환 타입은 (단어:str, 확률:float) 튜플의 list형\n",
    "#확률은 현재 토픽 내 각각의 단어들의 발생확률?\n",
    "\n",
    "topic_words = mdl.get_topic_words(k, top_n=50)"
   ]
  },
  {
   "cell_type": "code",
   "execution_count": 29,
   "metadata": {
    "ExecuteTime": {
     "end_time": "2021-03-17T06:11:13.182446Z",
     "start_time": "2021-03-17T06:11:12.887451Z"
    }
   },
   "outputs": [],
   "source": [
    "import pandas as pd"
   ]
  },
  {
   "cell_type": "code",
   "execution_count": 30,
   "metadata": {
    "ExecuteTime": {
     "end_time": "2021-03-17T06:11:13.729639Z",
     "start_time": "2021-03-17T06:11:13.726653Z"
    }
   },
   "outputs": [],
   "source": [
    "df_topic_words = pd.DataFrame(topic_words)"
   ]
  },
  {
   "cell_type": "code",
   "execution_count": 31,
   "metadata": {
    "ExecuteTime": {
     "end_time": "2021-03-17T06:11:14.378962Z",
     "start_time": "2021-03-17T06:11:14.367397Z"
    },
    "scrolled": true
   },
   "outputs": [
    {
     "data": {
      "text/html": [
       "<div>\n",
       "<style scoped>\n",
       "    .dataframe tbody tr th:only-of-type {\n",
       "        vertical-align: middle;\n",
       "    }\n",
       "\n",
       "    .dataframe tbody tr th {\n",
       "        vertical-align: top;\n",
       "    }\n",
       "\n",
       "    .dataframe thead th {\n",
       "        text-align: right;\n",
       "    }\n",
       "</style>\n",
       "<table border=\"1\" class=\"dataframe\">\n",
       "  <thead>\n",
       "    <tr style=\"text-align: right;\">\n",
       "      <th></th>\n",
       "      <th>0</th>\n",
       "      <th>1</th>\n",
       "    </tr>\n",
       "  </thead>\n",
       "  <tbody>\n",
       "    <tr>\n",
       "      <th>0</th>\n",
       "      <td>사람</td>\n",
       "      <td>0.068867</td>\n",
       "    </tr>\n",
       "    <tr>\n",
       "      <th>1</th>\n",
       "      <td>라이브</td>\n",
       "      <td>0.053354</td>\n",
       "    </tr>\n",
       "    <tr>\n",
       "      <th>2</th>\n",
       "      <td>모습</td>\n",
       "      <td>0.049614</td>\n",
       "    </tr>\n",
       "    <tr>\n",
       "      <th>3</th>\n",
       "      <td>제작</td>\n",
       "      <td>0.041380</td>\n",
       "    </tr>\n",
       "    <tr>\n",
       "      <th>4</th>\n",
       "      <td>처음</td>\n",
       "      <td>0.039143</td>\n",
       "    </tr>\n",
       "    <tr>\n",
       "      <th>5</th>\n",
       "      <td>도움</td>\n",
       "      <td>0.034997</td>\n",
       "    </tr>\n",
       "    <tr>\n",
       "      <th>6</th>\n",
       "      <td>기록</td>\n",
       "      <td>0.034395</td>\n",
       "    </tr>\n",
       "    <tr>\n",
       "      <th>7</th>\n",
       "      <td>올리다</td>\n",
       "      <td>0.029388</td>\n",
       "    </tr>\n",
       "    <tr>\n",
       "      <th>8</th>\n",
       "      <td>노력</td>\n",
       "      <td>0.027962</td>\n",
       "    </tr>\n",
       "    <tr>\n",
       "      <th>9</th>\n",
       "      <td>기존</td>\n",
       "      <td>0.026288</td>\n",
       "    </tr>\n",
       "    <tr>\n",
       "      <th>10</th>\n",
       "      <td>편안</td>\n",
       "      <td>0.024590</td>\n",
       "    </tr>\n",
       "    <tr>\n",
       "      <th>11</th>\n",
       "      <td>전달력</td>\n",
       "      <td>0.024590</td>\n",
       "    </tr>\n",
       "    <tr>\n",
       "      <th>12</th>\n",
       "      <td>다른</td>\n",
       "      <td>0.021819</td>\n",
       "    </tr>\n",
       "    <tr>\n",
       "      <th>13</th>\n",
       "      <td>육아</td>\n",
       "      <td>0.021819</td>\n",
       "    </tr>\n",
       "    <tr>\n",
       "      <th>14</th>\n",
       "      <td>다시</td>\n",
       "      <td>0.021819</td>\n",
       "    </tr>\n",
       "    <tr>\n",
       "      <th>15</th>\n",
       "      <td>메추리</td>\n",
       "      <td>0.021819</td>\n",
       "    </tr>\n",
       "    <tr>\n",
       "      <th>16</th>\n",
       "      <td>베이비</td>\n",
       "      <td>0.021819</td>\n",
       "    </tr>\n",
       "    <tr>\n",
       "      <th>17</th>\n",
       "      <td>인천</td>\n",
       "      <td>0.021819</td>\n",
       "    </tr>\n",
       "    <tr>\n",
       "      <th>18</th>\n",
       "      <td>동네</td>\n",
       "      <td>0.021819</td>\n",
       "    </tr>\n",
       "    <tr>\n",
       "      <th>19</th>\n",
       "      <td>밴드</td>\n",
       "      <td>0.020198</td>\n",
       "    </tr>\n",
       "    <tr>\n",
       "      <th>20</th>\n",
       "      <td>홍보</td>\n",
       "      <td>0.020198</td>\n",
       "    </tr>\n",
       "    <tr>\n",
       "      <th>21</th>\n",
       "      <td>관심거리</td>\n",
       "      <td>0.019049</td>\n",
       "    </tr>\n",
       "    <tr>\n",
       "      <th>22</th>\n",
       "      <td>지금</td>\n",
       "      <td>0.018157</td>\n",
       "    </tr>\n",
       "    <tr>\n",
       "      <th>23</th>\n",
       "      <td>그저</td>\n",
       "      <td>0.018157</td>\n",
       "    </tr>\n",
       "    <tr>\n",
       "      <th>24</th>\n",
       "      <td>공략</td>\n",
       "      <td>0.018157</td>\n",
       "    </tr>\n",
       "    <tr>\n",
       "      <th>25</th>\n",
       "      <td>기념</td>\n",
       "      <td>0.018157</td>\n",
       "    </tr>\n",
       "    <tr>\n",
       "      <th>26</th>\n",
       "      <td>그대로</td>\n",
       "      <td>0.018157</td>\n",
       "    </tr>\n",
       "    <tr>\n",
       "      <th>27</th>\n",
       "      <td>너무</td>\n",
       "      <td>0.018157</td>\n",
       "    </tr>\n",
       "    <tr>\n",
       "      <th>28</th>\n",
       "      <td>의미</td>\n",
       "      <td>0.018157</td>\n",
       "    </tr>\n",
       "    <tr>\n",
       "      <th>29</th>\n",
       "      <td>과제</td>\n",
       "      <td>0.017428</td>\n",
       "    </tr>\n",
       "    <tr>\n",
       "      <th>30</th>\n",
       "      <td>학교</td>\n",
       "      <td>0.017428</td>\n",
       "    </tr>\n",
       "    <tr>\n",
       "      <th>31</th>\n",
       "      <td>시연</td>\n",
       "      <td>0.017428</td>\n",
       "    </tr>\n",
       "    <tr>\n",
       "      <th>32</th>\n",
       "      <td>시작</td>\n",
       "      <td>0.016812</td>\n",
       "    </tr>\n",
       "    <tr>\n",
       "      <th>33</th>\n",
       "      <td>설레다</td>\n",
       "      <td>0.016812</td>\n",
       "    </tr>\n",
       "    <tr>\n",
       "      <th>34</th>\n",
       "      <td>이제</td>\n",
       "      <td>0.016812</td>\n",
       "    </tr>\n",
       "    <tr>\n",
       "      <th>35</th>\n",
       "      <td>긴장감</td>\n",
       "      <td>0.016812</td>\n",
       "    </tr>\n",
       "    <tr>\n",
       "      <th>36</th>\n",
       "      <td>매니아층</td>\n",
       "      <td>0.015807</td>\n",
       "    </tr>\n",
       "    <tr>\n",
       "      <th>37</th>\n",
       "      <td>구독자</td>\n",
       "      <td>0.015386</td>\n",
       "    </tr>\n",
       "    <tr>\n",
       "      <th>38</th>\n",
       "      <td>지내다</td>\n",
       "      <td>0.015386</td>\n",
       "    </tr>\n",
       "    <tr>\n",
       "      <th>39</th>\n",
       "      <td>진짜</td>\n",
       "      <td>0.015386</td>\n",
       "    </tr>\n",
       "    <tr>\n",
       "      <th>40</th>\n",
       "      <td>부자</td>\n",
       "      <td>0.015386</td>\n",
       "    </tr>\n",
       "    <tr>\n",
       "      <th>41</th>\n",
       "      <td>재미있다</td>\n",
       "      <td>0.000040</td>\n",
       "    </tr>\n",
       "    <tr>\n",
       "      <th>42</th>\n",
       "      <td>수업</td>\n",
       "      <td>0.000040</td>\n",
       "    </tr>\n",
       "    <tr>\n",
       "      <th>43</th>\n",
       "      <td>브이로그</td>\n",
       "      <td>0.000040</td>\n",
       "    </tr>\n",
       "    <tr>\n",
       "      <th>44</th>\n",
       "      <td>먹방</td>\n",
       "      <td>0.000040</td>\n",
       "    </tr>\n",
       "    <tr>\n",
       "      <th>45</th>\n",
       "      <td>촬영</td>\n",
       "      <td>0.000040</td>\n",
       "    </tr>\n",
       "    <tr>\n",
       "      <th>46</th>\n",
       "      <td>자연</td>\n",
       "      <td>0.000040</td>\n",
       "    </tr>\n",
       "    <tr>\n",
       "      <th>47</th>\n",
       "      <td>영상미</td>\n",
       "      <td>0.000040</td>\n",
       "    </tr>\n",
       "    <tr>\n",
       "      <th>48</th>\n",
       "      <td>고양이</td>\n",
       "      <td>0.000040</td>\n",
       "    </tr>\n",
       "    <tr>\n",
       "      <th>49</th>\n",
       "      <td>내용</td>\n",
       "      <td>0.000040</td>\n",
       "    </tr>\n",
       "  </tbody>\n",
       "</table>\n",
       "</div>"
      ],
      "text/plain": [
       "       0         1\n",
       "0     사람  0.068867\n",
       "1    라이브  0.053354\n",
       "2     모습  0.049614\n",
       "3     제작  0.041380\n",
       "4     처음  0.039143\n",
       "5     도움  0.034997\n",
       "6     기록  0.034395\n",
       "7    올리다  0.029388\n",
       "8     노력  0.027962\n",
       "9     기존  0.026288\n",
       "10    편안  0.024590\n",
       "11   전달력  0.024590\n",
       "12    다른  0.021819\n",
       "13    육아  0.021819\n",
       "14    다시  0.021819\n",
       "15   메추리  0.021819\n",
       "16   베이비  0.021819\n",
       "17    인천  0.021819\n",
       "18    동네  0.021819\n",
       "19    밴드  0.020198\n",
       "20    홍보  0.020198\n",
       "21  관심거리  0.019049\n",
       "22    지금  0.018157\n",
       "23    그저  0.018157\n",
       "24    공략  0.018157\n",
       "25    기념  0.018157\n",
       "26   그대로  0.018157\n",
       "27    너무  0.018157\n",
       "28    의미  0.018157\n",
       "29    과제  0.017428\n",
       "30    학교  0.017428\n",
       "31    시연  0.017428\n",
       "32    시작  0.016812\n",
       "33   설레다  0.016812\n",
       "34    이제  0.016812\n",
       "35   긴장감  0.016812\n",
       "36  매니아층  0.015807\n",
       "37   구독자  0.015386\n",
       "38   지내다  0.015386\n",
       "39    진짜  0.015386\n",
       "40    부자  0.015386\n",
       "41  재미있다  0.000040\n",
       "42    수업  0.000040\n",
       "43  브이로그  0.000040\n",
       "44    먹방  0.000040\n",
       "45    촬영  0.000040\n",
       "46    자연  0.000040\n",
       "47   영상미  0.000040\n",
       "48   고양이  0.000040\n",
       "49    내용  0.000040"
      ]
     },
     "execution_count": 31,
     "metadata": {},
     "output_type": "execute_result"
    }
   ],
   "source": [
    "#https://dandyrilla.github.io/2017-08-12/pandas-10min/\n",
    "\n",
    "df_topic_words"
   ]
  },
  {
   "cell_type": "code",
   "execution_count": 32,
   "metadata": {
    "ExecuteTime": {
     "end_time": "2021-03-17T06:11:22.161629Z",
     "start_time": "2021-03-17T06:11:22.149338Z"
    }
   },
   "outputs": [
    {
     "data": {
      "text/html": [
       "<div>\n",
       "<style scoped>\n",
       "    .dataframe tbody tr th:only-of-type {\n",
       "        vertical-align: middle;\n",
       "    }\n",
       "\n",
       "    .dataframe tbody tr th {\n",
       "        vertical-align: top;\n",
       "    }\n",
       "\n",
       "    .dataframe thead th {\n",
       "        text-align: right;\n",
       "    }\n",
       "</style>\n",
       "<table border=\"1\" class=\"dataframe\">\n",
       "  <thead>\n",
       "    <tr style=\"text-align: right;\">\n",
       "      <th></th>\n",
       "      <th>1</th>\n",
       "    </tr>\n",
       "  </thead>\n",
       "  <tbody>\n",
       "    <tr>\n",
       "      <th>count</th>\n",
       "      <td>50.000000</td>\n",
       "    </tr>\n",
       "    <tr>\n",
       "      <th>mean</th>\n",
       "      <td>0.019822</td>\n",
       "    </tr>\n",
       "    <tr>\n",
       "      <th>std</th>\n",
       "      <td>0.014042</td>\n",
       "    </tr>\n",
       "    <tr>\n",
       "      <th>min</th>\n",
       "      <td>0.000040</td>\n",
       "    </tr>\n",
       "    <tr>\n",
       "      <th>25%</th>\n",
       "      <td>0.015491</td>\n",
       "    </tr>\n",
       "    <tr>\n",
       "      <th>50%</th>\n",
       "      <td>0.018157</td>\n",
       "    </tr>\n",
       "    <tr>\n",
       "      <th>75%</th>\n",
       "      <td>0.021819</td>\n",
       "    </tr>\n",
       "    <tr>\n",
       "      <th>max</th>\n",
       "      <td>0.068867</td>\n",
       "    </tr>\n",
       "  </tbody>\n",
       "</table>\n",
       "</div>"
      ],
      "text/plain": [
       "               1\n",
       "count  50.000000\n",
       "mean    0.019822\n",
       "std     0.014042\n",
       "min     0.000040\n",
       "25%     0.015491\n",
       "50%     0.018157\n",
       "75%     0.021819\n",
       "max     0.068867"
      ]
     },
     "execution_count": 32,
     "metadata": {},
     "output_type": "execute_result"
    }
   ],
   "source": [
    "df_topic_words.describe()"
   ]
  },
  {
   "cell_type": "code",
   "execution_count": 33,
   "metadata": {
    "ExecuteTime": {
     "end_time": "2021-03-17T06:11:23.799036Z",
     "start_time": "2021-03-17T06:11:23.792525Z"
    }
   },
   "outputs": [
    {
     "data": {
      "text/plain": [
       "[('사람', 0.06886745244264603),\n",
       " ('라이브', 0.053353872150182724),\n",
       " ('모습', 0.04961421713232994),\n",
       " ('제작', 0.041379958391189575),\n",
       " ('처음', 0.03914317861199379),\n",
       " ('도움', 0.03499670699238777),\n",
       " ('기록', 0.034394871443510056),\n",
       " ('올리다', 0.029387589544057846),\n",
       " ('노력', 0.027961965650320053),\n",
       " ('기존', 0.026288384571671486),\n",
       " ('편안', 0.024589626118540764),\n",
       " ('전달력', 0.024589626118540764),\n",
       " ('다른', 0.02181912399828434),\n",
       " ('육아', 0.02181912399828434),\n",
       " ('다시', 0.02181912399828434),\n",
       " ('메추리', 0.02181912399828434),\n",
       " ('베이비', 0.02181912399828434),\n",
       " ('인천', 0.02181912399828434),\n",
       " ('동네', 0.02181912399828434),\n",
       " ('밴드', 0.020198484882712364),\n",
       " ('홍보', 0.020198484882712364),\n",
       " ('관심거리', 0.019048621878027916),\n",
       " ('지금', 0.01815672032535076),\n",
       " ('그저', 0.01815672032535076),\n",
       " ('공략', 0.01815672032535076),\n",
       " ('기념', 0.01815672032535076),\n",
       " ('그대로', 0.01815672032535076),\n",
       " ('너무', 0.01815672032535076),\n",
       " ('의미', 0.01815672032535076),\n",
       " ('과제', 0.01742798276245594),\n",
       " ('학교', 0.01742798276245594),\n",
       " ('시연', 0.01742798276245594),\n",
       " ('시작', 0.01681184582412243),\n",
       " ('설레다', 0.01681184582412243),\n",
       " ('이제', 0.01681184582412243),\n",
       " ('긴장감', 0.01681184582412243),\n",
       " ('매니아층', 0.015807341784238815),\n",
       " ('구독자', 0.015386217273771763),\n",
       " ('지내다', 0.015386217273771763),\n",
       " ('진짜', 0.015386217273771763),\n",
       " ('부자', 0.015386217273771763),\n",
       " ('재미있다', 3.9975606341613457e-05),\n",
       " ('수업', 3.9971793739823624e-05),\n",
       " ('브이로그', 3.9970840589376166e-05),\n",
       " ('먹방', 3.996988743892871e-05),\n",
       " ('촬영', 3.996988743892871e-05),\n",
       " ('자연', 3.996988743892871e-05),\n",
       " ('영상미', 3.996988743892871e-05),\n",
       " ('고양이', 3.996988743892871e-05),\n",
       " ('내용', 3.996988743892871e-05)]"
      ]
     },
     "execution_count": 33,
     "metadata": {},
     "output_type": "execute_result"
    }
   ],
   "source": [
    "topic_words"
   ]
  },
  {
   "cell_type": "code",
   "execution_count": 34,
   "metadata": {
    "ExecuteTime": {
     "end_time": "2021-03-17T06:11:27.970433Z",
     "start_time": "2021-03-17T06:11:27.967553Z"
    }
   },
   "outputs": [],
   "source": [
    "g.barnes_hut(gravity=-1000, spring_length=20)"
   ]
  },
  {
   "cell_type": "code",
   "execution_count": 35,
   "metadata": {
    "ExecuteTime": {
     "end_time": "2021-03-17T06:11:28.695784Z",
     "start_time": "2021-03-17T06:11:28.532913Z"
    }
   },
   "outputs": [],
   "source": [
    "g.show_buttons()\n",
    "g.show(\"topic_network_210317_1.html\")"
   ]
  },
  {
   "cell_type": "code",
   "execution_count": 36,
   "metadata": {
    "ExecuteTime": {
     "end_time": "2021-03-17T06:12:25.692120Z",
     "start_time": "2021-03-17T06:12:25.257158Z"
    }
   },
   "outputs": [
    {
     "name": "stderr",
     "output_type": "stream",
     "text": [
      "/Users/oridori/git/python/oridori/venv/lib/python3.8/site-packages/sklearn/linear_model/_least_angle.py:30: DeprecationWarning: `np.float` is a deprecated alias for the builtin `float`. To silence this warning, use `float` by itself. Doing this will not modify any behavior and is safe. If you specifically wanted the numpy scalar type, use `np.float64` here.\n",
      "Deprecated in NumPy 1.20; for more details and guidance: https://numpy.org/devdocs/release/1.20.0-notes.html#deprecations\n",
      "  method='lar', copy_X=True, eps=np.finfo(np.float).eps,\n",
      "/Users/oridori/git/python/oridori/venv/lib/python3.8/site-packages/sklearn/linear_model/_least_angle.py:169: DeprecationWarning: `np.float` is a deprecated alias for the builtin `float`. To silence this warning, use `float` by itself. Doing this will not modify any behavior and is safe. If you specifically wanted the numpy scalar type, use `np.float64` here.\n",
      "Deprecated in NumPy 1.20; for more details and guidance: https://numpy.org/devdocs/release/1.20.0-notes.html#deprecations\n",
      "  method='lar', copy_X=True, eps=np.finfo(np.float).eps,\n",
      "/Users/oridori/git/python/oridori/venv/lib/python3.8/site-packages/sklearn/linear_model/_least_angle.py:286: DeprecationWarning: `np.float` is a deprecated alias for the builtin `float`. To silence this warning, use `float` by itself. Doing this will not modify any behavior and is safe. If you specifically wanted the numpy scalar type, use `np.float64` here.\n",
      "Deprecated in NumPy 1.20; for more details and guidance: https://numpy.org/devdocs/release/1.20.0-notes.html#deprecations\n",
      "  eps=np.finfo(np.float).eps, copy_Gram=True, verbose=0,\n",
      "/Users/oridori/git/python/oridori/venv/lib/python3.8/site-packages/sklearn/linear_model/_least_angle.py:858: DeprecationWarning: `np.float` is a deprecated alias for the builtin `float`. To silence this warning, use `float` by itself. Doing this will not modify any behavior and is safe. If you specifically wanted the numpy scalar type, use `np.float64` here.\n",
      "Deprecated in NumPy 1.20; for more details and guidance: https://numpy.org/devdocs/release/1.20.0-notes.html#deprecations\n",
      "  eps=np.finfo(np.float).eps, copy_X=True, fit_path=True):\n",
      "/Users/oridori/git/python/oridori/venv/lib/python3.8/site-packages/sklearn/linear_model/_least_angle.py:1094: DeprecationWarning: `np.float` is a deprecated alias for the builtin `float`. To silence this warning, use `float` by itself. Doing this will not modify any behavior and is safe. If you specifically wanted the numpy scalar type, use `np.float64` here.\n",
      "Deprecated in NumPy 1.20; for more details and guidance: https://numpy.org/devdocs/release/1.20.0-notes.html#deprecations\n",
      "  eps=np.finfo(np.float).eps, copy_X=True, fit_path=True,\n",
      "/Users/oridori/git/python/oridori/venv/lib/python3.8/site-packages/sklearn/linear_model/_least_angle.py:1120: DeprecationWarning: `np.float` is a deprecated alias for the builtin `float`. To silence this warning, use `float` by itself. Doing this will not modify any behavior and is safe. If you specifically wanted the numpy scalar type, use `np.float64` here.\n",
      "Deprecated in NumPy 1.20; for more details and guidance: https://numpy.org/devdocs/release/1.20.0-notes.html#deprecations\n",
      "  eps=np.finfo(np.float).eps, positive=False):\n",
      "/Users/oridori/git/python/oridori/venv/lib/python3.8/site-packages/sklearn/linear_model/_least_angle.py:1349: DeprecationWarning: `np.float` is a deprecated alias for the builtin `float`. To silence this warning, use `float` by itself. Doing this will not modify any behavior and is safe. If you specifically wanted the numpy scalar type, use `np.float64` here.\n",
      "Deprecated in NumPy 1.20; for more details and guidance: https://numpy.org/devdocs/release/1.20.0-notes.html#deprecations\n",
      "  max_n_alphas=1000, n_jobs=None, eps=np.finfo(np.float).eps,\n",
      "/Users/oridori/git/python/oridori/venv/lib/python3.8/site-packages/sklearn/linear_model/_least_angle.py:1590: DeprecationWarning: `np.float` is a deprecated alias for the builtin `float`. To silence this warning, use `float` by itself. Doing this will not modify any behavior and is safe. If you specifically wanted the numpy scalar type, use `np.float64` here.\n",
      "Deprecated in NumPy 1.20; for more details and guidance: https://numpy.org/devdocs/release/1.20.0-notes.html#deprecations\n",
      "  max_n_alphas=1000, n_jobs=None, eps=np.finfo(np.float).eps,\n",
      "/Users/oridori/git/python/oridori/venv/lib/python3.8/site-packages/sklearn/linear_model/_least_angle.py:1723: DeprecationWarning: `np.float` is a deprecated alias for the builtin `float`. To silence this warning, use `float` by itself. Doing this will not modify any behavior and is safe. If you specifically wanted the numpy scalar type, use `np.float64` here.\n",
      "Deprecated in NumPy 1.20; for more details and guidance: https://numpy.org/devdocs/release/1.20.0-notes.html#deprecations\n",
      "  eps=np.finfo(np.float).eps, copy_X=True, positive=False):\n",
      "/Users/oridori/git/python/oridori/venv/lib/python3.8/site-packages/sklearn/decomposition/_lda.py:29: DeprecationWarning: `np.float` is a deprecated alias for the builtin `float`. To silence this warning, use `float` by itself. Doing this will not modify any behavior and is safe. If you specifically wanted the numpy scalar type, use `np.float64` here.\n",
      "Deprecated in NumPy 1.20; for more details and guidance: https://numpy.org/devdocs/release/1.20.0-notes.html#deprecations\n",
      "  EPS = np.finfo(np.float).eps\n"
     ]
    }
   ],
   "source": [
    "import pyLDAvis\n",
    "import pyLDAvis.gensim"
   ]
  },
  {
   "cell_type": "code",
   "execution_count": 37,
   "metadata": {
    "ExecuteTime": {
     "end_time": "2021-03-17T06:12:25.734172Z",
     "start_time": "2021-03-17T06:12:25.731289Z"
    }
   },
   "outputs": [],
   "source": [
    "pyLDAvis.enable_notebook()"
   ]
  },
  {
   "cell_type": "code",
   "execution_count": 38,
   "metadata": {
    "ExecuteTime": {
     "end_time": "2021-03-17T06:12:32.314641Z",
     "start_time": "2021-03-17T06:12:32.311407Z"
    }
   },
   "outputs": [],
   "source": [
    "topic_term_dists = np.stack([mdl.get_topic_word_dist(k) for k in range(mdl.k)])\n",
    "doc_topic_dists = np.stack([doc.get_topic_dist() for doc in mdl.docs])\n",
    "doc_lengths = np.array([len(doc.words) for doc in mdl.docs])"
   ]
  },
  {
   "cell_type": "code",
   "execution_count": 41,
   "metadata": {
    "ExecuteTime": {
     "end_time": "2021-03-17T06:12:34.007418Z",
     "start_time": "2021-03-17T06:12:34.005147Z"
    }
   },
   "outputs": [],
   "source": [
    "vocab = list(mdl.used_vocabs)\n",
    "term_frequency = mdl.used_vocab_freq\n",
    "doc_topic_dists /= doc_topic_dists.sum(axis=1, keepdims= True)"
   ]
  },
  {
   "cell_type": "code",
   "execution_count": 44,
   "metadata": {
    "ExecuteTime": {
     "end_time": "2021-03-17T06:12:37.901201Z",
     "start_time": "2021-03-17T06:12:35.736613Z"
    }
   },
   "outputs": [],
   "source": [
    "prepared_data = pyLDAvis.prepare(\n",
    "    topic_term_dists,\n",
    "    doc_topic_dists,\n",
    "    doc_lengths,\n",
    "    vocab,\n",
    "    term_frequency\n",
    "    \n",
    ")"
   ]
  },
  {
   "cell_type": "code",
   "execution_count": 45,
   "metadata": {
    "ExecuteTime": {
     "end_time": "2021-03-17T06:12:37.978470Z",
     "start_time": "2021-03-17T06:12:37.971201Z"
    }
   },
   "outputs": [
    {
     "data": {
      "text/html": [
       "\n",
       "<link rel=\"stylesheet\" type=\"text/css\" href=\"https://cdn.jsdelivr.net/gh/bmabey/pyLDAvis@3.2.2/pyLDAvis/js/ldavis.v1.0.0.css\">\n",
       "\n",
       "\n",
       "<div id=\"ldavis_el177021405181970088645375420996\"></div>\n",
       "<script type=\"text/javascript\">\n",
       "\n",
       "var ldavis_el177021405181970088645375420996_data = {\"mdsDat\": {\"x\": [0.09459324801435896, 0.06542412495854247, -0.3211214422230044, 0.10502189098569704, 0.10235389089202643, 0.06087137482803627, 0.09194235265246133, -0.31861697732995653, 0.059713758180263116, 0.05981777904157534], \"y\": [0.23121538219137378, 0.024163429531272918, -0.010412025607054086, -0.26785193149049935, -0.2520476246337908, 0.022338503242676628, 0.21859804798791999, -0.009626503899107849, 0.021290597530670162, 0.022332125146538366], \"topics\": [1, 2, 3, 4, 5, 6, 7, 8, 9, 10], \"cluster\": [1, 1, 1, 1, 1, 1, 1, 1, 1, 1], \"Freq\": [13.583990266541477, 12.913084102845762, 12.086494328963823, 11.376253471926844, 9.385779638012828, 9.124491878336379, 8.722164224892504, 8.543189120249895, 7.636278942573761, 6.62827402565673]}, \"tinfo\": {\"Term\": [\"\\ube0c\\uc774\\ub85c\\uadf8\", \"\\uac8c\\uc784\", \"\\uc77c\\uc0c1\", \"\\uc601\\uc0c1\", \"\\uc7ac\\ubbf8\\uc788\\ub2e4\", \"\\uc815\\ubcf4\", \"\\uc5ec\\ud589\", \"\\uc88b\\uc544\\ud558\\ub2e4\", \"\\uc8fc\\uc81c\", \"\\uc2dc\\uccad\\uc790\", \"\\uc18c\\ud1b5\", \"\\ud3b8\\uc9d1\", \"\\uacf5\\uc720\", \"\\uc0ac\\ub78c\", \"\\ud65c\\ub3d9\", \"\\ub9cc\\ub4e4\\ub2e4\", \"\\uc790\\uc720\", \"\\uc990\\uac70\\uc6c0\", \"\\uc74c\\uc545\", \"\\uac15\\uc544\\uc9c0\", \"\\uad50\\uc721\", \"\\ud328\\uc158\", \"\\ucd94\\uc5b5\", \"\\uc6b4\\ub3d9\", \"\\ucf58\\ud150\\uce20\", \"\\uc0dd\\ud65c\", \"\\ub9ce\\uc774\", \"\\uc5c5\\ub85c\\ub4dc\", \"\\uad00\\ub828\", \"\\ub77c\\uc774\\ube0c\", \"\\uc0ac\\ub78c\", \"\\ub77c\\uc774\\ube0c\", \"\\ubaa8\\uc2b5\", \"\\uc81c\\uc791\", \"\\ucc98\\uc74c\", \"\\uae30\\ub85d\", \"\\uc62c\\ub9ac\\ub2e4\", \"\\ub178\\ub825\", \"\\uae30\\uc874\", \"\\uc804\\ub2ec\\ub825\", \"\\ud3b8\\uc548\", \"\\uba54\\ucd94\\ub9ac\", \"\\ub2e4\\ub978\", \"\\ub2e4\\uc2dc\", \"\\uc721\\uc544\", \"\\ubca0\\uc774\\ube44\", \"\\uc778\\ucc9c\", \"\\ub3d9\\ub124\", \"\\ubc34\\ub4dc\", \"\\ud64d\\ubcf4\", \"\\uad00\\uc2ec\\uac70\\ub9ac\", \"\\uadf8\\uc800\", \"\\uadf8\\ub300\\ub85c\", \"\\ub108\\ubb34\", \"\\uc9c0\\uae08\", \"\\uacf5\\ub7b5\", \"\\uc758\\ubbf8\", \"\\uae30\\ub150\", \"\\ud559\\uad50\", \"\\uacfc\\uc81c\", \"\\ub3c4\\uc6c0\", \"\\uc18c\\ud1b5\", \"\\ud3b8\\uc9d1\", \"\\uc790\\uc720\", \"\\uac15\\uc544\\uc9c0\", \"\\ub9ce\\uc774\", \"\\uadc0\\uc5fd\\ub2e4\", \"\\uc2e4\\uc2dc\\uac04\", \"\\ub098\\uc624\\ub2e4\", \"\\uc544\\uc774\", \"\\ubc30\\uacbd\\uc74c\\uc545\", \"\\uc2e0\\uacbd\", \"\\ub208\\uc2f8\\uc6c0\", \"\\uc0b0\\ucc45\", \"\\ud1a0\\ud06c\", \"\\uc601\\ud654\", \"\\ucc44\\ub110\", \"\\uc74c\\uc6d0\", \"\\ucee4\\ubc84\", \"\\ub808\\uace0\\ud504\\ub80c\\uc988\", \"\\uc2e4\\uccb4\", \"\\uc815\\uc131\", \"\\ub4e4\\uc5b4\\uac00\\ub2e4\", \"\\ub3d9\\ud638\\ud68c\", \"\\uacbd\\uc81c\", \"\\ub290\\ub07c\\ub2e4\", \"\\uc9d1\\uc911\", \"\\ucee8\\uc149\", \"\\uc0dd\\uac01\", \"\\ud2b9\\uc815\", \"\\ub77c\\uc774\", \"\\uc88b\\uc544\\ud558\\ub2e4\", \"\\ub9cc\\ub4e4\\ub2e4\", \"\\uac00\\uc7a5\", \"\\ubcf4\\uc774\\ub2e4\", \"\\uc5b4\\ub9ac\\ub2e4\", \"\\uc601\\uc0c1\\ubbf8\", \"\\uc990\\uae30\\ub2e4\", \"\\uc694\\uc18c\", \"\\uad6c\\uc785\", \"\\uc2e4\\ub825\", \"\\uc8fc\\uc2dd\", \"\\ucc28\\ub7c9\", \"\\uc2dc\\uc2b9\", \"\\ubaa8\\ub4e0\", \"\\uc560\\ucc29\", \"\\uc778\\uc0c1\", \"\\uc778\\uae30\", \"\\ub0a8\\uc790\", \"\\uc190\\uc27d\\ub2e4\", \"\\uc811\\ud558\\ub2e4\", \"\\uc870\\uae08\", \"\\uc7ac\\ubbf8\", \"\\ub9e4\\ub044\\ub7fd\\ub2e4\", \"\\ud758\\ub7ec\\uac00\\ub2e4\", \"\\uad6c\\ub3c4\", \"\\ud6c4\\uc6d0\", \"\\ub2e4\\ub8e8\\ub2e4\", \"\\uae30\\uc6b8\\uc774\\ub2e4\", \"\\uc791\\uc5c5\", \"\\uc7a5\\uc18c\", \"\\uc601\\uc0c1\", \"\\uc5ec\\ud589\", \"\\ub0b4\\uc6a9\", \"\\ubd84\\uc57c\", \"\\ub300\\ud558\\ub2e4\", \"\\uac00\\uc871\", \"\\uc9c0\\uc2dd\", \"\\uc804\\ub2ec\", \"\\uc0ac\\ud68c\", \"\\uacbd\\ud5d8\", \"\\ud568\\uaed8\", \"\\ubca0\\uc774\\ud0b9\", \"\\ub3d9\\uae30\", \"\\ub3d9\\ucc3d\", \"\\uc2a4\\ud53c\\ub4dc\", \"\\ud398\\uc778\\ud305\", \"\\uc54c\\ucc28\\ub2e4\", \"\\ube14\\ub85c\\uadf8\", \"\\uc9c0\\uc774\", \"\\uc5b4\\ub974\\uc2e0\", \"\\uc0dd\\uc77c\\ub0a0\", \"\\uc2e4\\ubb34\", \"\\uba4b\\uc9c0\\ub2e4\", \"\\ud48d\\uacbd\", \"\\ubc00\\uc811\", \"\\uc804\\uc790\\uc81c\\ud488\", \"\\uac1c\\ubd09\", \"\\uc790\\ub140\", \"\\uc5ed\\uc0ac\", \"\\ud3c9\\uc18c\", \"\\ub4e4\\uc774\\ub2e4\", \"\\uad00\\uc2ec\", \"\\uc77c\\uc0c1\", \"\\uc815\\ubcf4\", \"\\uacf5\\uc720\", \"\\uc74c\\uc545\", \"\\uc5c5\\ub85c\\ub4dc\", \"\\uc81c\\uacf5\", \"\\ubd80\\ub974\\ub2e4\", \"\\ucfe0\\ub9ac\\ucf54\", \"\\uc5b8\\ub355\", \"\\uc815\\uc5fd\", \"\\uc774\\ubcc4\", \"\\uc5ec\\ub984\", \"\\uac00\\uc9c0\\ub2e4\", \"\\uc138\\uc77c\", \"\\ub531\\ud788\", \"\\uad6c\\ub3c5\\uc790\\uc218\", \"\\uc5bd\\ub9e4\\uc774\\ub2e4\", \"\\uc800\\uc7a5\", \"\\uc18c\\uac1c\", \"\\uc131\\uacf5\", \"\\uc911\\uc694\", \"\\ud589\\ubcf5\", \"\\uc8fc\\uc7a5\", \"\\ubc18\\uacbd\", \"\\ubc94\\uc704\", \"\\uad00\\uc2ec\", \"\\uc8fc\\uc758\", \"\\ubc18\\uc751\", \"\\uc601\\uc0c1\\uae30\\ubc95\", \"\\uc601\\uc0c1\\uad6c\\ub3c4\", \"\\uc0dd\\ud65c\", \"\\uc218\\uc5c5\", \"\\uc9c1\\uc7a5\", \"\\uc990\\uae30\\ub2e4\", \"\\ube0c\\uc774\\ub85c\\uadf8\", \"\\uc8fc\\uc81c\", \"\\uc2dc\\uccad\\uc790\", \"\\uc990\\uac70\\uc6c0\", \"\\ub85c\\ub610\", \"\\uacfc\\uc678\", \"\\ud765\\ubbf8\", \"\\uac1c\\uc778\", \"\\ucc44\\ud305\", \"\\uc2dd\\ubb3c\", \"\\ud0a4\\uc6b0\\ub2e4\", \"\\ud1a0\\ud0b9\", \"\\ud3b8\\ud558\\ub2e4\", \"\\uc720\\uba85\\ud55c\", \"\\uac80\\uc0c9\\uc5b4\", \"\\ud14c\\uc774\\ube14\", \"\\uc218\\uc9d1\", \"\\uad00\\ud558\\ub2e4\", \"\\uae30\\uc5b5\", \"\\uc601\\uc0c1\\uae30\\ubc95\", \"\\uc601\\uc0c1\\uad6c\\ub3c4\", \"\\uac19\\uc774\", \"\\uc804\\ubc18\\uc801\", \"\\uc8fc\\uc758\", \"\\ubc18\\uc751\", \"\\uae30\\uc6b8\\uc774\\ub2e4\", \"\\uc791\\uc5c5\", \"\\uc7a5\\uc18c\", \"\\ud2b9\\uc9d5\", \"\\ub300\\ud559\\uc6d0\", \"\\ub9ce\\uc774\", \"\\ucd94\\uc5b5\", \"\\uac00\\uc871\", \"\\uc88b\\uc544\\ud558\\ub2e4\", \"\\ud3b8\\uc9d1\", \"\\uc601\\uc0c1\", \"\\uc77c\\uc0c1\", \"\\ud65c\\ub3d9\", \"\\uad50\\uc721\", \"\\uc0dd\\ud65c\", \"\\uacf5\\uac10\", \"\\ubc18\\ub824\", \"\\uc9c1\\uc7a5\", \"\\uc704\\ud558\\ub2e4\", \"\\uc81c\\ud488\", \"\\ube44\\uad50\", \"\\ucea0\\ud551\", \"\\uc0dd\\ubc29\\uc1a1\", \"\\ud65c\\uae30\\ucc28\\ub2e4\", \"\\ucc3d\\ub2e8\", \"\\ub808\\uace0\", \"\\ub098\\ub77c\", \"\\ubb38\\ud654\", \"\\uc5b8\\uc5b4\", \"\\ub3d9\\ub8cc\", \"\\uc720\\ud22c\", \"\\uac80\\ud1a0\", \"\\uc18c\\ube44\\uc790\", \"\\ud604\\uba85\", \"\\uc18c\\ube44\", \"\\ub4dc\\ub9ac\\ub2e4\", \"\\ub300\\ud559\\uc6d0\", \"\\ub3c4\\uc6c0\", \"\\uc8fc\\uc758\", \"\\ubc18\\uc751\", \"\\uc601\\uc0c1\\uae30\\ubc95\", \"\\uc601\\uc0c1\\uad6c\\ub3c4\", \"\\uae30\\ub85d\", \"\\ucc98\\uc74c\", \"\\uc601\\uc0c1\", \"\\ube0c\\uc774\\ub85c\\uadf8\", \"\\ud328\\uc158\", \"\\ucd94\\uc5b5\", \"\\uc6b4\\ub3d9\", \"\\uad00\\ub828\", \"\\uba39\\ubc29\", \"\\uace0\\uc591\\uc774\", \"\\uc9c1\\uc811\", \"\\uc218\\uc5c5\", \"\\uac74\\uac15\", \"\\uacf5\\uac10\\ub300\", \"\\uc628\\ub77c\\uc778\", \"\\ud5ec\\uc2a4\\uc7a5\", \"\\uc2a4\\ud0c0\\uc77c\", \"\\uc0c8\\ub86d\\ub2e4\", \"\\uba54\\ub274\", \"\\ub0a8\\uae30\\ub2e4\", \"\\ub3d9\\ubb3c\", \"\\ud574\\uc678\", \"\\ud328\\uc158\\uc1fc\", \"\\ud558\\uc6b8\", \"\\uc2dc\\uac04\", \"\\uc601\\uc0c1\", \"\\uc8fc\\uc758\", \"\\ubc18\\uc751\", \"\\uc601\\uc0c1\\uae30\\ubc95\", \"\\uc601\\uc0c1\\uad6c\\ub3c4\", \"\\uac19\\uc774\", \"\\uc804\\ubc18\\uc801\", \"\\uae30\\uc6b8\\uc774\\ub2e4\", \"\\uc791\\uc5c5\", \"\\ube0c\\uc774\\ub85c\\uadf8\", \"\\uc77c\\uc0c1\", \"\\uac8c\\uc784\", \"\\ud3b8\\uc9d1\", \"\\uc7ac\\ubbf8\\uc788\\ub2e4\", \"\\uc88b\\uc544\\ud558\\ub2e4\", \"\\ub9cc\\ub4e4\\ub2e4\", \"\\uc0ac\\ub78c\", \"\\uac8c\\uc784\", \"\\ucde8\\ubbf8\", \"\\ubc29\\uc1a1\", \"\\ub9ac\\ubdf0\", \"\\uc0ac\\uc6a9\", \"\\uc544\\uc9c1\", \"\\ucd5c\\ub300\\ud55c\", \"\\ud798\\ub4e4\\ub2e4\", \"\\uc2e0\\uaddc\", \"\\uace8\\ud504\", \"\\uc5f0\\uc2b5\", \"\\ubc29\\ubc95\", \"\\uc81c\\uc77c\", \"\\ud589\\ubcf5\\uac10\", \"\\ubc14\\ud0d5\", \"\\uc7ac\\uac74\\ucd95\", \"\\ud604\\uc7a5\", \"\\ub9c8\\uc9c0\\ub9c9\", \"\\ucca0\\uac70\", \"\\uc774\\ub8e8\\uc5b4\\uc9c0\\ub2e4\", \"\\ub9c8\\uc74c\", \"\\uc544\\ud504\\ub2e4\", \"\\ud2b9\\uc9d5\", \"\\uc8fc\\uc758\", \"\\ubc18\\uc751\", \"\\uc601\\uc0c1\\uae30\\ubc95\", \"\\uc601\\uc0c1\\uad6c\\ub3c4\", \"\\uac19\\uc774\", \"\\uc804\\ubc18\\uc801\", \"\\uae30\\uc6b8\\uc774\\ub2e4\", \"\\uc601\\uc0c1\", \"\\uc9c1\\uc7a5\", \"\\uc990\\uae30\\ub2e4\", \"\\uac00\\uc871\", \"\\ube0c\\uc774\\ub85c\\uadf8\", \"\\uc77c\\uc0c1\", \"\\ud3b8\\uc9d1\", \"\\uc7ac\\ubbf8\\uc788\\ub2e4\", \"\\ucf58\\ud150\\uce20\", \"\\uc790\\uc5f0\", \"\\uc5f0\\uc8fc\", \"\\ucd2c\\uc601\", \"\\ub178\\ub798\", \"\\uc694\\ub9ac\", \"\\ub2e4\\uc774\\uc5b4\\ud2b8\", \"\\ud658\\uacbd\", \"\\uaca8\\uc6b8\\uc655\\uad6d\", \"\\uc7a5\\ub09c\\uac10\", \"\\uc5b8\\ubc15\\uc2f1\", \"\\uc544\\uae30\", \"\\uc74c\\uc2dd\", \"\\ub2e4\\uc591\", \"\\uc811\\uadfc\\uc131\", \"\\uc6a9\\uc774\", \"\\ub9ac\\uc561\\uc158\", \"\\ud50c\\ub808\\uc774\", \"\\uc8fc\\uc758\", \"\\ubc18\\uc751\", \"\\uc601\\uc0c1\\uae30\\ubc95\", \"\\uc601\\uc0c1\\uad6c\\ub3c4\", \"\\uac19\\uc774\", \"\\uc804\\ubc18\\uc801\", \"\\uae30\\uc6b8\\uc774\\ub2e4\", \"\\uc791\\uc5c5\", \"\\uc7a5\\uc18c\", \"\\ud2b9\\uc9d5\", \"\\ub300\\ud559\\uc6d0\", \"\\uc601\\uc0c1\", \"\\ube0c\\uc774\\ub85c\\uadf8\", \"\\ud3b8\\uc9d1\", \"\\uc77c\\uc0c1\", \"\\uac8c\\uc784\", \"\\uc88b\\uc544\\ud558\\ub2e4\", \"\\ub9cc\\ub4e4\\ub2e4\", \"\\uc0ac\\ub78c\", \"\\uc815\\ubcf4\", \"\\uc8fc\\uc81c\", \"\\uc5ec\\ud589\"], \"Freq\": [7.0, 5.0, 5.0, 8.0, 4.0, 4.0, 4.0, 4.0, 4.0, 3.0, 4.0, 4.0, 3.0, 4.0, 3.0, 4.0, 4.0, 3.0, 3.0, 3.0, 3.0, 3.0, 3.0, 3.0, 2.0, 2.0, 3.0, 2.0, 2.0, 3.0, 4.3500508393426065, 3.370126933653755, 3.1339095497914684, 2.613788028262951, 2.4725005926050314, 2.1725711360751663, 1.8562833969914896, 1.7662330728459044, 1.6605203955554797, 1.5532173754381622, 1.5532173754381622, 1.3782170720124056, 1.3782170720124056, 1.3782170720124056, 1.3782170720124056, 1.3782170720124056, 1.3782170720124056, 1.3782170720124056, 1.2758485031904852, 1.2758485031904852, 1.2032167685866488, 1.1468793122089005, 1.1468793122089005, 1.1468793122089005, 1.1468793122089005, 1.1468793122089005, 1.1468793122089005, 1.1468793122089005, 1.1008481997647286, 1.1008481997647286, 2.210586412402137, 4.436610073514302, 4.278468339536327, 4.054022294600173, 3.962557088727456, 3.399001538241255, 3.1419196101670326, 2.7863556014083533, 2.234129186648194, 1.9825609487532752, 1.686915624211382, 1.686915624211382, 1.577906889180179, 1.4001248848008392, 1.4001248848008392, 1.4001248848008392, 1.4001248848008392, 1.4001248848008392, 1.4001248848008392, 1.4001248848008392, 1.4001248848008392, 1.2961291139370785, 1.2961291139370785, 1.2223428804214995, 1.1651097966060568, 1.1651097966060568, 1.1651097966060568, 1.0445608760421599, 1.0445608760421599, 1.0143511150057887, 0.9405649933343044, 4.560357595414334, 3.998239416093188, 3.082069656437355, 3.0506060259020464, 2.5868944453007554, 2.36657261168412, 2.3379474035337724, 2.039465002371268, 1.6714482666556496, 1.4831269916709682, 1.4831269916709682, 1.3729660748626504, 1.3729660748626504, 1.3729660748626504, 1.3729660748626504, 1.294805716686287, 1.294805716686287, 1.2341797405344797, 1.2341797405344797, 1.184644799877969, 1.184644799877969, 1.184644799877969, 1.184644799877969, 1.184644799877969, 1.184644799877969, 0.996323420208535, 0.9745766284197076, 0.8714730342152899, 0.8714730342152899, 0.8714730342152899, 4.64183248223098, 4.546958135107455, 2.94441291969155, 2.7005881233019133, 2.6632115459360124, 2.093845067033385, 1.9215352321439239, 1.9215352321439239, 1.820740555820925, 1.820740555820925, 1.74922559432075, 1.529337060375921, 1.3570273240196036, 1.3570273240196036, 1.3570273240196036, 1.3570273240196036, 1.3570273240196036, 1.3570273240196036, 1.2562326476966048, 1.12924638380469, 1.12924638380469, 1.083923009873431, 1.083923009873431, 1.083923009873431, 1.083923009873431, 1.083923009873431, 1.083923009873431, 1.0124079498401122, 1.0124079498401122, 1.0124079498401122, 1.0124079498401122, 2.4145282773012124, 5.540361518297833, 4.283779684182922, 3.658206556463186, 3.42786854474995, 2.8938723660640373, 1.4018305701577505, 1.2977080707666764, 1.1665292111121839, 1.1665292111121839, 1.1665292111121839, 1.1665292111121839, 1.1665292111121839, 1.1665292111121839, 1.1665292111121839, 1.1197094529287759, 1.1197094529287759, 1.1197094529287759, 1.1197094529287759, 1.1197094529287759, 0.9885305119812304, 0.9885305119812304, 0.9885305119812304, 0.9885305119812304, 0.9885305119812304, 0.9885305119812304, 0.8105318941433298, 0.002567977038335396, 0.002567977038335396, 0.002567977038335396, 0.002567977038335396, 0.00256809945424092, 0.00256809945424092, 0.00256809945424092, 0.00256809945424092, 7.596133512989215, 3.992263286310683, 3.881923235311189, 3.423295617066497, 1.664134995958297, 1.4766376778793364, 1.4766376778793364, 1.4766376778793364, 1.3669587915338715, 1.3669587915338715, 1.3669587915338715, 1.3669587915338715, 1.3669587915338715, 1.2891404388303371, 1.2891404388303371, 0.9703124750107902, 0.9703124750107902, 0.9703124750107902, 0.9703124750107902, 0.8676599844411298, 0.8676599844411298, 0.8676599844411298, 0.8676599844411298, 0.002705014353037472, 0.002705014353037472, 0.002705014353037472, 0.002705014353037472, 0.002705014353037472, 0.002705014353037472, 0.002705014353037472, 0.0027052724352539807, 0.0027051433941457266, 0.0027051433941457266, 0.00270511097951327, 0.0027050788735915993, 0.002705014353037472, 0.002705014353037472, 3.4932778351277127, 3.2890722938106567, 2.9422502565994626, 2.4832948485591526, 2.3254911827345004, 1.9175743173257607, 1.866772684694002, 1.7597705004105473, 1.7597705004105473, 1.4005895574821492, 1.2427857405669356, 1.2427857405669356, 1.2427857405669356, 1.2427857405669356, 1.2427857405669356, 1.1504764334433424, 1.1504764334433424, 1.0849819991970027, 1.0341805176558052, 0.9271782578270699, 0.9271782578270699, 0.9271782578270699, 0.9271782578270699, 0.9271782578270699, 0.8763767007405917, 0.6115706617692832, 0.002276626967842251, 0.002276626967842251, 0.002276626967842251, 0.002276626967842251, 0.0022767355641830447, 0.002276681266012648, 0.002276626967842251, 0.002276626967842251, 3.1723082788577304, 3.0739850386700285, 3.0739844467090403, 2.7547395899541356, 2.258920318011289, 2.258920318011289, 2.099297889633837, 1.9396754612563845, 1.416732092877224, 1.416732092877224, 1.2571095165095247, 1.2571095165095247, 1.2571095165095247, 1.163736328097765, 1.163736328097765, 1.163736328097765, 1.163736328097765, 1.0041137517300656, 1.0041137517300656, 0.9378644377692493, 0.9378644377692493, 3.3722886835169867, 0.002302866261178485, 0.002302866261178485, 0.002302866261178485, 0.002302866261178485, 0.002302866261178485, 0.002302866261178485, 0.002302866261178485, 0.002302866261178485, 0.002302866261178485, 0.002302866261178485, 0.002302866261178485, 0.002302866261178485, 0.002302866261178485, 0.002302866261178485, 0.002302866261178485, 0.002302866261178485, 5.907997982586775, 2.5077144173001065, 2.4986971402976286, 2.08115718709292, 2.08115718709292, 1.4698668147223508, 1.3042576863308584, 1.3042576863308584, 1.2073824106078253, 1.138648425659161, 1.138648425659161, 1.138648425659161, 1.138648425659161, 1.0417732822163328, 1.0417732822163328, 1.0049431000479632, 1.0049431000479632, 1.0049431000479632, 1.0049431000479632, 1.0049431000479632, 1.0049431000479632, 1.0049431000479632, 0.8761640215446354, 0.0023892357585885925, 0.0023892357585885925, 0.0023892357585885925, 0.0023892357585885925, 0.0023892357585885925, 0.0023892357585885925, 0.0023892357585885925, 0.002390375125196554, 0.0023893496952493887, 0.0023893496952493887, 0.0023893496952493887, 0.0023892357585885925, 0.0023892357585885925, 0.0023892357585885925, 4.1082450588556165, 2.7506897639876473, 2.027488669072166, 2.027488669072166, 1.9635053560640143, 1.9373094151415449, 1.823696993597577, 1.2141085498639415, 1.2141085498639415, 1.2141085498639415, 1.2141085498639415, 1.2141085498639415, 1.12392929593332, 1.12392929593332, 1.059946097744107, 1.059946097744107, 1.059946097744107, 1.059946097744107, 1.059946097744107, 0.0022240939778574507, 0.0022240939778574507, 0.0022240939778574507, 0.0022240939778574507, 0.0022240939778574507, 0.0022240939778574507, 0.0022240939778574507, 0.0022240939778574507, 0.0022240939778574507, 0.0022240939778574507, 0.0022240939778574507, 0.00222504841028751, 0.002224146902212125, 0.002224146902212125, 0.0022240939778574507, 0.0022240939778574507, 0.0022240939778574507, 0.0022240939778574507, 0.0022240939778574507, 0.0022240939778574507, 0.0022240939778574507, 0.0022240939778574507], \"Total\": [7.0, 5.0, 5.0, 8.0, 4.0, 4.0, 4.0, 4.0, 4.0, 3.0, 4.0, 4.0, 3.0, 4.0, 3.0, 4.0, 4.0, 3.0, 3.0, 3.0, 3.0, 3.0, 3.0, 3.0, 2.0, 2.0, 3.0, 2.0, 2.0, 3.0, 4.3722843112210965, 3.3923604055322443, 3.1561430216699575, 2.63602150014144, 2.494734118781691, 2.194804716549996, 1.8785168688699783, 1.788466544724393, 1.6827538674339684, 1.5754508473166509, 1.5754508473166509, 1.4004505438908943, 1.4004505438908943, 1.4004505438908943, 1.4004505438908943, 1.4004505438908943, 1.4004505438908943, 1.4004505438908943, 1.2980819750689738, 1.2980819750689738, 1.2254502404651375, 1.1691127840873892, 1.1691127840873892, 1.1691127840873892, 1.1691127840873892, 1.1691127840873892, 1.1691127840873892, 1.1691127840873892, 1.1230816716432173, 1.1230816716432173, 2.8421139190820672, 4.458803413038892, 4.300661861320409, 4.076215634124763, 3.9847504282520454, 3.421195135848061, 3.164112949691622, 2.8085489409329427, 2.2563225261727835, 2.004754288277864, 1.709108963735971, 1.709108963735971, 1.600100228704768, 1.4223182243254282, 1.4223182243254282, 1.4223182243254282, 1.4223182243254282, 1.4223182243254282, 1.4223182243254282, 1.4223182243254282, 1.4223182243254282, 1.3183224534616675, 1.3183224534616675, 1.2445362199460885, 1.1873031361306459, 1.1873031361306459, 1.1873031361306459, 1.0667542155667489, 1.0667542155667489, 1.0365444545303777, 0.9627583328588935, 4.582398982244911, 4.020280706297289, 3.104110946641456, 3.0726473161061474, 2.6089357355048564, 2.388613901888221, 2.3599889300904393, 2.061506292575369, 1.6934895568597503, 1.505168281875069, 1.505168281875069, 1.3950073650667512, 1.3950073650667512, 1.3950073650667512, 1.3950073650667512, 1.3168470068903877, 1.3168470068903877, 1.2562210307385804, 1.2562210307385804, 1.2066860900820697, 1.2066860900820697, 1.2066860900820697, 1.2066860900820697, 1.2066860900820697, 1.2066860900820697, 1.0183647104126357, 0.9966179186238083, 0.8935143244193906, 0.8935143244193906, 0.8935143244193906, 8.03386168348993, 4.5692304238354655, 2.9666852084195603, 2.722860412029924, 2.685483834664023, 2.116117843484548, 1.9438075208719336, 1.9438075208719336, 1.8430128445489349, 1.8430128445489349, 1.7714978830487598, 1.551609349103931, 1.3792996127476134, 1.3792996127476134, 1.3792996127476134, 1.3792996127476134, 1.3792996127476134, 1.3792996127476134, 1.2785049364246146, 1.1515186725326998, 1.1515186725326998, 1.1061952986014407, 1.1061952986014407, 1.1061952986014407, 1.1061952986014407, 1.1061952986014407, 1.1061952986014407, 1.034680238568122, 1.034680238568122, 1.034680238568122, 1.034680238568122, 3.244764483134217, 5.56255173325228, 4.305969899137369, 3.6803967714176338, 3.450058759704398, 2.916062581018485, 1.424020785112198, 1.3198982857211239, 1.1887194260666314, 1.1887194260666314, 1.1887194260666314, 1.1887194260666314, 1.1887194260666314, 1.1887194260666314, 1.1887194260666314, 1.1418996678832234, 1.1418996678832234, 1.1418996678832234, 1.1418996678832234, 1.1418996678832234, 1.010720726935678, 1.010720726935678, 1.010720726935678, 1.010720726935678, 1.010720726935678, 1.010720726935678, 3.244764483134217, 0.84489501269634, 0.84489501269634, 0.8897131620808751, 0.8897131620808751, 2.964731944040309, 1.962131029816448, 1.9400561187032677, 2.3599889300904393, 7.618186865046932, 4.014316463950428, 3.903976412950935, 3.4453487947062427, 1.6861881735980424, 1.4986908555190819, 1.4986908555190819, 1.4986908555190819, 1.389011969173617, 1.389011969173617, 1.389011969173617, 1.389011969173617, 1.389011969173617, 1.3111936164700826, 1.3111936164700826, 0.9923656526505356, 0.9923656526505356, 0.9923656526505356, 0.9923656526505356, 0.8897131620808751, 0.8897131620808751, 0.8897131620808751, 0.8897131620808751, 0.84489501269634, 0.84489501269634, 0.8935143244193906, 0.8935143244193906, 0.8935143244193906, 0.8985329777788296, 0.8988582657655323, 3.421195135848061, 3.096440493442741, 2.116117843484548, 4.582398982244911, 4.300661861320409, 8.03386168348993, 5.56255173325228, 3.5157594001526533, 3.3115538588355973, 2.964731944040309, 2.505776413584093, 2.347972747759441, 1.9400561187032677, 1.8892542497189428, 1.782252065435488, 1.782252065435488, 1.42307112250709, 1.2652673055918764, 1.2652673055918764, 1.2652673055918764, 1.2652673055918764, 1.2652673055918764, 1.1729579984682832, 1.1729579984682832, 1.1074635642219435, 1.056662082680746, 0.9496598228520104, 0.9496598228520104, 0.9496598228520104, 0.9496598228520104, 0.9496598228520104, 0.8988582657655323, 2.8421139190820672, 0.84489501269634, 0.84489501269634, 0.8897131620808751, 0.8897131620808751, 2.194804716549996, 2.494734118781691, 8.03386168348993, 7.618186865046932, 3.1947636045893346, 3.096440493442741, 3.0964400095360216, 2.77719491568574, 2.2813756437428934, 2.2813756437428934, 2.121753215365441, 1.962131029816448, 1.4391874186088285, 1.4391874186088285, 1.2795648422411292, 1.2795648422411292, 1.2795648422411292, 1.1861916538293695, 1.1861916538293695, 1.1861916538293695, 1.1861916538293695, 1.02656907746167, 1.02656907746167, 0.9603197635008537, 0.9603197635008537, 8.03386168348993, 0.84489501269634, 0.84489501269634, 0.8897131620808751, 0.8897131620808751, 0.8897131620808751, 0.8897131620808751, 0.8935143244193906, 0.8935143244193906, 7.618186865046932, 5.56255173325228, 5.93036693882097, 4.300661861320409, 4.130779518108203, 4.582398982244911, 4.020280706297289, 4.3722843112210965, 5.93036693882097, 2.5300833735343007, 2.521066096531823, 2.103526143327114, 2.103526143327114, 1.492235770956545, 1.3266266425650526, 1.3266266425650526, 1.2297513668420195, 1.1610173818933551, 1.1610173818933551, 1.1610173818933551, 1.1610173818933551, 1.064142238450527, 1.064142238450527, 1.0273120562821574, 1.0273120562821574, 1.0273120562821574, 1.0273120562821574, 1.0273120562821574, 1.0273120562821574, 1.0273120562821574, 0.8985329777788296, 0.84489501269634, 0.84489501269634, 0.8897131620808751, 0.8897131620808751, 0.8897131620808751, 0.8897131620808751, 0.8935143244193906, 8.03386168348993, 1.9400561187032677, 2.3599889300904393, 2.116117843484548, 7.618186865046932, 5.56255173325228, 4.300661861320409, 4.130779518108203, 2.7732238620025726, 2.0500227670870914, 2.0500227670870914, 1.9860394540789397, 1.9598435131564702, 1.8462310916125024, 1.2366426478788668, 1.2366426478788668, 1.2366426478788668, 1.2366426478788668, 1.2366426478788668, 1.1464633939482454, 1.1464633939482454, 1.0824801957590324, 1.0824801957590324, 1.0824801957590324, 1.0824801957590324, 1.0824801957590324, 0.84489501269634, 0.84489501269634, 0.8897131620808751, 0.8897131620808751, 0.8897131620808751, 0.8897131620808751, 0.8935143244193906, 0.8935143244193906, 0.8935143244193906, 0.8985329777788296, 0.8988582657655323, 8.03386168348993, 7.618186865046932, 4.300661861320409, 5.56255173325228, 5.93036693882097, 4.582398982244911, 4.020280706297289, 4.3722843112210965, 4.305969899137369, 4.014316463950428, 4.5692304238354655], \"Category\": [\"Default\", \"Default\", \"Default\", \"Default\", \"Default\", \"Default\", \"Default\", \"Default\", \"Default\", \"Default\", \"Default\", \"Default\", \"Default\", \"Default\", \"Default\", \"Default\", \"Default\", \"Default\", \"Default\", \"Default\", \"Default\", \"Default\", \"Default\", \"Default\", \"Default\", \"Default\", \"Default\", \"Default\", \"Default\", \"Default\", \"Topic1\", \"Topic1\", \"Topic1\", \"Topic1\", \"Topic1\", \"Topic1\", \"Topic1\", \"Topic1\", \"Topic1\", \"Topic1\", \"Topic1\", \"Topic1\", \"Topic1\", \"Topic1\", \"Topic1\", \"Topic1\", \"Topic1\", \"Topic1\", \"Topic1\", \"Topic1\", \"Topic1\", \"Topic1\", \"Topic1\", \"Topic1\", \"Topic1\", \"Topic1\", \"Topic1\", \"Topic1\", \"Topic1\", \"Topic1\", \"Topic1\", \"Topic2\", \"Topic2\", \"Topic2\", \"Topic2\", \"Topic2\", \"Topic2\", \"Topic2\", \"Topic2\", \"Topic2\", \"Topic2\", \"Topic2\", \"Topic2\", \"Topic2\", \"Topic2\", \"Topic2\", \"Topic2\", \"Topic2\", \"Topic2\", \"Topic2\", \"Topic2\", \"Topic2\", \"Topic2\", \"Topic2\", \"Topic2\", \"Topic2\", \"Topic2\", \"Topic2\", \"Topic2\", \"Topic2\", \"Topic2\", \"Topic3\", \"Topic3\", \"Topic3\", \"Topic3\", \"Topic3\", \"Topic3\", \"Topic3\", \"Topic3\", \"Topic3\", \"Topic3\", \"Topic3\", \"Topic3\", \"Topic3\", \"Topic3\", \"Topic3\", \"Topic3\", \"Topic3\", \"Topic3\", \"Topic3\", \"Topic3\", \"Topic3\", \"Topic3\", \"Topic3\", \"Topic3\", \"Topic3\", \"Topic3\", \"Topic3\", \"Topic3\", \"Topic3\", \"Topic3\", \"Topic3\", \"Topic4\", \"Topic4\", \"Topic4\", \"Topic4\", \"Topic4\", \"Topic4\", \"Topic4\", \"Topic4\", \"Topic4\", \"Topic4\", \"Topic4\", \"Topic4\", \"Topic4\", \"Topic4\", \"Topic4\", \"Topic4\", \"Topic4\", \"Topic4\", \"Topic4\", \"Topic4\", \"Topic4\", \"Topic4\", \"Topic4\", \"Topic4\", \"Topic4\", \"Topic4\", \"Topic4\", \"Topic4\", \"Topic4\", \"Topic4\", \"Topic4\", \"Topic5\", \"Topic5\", \"Topic5\", \"Topic5\", \"Topic5\", \"Topic5\", \"Topic5\", \"Topic5\", \"Topic5\", \"Topic5\", \"Topic5\", \"Topic5\", \"Topic5\", \"Topic5\", \"Topic5\", \"Topic5\", \"Topic5\", \"Topic5\", \"Topic5\", \"Topic5\", \"Topic5\", \"Topic5\", \"Topic5\", \"Topic5\", \"Topic5\", \"Topic5\", \"Topic5\", \"Topic5\", \"Topic5\", \"Topic5\", \"Topic5\", \"Topic5\", \"Topic5\", \"Topic5\", \"Topic6\", \"Topic6\", \"Topic6\", \"Topic6\", \"Topic6\", \"Topic6\", \"Topic6\", \"Topic6\", \"Topic6\", \"Topic6\", \"Topic6\", \"Topic6\", \"Topic6\", \"Topic6\", \"Topic6\", \"Topic6\", \"Topic6\", \"Topic6\", \"Topic6\", \"Topic6\", \"Topic6\", \"Topic6\", \"Topic6\", \"Topic6\", \"Topic6\", \"Topic6\", \"Topic6\", \"Topic6\", \"Topic6\", \"Topic6\", \"Topic6\", \"Topic6\", \"Topic6\", \"Topic6\", \"Topic6\", \"Topic6\", \"Topic6\", \"Topic7\", \"Topic7\", \"Topic7\", \"Topic7\", \"Topic7\", \"Topic7\", \"Topic7\", \"Topic7\", \"Topic7\", \"Topic7\", \"Topic7\", \"Topic7\", \"Topic7\", \"Topic7\", \"Topic7\", \"Topic7\", \"Topic7\", \"Topic7\", \"Topic7\", \"Topic7\", \"Topic7\", \"Topic7\", \"Topic7\", \"Topic7\", \"Topic7\", \"Topic7\", \"Topic7\", \"Topic7\", \"Topic7\", \"Topic7\", \"Topic7\", \"Topic7\", \"Topic7\", \"Topic7\", \"Topic8\", \"Topic8\", \"Topic8\", \"Topic8\", \"Topic8\", \"Topic8\", \"Topic8\", \"Topic8\", \"Topic8\", \"Topic8\", \"Topic8\", \"Topic8\", \"Topic8\", \"Topic8\", \"Topic8\", \"Topic8\", \"Topic8\", \"Topic8\", \"Topic8\", \"Topic8\", \"Topic8\", \"Topic8\", \"Topic8\", \"Topic8\", \"Topic8\", \"Topic8\", \"Topic8\", \"Topic8\", \"Topic8\", \"Topic8\", \"Topic8\", \"Topic8\", \"Topic8\", \"Topic8\", \"Topic8\", \"Topic8\", \"Topic8\", \"Topic8\", \"Topic9\", \"Topic9\", \"Topic9\", \"Topic9\", \"Topic9\", \"Topic9\", \"Topic9\", \"Topic9\", \"Topic9\", \"Topic9\", \"Topic9\", \"Topic9\", \"Topic9\", \"Topic9\", \"Topic9\", \"Topic9\", \"Topic9\", \"Topic9\", \"Topic9\", \"Topic9\", \"Topic9\", \"Topic9\", \"Topic9\", \"Topic9\", \"Topic9\", \"Topic9\", \"Topic9\", \"Topic9\", \"Topic9\", \"Topic9\", \"Topic9\", \"Topic9\", \"Topic9\", \"Topic9\", \"Topic9\", \"Topic9\", \"Topic9\", \"Topic10\", \"Topic10\", \"Topic10\", \"Topic10\", \"Topic10\", \"Topic10\", \"Topic10\", \"Topic10\", \"Topic10\", \"Topic10\", \"Topic10\", \"Topic10\", \"Topic10\", \"Topic10\", \"Topic10\", \"Topic10\", \"Topic10\", \"Topic10\", \"Topic10\", \"Topic10\", \"Topic10\", \"Topic10\", \"Topic10\", \"Topic10\", \"Topic10\", \"Topic10\", \"Topic10\", \"Topic10\", \"Topic10\", \"Topic10\", \"Topic10\", \"Topic10\", \"Topic10\", \"Topic10\", \"Topic10\", \"Topic10\", \"Topic10\", \"Topic10\", \"Topic10\", \"Topic10\", \"Topic10\"], \"logprob\": [30.0, 29.0, 28.0, 27.0, 26.0, 25.0, 24.0, 23.0, 22.0, 21.0, 20.0, 19.0, 18.0, 17.0, 16.0, 15.0, 14.0, 13.0, 12.0, 11.0, 10.0, 9.0, 8.0, 7.0, 6.0, 5.0, 4.0, 3.0, 2.0, 1.0, -2.6756, -2.9308, -3.0035, -3.185, -3.2405, -3.3698, -3.5272, -3.5769, -3.6386, -3.7054, -3.7054, -3.825, -3.825, -3.825, -3.825, -3.825, -3.825, -3.825, -3.9021, -3.9021, -3.9608, -4.0087, -4.0087, -4.0087, -4.0087, -4.0087, -4.0087, -4.0087, -4.0497, -4.0497, -3.3525, -2.6052, -2.6415, -2.6954, -2.7182, -2.8716, -2.9503, -3.0704, -3.2913, -3.4107, -3.5722, -3.5722, -3.639, -3.7585, -3.7585, -3.7585, -3.7585, -3.7585, -3.7585, -3.7585, -3.7585, -3.8357, -3.8357, -3.8943, -3.9423, -3.9423, -3.9423, -4.0515, -4.0515, -4.0809, -4.1564, -2.5116, -2.6431, -2.9034, -2.9136, -3.0785, -3.1675, -3.1797, -3.3163, -3.5153, -3.6348, -3.6348, -3.712, -3.712, -3.712, -3.712, -3.7706, -3.7706, -3.8185, -3.8185, -3.8595, -3.8595, -3.8595, -3.8595, -3.8595, -3.8595, -4.0326, -4.0547, -4.1665, -4.1665, -4.1665, -2.4938, -2.4539, -2.8885, -2.9749, -2.9889, -3.2294, -3.3153, -3.3153, -3.3692, -3.3692, -3.4092, -3.5436, -3.6631, -3.6631, -3.6631, -3.6631, -3.6631, -3.6631, -3.7403, -3.8468, -3.8468, -3.8878, -3.8878, -3.8878, -3.8878, -3.8878, -3.8878, -3.9561, -3.9561, -3.9561, -3.9561, -3.0869, -2.064, -2.3212, -2.4791, -2.5441, -2.7135, -3.4383, -3.5155, -3.622, -3.622, -3.622, -3.622, -3.622, -3.622, -3.622, -3.663, -3.663, -3.663, -3.663, -3.663, -3.7876, -3.7876, -3.7876, -3.7876, -3.7876, -3.7876, -3.9861, -9.7407, -9.7407, -9.7407, -9.7407, -9.7407, -9.7407, -9.7407, -9.7407, -1.7202, -2.3635, -2.3915, -2.5172, -3.2385, -3.3581, -3.3581, -3.3581, -3.4352, -3.4352, -3.4352, -3.4352, -3.4352, -3.4939, -3.4939, -3.778, -3.778, -3.778, -3.778, -3.8898, -3.8898, -3.8898, -3.8898, -9.6605, -9.6605, -9.6605, -9.6605, -9.6605, -9.6605, -9.6605, -9.6604, -9.6604, -9.6604, -9.6604, -9.6605, -9.6605, -9.6605, -2.4519, -2.5121, -2.6236, -2.7931, -2.8588, -3.0517, -3.0785, -3.1376, -3.1376, -3.3658, -3.4854, -3.4854, -3.4854, -3.4854, -3.4854, -3.5626, -3.5626, -3.6212, -3.6691, -3.7783, -3.7783, -3.7783, -3.7783, -3.7783, -3.8347, -4.1945, -9.7878, -9.7878, -9.7878, -9.7878, -9.7877, -9.7878, -9.7878, -9.7878, -2.5275, -2.559, -2.559, -2.6687, -2.8671, -2.8671, -2.9404, -3.0195, -3.3336, -3.3336, -3.4532, -3.4532, -3.4532, -3.5304, -3.5304, -3.5304, -3.5304, -3.6779, -3.6779, -3.7462, -3.7462, -2.4664, -9.7556, -9.7556, -9.7556, -9.7556, -9.7556, -9.7556, -9.7556, -9.7556, -9.7556, -9.7556, -9.7556, -9.7556, -9.7556, -9.7556, -9.7556, -9.7556, -1.7935, -2.6504, -2.654, -2.8369, -2.8369, -3.1846, -3.3041, -3.3041, -3.3813, -3.4399, -3.4399, -3.4399, -3.4399, -3.5289, -3.5289, -3.5648, -3.5648, -3.5648, -3.5648, -3.5648, -3.5648, -3.5648, -3.702, -9.6066, -9.6066, -9.6066, -9.6066, -9.6066, -9.6066, -9.6066, -9.6061, -9.6065, -9.6065, -9.6065, -9.6066, -9.6066, -9.6066, -2.0152, -2.4164, -2.7214, -2.7214, -2.7535, -2.7669, -2.8273, -3.2342, -3.2342, -3.2342, -3.2342, -3.2342, -3.3114, -3.3114, -3.37, -3.37, -3.37, -3.37, -3.37, -9.5366, -9.5366, -9.5366, -9.5366, -9.5366, -9.5366, -9.5366, -9.5366, -9.5366, -9.5366, -9.5366, -9.5362, -9.5366, -9.5366, -9.5366, -9.5366, -9.5366, -9.5366, -9.5366, -9.5366, -9.5366, -9.5366], \"loglift\": [30.0, 29.0, 28.0, 27.0, 26.0, 25.0, 24.0, 23.0, 22.0, 21.0, 20.0, 19.0, 18.0, 17.0, 16.0, 15.0, 14.0, 13.0, 12.0, 11.0, 10.0, 9.0, 8.0, 7.0, 6.0, 5.0, 4.0, 3.0, 2.0, 1.0, 1.9912, 1.9897, 1.9892, 1.9878, 1.9873, 1.9861, 1.9844, 1.9838, 1.983, 1.9821, 1.9821, 1.9803, 1.9803, 1.9803, 1.9803, 1.9803, 1.9803, 1.9803, 1.979, 1.979, 1.978, 1.9771, 1.9771, 1.9771, 1.9771, 1.9771, 1.9771, 1.9771, 1.9763, 1.9763, 1.745, 2.0419, 2.0418, 2.0415, 2.0413, 2.0404, 2.0399, 2.039, 2.037, 2.0358, 2.0339, 2.0339, 2.033, 2.0312, 2.0312, 2.0312, 2.0312, 2.0312, 2.0312, 2.0312, 2.0312, 2.03, 2.03, 2.0289, 2.0281, 2.0281, 2.0281, 2.0259, 2.0259, 2.0253, 2.0236, 2.1083, 2.1076, 2.106, 2.1059, 2.1046, 2.1038, 2.1037, 2.1023, 2.1, 2.0983, 2.0983, 2.0972, 2.0972, 2.0972, 2.0972, 2.0962, 2.0962, 2.0954, 2.0954, 2.0946, 2.0946, 2.0946, 2.0946, 2.0946, 2.0946, 2.0912, 2.0907, 2.0881, 2.0881, 2.0881, 1.5645, 2.1688, 2.1661, 2.1654, 2.1653, 2.1631, 2.1621, 2.1621, 2.1615, 2.1615, 2.161, 2.1592, 2.1574, 2.1574, 2.1574, 2.1574, 2.1574, 2.1574, 2.1561, 2.1541, 2.1541, 2.1533, 2.1533, 2.1533, 2.1533, 2.1533, 2.1533, 2.1519, 2.1519, 2.1519, 2.1519, 1.8781, 2.362, 2.3608, 2.3599, 2.3595, 2.3583, 2.3503, 2.349, 2.3471, 2.3471, 2.3471, 2.3471, 2.3471, 2.3471, 2.3471, 2.3464, 2.3464, 2.3464, 2.3464, 2.3464, 2.3438, 2.3438, 2.3438, 2.3438, 2.3438, 2.3438, 0.9789, -3.4301, -3.4301, -3.4818, -3.4818, -4.6854, -4.2726, -4.2613, -4.4573, 2.3913, 2.3887, 2.3885, 2.3878, 2.381, 2.3794, 2.3794, 2.3794, 2.3782, 2.3782, 2.3782, 2.3782, 2.3782, 2.3772, 2.3772, 2.3717, 2.3717, 2.3717, 2.3717, 2.3691, 2.3691, 2.3691, 2.3691, -3.3499, -3.3499, -3.4058, -3.4058, -3.4058, -3.4114, -3.4118, -4.7483, -4.6486, -4.268, -5.0406, -4.9772, -5.6021, -5.2345, 2.4329, 2.4325, 2.4317, 2.4303, 2.4297, 2.4276, 2.4273, 2.4266, 2.4266, 2.4234, 2.4214, 2.4214, 2.4214, 2.4214, 2.4214, 2.42, 2.42, 2.4188, 2.4178, 2.4153, 2.4153, 2.4153, 2.4153, 2.4153, 2.414, 0.903, -3.4772, -3.4772, -3.5289, -3.5289, -4.4318, -4.5599, -5.7294, -5.6763, 2.453, 2.4528, 2.4528, 2.4519, 2.4501, 2.4501, 2.4494, 2.4485, 2.4443, 2.4443, 2.4423, 2.4423, 2.4423, 2.4409, 2.4409, 2.4409, 2.4409, 2.4379, 2.4379, 2.4364, 2.4364, 1.592, -3.445, -3.445, -3.4967, -3.4967, -3.4967, -3.4967, -3.501, -3.501, -5.6441, -5.3296, -5.3937, -5.0723, -5.032, -5.1358, -5.0049, -5.0889, 2.5685, 2.5634, 2.5633, 2.5616, 2.5616, 2.5572, 2.5553, 2.5553, 2.5539, 2.5528, 2.5528, 2.5528, 2.5528, 2.551, 2.551, 2.5502, 2.5502, 2.5502, 2.5502, 2.5502, 2.5502, 2.5502, 2.547, -3.296, -3.296, -3.3477, -3.3477, -3.3477, -3.3477, -3.3519, -5.5477, -4.1272, -4.3231, -4.2141, -5.4951, -5.1806, -4.9233, 2.7084, 2.7057, 2.7028, 2.7028, 2.7024, 2.7023, 2.7015, 2.6954, 2.6954, 2.6954, 2.6954, 2.6954, 2.694, 2.694, 2.6928, 2.6928, 2.6928, 2.6928, 2.6928, -3.226, -3.226, -3.2777, -3.2777, -3.2777, -3.2777, -3.282, -3.282, -3.282, -3.2876, -3.2879, -5.4778, -5.4251, -4.8533, -5.1106, -5.1747, -4.9168, -4.7859, -4.8699, -4.8546, -4.7844, -4.9139]}, \"token.table\": {\"Topic\": [3, 4, 5, 2, 6, 4, 6, 8, 6, 7, 9, 10, 2, 4, 8, 9, 7, 8, 1, 5, 6, 1, 8, 4, 5, 1, 6, 7, 3, 5, 3, 2, 1, 1, 1, 1, 6, 3, 1, 7, 2, 8, 3, 4, 1, 10, 1, 2, 2, 3, 1, 1, 10, 10, 4, 7, 1, 7, 4, 1, 7, 8, 4, 2, 7, 2, 4, 5, 2, 1, 7, 2, 6, 9, 10, 9, 9, 3, 2, 3, 8, 4, 8, 1, 3, 1, 7, 4, 9, 5, 7, 2, 9, 9, 2, 1, 5, 1, 4, 3, 5, 4, 6, 4, 7, 1, 9, 4, 2, 8, 2, 7, 4, 7, 5, 5, 5, 7, 7, 2, 3, 8, 6, 8, 4, 8, 3, 6, 6, 2, 9, 3, 4, 2, 2, 10, 2, 9, 9, 4, 3, 4, 3, 5, 10, 7, 5, 5, 5, 4, 4, 9, 10, 3, 8, 6, 6, 3, 2, 8, 1, 10, 3, 10, 8, 7, 6, 7, 1, 10, 5, 2, 1, 9, 5, 3, 3, 1, 5, 4, 10, 2, 3, 10, 3, 9, 3, 10, 5, 4, 1, 6, 4, 10, 3, 5, 2, 5, 5, 9, 1, 7, 3, 3, 3, 2, 5, 6, 5, 6, 3, 1, 4, 4, 7, 8, 2, 3, 7, 2, 6, 1, 9, 10, 9, 8, 9, 7, 2, 2, 10, 5, 6, 6, 2, 6, 2, 9, 8, 8, 4, 1, 2, 6, 4, 4, 10, 8, 1, 4, 8, 5, 9, 8, 7, 9, 1, 10, 7, 7, 3, 3, 6, 9], \"Freq\": [0.9664603010552505, 0.9451269484626904, 0.8412414048863596, 1.003826982899565, 1.123957745731427, 0.9039995028583984, 0.6672490169119255, 0.6948365355824447, 0.7626638716348699, 1.0530086415542024, 1.011741779538666, 0.8086410425155848, 0.8422448906005114, 1.0851796317727165, 0.876664044996439, 0.8613135475794752, 0.7981558087775817, 0.6948365355824447, 0.8553494697952526, 1.0868393405473127, 0.6672490169119255, 0.8904071941062555, 1.0802266643424434, 0.6163775554113989, 0.30818877770569947, 0.816026605552287, 1.0076930789866352, 0.9059191327949154, 0.8287159421320482, 0.8757336814483295, 1.1809934061291847, 0.9481330305520173, 0.8553494697952526, 0.8553494697952526, 0.8553494697952526, 0.9112428021130696, 1.0076930789866352, 1.1191762377730254, 1.18852794737581, 0.7903468267776131, 0.8863980999172301, 0.8430340887762201, 0.7960382572261681, 1.0112296348415704, 0.8553494697952526, 1.0204896393890424, 1.1182764396122404, 1.2499217012292652, 0.8422448906005114, 1.003393558667761, 0.7140559189057001, 0.7140559189057001, 0.9238044297880226, 0.8086410425155848, 1.1171171322188673, 1.1125224499641533, 0.7037015605081554, 0.3518507802540777, 0.7250056410934277, 0.7140559189057001, 0.9029642439772338, 0.8430340887762201, 0.7250056410934277, 0.8035121710184686, 1.0530086415542024, 0.7585397619331958, 0.9664821678472226, 0.8757336814483295, 1.0386822589533118, 0.8843399996968527, 0.7903468267776131, 0.7030775412262444, 1.1861072395807022, 0.9507844750798445, 0.9238044297880226, 0.9734140603966046, 0.9734140603966046, 0.994955400436213, 0.8768865501313613, 0.8287159421320482, 0.876664044996439, 0.9039995028583984, 0.8430340887762201, 0.7140559189057001, 0.7168420934839652, 0.9505272667943482, 0.8525454460482457, 0.9039995028583984, 0.9397239991677023, 0.989392987944176, 0.851798642854141, 1.18357900682674, 0.8613135475794752, 0.7933151783490952, 1.1702004040913607, 0.7703673721737526, 0.989392987944176, 0.7140559189057001, 1.288984241526399, 0.9763567671026395, 0.7576341380378806, 1.101782517658871, 1.0501186360635058, 0.7250056410934277, 1.1221757229448381, 0.9148535903153278, 0.9507844750798445, 1.0851796317727165, 0.7030775412262444, 0.8430340887762201, 0.9374230590396275, 0.7903468267776131, 0.8684183972462703, 1.0118958666838622, 0.989392987944176, 0.8412414048863596, 0.8757336814483295, 1.0530086415542024, 1.0530086415542024, 0.8971016726825831, 0.7960382572261681, 1.0192999191226768, 1.0076930789866352, 0.7815156895437376, 0.7250056410934277, 1.041319816593685, 0.7168420934839652, 1.0245963543044265, 0.719936200834139, 1.1702004040913607, 0.8131725054048795, 0.6643775397354549, 0.9039995028583984, 1.0681672504533466, 0.7030775412262444, 0.8722476489686707, 0.9976284932743813, 0.6701353897708707, 0.9734140603966046, 0.7250056410934277, 0.7168420934839652, 0.8684183972462703, 1.1498941730044066, 0.8412414048863596, 0.8086410425155848, 0.8525454460482457, 0.8757336814483295, 1.0287845053559168, 0.8412414048863596, 1.0942761769941427, 0.9664821678472226, 0.8613135475794752, 0.9755989211972658, 0.6223657061802921, 0.3734194237081752, 1.123957745731427, 1.123957745731427, 0.8373056852842488, 0.7030775412262444, 0.7815156895437376, 1.0646697046713771, 1.0832880071655577, 0.970164392513917, 0.9238044297880226, 0.9688545525703653, 1.0586187646779317, 0.7626638716348699, 0.9463763452768225, 0.7140559189057001, 0.8722476489686707, 0.8695504073840878, 0.7030775412262444, 0.8553494697952526, 0.9734140603966046, 0.8412414048863596, 0.7593896593662823, 0.7593896593662823, 0.7140559189057001, 1.078641653637611, 0.9664821678472226, 0.9755989211972658, 0.9813023546922518, 1.1191762377730254, 0.8086410425155848, 1.1191762377730254, 0.9734140603966046, 0.8287159421320482, 0.9683402327490728, 0.8757336814483295, 1.0289084585406172, 1.2694778789236443, 1.123957745731427, 0.9039995028583984, 0.9238044297880226, 0.8287159421320482, 0.9289428615841775, 0.7585397619331958, 0.8412414048863596, 0.7022369409595454, 0.8613135475794752, 1.1380787295699333, 1.1221757229448381, 0.8287159421320482, 1.0911315272574775, 0.6643775397354549, 1.18357900682674, 0.989392987944176, 0.9964336483984275, 0.989392987944176, 0.8707391265028033, 0.8474616022556327, 0.8553494697952526, 1.0289084585406172, 0.782163581469256, 1.0308980140929114, 0.9426166933629598, 0.8422448906005114, 0.7168420934839652, 0.7903468267776131, 0.7030775412262444, 0.719936200834139, 0.8016886388585187, 0.9734140603966046, 1.0070293396701602, 0.7537915852997532, 0.9688544011593405, 1.185731676426642, 0.7027055669840688, 0.7030775412262444, 0.9374230590396275, 1.0817734698971146, 0.8412414048863596, 0.719936200834139, 1.0076930789866352, 0.7030775412262444, 0.719936200834139, 0.9647439582830678, 1.1129252066763275, 0.9390366146936339, 0.9741185683019348, 0.7250056410934277, 1.2694778789236443, 0.9300893976286483, 0.719936200834139, 0.9664821678472226, 0.9039995028583984, 0.9238044297880226, 1.041319816593685, 0.8904071941062555, 1.1289880835522008, 0.9741185683019348, 0.989392987944176, 0.9397239991677023, 0.7815156895437376, 1.0530086415542024, 0.9734140603966046, 0.7703673721737526, 0.8086410425155848, 0.7903468267776131, 0.8533007121789223, 0.9819664701409435, 0.8287159421320482, 0.6672490169119255, 0.7537915852997532], \"Term\": [\"\\uac00\\uc7a5\", \"\\uac00\\uc871\", \"\\uac00\\uc9c0\\ub2e4\", \"\\uac15\\uc544\\uc9c0\", \"\\uac19\\uc774\", \"\\uac1c\\ubd09\", \"\\uac1c\\uc778\", \"\\uac74\\uac15\", \"\\uac80\\uc0c9\\uc5b4\", \"\\uac80\\ud1a0\", \"\\uac8c\\uc784\", \"\\uaca8\\uc6b8\\uc655\\uad6d\", \"\\uacbd\\uc81c\", \"\\uacbd\\ud5d8\", \"\\uace0\\uc591\\uc774\", \"\\uace8\\ud504\", \"\\uacf5\\uac10\", \"\\uacf5\\uac10\\ub300\", \"\\uacf5\\ub7b5\", \"\\uacf5\\uc720\", \"\\uacfc\\uc678\", \"\\uacfc\\uc81c\", \"\\uad00\\ub828\", \"\\uad00\\uc2ec\", \"\\uad00\\uc2ec\", \"\\uad00\\uc2ec\\uac70\\ub9ac\", \"\\uad00\\ud558\\ub2e4\", \"\\uad50\\uc721\", \"\\uad6c\\ub3c4\", \"\\uad6c\\ub3c5\\uc790\\uc218\", \"\\uad6c\\uc785\", \"\\uadc0\\uc5fd\\ub2e4\", \"\\uadf8\\ub300\\ub85c\", \"\\uadf8\\uc800\", \"\\uae30\\ub150\", \"\\uae30\\ub85d\", \"\\uae30\\uc5b5\", \"\\uae30\\uc6b8\\uc774\\ub2e4\", \"\\uae30\\uc874\", \"\\ub098\\ub77c\", \"\\ub098\\uc624\\ub2e4\", \"\\ub0a8\\uae30\\ub2e4\", \"\\ub0a8\\uc790\", \"\\ub0b4\\uc6a9\", \"\\ub108\\ubb34\", \"\\ub178\\ub798\", \"\\ub178\\ub825\", \"\\ub208\\uc2f8\\uc6c0\", \"\\ub290\\ub07c\\ub2e4\", \"\\ub2e4\\ub8e8\\ub2e4\", \"\\ub2e4\\ub978\", \"\\ub2e4\\uc2dc\", \"\\ub2e4\\uc591\", \"\\ub2e4\\uc774\\uc5b4\\ud2b8\", \"\\ub300\\ud558\\ub2e4\", \"\\ub300\\ud559\\uc6d0\", \"\\ub3c4\\uc6c0\", \"\\ub3c4\\uc6c0\", \"\\ub3d9\\uae30\", \"\\ub3d9\\ub124\", \"\\ub3d9\\ub8cc\", \"\\ub3d9\\ubb3c\", \"\\ub3d9\\ucc3d\", \"\\ub3d9\\ud638\\ud68c\", \"\\ub4dc\\ub9ac\\ub2e4\", \"\\ub4e4\\uc5b4\\uac00\\ub2e4\", \"\\ub4e4\\uc774\\ub2e4\", \"\\ub531\\ud788\", \"\\ub77c\\uc774\", \"\\ub77c\\uc774\\ube0c\", \"\\ub808\\uace0\", \"\\ub808\\uace0\\ud504\\ub80c\\uc988\", \"\\ub85c\\ub610\", \"\\ub9ac\\ubdf0\", \"\\ub9ac\\uc561\\uc158\", \"\\ub9c8\\uc74c\", \"\\ub9c8\\uc9c0\\ub9c9\", \"\\ub9cc\\ub4e4\\ub2e4\", \"\\ub9ce\\uc774\", \"\\ub9e4\\ub044\\ub7fd\\ub2e4\", \"\\uba39\\ubc29\", \"\\uba4b\\uc9c0\\ub2e4\", \"\\uba54\\ub274\", \"\\uba54\\ucd94\\ub9ac\", \"\\ubaa8\\ub4e0\", \"\\ubaa8\\uc2b5\", \"\\ubb38\\ud654\", \"\\ubc00\\uc811\", \"\\ubc14\\ud0d5\", \"\\ubc18\\uacbd\", \"\\ubc18\\ub824\", \"\\ubc18\\uc751\", \"\\ubc29\\ubc95\", \"\\ubc29\\uc1a1\", \"\\ubc30\\uacbd\\uc74c\\uc545\", \"\\ubc34\\ub4dc\", \"\\ubc94\\uc704\", \"\\ubca0\\uc774\\ube44\", \"\\ubca0\\uc774\\ud0b9\", \"\\ubcf4\\uc774\\ub2e4\", \"\\ubd80\\ub974\\ub2e4\", \"\\ubd84\\uc57c\", \"\\ube0c\\uc774\\ub85c\\uadf8\", \"\\ube14\\ub85c\\uadf8\", \"\\ube44\\uad50\", \"\\uc0ac\\ub78c\", \"\\uc0ac\\uc6a9\", \"\\uc0ac\\ud68c\", \"\\uc0b0\\ucc45\", \"\\uc0c8\\ub86d\\ub2e4\", \"\\uc0dd\\uac01\", \"\\uc0dd\\ubc29\\uc1a1\", \"\\uc0dd\\uc77c\\ub0a0\", \"\\uc0dd\\ud65c\", \"\\uc131\\uacf5\", \"\\uc138\\uc77c\", \"\\uc18c\\uac1c\", \"\\uc18c\\ube44\", \"\\uc18c\\ube44\\uc790\", \"\\uc18c\\ud1b5\", \"\\uc190\\uc27d\\ub2e4\", \"\\uc218\\uc5c5\", \"\\uc218\\uc9d1\", \"\\uc2a4\\ud0c0\\uc77c\", \"\\uc2a4\\ud53c\\ub4dc\", \"\\uc2dc\\uac04\", \"\\uc2dc\\uc2b9\", \"\\uc2dc\\uccad\\uc790\", \"\\uc2dd\\ubb3c\", \"\\uc2e0\\uacbd\", \"\\uc2e0\\uaddc\", \"\\uc2e4\\ub825\", \"\\uc2e4\\ubb34\", \"\\uc2e4\\uc2dc\\uac04\", \"\\uc2e4\\uccb4\", \"\\uc544\\uae30\", \"\\uc544\\uc774\", \"\\uc544\\uc9c1\", \"\\uc544\\ud504\\ub2e4\", \"\\uc54c\\ucc28\\ub2e4\", \"\\uc560\\ucc29\", \"\\uc5b4\\ub974\\uc2e0\", \"\\uc5b4\\ub9ac\\ub2e4\", \"\\uc5b8\\ub355\", \"\\uc5b8\\ubc15\\uc2f1\", \"\\uc5b8\\uc5b4\", \"\\uc5bd\\ub9e4\\uc774\\ub2e4\", \"\\uc5c5\\ub85c\\ub4dc\", \"\\uc5ec\\ub984\", \"\\uc5ec\\ud589\", \"\\uc5ed\\uc0ac\", \"\\uc5f0\\uc2b5\", \"\\uc5f0\\uc8fc\", \"\\uc601\\uc0c1\", \"\\uc601\\uc0c1\", \"\\uc601\\uc0c1\\uad6c\\ub3c4\", \"\\uc601\\uc0c1\\uae30\\ubc95\", \"\\uc601\\uc0c1\\ubbf8\", \"\\uc601\\ud654\", \"\\uc628\\ub77c\\uc778\", \"\\uc62c\\ub9ac\\ub2e4\", \"\\uc694\\ub9ac\", \"\\uc694\\uc18c\", \"\\uc6a9\\uc774\", \"\\uc6b4\\ub3d9\", \"\\uc704\\ud558\\ub2e4\", \"\\uc720\\uba85\\ud55c\", \"\\uc720\\ud22c\", \"\\uc721\\uc544\", \"\\uc74c\\uc2dd\", \"\\uc74c\\uc545\", \"\\uc74c\\uc6d0\", \"\\uc758\\ubbf8\", \"\\uc774\\ub8e8\\uc5b4\\uc9c0\\ub2e4\", \"\\uc774\\ubcc4\", \"\\uc778\\uae30\", \"\\uc778\\uc0c1\", \"\\uc778\\ucc9c\", \"\\uc77c\\uc0c1\", \"\\uc790\\ub140\", \"\\uc790\\uc5f0\", \"\\uc790\\uc720\", \"\\uc791\\uc5c5\", \"\\uc7a5\\ub09c\\uac10\", \"\\uc7a5\\uc18c\", \"\\uc7ac\\uac74\\ucd95\", \"\\uc7ac\\ubbf8\", \"\\uc7ac\\ubbf8\\uc788\\ub2e4\", \"\\uc800\\uc7a5\", \"\\uc804\\ub2ec\", \"\\uc804\\ub2ec\\ub825\", \"\\uc804\\ubc18\\uc801\", \"\\uc804\\uc790\\uc81c\\ud488\", \"\\uc811\\uadfc\\uc131\", \"\\uc811\\ud558\\ub2e4\", \"\\uc815\\ubcf4\", \"\\uc815\\uc131\", \"\\uc815\\uc5fd\", \"\\uc81c\\uacf5\", \"\\uc81c\\uc77c\", \"\\uc81c\\uc791\", \"\\uc81c\\ud488\", \"\\uc870\\uae08\", \"\\uc88b\\uc544\\ud558\\ub2e4\", \"\\uc8fc\\uc2dd\", \"\\uc8fc\\uc758\", \"\\uc8fc\\uc7a5\", \"\\uc8fc\\uc81c\", \"\\uc911\\uc694\", \"\\uc990\\uac70\\uc6c0\", \"\\uc990\\uae30\\ub2e4\", \"\\uc9c0\\uae08\", \"\\uc9c0\\uc2dd\", \"\\uc9c0\\uc774\", \"\\uc9c1\\uc7a5\", \"\\uc9c1\\uc811\", \"\\uc9d1\\uc911\", \"\\ucc28\\ub7c9\", \"\\ucc3d\\ub2e8\", \"\\ucc44\\ub110\", \"\\ucc44\\ud305\", \"\\ucc98\\uc74c\", \"\\ucca0\\uac70\", \"\\ucd2c\\uc601\", \"\\ucd5c\\ub300\\ud55c\", \"\\ucd94\\uc5b5\", \"\\ucde8\\ubbf8\", \"\\ucea0\\ud551\", \"\\ucee4\\ubc84\", \"\\ucee8\\uc149\", \"\\ucf58\\ud150\\uce20\", \"\\ucfe0\\ub9ac\\ucf54\", \"\\ud0a4\\uc6b0\\ub2e4\", \"\\ud14c\\uc774\\ube14\", \"\\ud1a0\\ud06c\", \"\\ud1a0\\ud0b9\", \"\\ud2b9\\uc815\", \"\\ud2b9\\uc9d5\", \"\\ud328\\uc158\", \"\\ud328\\uc158\\uc1fc\", \"\\ud398\\uc778\\ud305\", \"\\ud3b8\\uc548\", \"\\ud3b8\\uc9d1\", \"\\ud3b8\\ud558\\ub2e4\", \"\\ud3c9\\uc18c\", \"\\ud48d\\uacbd\", \"\\ud50c\\ub808\\uc774\", \"\\ud558\\uc6b8\", \"\\ud559\\uad50\", \"\\ud568\\uaed8\", \"\\ud574\\uc678\", \"\\ud589\\ubcf5\", \"\\ud589\\ubcf5\\uac10\", \"\\ud5ec\\uc2a4\\uc7a5\", \"\\ud604\\uba85\", \"\\ud604\\uc7a5\", \"\\ud64d\\ubcf4\", \"\\ud658\\uacbd\", \"\\ud65c\\uae30\\ucc28\\ub2e4\", \"\\ud65c\\ub3d9\", \"\\ud6c4\\uc6d0\", \"\\ud758\\ub7ec\\uac00\\ub2e4\", \"\\ud765\\ubbf8\", \"\\ud798\\ub4e4\\ub2e4\"]}, \"R\": 30, \"lambda.step\": 0.01, \"plot.opts\": {\"xlab\": \"PC1\", \"ylab\": \"PC2\"}, \"topic.order\": [10, 3, 7, 9, 4, 1, 8, 5, 6, 2]};\n",
       "\n",
       "function LDAvis_load_lib(url, callback){\n",
       "  var s = document.createElement('script');\n",
       "  s.src = url;\n",
       "  s.async = true;\n",
       "  s.onreadystatechange = s.onload = callback;\n",
       "  s.onerror = function(){console.warn(\"failed to load library \" + url);};\n",
       "  document.getElementsByTagName(\"head\")[0].appendChild(s);\n",
       "}\n",
       "\n",
       "if(typeof(LDAvis) !== \"undefined\"){\n",
       "   // already loaded: just create the visualization\n",
       "   !function(LDAvis){\n",
       "       new LDAvis(\"#\" + \"ldavis_el177021405181970088645375420996\", ldavis_el177021405181970088645375420996_data);\n",
       "   }(LDAvis);\n",
       "}else if(typeof define === \"function\" && define.amd){\n",
       "   // require.js is available: use it to load d3/LDAvis\n",
       "   require.config({paths: {d3: \"https://d3js.org/d3.v5\"}});\n",
       "   require([\"d3\"], function(d3){\n",
       "      window.d3 = d3;\n",
       "      LDAvis_load_lib(\"https://cdn.jsdelivr.net/gh/bmabey/pyLDAvis@3.2.2/pyLDAvis/js/ldavis.v3.0.0.js\", function(){\n",
       "        new LDAvis(\"#\" + \"ldavis_el177021405181970088645375420996\", ldavis_el177021405181970088645375420996_data);\n",
       "      });\n",
       "    });\n",
       "}else{\n",
       "    // require.js not available: dynamically load d3 & LDAvis\n",
       "    LDAvis_load_lib(\"https://d3js.org/d3.v5.js\", function(){\n",
       "         LDAvis_load_lib(\"https://cdn.jsdelivr.net/gh/bmabey/pyLDAvis@3.2.2/pyLDAvis/js/ldavis.v3.0.0.js\", function(){\n",
       "                 new LDAvis(\"#\" + \"ldavis_el177021405181970088645375420996\", ldavis_el177021405181970088645375420996_data);\n",
       "            })\n",
       "         });\n",
       "}\n",
       "</script>"
      ],
      "text/plain": [
       "<IPython.core.display.HTML object>"
      ]
     },
     "execution_count": 45,
     "metadata": {},
     "output_type": "execute_result"
    }
   ],
   "source": [
    "pyLDAvis.display(prepared_data)"
   ]
  },
  {
   "cell_type": "code",
   "execution_count": 46,
   "metadata": {
    "ExecuteTime": {
     "end_time": "2021-03-17T06:13:34.818107Z",
     "start_time": "2021-03-17T06:13:34.812968Z"
    }
   },
   "outputs": [],
   "source": [
    "htmlFile = 'tomotopy_CTM TO LDA_210317.html'\n",
    "pyLDAvis.save_html(prepared_data, htmlFile)"
   ]
  },
  {
   "cell_type": "code",
   "execution_count": 47,
   "metadata": {
    "ExecuteTime": {
     "end_time": "2021-03-17T06:13:35.624389Z",
     "start_time": "2021-03-17T06:13:35.538299Z"
    }
   },
   "outputs": [],
   "source": [
    "from bs4 import BeautifulSoup\n",
    "with open(htmlFile) as inf:\n",
    "    txt = inf.read()\n",
    "    soup = BeautifulSoup(txt)"
   ]
  },
  {
   "cell_type": "code",
   "execution_count": 48,
   "metadata": {
    "ExecuteTime": {
     "end_time": "2021-03-17T06:13:36.459388Z",
     "start_time": "2021-03-17T06:13:36.455145Z"
    }
   },
   "outputs": [
    {
     "name": "stdout",
     "output_type": "stream",
     "text": [
      "<html><head><link href=\"https://cdn.jsdelivr.net/gh/bmabey/pyLDAvis@3.2.2/pyLDAvis/js/ldavis.v1.0.0.css\" rel=\"stylesheet\" type=\"text/css\"/>\n",
      "</head><body><div id=\"ldavis_el17702140518197008864245933325\"></div>\n",
      "<script type=\"text/javascript\">\n",
      "\n",
      "var ldavis_el17702140518197008864245933325_data = {\"mdsDat\": {\"x\": [0.09459324801435896, 0.06542412495854247, -0.3211214422230044, 0.10502189098569704, 0.10235389089202643, 0.06087137482803627, 0.09194235265246133, -0.31861697732995653, 0.059713758180263116, 0.05981777904157534], \"y\": [0.23121538219137378, 0.024163429531272918, -0.010412025607054086, -0.26785193149049935, -0.2520476246337908, 0.022338503242676628, 0.21859804798791999, -0.009626503899107849, 0.021290597530670162, 0.022332125146538366], \"topics\": [1, 2, 3, 4, 5, 6, 7, 8, 9, 10], \"cluster\": [1, 1, 1, 1, 1, 1, 1, 1, 1, 1], \"Freq\": [13.583990266541477, 12.913084102845762, 12.086494328963823, 11.376253471926844, 9.385779638012828, 9.124491878336379, 8.722164224892504, 8.543189120249895, 7.636278942573761, 6.62827402565673]}, \"tinfo\": {\"Term\": [\"\\ube0c\\uc774\\ub85c\\uadf8\", \"\\uac8c\\uc784\", \"\\uc77c\\uc0c1\", \"\\uc601\\uc0c1\", \"\\uc7ac\\ubbf8\\uc788\\ub2e4\", \"\\uc815\\ubcf4\", \"\\uc5ec\\ud589\", \"\\uc88b\\uc544\\ud558\\ub2e4\", \"\\uc8fc\\uc81c\", \"\\uc2dc\\uccad\\uc790\", \"\\uc18c\\ud1b5\", \"\\ud3b8\\uc9d1\", \"\\uacf5\\uc720\", \"\\uc0ac\\ub78c\", \"\\ud65c\\ub3d9\", \"\\ub9cc\\ub4e4\\ub2e4\", \"\\uc790\\uc720\", \"\\uc990\\uac70\\uc6c0\", \"\\uc74c\\uc545\", \"\\uac15\\uc544\\uc9c0\", \"\\uad50\\uc721\", \"\\ud328\\uc158\", \"\\ucd94\\uc5b5\", \"\\uc6b4\\ub3d9\", \"\\ucf58\\ud150\\uce20\", \"\\uc0dd\\ud65c\", \"\\ub9ce\\uc774\", \"\\uc5c5\\ub85c\\ub4dc\", \"\\uad00\\ub828\", \"\\ub77c\\uc774\\ube0c\", \"\\uc0ac\\ub78c\", \"\\ub77c\\uc774\\ube0c\", \"\\ubaa8\\uc2b5\", \"\\uc81c\\uc791\", \"\\ucc98\\uc74c\", \"\\uae30\\ub85d\", \"\\uc62c\\ub9ac\\ub2e4\", \"\\ub178\\ub825\", \"\\uae30\\uc874\", \"\\uc804\\ub2ec\\ub825\", \"\\ud3b8\\uc548\", \"\\uba54\\ucd94\\ub9ac\", \"\\ub2e4\\ub978\", \"\\ub2e4\\uc2dc\", \"\\uc721\\uc544\", \"\\ubca0\\uc774\\ube44\", \"\\uc778\\ucc9c\", \"\\ub3d9\\ub124\", \"\\ubc34\\ub4dc\", \"\\ud64d\\ubcf4\", \"\\uad00\\uc2ec\\uac70\\ub9ac\", \"\\uadf8\\uc800\", \"\\uadf8\\ub300\\ub85c\", \"\\ub108\\ubb34\", \"\\uc9c0\\uae08\", \"\\uacf5\\ub7b5\", \"\\uc758\\ubbf8\", \"\\uae30\\ub150\", \"\\ud559\\uad50\", \"\\uacfc\\uc81c\", \"\\ub3c4\\uc6c0\", \"\\uc18c\\ud1b5\", \"\\ud3b8\\uc9d1\", \"\\uc790\\uc720\", \"\\uac15\\uc544\\uc9c0\", \"\\ub9ce\\uc774\", \"\\uadc0\\uc5fd\\ub2e4\", \"\\uc2e4\\uc2dc\\uac04\", \"\\ub098\\uc624\\ub2e4\", \"\\uc544\\uc774\", \"\\ubc30\\uacbd\\uc74c\\uc545\", \"\\uc2e0\\uacbd\", \"\\ub208\\uc2f8\\uc6c0\", \"\\uc0b0\\ucc45\", \"\\ud1a0\\ud06c\", \"\\uc601\\ud654\", \"\\ucc44\\ub110\", \"\\uc74c\\uc6d0\", \"\\ucee4\\ubc84\", \"\\ub808\\uace0\\ud504\\ub80c\\uc988\", \"\\uc2e4\\uccb4\", \"\\uc815\\uc131\", \"\\ub4e4\\uc5b4\\uac00\\ub2e4\", \"\\ub3d9\\ud638\\ud68c\", \"\\uacbd\\uc81c\", \"\\ub290\\ub07c\\ub2e4\", \"\\uc9d1\\uc911\", \"\\ucee8\\uc149\", \"\\uc0dd\\uac01\", \"\\ud2b9\\uc815\", \"\\ub77c\\uc774\", \"\\uc88b\\uc544\\ud558\\ub2e4\", \"\\ub9cc\\ub4e4\\ub2e4\", \"\\uac00\\uc7a5\", \"\\ubcf4\\uc774\\ub2e4\", \"\\uc5b4\\ub9ac\\ub2e4\", \"\\uc601\\uc0c1\\ubbf8\", \"\\uc990\\uae30\\ub2e4\", \"\\uc694\\uc18c\", \"\\uad6c\\uc785\", \"\\uc2e4\\ub825\", \"\\uc8fc\\uc2dd\", \"\\ucc28\\ub7c9\", \"\\uc2dc\\uc2b9\", \"\\ubaa8\\ub4e0\", \"\\uc560\\ucc29\", \"\\uc778\\uc0c1\", \"\\uc778\\uae30\", \"\\ub0a8\\uc790\", \"\\uc190\\uc27d\\ub2e4\", \"\\uc811\\ud558\\ub2e4\", \"\\uc870\\uae08\", \"\\uc7ac\\ubbf8\", \"\\ub9e4\\ub044\\ub7fd\\ub2e4\", \"\\ud758\\ub7ec\\uac00\\ub2e4\", \"\\uad6c\\ub3c4\", \"\\ud6c4\\uc6d0\", \"\\ub2e4\\ub8e8\\ub2e4\", \"\\uae30\\uc6b8\\uc774\\ub2e4\", \"\\uc791\\uc5c5\", \"\\uc7a5\\uc18c\", \"\\uc601\\uc0c1\", \"\\uc5ec\\ud589\", \"\\ub0b4\\uc6a9\", \"\\ubd84\\uc57c\", \"\\ub300\\ud558\\ub2e4\", \"\\uac00\\uc871\", \"\\uc9c0\\uc2dd\", \"\\uc804\\ub2ec\", \"\\uc0ac\\ud68c\", \"\\uacbd\\ud5d8\", \"\\ud568\\uaed8\", \"\\ubca0\\uc774\\ud0b9\", \"\\ub3d9\\uae30\", \"\\ub3d9\\ucc3d\", \"\\uc2a4\\ud53c\\ub4dc\", \"\\ud398\\uc778\\ud305\", \"\\uc54c\\ucc28\\ub2e4\", \"\\ube14\\ub85c\\uadf8\", \"\\uc9c0\\uc774\", \"\\uc5b4\\ub974\\uc2e0\", \"\\uc0dd\\uc77c\\ub0a0\", \"\\uc2e4\\ubb34\", \"\\uba4b\\uc9c0\\ub2e4\", \"\\ud48d\\uacbd\", \"\\ubc00\\uc811\", \"\\uc804\\uc790\\uc81c\\ud488\", \"\\uac1c\\ubd09\", \"\\uc790\\ub140\", \"\\uc5ed\\uc0ac\", \"\\ud3c9\\uc18c\", \"\\ub4e4\\uc774\\ub2e4\", \"\\uad00\\uc2ec\", \"\\uc77c\\uc0c1\", \"\\uc815\\ubcf4\", \"\\uacf5\\uc720\", \"\\uc74c\\uc545\", \"\\uc5c5\\ub85c\\ub4dc\", \"\\uc81c\\uacf5\", \"\\ubd80\\ub974\\ub2e4\", \"\\ucfe0\\ub9ac\\ucf54\", \"\\uc5b8\\ub355\", \"\\uc815\\uc5fd\", \"\\uc774\\ubcc4\", \"\\uc5ec\\ub984\", \"\\uac00\\uc9c0\\ub2e4\", \"\\uc138\\uc77c\", \"\\ub531\\ud788\", \"\\uad6c\\ub3c5\\uc790\\uc218\", \"\\uc5bd\\ub9e4\\uc774\\ub2e4\", \"\\uc800\\uc7a5\", \"\\uc18c\\uac1c\", \"\\uc131\\uacf5\", \"\\uc911\\uc694\", \"\\ud589\\ubcf5\", \"\\uc8fc\\uc7a5\", \"\\ubc18\\uacbd\", \"\\ubc94\\uc704\", \"\\uad00\\uc2ec\", \"\\uc8fc\\uc758\", \"\\ubc18\\uc751\", \"\\uc601\\uc0c1\\uae30\\ubc95\", \"\\uc601\\uc0c1\\uad6c\\ub3c4\", \"\\uc0dd\\ud65c\", \"\\uc218\\uc5c5\", \"\\uc9c1\\uc7a5\", \"\\uc990\\uae30\\ub2e4\", \"\\ube0c\\uc774\\ub85c\\uadf8\", \"\\uc8fc\\uc81c\", \"\\uc2dc\\uccad\\uc790\", \"\\uc990\\uac70\\uc6c0\", \"\\ub85c\\ub610\", \"\\uacfc\\uc678\", \"\\ud765\\ubbf8\", \"\\uac1c\\uc778\", \"\\ucc44\\ud305\", \"\\uc2dd\\ubb3c\", \"\\ud0a4\\uc6b0\\ub2e4\", \"\\ud1a0\\ud0b9\", \"\\ud3b8\\ud558\\ub2e4\", \"\\uc720\\uba85\\ud55c\", \"\\uac80\\uc0c9\\uc5b4\", \"\\ud14c\\uc774\\ube14\", \"\\uc218\\uc9d1\", \"\\uad00\\ud558\\ub2e4\", \"\\uae30\\uc5b5\", \"\\uc601\\uc0c1\\uae30\\ubc95\", \"\\uc601\\uc0c1\\uad6c\\ub3c4\", \"\\uac19\\uc774\", \"\\uc804\\ubc18\\uc801\", \"\\uc8fc\\uc758\", \"\\ubc18\\uc751\", \"\\uae30\\uc6b8\\uc774\\ub2e4\", \"\\uc791\\uc5c5\", \"\\uc7a5\\uc18c\", \"\\ud2b9\\uc9d5\", \"\\ub300\\ud559\\uc6d0\", \"\\ub9ce\\uc774\", \"\\ucd94\\uc5b5\", \"\\uac00\\uc871\", \"\\uc88b\\uc544\\ud558\\ub2e4\", \"\\ud3b8\\uc9d1\", \"\\uc601\\uc0c1\", \"\\uc77c\\uc0c1\", \"\\ud65c\\ub3d9\", \"\\uad50\\uc721\", \"\\uc0dd\\ud65c\", \"\\uacf5\\uac10\", \"\\ubc18\\ub824\", \"\\uc9c1\\uc7a5\", \"\\uc704\\ud558\\ub2e4\", \"\\uc81c\\ud488\", \"\\ube44\\uad50\", \"\\ucea0\\ud551\", \"\\uc0dd\\ubc29\\uc1a1\", \"\\ud65c\\uae30\\ucc28\\ub2e4\", \"\\ucc3d\\ub2e8\", \"\\ub808\\uace0\", \"\\ub098\\ub77c\", \"\\ubb38\\ud654\", \"\\uc5b8\\uc5b4\", \"\\ub3d9\\ub8cc\", \"\\uc720\\ud22c\", \"\\uac80\\ud1a0\", \"\\uc18c\\ube44\\uc790\", \"\\ud604\\uba85\", \"\\uc18c\\ube44\", \"\\ub4dc\\ub9ac\\ub2e4\", \"\\ub300\\ud559\\uc6d0\", \"\\ub3c4\\uc6c0\", \"\\uc8fc\\uc758\", \"\\ubc18\\uc751\", \"\\uc601\\uc0c1\\uae30\\ubc95\", \"\\uc601\\uc0c1\\uad6c\\ub3c4\", \"\\uae30\\ub85d\", \"\\ucc98\\uc74c\", \"\\uc601\\uc0c1\", \"\\ube0c\\uc774\\ub85c\\uadf8\", \"\\ud328\\uc158\", \"\\ucd94\\uc5b5\", \"\\uc6b4\\ub3d9\", \"\\uad00\\ub828\", \"\\uba39\\ubc29\", \"\\uace0\\uc591\\uc774\", \"\\uc9c1\\uc811\", \"\\uc218\\uc5c5\", \"\\uac74\\uac15\", \"\\uacf5\\uac10\\ub300\", \"\\uc628\\ub77c\\uc778\", \"\\ud5ec\\uc2a4\\uc7a5\", \"\\uc2a4\\ud0c0\\uc77c\", \"\\uc0c8\\ub86d\\ub2e4\", \"\\uba54\\ub274\", \"\\ub0a8\\uae30\\ub2e4\", \"\\ub3d9\\ubb3c\", \"\\ud574\\uc678\", \"\\ud328\\uc158\\uc1fc\", \"\\ud558\\uc6b8\", \"\\uc2dc\\uac04\", \"\\uc601\\uc0c1\", \"\\uc8fc\\uc758\", \"\\ubc18\\uc751\", \"\\uc601\\uc0c1\\uae30\\ubc95\", \"\\uc601\\uc0c1\\uad6c\\ub3c4\", \"\\uac19\\uc774\", \"\\uc804\\ubc18\\uc801\", \"\\uae30\\uc6b8\\uc774\\ub2e4\", \"\\uc791\\uc5c5\", \"\\ube0c\\uc774\\ub85c\\uadf8\", \"\\uc77c\\uc0c1\", \"\\uac8c\\uc784\", \"\\ud3b8\\uc9d1\", \"\\uc7ac\\ubbf8\\uc788\\ub2e4\", \"\\uc88b\\uc544\\ud558\\ub2e4\", \"\\ub9cc\\ub4e4\\ub2e4\", \"\\uc0ac\\ub78c\", \"\\uac8c\\uc784\", \"\\ucde8\\ubbf8\", \"\\ubc29\\uc1a1\", \"\\ub9ac\\ubdf0\", \"\\uc0ac\\uc6a9\", \"\\uc544\\uc9c1\", \"\\ucd5c\\ub300\\ud55c\", \"\\ud798\\ub4e4\\ub2e4\", \"\\uc2e0\\uaddc\", \"\\uace8\\ud504\", \"\\uc5f0\\uc2b5\", \"\\ubc29\\ubc95\", \"\\uc81c\\uc77c\", \"\\ud589\\ubcf5\\uac10\", \"\\ubc14\\ud0d5\", \"\\uc7ac\\uac74\\ucd95\", \"\\ud604\\uc7a5\", \"\\ub9c8\\uc9c0\\ub9c9\", \"\\ucca0\\uac70\", \"\\uc774\\ub8e8\\uc5b4\\uc9c0\\ub2e4\", \"\\ub9c8\\uc74c\", \"\\uc544\\ud504\\ub2e4\", \"\\ud2b9\\uc9d5\", \"\\uc8fc\\uc758\", \"\\ubc18\\uc751\", \"\\uc601\\uc0c1\\uae30\\ubc95\", \"\\uc601\\uc0c1\\uad6c\\ub3c4\", \"\\uac19\\uc774\", \"\\uc804\\ubc18\\uc801\", \"\\uae30\\uc6b8\\uc774\\ub2e4\", \"\\uc601\\uc0c1\", \"\\uc9c1\\uc7a5\", \"\\uc990\\uae30\\ub2e4\", \"\\uac00\\uc871\", \"\\ube0c\\uc774\\ub85c\\uadf8\", \"\\uc77c\\uc0c1\", \"\\ud3b8\\uc9d1\", \"\\uc7ac\\ubbf8\\uc788\\ub2e4\", \"\\ucf58\\ud150\\uce20\", \"\\uc790\\uc5f0\", \"\\uc5f0\\uc8fc\", \"\\ucd2c\\uc601\", \"\\ub178\\ub798\", \"\\uc694\\ub9ac\", \"\\ub2e4\\uc774\\uc5b4\\ud2b8\", \"\\ud658\\uacbd\", \"\\uaca8\\uc6b8\\uc655\\uad6d\", \"\\uc7a5\\ub09c\\uac10\", \"\\uc5b8\\ubc15\\uc2f1\", \"\\uc544\\uae30\", \"\\uc74c\\uc2dd\", \"\\ub2e4\\uc591\", \"\\uc811\\uadfc\\uc131\", \"\\uc6a9\\uc774\", \"\\ub9ac\\uc561\\uc158\", \"\\ud50c\\ub808\\uc774\", \"\\uc8fc\\uc758\", \"\\ubc18\\uc751\", \"\\uc601\\uc0c1\\uae30\\ubc95\", \"\\uc601\\uc0c1\\uad6c\\ub3c4\", \"\\uac19\\uc774\", \"\\uc804\\ubc18\\uc801\", \"\\uae30\\uc6b8\\uc774\\ub2e4\", \"\\uc791\\uc5c5\", \"\\uc7a5\\uc18c\", \"\\ud2b9\\uc9d5\", \"\\ub300\\ud559\\uc6d0\", \"\\uc601\\uc0c1\", \"\\ube0c\\uc774\\ub85c\\uadf8\", \"\\ud3b8\\uc9d1\", \"\\uc77c\\uc0c1\", \"\\uac8c\\uc784\", \"\\uc88b\\uc544\\ud558\\ub2e4\", \"\\ub9cc\\ub4e4\\ub2e4\", \"\\uc0ac\\ub78c\", \"\\uc815\\ubcf4\", \"\\uc8fc\\uc81c\", \"\\uc5ec\\ud589\"], \"Freq\": [7.0, 5.0, 5.0, 8.0, 4.0, 4.0, 4.0, 4.0, 4.0, 3.0, 4.0, 4.0, 3.0, 4.0, 3.0, 4.0, 4.0, 3.0, 3.0, 3.0, 3.0, 3.0, 3.0, 3.0, 2.0, 2.0, 3.0, 2.0, 2.0, 3.0, 4.3500508393426065, 3.370126933653755, 3.1339095497914684, 2.613788028262951, 2.4725005926050314, 2.1725711360751663, 1.8562833969914896, 1.7662330728459044, 1.6605203955554797, 1.5532173754381622, 1.5532173754381622, 1.3782170720124056, 1.3782170720124056, 1.3782170720124056, 1.3782170720124056, 1.3782170720124056, 1.3782170720124056, 1.3782170720124056, 1.2758485031904852, 1.2758485031904852, 1.2032167685866488, 1.1468793122089005, 1.1468793122089005, 1.1468793122089005, 1.1468793122089005, 1.1468793122089005, 1.1468793122089005, 1.1468793122089005, 1.1008481997647286, 1.1008481997647286, 2.210586412402137, 4.436610073514302, 4.278468339536327, 4.054022294600173, 3.962557088727456, 3.399001538241255, 3.1419196101670326, 2.7863556014083533, 2.234129186648194, 1.9825609487532752, 1.686915624211382, 1.686915624211382, 1.577906889180179, 1.4001248848008392, 1.4001248848008392, 1.4001248848008392, 1.4001248848008392, 1.4001248848008392, 1.4001248848008392, 1.4001248848008392, 1.4001248848008392, 1.2961291139370785, 1.2961291139370785, 1.2223428804214995, 1.1651097966060568, 1.1651097966060568, 1.1651097966060568, 1.0445608760421599, 1.0445608760421599, 1.0143511150057887, 0.9405649933343044, 4.560357595414334, 3.998239416093188, 3.082069656437355, 3.0506060259020464, 2.5868944453007554, 2.36657261168412, 2.3379474035337724, 2.039465002371268, 1.6714482666556496, 1.4831269916709682, 1.4831269916709682, 1.3729660748626504, 1.3729660748626504, 1.3729660748626504, 1.3729660748626504, 1.294805716686287, 1.294805716686287, 1.2341797405344797, 1.2341797405344797, 1.184644799877969, 1.184644799877969, 1.184644799877969, 1.184644799877969, 1.184644799877969, 1.184644799877969, 0.996323420208535, 0.9745766284197076, 0.8714730342152899, 0.8714730342152899, 0.8714730342152899, 4.64183248223098, 4.546958135107455, 2.94441291969155, 2.7005881233019133, 2.6632115459360124, 2.093845067033385, 1.9215352321439239, 1.9215352321439239, 1.820740555820925, 1.820740555820925, 1.74922559432075, 1.529337060375921, 1.3570273240196036, 1.3570273240196036, 1.3570273240196036, 1.3570273240196036, 1.3570273240196036, 1.3570273240196036, 1.2562326476966048, 1.12924638380469, 1.12924638380469, 1.083923009873431, 1.083923009873431, 1.083923009873431, 1.083923009873431, 1.083923009873431, 1.083923009873431, 1.0124079498401122, 1.0124079498401122, 1.0124079498401122, 1.0124079498401122, 2.4145282773012124, 5.540361518297833, 4.283779684182922, 3.658206556463186, 3.42786854474995, 2.8938723660640373, 1.4018305701577505, 1.2977080707666764, 1.1665292111121839, 1.1665292111121839, 1.1665292111121839, 1.1665292111121839, 1.1665292111121839, 1.1665292111121839, 1.1665292111121839, 1.1197094529287759, 1.1197094529287759, 1.1197094529287759, 1.1197094529287759, 1.1197094529287759, 0.9885305119812304, 0.9885305119812304, 0.9885305119812304, 0.9885305119812304, 0.9885305119812304, 0.9885305119812304, 0.8105318941433298, 0.002567977038335396, 0.002567977038335396, 0.002567977038335396, 0.002567977038335396, 0.00256809945424092, 0.00256809945424092, 0.00256809945424092, 0.00256809945424092, 7.596133512989215, 3.992263286310683, 3.881923235311189, 3.423295617066497, 1.664134995958297, 1.4766376778793364, 1.4766376778793364, 1.4766376778793364, 1.3669587915338715, 1.3669587915338715, 1.3669587915338715, 1.3669587915338715, 1.3669587915338715, 1.2891404388303371, 1.2891404388303371, 0.9703124750107902, 0.9703124750107902, 0.9703124750107902, 0.9703124750107902, 0.8676599844411298, 0.8676599844411298, 0.8676599844411298, 0.8676599844411298, 0.002705014353037472, 0.002705014353037472, 0.002705014353037472, 0.002705014353037472, 0.002705014353037472, 0.002705014353037472, 0.002705014353037472, 0.0027052724352539807, 0.0027051433941457266, 0.0027051433941457266, 0.00270511097951327, 0.0027050788735915993, 0.002705014353037472, 0.002705014353037472, 3.4932778351277127, 3.2890722938106567, 2.9422502565994626, 2.4832948485591526, 2.3254911827345004, 1.9175743173257607, 1.866772684694002, 1.7597705004105473, 1.7597705004105473, 1.4005895574821492, 1.2427857405669356, 1.2427857405669356, 1.2427857405669356, 1.2427857405669356, 1.2427857405669356, 1.1504764334433424, 1.1504764334433424, 1.0849819991970027, 1.0341805176558052, 0.9271782578270699, 0.9271782578270699, 0.9271782578270699, 0.9271782578270699, 0.9271782578270699, 0.8763767007405917, 0.6115706617692832, 0.002276626967842251, 0.002276626967842251, 0.002276626967842251, 0.002276626967842251, 0.0022767355641830447, 0.002276681266012648, 0.002276626967842251, 0.002276626967842251, 3.1723082788577304, 3.0739850386700285, 3.0739844467090403, 2.7547395899541356, 2.258920318011289, 2.258920318011289, 2.099297889633837, 1.9396754612563845, 1.416732092877224, 1.416732092877224, 1.2571095165095247, 1.2571095165095247, 1.2571095165095247, 1.163736328097765, 1.163736328097765, 1.163736328097765, 1.163736328097765, 1.0041137517300656, 1.0041137517300656, 0.9378644377692493, 0.9378644377692493, 3.3722886835169867, 0.002302866261178485, 0.002302866261178485, 0.002302866261178485, 0.002302866261178485, 0.002302866261178485, 0.002302866261178485, 0.002302866261178485, 0.002302866261178485, 0.002302866261178485, 0.002302866261178485, 0.002302866261178485, 0.002302866261178485, 0.002302866261178485, 0.002302866261178485, 0.002302866261178485, 0.002302866261178485, 5.907997982586775, 2.5077144173001065, 2.4986971402976286, 2.08115718709292, 2.08115718709292, 1.4698668147223508, 1.3042576863308584, 1.3042576863308584, 1.2073824106078253, 1.138648425659161, 1.138648425659161, 1.138648425659161, 1.138648425659161, 1.0417732822163328, 1.0417732822163328, 1.0049431000479632, 1.0049431000479632, 1.0049431000479632, 1.0049431000479632, 1.0049431000479632, 1.0049431000479632, 1.0049431000479632, 0.8761640215446354, 0.0023892357585885925, 0.0023892357585885925, 0.0023892357585885925, 0.0023892357585885925, 0.0023892357585885925, 0.0023892357585885925, 0.0023892357585885925, 0.002390375125196554, 0.0023893496952493887, 0.0023893496952493887, 0.0023893496952493887, 0.0023892357585885925, 0.0023892357585885925, 0.0023892357585885925, 4.1082450588556165, 2.7506897639876473, 2.027488669072166, 2.027488669072166, 1.9635053560640143, 1.9373094151415449, 1.823696993597577, 1.2141085498639415, 1.2141085498639415, 1.2141085498639415, 1.2141085498639415, 1.2141085498639415, 1.12392929593332, 1.12392929593332, 1.059946097744107, 1.059946097744107, 1.059946097744107, 1.059946097744107, 1.059946097744107, 0.0022240939778574507, 0.0022240939778574507, 0.0022240939778574507, 0.0022240939778574507, 0.0022240939778574507, 0.0022240939778574507, 0.0022240939778574507, 0.0022240939778574507, 0.0022240939778574507, 0.0022240939778574507, 0.0022240939778574507, 0.00222504841028751, 0.002224146902212125, 0.002224146902212125, 0.0022240939778574507, 0.0022240939778574507, 0.0022240939778574507, 0.0022240939778574507, 0.0022240939778574507, 0.0022240939778574507, 0.0022240939778574507, 0.0022240939778574507], \"Total\": [7.0, 5.0, 5.0, 8.0, 4.0, 4.0, 4.0, 4.0, 4.0, 3.0, 4.0, 4.0, 3.0, 4.0, 3.0, 4.0, 4.0, 3.0, 3.0, 3.0, 3.0, 3.0, 3.0, 3.0, 2.0, 2.0, 3.0, 2.0, 2.0, 3.0, 4.3722843112210965, 3.3923604055322443, 3.1561430216699575, 2.63602150014144, 2.494734118781691, 2.194804716549996, 1.8785168688699783, 1.788466544724393, 1.6827538674339684, 1.5754508473166509, 1.5754508473166509, 1.4004505438908943, 1.4004505438908943, 1.4004505438908943, 1.4004505438908943, 1.4004505438908943, 1.4004505438908943, 1.4004505438908943, 1.2980819750689738, 1.2980819750689738, 1.2254502404651375, 1.1691127840873892, 1.1691127840873892, 1.1691127840873892, 1.1691127840873892, 1.1691127840873892, 1.1691127840873892, 1.1691127840873892, 1.1230816716432173, 1.1230816716432173, 2.8421139190820672, 4.458803413038892, 4.300661861320409, 4.076215634124763, 3.9847504282520454, 3.421195135848061, 3.164112949691622, 2.8085489409329427, 2.2563225261727835, 2.004754288277864, 1.709108963735971, 1.709108963735971, 1.600100228704768, 1.4223182243254282, 1.4223182243254282, 1.4223182243254282, 1.4223182243254282, 1.4223182243254282, 1.4223182243254282, 1.4223182243254282, 1.4223182243254282, 1.3183224534616675, 1.3183224534616675, 1.2445362199460885, 1.1873031361306459, 1.1873031361306459, 1.1873031361306459, 1.0667542155667489, 1.0667542155667489, 1.0365444545303777, 0.9627583328588935, 4.582398982244911, 4.020280706297289, 3.104110946641456, 3.0726473161061474, 2.6089357355048564, 2.388613901888221, 2.3599889300904393, 2.061506292575369, 1.6934895568597503, 1.505168281875069, 1.505168281875069, 1.3950073650667512, 1.3950073650667512, 1.3950073650667512, 1.3950073650667512, 1.3168470068903877, 1.3168470068903877, 1.2562210307385804, 1.2562210307385804, 1.2066860900820697, 1.2066860900820697, 1.2066860900820697, 1.2066860900820697, 1.2066860900820697, 1.2066860900820697, 1.0183647104126357, 0.9966179186238083, 0.8935143244193906, 0.8935143244193906, 0.8935143244193906, 8.03386168348993, 4.5692304238354655, 2.9666852084195603, 2.722860412029924, 2.685483834664023, 2.116117843484548, 1.9438075208719336, 1.9438075208719336, 1.8430128445489349, 1.8430128445489349, 1.7714978830487598, 1.551609349103931, 1.3792996127476134, 1.3792996127476134, 1.3792996127476134, 1.3792996127476134, 1.3792996127476134, 1.3792996127476134, 1.2785049364246146, 1.1515186725326998, 1.1515186725326998, 1.1061952986014407, 1.1061952986014407, 1.1061952986014407, 1.1061952986014407, 1.1061952986014407, 1.1061952986014407, 1.034680238568122, 1.034680238568122, 1.034680238568122, 1.034680238568122, 3.244764483134217, 5.56255173325228, 4.305969899137369, 3.6803967714176338, 3.450058759704398, 2.916062581018485, 1.424020785112198, 1.3198982857211239, 1.1887194260666314, 1.1887194260666314, 1.1887194260666314, 1.1887194260666314, 1.1887194260666314, 1.1887194260666314, 1.1887194260666314, 1.1418996678832234, 1.1418996678832234, 1.1418996678832234, 1.1418996678832234, 1.1418996678832234, 1.010720726935678, 1.010720726935678, 1.010720726935678, 1.010720726935678, 1.010720726935678, 1.010720726935678, 3.244764483134217, 0.84489501269634, 0.84489501269634, 0.8897131620808751, 0.8897131620808751, 2.964731944040309, 1.962131029816448, 1.9400561187032677, 2.3599889300904393, 7.618186865046932, 4.014316463950428, 3.903976412950935, 3.4453487947062427, 1.6861881735980424, 1.4986908555190819, 1.4986908555190819, 1.4986908555190819, 1.389011969173617, 1.389011969173617, 1.389011969173617, 1.389011969173617, 1.389011969173617, 1.3111936164700826, 1.3111936164700826, 0.9923656526505356, 0.9923656526505356, 0.9923656526505356, 0.9923656526505356, 0.8897131620808751, 0.8897131620808751, 0.8897131620808751, 0.8897131620808751, 0.84489501269634, 0.84489501269634, 0.8935143244193906, 0.8935143244193906, 0.8935143244193906, 0.8985329777788296, 0.8988582657655323, 3.421195135848061, 3.096440493442741, 2.116117843484548, 4.582398982244911, 4.300661861320409, 8.03386168348993, 5.56255173325228, 3.5157594001526533, 3.3115538588355973, 2.964731944040309, 2.505776413584093, 2.347972747759441, 1.9400561187032677, 1.8892542497189428, 1.782252065435488, 1.782252065435488, 1.42307112250709, 1.2652673055918764, 1.2652673055918764, 1.2652673055918764, 1.2652673055918764, 1.2652673055918764, 1.1729579984682832, 1.1729579984682832, 1.1074635642219435, 1.056662082680746, 0.9496598228520104, 0.9496598228520104, 0.9496598228520104, 0.9496598228520104, 0.9496598228520104, 0.8988582657655323, 2.8421139190820672, 0.84489501269634, 0.84489501269634, 0.8897131620808751, 0.8897131620808751, 2.194804716549996, 2.494734118781691, 8.03386168348993, 7.618186865046932, 3.1947636045893346, 3.096440493442741, 3.0964400095360216, 2.77719491568574, 2.2813756437428934, 2.2813756437428934, 2.121753215365441, 1.962131029816448, 1.4391874186088285, 1.4391874186088285, 1.2795648422411292, 1.2795648422411292, 1.2795648422411292, 1.1861916538293695, 1.1861916538293695, 1.1861916538293695, 1.1861916538293695, 1.02656907746167, 1.02656907746167, 0.9603197635008537, 0.9603197635008537, 8.03386168348993, 0.84489501269634, 0.84489501269634, 0.8897131620808751, 0.8897131620808751, 0.8897131620808751, 0.8897131620808751, 0.8935143244193906, 0.8935143244193906, 7.618186865046932, 5.56255173325228, 5.93036693882097, 4.300661861320409, 4.130779518108203, 4.582398982244911, 4.020280706297289, 4.3722843112210965, 5.93036693882097, 2.5300833735343007, 2.521066096531823, 2.103526143327114, 2.103526143327114, 1.492235770956545, 1.3266266425650526, 1.3266266425650526, 1.2297513668420195, 1.1610173818933551, 1.1610173818933551, 1.1610173818933551, 1.1610173818933551, 1.064142238450527, 1.064142238450527, 1.0273120562821574, 1.0273120562821574, 1.0273120562821574, 1.0273120562821574, 1.0273120562821574, 1.0273120562821574, 1.0273120562821574, 0.8985329777788296, 0.84489501269634, 0.84489501269634, 0.8897131620808751, 0.8897131620808751, 0.8897131620808751, 0.8897131620808751, 0.8935143244193906, 8.03386168348993, 1.9400561187032677, 2.3599889300904393, 2.116117843484548, 7.618186865046932, 5.56255173325228, 4.300661861320409, 4.130779518108203, 2.7732238620025726, 2.0500227670870914, 2.0500227670870914, 1.9860394540789397, 1.9598435131564702, 1.8462310916125024, 1.2366426478788668, 1.2366426478788668, 1.2366426478788668, 1.2366426478788668, 1.2366426478788668, 1.1464633939482454, 1.1464633939482454, 1.0824801957590324, 1.0824801957590324, 1.0824801957590324, 1.0824801957590324, 1.0824801957590324, 0.84489501269634, 0.84489501269634, 0.8897131620808751, 0.8897131620808751, 0.8897131620808751, 0.8897131620808751, 0.8935143244193906, 0.8935143244193906, 0.8935143244193906, 0.8985329777788296, 0.8988582657655323, 8.03386168348993, 7.618186865046932, 4.300661861320409, 5.56255173325228, 5.93036693882097, 4.582398982244911, 4.020280706297289, 4.3722843112210965, 4.305969899137369, 4.014316463950428, 4.5692304238354655], \"Category\": [\"Default\", \"Default\", \"Default\", \"Default\", \"Default\", \"Default\", \"Default\", \"Default\", \"Default\", \"Default\", \"Default\", \"Default\", \"Default\", \"Default\", \"Default\", \"Default\", \"Default\", \"Default\", \"Default\", \"Default\", \"Default\", \"Default\", \"Default\", \"Default\", \"Default\", \"Default\", \"Default\", \"Default\", \"Default\", \"Default\", \"Topic1\", \"Topic1\", \"Topic1\", \"Topic1\", \"Topic1\", \"Topic1\", \"Topic1\", \"Topic1\", \"Topic1\", \"Topic1\", \"Topic1\", \"Topic1\", \"Topic1\", \"Topic1\", \"Topic1\", \"Topic1\", \"Topic1\", \"Topic1\", \"Topic1\", \"Topic1\", \"Topic1\", \"Topic1\", \"Topic1\", \"Topic1\", \"Topic1\", \"Topic1\", \"Topic1\", \"Topic1\", \"Topic1\", \"Topic1\", \"Topic1\", \"Topic2\", \"Topic2\", \"Topic2\", \"Topic2\", \"Topic2\", \"Topic2\", \"Topic2\", \"Topic2\", \"Topic2\", \"Topic2\", \"Topic2\", \"Topic2\", \"Topic2\", \"Topic2\", \"Topic2\", \"Topic2\", \"Topic2\", \"Topic2\", \"Topic2\", \"Topic2\", \"Topic2\", \"Topic2\", \"Topic2\", \"Topic2\", \"Topic2\", \"Topic2\", \"Topic2\", \"Topic2\", \"Topic2\", \"Topic2\", \"Topic3\", \"Topic3\", \"Topic3\", \"Topic3\", \"Topic3\", \"Topic3\", \"Topic3\", \"Topic3\", \"Topic3\", \"Topic3\", \"Topic3\", \"Topic3\", \"Topic3\", \"Topic3\", \"Topic3\", \"Topic3\", \"Topic3\", \"Topic3\", \"Topic3\", \"Topic3\", \"Topic3\", \"Topic3\", \"Topic3\", \"Topic3\", \"Topic3\", \"Topic3\", \"Topic3\", \"Topic3\", \"Topic3\", \"Topic3\", \"Topic3\", \"Topic4\", \"Topic4\", \"Topic4\", \"Topic4\", \"Topic4\", \"Topic4\", \"Topic4\", \"Topic4\", \"Topic4\", \"Topic4\", \"Topic4\", \"Topic4\", \"Topic4\", \"Topic4\", \"Topic4\", \"Topic4\", \"Topic4\", \"Topic4\", \"Topic4\", \"Topic4\", \"Topic4\", \"Topic4\", \"Topic4\", \"Topic4\", \"Topic4\", \"Topic4\", \"Topic4\", \"Topic4\", \"Topic4\", \"Topic4\", \"Topic4\", \"Topic5\", \"Topic5\", \"Topic5\", \"Topic5\", \"Topic5\", \"Topic5\", \"Topic5\", \"Topic5\", \"Topic5\", \"Topic5\", \"Topic5\", \"Topic5\", \"Topic5\", \"Topic5\", \"Topic5\", \"Topic5\", \"Topic5\", \"Topic5\", \"Topic5\", \"Topic5\", \"Topic5\", \"Topic5\", \"Topic5\", \"Topic5\", \"Topic5\", \"Topic5\", \"Topic5\", \"Topic5\", \"Topic5\", \"Topic5\", \"Topic5\", \"Topic5\", \"Topic5\", \"Topic5\", \"Topic6\", \"Topic6\", \"Topic6\", \"Topic6\", \"Topic6\", \"Topic6\", \"Topic6\", \"Topic6\", \"Topic6\", \"Topic6\", \"Topic6\", \"Topic6\", \"Topic6\", \"Topic6\", \"Topic6\", \"Topic6\", \"Topic6\", \"Topic6\", \"Topic6\", \"Topic6\", \"Topic6\", \"Topic6\", \"Topic6\", \"Topic6\", \"Topic6\", \"Topic6\", \"Topic6\", \"Topic6\", \"Topic6\", \"Topic6\", \"Topic6\", \"Topic6\", \"Topic6\", \"Topic6\", \"Topic6\", \"Topic6\", \"Topic6\", \"Topic7\", \"Topic7\", \"Topic7\", \"Topic7\", \"Topic7\", \"Topic7\", \"Topic7\", \"Topic7\", \"Topic7\", \"Topic7\", \"Topic7\", \"Topic7\", \"Topic7\", \"Topic7\", \"Topic7\", \"Topic7\", \"Topic7\", \"Topic7\", \"Topic7\", \"Topic7\", \"Topic7\", \"Topic7\", \"Topic7\", \"Topic7\", \"Topic7\", \"Topic7\", \"Topic7\", \"Topic7\", \"Topic7\", \"Topic7\", \"Topic7\", \"Topic7\", \"Topic7\", \"Topic7\", \"Topic8\", \"Topic8\", \"Topic8\", \"Topic8\", \"Topic8\", \"Topic8\", \"Topic8\", \"Topic8\", \"Topic8\", \"Topic8\", \"Topic8\", \"Topic8\", \"Topic8\", \"Topic8\", \"Topic8\", \"Topic8\", \"Topic8\", \"Topic8\", \"Topic8\", \"Topic8\", \"Topic8\", \"Topic8\", \"Topic8\", \"Topic8\", \"Topic8\", \"Topic8\", \"Topic8\", \"Topic8\", \"Topic8\", \"Topic8\", \"Topic8\", \"Topic8\", \"Topic8\", \"Topic8\", \"Topic8\", \"Topic8\", \"Topic8\", \"Topic8\", \"Topic9\", \"Topic9\", \"Topic9\", \"Topic9\", \"Topic9\", \"Topic9\", \"Topic9\", \"Topic9\", \"Topic9\", \"Topic9\", \"Topic9\", \"Topic9\", \"Topic9\", \"Topic9\", \"Topic9\", \"Topic9\", \"Topic9\", \"Topic9\", \"Topic9\", \"Topic9\", \"Topic9\", \"Topic9\", \"Topic9\", \"Topic9\", \"Topic9\", \"Topic9\", \"Topic9\", \"Topic9\", \"Topic9\", \"Topic9\", \"Topic9\", \"Topic9\", \"Topic9\", \"Topic9\", \"Topic9\", \"Topic9\", \"Topic9\", \"Topic10\", \"Topic10\", \"Topic10\", \"Topic10\", \"Topic10\", \"Topic10\", \"Topic10\", \"Topic10\", \"Topic10\", \"Topic10\", \"Topic10\", \"Topic10\", \"Topic10\", \"Topic10\", \"Topic10\", \"Topic10\", \"Topic10\", \"Topic10\", \"Topic10\", \"Topic10\", \"Topic10\", \"Topic10\", \"Topic10\", \"Topic10\", \"Topic10\", \"Topic10\", \"Topic10\", \"Topic10\", \"Topic10\", \"Topic10\", \"Topic10\", \"Topic10\", \"Topic10\", \"Topic10\", \"Topic10\", \"Topic10\", \"Topic10\", \"Topic10\", \"Topic10\", \"Topic10\", \"Topic10\"], \"logprob\": [30.0, 29.0, 28.0, 27.0, 26.0, 25.0, 24.0, 23.0, 22.0, 21.0, 20.0, 19.0, 18.0, 17.0, 16.0, 15.0, 14.0, 13.0, 12.0, 11.0, 10.0, 9.0, 8.0, 7.0, 6.0, 5.0, 4.0, 3.0, 2.0, 1.0, -2.6756, -2.9308, -3.0035, -3.185, -3.2405, -3.3698, -3.5272, -3.5769, -3.6386, -3.7054, -3.7054, -3.825, -3.825, -3.825, -3.825, -3.825, -3.825, -3.825, -3.9021, -3.9021, -3.9608, -4.0087, -4.0087, -4.0087, -4.0087, -4.0087, -4.0087, -4.0087, -4.0497, -4.0497, -3.3525, -2.6052, -2.6415, -2.6954, -2.7182, -2.8716, -2.9503, -3.0704, -3.2913, -3.4107, -3.5722, -3.5722, -3.639, -3.7585, -3.7585, -3.7585, -3.7585, -3.7585, -3.7585, -3.7585, -3.7585, -3.8357, -3.8357, -3.8943, -3.9423, -3.9423, -3.9423, -4.0515, -4.0515, -4.0809, -4.1564, -2.5116, -2.6431, -2.9034, -2.9136, -3.0785, -3.1675, -3.1797, -3.3163, -3.5153, -3.6348, -3.6348, -3.712, -3.712, -3.712, -3.712, -3.7706, -3.7706, -3.8185, -3.8185, -3.8595, -3.8595, -3.8595, -3.8595, -3.8595, -3.8595, -4.0326, -4.0547, -4.1665, -4.1665, -4.1665, -2.4938, -2.4539, -2.8885, -2.9749, -2.9889, -3.2294, -3.3153, -3.3153, -3.3692, -3.3692, -3.4092, -3.5436, -3.6631, -3.6631, -3.6631, -3.6631, -3.6631, -3.6631, -3.7403, -3.8468, -3.8468, -3.8878, -3.8878, -3.8878, -3.8878, -3.8878, -3.8878, -3.9561, -3.9561, -3.9561, -3.9561, -3.0869, -2.064, -2.3212, -2.4791, -2.5441, -2.7135, -3.4383, -3.5155, -3.622, -3.622, -3.622, -3.622, -3.622, -3.622, -3.622, -3.663, -3.663, -3.663, -3.663, -3.663, -3.7876, -3.7876, -3.7876, -3.7876, -3.7876, -3.7876, -3.9861, -9.7407, -9.7407, -9.7407, -9.7407, -9.7407, -9.7407, -9.7407, -9.7407, -1.7202, -2.3635, -2.3915, -2.5172, -3.2385, -3.3581, -3.3581, -3.3581, -3.4352, -3.4352, -3.4352, -3.4352, -3.4352, -3.4939, -3.4939, -3.778, -3.778, -3.778, -3.778, -3.8898, -3.8898, -3.8898, -3.8898, -9.6605, -9.6605, -9.6605, -9.6605, -9.6605, -9.6605, -9.6605, -9.6604, -9.6604, -9.6604, -9.6604, -9.6605, -9.6605, -9.6605, -2.4519, -2.5121, -2.6236, -2.7931, -2.8588, -3.0517, -3.0785, -3.1376, -3.1376, -3.3658, -3.4854, -3.4854, -3.4854, -3.4854, -3.4854, -3.5626, -3.5626, -3.6212, -3.6691, -3.7783, -3.7783, -3.7783, -3.7783, -3.7783, -3.8347, -4.1945, -9.7878, -9.7878, -9.7878, -9.7878, -9.7877, -9.7878, -9.7878, -9.7878, -2.5275, -2.559, -2.559, -2.6687, -2.8671, -2.8671, -2.9404, -3.0195, -3.3336, -3.3336, -3.4532, -3.4532, -3.4532, -3.5304, -3.5304, -3.5304, -3.5304, -3.6779, -3.6779, -3.7462, -3.7462, -2.4664, -9.7556, -9.7556, -9.7556, -9.7556, -9.7556, -9.7556, -9.7556, -9.7556, -9.7556, -9.7556, -9.7556, -9.7556, -9.7556, -9.7556, -9.7556, -9.7556, -1.7935, -2.6504, -2.654, -2.8369, -2.8369, -3.1846, -3.3041, -3.3041, -3.3813, -3.4399, -3.4399, -3.4399, -3.4399, -3.5289, -3.5289, -3.5648, -3.5648, -3.5648, -3.5648, -3.5648, -3.5648, -3.5648, -3.702, -9.6066, -9.6066, -9.6066, -9.6066, -9.6066, -9.6066, -9.6066, -9.6061, -9.6065, -9.6065, -9.6065, -9.6066, -9.6066, -9.6066, -2.0152, -2.4164, -2.7214, -2.7214, -2.7535, -2.7669, -2.8273, -3.2342, -3.2342, -3.2342, -3.2342, -3.2342, -3.3114, -3.3114, -3.37, -3.37, -3.37, -3.37, -3.37, -9.5366, -9.5366, -9.5366, -9.5366, -9.5366, -9.5366, -9.5366, -9.5366, -9.5366, -9.5366, -9.5366, -9.5362, -9.5366, -9.5366, -9.5366, -9.5366, -9.5366, -9.5366, -9.5366, -9.5366, -9.5366, -9.5366], \"loglift\": [30.0, 29.0, 28.0, 27.0, 26.0, 25.0, 24.0, 23.0, 22.0, 21.0, 20.0, 19.0, 18.0, 17.0, 16.0, 15.0, 14.0, 13.0, 12.0, 11.0, 10.0, 9.0, 8.0, 7.0, 6.0, 5.0, 4.0, 3.0, 2.0, 1.0, 1.9912, 1.9897, 1.9892, 1.9878, 1.9873, 1.9861, 1.9844, 1.9838, 1.983, 1.9821, 1.9821, 1.9803, 1.9803, 1.9803, 1.9803, 1.9803, 1.9803, 1.9803, 1.979, 1.979, 1.978, 1.9771, 1.9771, 1.9771, 1.9771, 1.9771, 1.9771, 1.9771, 1.9763, 1.9763, 1.745, 2.0419, 2.0418, 2.0415, 2.0413, 2.0404, 2.0399, 2.039, 2.037, 2.0358, 2.0339, 2.0339, 2.033, 2.0312, 2.0312, 2.0312, 2.0312, 2.0312, 2.0312, 2.0312, 2.0312, 2.03, 2.03, 2.0289, 2.0281, 2.0281, 2.0281, 2.0259, 2.0259, 2.0253, 2.0236, 2.1083, 2.1076, 2.106, 2.1059, 2.1046, 2.1038, 2.1037, 2.1023, 2.1, 2.0983, 2.0983, 2.0972, 2.0972, 2.0972, 2.0972, 2.0962, 2.0962, 2.0954, 2.0954, 2.0946, 2.0946, 2.0946, 2.0946, 2.0946, 2.0946, 2.0912, 2.0907, 2.0881, 2.0881, 2.0881, 1.5645, 2.1688, 2.1661, 2.1654, 2.1653, 2.1631, 2.1621, 2.1621, 2.1615, 2.1615, 2.161, 2.1592, 2.1574, 2.1574, 2.1574, 2.1574, 2.1574, 2.1574, 2.1561, 2.1541, 2.1541, 2.1533, 2.1533, 2.1533, 2.1533, 2.1533, 2.1533, 2.1519, 2.1519, 2.1519, 2.1519, 1.8781, 2.362, 2.3608, 2.3599, 2.3595, 2.3583, 2.3503, 2.349, 2.3471, 2.3471, 2.3471, 2.3471, 2.3471, 2.3471, 2.3471, 2.3464, 2.3464, 2.3464, 2.3464, 2.3464, 2.3438, 2.3438, 2.3438, 2.3438, 2.3438, 2.3438, 0.9789, -3.4301, -3.4301, -3.4818, -3.4818, -4.6854, -4.2726, -4.2613, -4.4573, 2.3913, 2.3887, 2.3885, 2.3878, 2.381, 2.3794, 2.3794, 2.3794, 2.3782, 2.3782, 2.3782, 2.3782, 2.3782, 2.3772, 2.3772, 2.3717, 2.3717, 2.3717, 2.3717, 2.3691, 2.3691, 2.3691, 2.3691, -3.3499, -3.3499, -3.4058, -3.4058, -3.4058, -3.4114, -3.4118, -4.7483, -4.6486, -4.268, -5.0406, -4.9772, -5.6021, -5.2345, 2.4329, 2.4325, 2.4317, 2.4303, 2.4297, 2.4276, 2.4273, 2.4266, 2.4266, 2.4234, 2.4214, 2.4214, 2.4214, 2.4214, 2.4214, 2.42, 2.42, 2.4188, 2.4178, 2.4153, 2.4153, 2.4153, 2.4153, 2.4153, 2.414, 0.903, -3.4772, -3.4772, -3.5289, -3.5289, -4.4318, -4.5599, -5.7294, -5.6763, 2.453, 2.4528, 2.4528, 2.4519, 2.4501, 2.4501, 2.4494, 2.4485, 2.4443, 2.4443, 2.4423, 2.4423, 2.4423, 2.4409, 2.4409, 2.4409, 2.4409, 2.4379, 2.4379, 2.4364, 2.4364, 1.592, -3.445, -3.445, -3.4967, -3.4967, -3.4967, -3.4967, -3.501, -3.501, -5.6441, -5.3296, -5.3937, -5.0723, -5.032, -5.1358, -5.0049, -5.0889, 2.5685, 2.5634, 2.5633, 2.5616, 2.5616, 2.5572, 2.5553, 2.5553, 2.5539, 2.5528, 2.5528, 2.5528, 2.5528, 2.551, 2.551, 2.5502, 2.5502, 2.5502, 2.5502, 2.5502, 2.5502, 2.5502, 2.547, -3.296, -3.296, -3.3477, -3.3477, -3.3477, -3.3477, -3.3519, -5.5477, -4.1272, -4.3231, -4.2141, -5.4951, -5.1806, -4.9233, 2.7084, 2.7057, 2.7028, 2.7028, 2.7024, 2.7023, 2.7015, 2.6954, 2.6954, 2.6954, 2.6954, 2.6954, 2.694, 2.694, 2.6928, 2.6928, 2.6928, 2.6928, 2.6928, -3.226, -3.226, -3.2777, -3.2777, -3.2777, -3.2777, -3.282, -3.282, -3.282, -3.2876, -3.2879, -5.4778, -5.4251, -4.8533, -5.1106, -5.1747, -4.9168, -4.7859, -4.8699, -4.8546, -4.7844, -4.9139]}, \"token.table\": {\"Topic\": [3, 4, 5, 2, 6, 4, 6, 8, 6, 7, 9, 10, 2, 4, 8, 9, 7, 8, 1, 5, 6, 1, 8, 4, 5, 1, 6, 7, 3, 5, 3, 2, 1, 1, 1, 1, 6, 3, 1, 7, 2, 8, 3, 4, 1, 10, 1, 2, 2, 3, 1, 1, 10, 10, 4, 7, 1, 7, 4, 1, 7, 8, 4, 2, 7, 2, 4, 5, 2, 1, 7, 2, 6, 9, 10, 9, 9, 3, 2, 3, 8, 4, 8, 1, 3, 1, 7, 4, 9, 5, 7, 2, 9, 9, 2, 1, 5, 1, 4, 3, 5, 4, 6, 4, 7, 1, 9, 4, 2, 8, 2, 7, 4, 7, 5, 5, 5, 7, 7, 2, 3, 8, 6, 8, 4, 8, 3, 6, 6, 2, 9, 3, 4, 2, 2, 10, 2, 9, 9, 4, 3, 4, 3, 5, 10, 7, 5, 5, 5, 4, 4, 9, 10, 3, 8, 6, 6, 3, 2, 8, 1, 10, 3, 10, 8, 7, 6, 7, 1, 10, 5, 2, 1, 9, 5, 3, 3, 1, 5, 4, 10, 2, 3, 10, 3, 9, 3, 10, 5, 4, 1, 6, 4, 10, 3, 5, 2, 5, 5, 9, 1, 7, 3, 3, 3, 2, 5, 6, 5, 6, 3, 1, 4, 4, 7, 8, 2, 3, 7, 2, 6, 1, 9, 10, 9, 8, 9, 7, 2, 2, 10, 5, 6, 6, 2, 6, 2, 9, 8, 8, 4, 1, 2, 6, 4, 4, 10, 8, 1, 4, 8, 5, 9, 8, 7, 9, 1, 10, 7, 7, 3, 3, 6, 9], \"Freq\": [0.9664603010552505, 0.9451269484626904, 0.8412414048863596, 1.003826982899565, 1.123957745731427, 0.9039995028583984, 0.6672490169119255, 0.6948365355824447, 0.7626638716348699, 1.0530086415542024, 1.011741779538666, 0.8086410425155848, 0.8422448906005114, 1.0851796317727165, 0.876664044996439, 0.8613135475794752, 0.7981558087775817, 0.6948365355824447, 0.8553494697952526, 1.0868393405473127, 0.6672490169119255, 0.8904071941062555, 1.0802266643424434, 0.6163775554113989, 0.30818877770569947, 0.816026605552287, 1.0076930789866352, 0.9059191327949154, 0.8287159421320482, 0.8757336814483295, 1.1809934061291847, 0.9481330305520173, 0.8553494697952526, 0.8553494697952526, 0.8553494697952526, 0.9112428021130696, 1.0076930789866352, 1.1191762377730254, 1.18852794737581, 0.7903468267776131, 0.8863980999172301, 0.8430340887762201, 0.7960382572261681, 1.0112296348415704, 0.8553494697952526, 1.0204896393890424, 1.1182764396122404, 1.2499217012292652, 0.8422448906005114, 1.003393558667761, 0.7140559189057001, 0.7140559189057001, 0.9238044297880226, 0.8086410425155848, 1.1171171322188673, 1.1125224499641533, 0.7037015605081554, 0.3518507802540777, 0.7250056410934277, 0.7140559189057001, 0.9029642439772338, 0.8430340887762201, 0.7250056410934277, 0.8035121710184686, 1.0530086415542024, 0.7585397619331958, 0.9664821678472226, 0.8757336814483295, 1.0386822589533118, 0.8843399996968527, 0.7903468267776131, 0.7030775412262444, 1.1861072395807022, 0.9507844750798445, 0.9238044297880226, 0.9734140603966046, 0.9734140603966046, 0.994955400436213, 0.8768865501313613, 0.8287159421320482, 0.876664044996439, 0.9039995028583984, 0.8430340887762201, 0.7140559189057001, 0.7168420934839652, 0.9505272667943482, 0.8525454460482457, 0.9039995028583984, 0.9397239991677023, 0.989392987944176, 0.851798642854141, 1.18357900682674, 0.8613135475794752, 0.7933151783490952, 1.1702004040913607, 0.7703673721737526, 0.989392987944176, 0.7140559189057001, 1.288984241526399, 0.9763567671026395, 0.7576341380378806, 1.101782517658871, 1.0501186360635058, 0.7250056410934277, 1.1221757229448381, 0.9148535903153278, 0.9507844750798445, 1.0851796317727165, 0.7030775412262444, 0.8430340887762201, 0.9374230590396275, 0.7903468267776131, 0.8684183972462703, 1.0118958666838622, 0.989392987944176, 0.8412414048863596, 0.8757336814483295, 1.0530086415542024, 1.0530086415542024, 0.8971016726825831, 0.7960382572261681, 1.0192999191226768, 1.0076930789866352, 0.7815156895437376, 0.7250056410934277, 1.041319816593685, 0.7168420934839652, 1.0245963543044265, 0.719936200834139, 1.1702004040913607, 0.8131725054048795, 0.6643775397354549, 0.9039995028583984, 1.0681672504533466, 0.7030775412262444, 0.8722476489686707, 0.9976284932743813, 0.6701353897708707, 0.9734140603966046, 0.7250056410934277, 0.7168420934839652, 0.8684183972462703, 1.1498941730044066, 0.8412414048863596, 0.8086410425155848, 0.8525454460482457, 0.8757336814483295, 1.0287845053559168, 0.8412414048863596, 1.0942761769941427, 0.9664821678472226, 0.8613135475794752, 0.9755989211972658, 0.6223657061802921, 0.3734194237081752, 1.123957745731427, 1.123957745731427, 0.8373056852842488, 0.7030775412262444, 0.7815156895437376, 1.0646697046713771, 1.0832880071655577, 0.970164392513917, 0.9238044297880226, 0.9688545525703653, 1.0586187646779317, 0.7626638716348699, 0.9463763452768225, 0.7140559189057001, 0.8722476489686707, 0.8695504073840878, 0.7030775412262444, 0.8553494697952526, 0.9734140603966046, 0.8412414048863596, 0.7593896593662823, 0.7593896593662823, 0.7140559189057001, 1.078641653637611, 0.9664821678472226, 0.9755989211972658, 0.9813023546922518, 1.1191762377730254, 0.8086410425155848, 1.1191762377730254, 0.9734140603966046, 0.8287159421320482, 0.9683402327490728, 0.8757336814483295, 1.0289084585406172, 1.2694778789236443, 1.123957745731427, 0.9039995028583984, 0.9238044297880226, 0.8287159421320482, 0.9289428615841775, 0.7585397619331958, 0.8412414048863596, 0.7022369409595454, 0.8613135475794752, 1.1380787295699333, 1.1221757229448381, 0.8287159421320482, 1.0911315272574775, 0.6643775397354549, 1.18357900682674, 0.989392987944176, 0.9964336483984275, 0.989392987944176, 0.8707391265028033, 0.8474616022556327, 0.8553494697952526, 1.0289084585406172, 0.782163581469256, 1.0308980140929114, 0.9426166933629598, 0.8422448906005114, 0.7168420934839652, 0.7903468267776131, 0.7030775412262444, 0.719936200834139, 0.8016886388585187, 0.9734140603966046, 1.0070293396701602, 0.7537915852997532, 0.9688544011593405, 1.185731676426642, 0.7027055669840688, 0.7030775412262444, 0.9374230590396275, 1.0817734698971146, 0.8412414048863596, 0.719936200834139, 1.0076930789866352, 0.7030775412262444, 0.719936200834139, 0.9647439582830678, 1.1129252066763275, 0.9390366146936339, 0.9741185683019348, 0.7250056410934277, 1.2694778789236443, 0.9300893976286483, 0.719936200834139, 0.9664821678472226, 0.9039995028583984, 0.9238044297880226, 1.041319816593685, 0.8904071941062555, 1.1289880835522008, 0.9741185683019348, 0.989392987944176, 0.9397239991677023, 0.7815156895437376, 1.0530086415542024, 0.9734140603966046, 0.7703673721737526, 0.8086410425155848, 0.7903468267776131, 0.8533007121789223, 0.9819664701409435, 0.8287159421320482, 0.6672490169119255, 0.7537915852997532], \"Term\": [\"\\uac00\\uc7a5\", \"\\uac00\\uc871\", \"\\uac00\\uc9c0\\ub2e4\", \"\\uac15\\uc544\\uc9c0\", \"\\uac19\\uc774\", \"\\uac1c\\ubd09\", \"\\uac1c\\uc778\", \"\\uac74\\uac15\", \"\\uac80\\uc0c9\\uc5b4\", \"\\uac80\\ud1a0\", \"\\uac8c\\uc784\", \"\\uaca8\\uc6b8\\uc655\\uad6d\", \"\\uacbd\\uc81c\", \"\\uacbd\\ud5d8\", \"\\uace0\\uc591\\uc774\", \"\\uace8\\ud504\", \"\\uacf5\\uac10\", \"\\uacf5\\uac10\\ub300\", \"\\uacf5\\ub7b5\", \"\\uacf5\\uc720\", \"\\uacfc\\uc678\", \"\\uacfc\\uc81c\", \"\\uad00\\ub828\", \"\\uad00\\uc2ec\", \"\\uad00\\uc2ec\", \"\\uad00\\uc2ec\\uac70\\ub9ac\", \"\\uad00\\ud558\\ub2e4\", \"\\uad50\\uc721\", \"\\uad6c\\ub3c4\", \"\\uad6c\\ub3c5\\uc790\\uc218\", \"\\uad6c\\uc785\", \"\\uadc0\\uc5fd\\ub2e4\", \"\\uadf8\\ub300\\ub85c\", \"\\uadf8\\uc800\", \"\\uae30\\ub150\", \"\\uae30\\ub85d\", \"\\uae30\\uc5b5\", \"\\uae30\\uc6b8\\uc774\\ub2e4\", \"\\uae30\\uc874\", \"\\ub098\\ub77c\", \"\\ub098\\uc624\\ub2e4\", \"\\ub0a8\\uae30\\ub2e4\", \"\\ub0a8\\uc790\", \"\\ub0b4\\uc6a9\", \"\\ub108\\ubb34\", \"\\ub178\\ub798\", \"\\ub178\\ub825\", \"\\ub208\\uc2f8\\uc6c0\", \"\\ub290\\ub07c\\ub2e4\", \"\\ub2e4\\ub8e8\\ub2e4\", \"\\ub2e4\\ub978\", \"\\ub2e4\\uc2dc\", \"\\ub2e4\\uc591\", \"\\ub2e4\\uc774\\uc5b4\\ud2b8\", \"\\ub300\\ud558\\ub2e4\", \"\\ub300\\ud559\\uc6d0\", \"\\ub3c4\\uc6c0\", \"\\ub3c4\\uc6c0\", \"\\ub3d9\\uae30\", \"\\ub3d9\\ub124\", \"\\ub3d9\\ub8cc\", \"\\ub3d9\\ubb3c\", \"\\ub3d9\\ucc3d\", \"\\ub3d9\\ud638\\ud68c\", \"\\ub4dc\\ub9ac\\ub2e4\", \"\\ub4e4\\uc5b4\\uac00\\ub2e4\", \"\\ub4e4\\uc774\\ub2e4\", \"\\ub531\\ud788\", \"\\ub77c\\uc774\", \"\\ub77c\\uc774\\ube0c\", \"\\ub808\\uace0\", \"\\ub808\\uace0\\ud504\\ub80c\\uc988\", \"\\ub85c\\ub610\", \"\\ub9ac\\ubdf0\", \"\\ub9ac\\uc561\\uc158\", \"\\ub9c8\\uc74c\", \"\\ub9c8\\uc9c0\\ub9c9\", \"\\ub9cc\\ub4e4\\ub2e4\", \"\\ub9ce\\uc774\", \"\\ub9e4\\ub044\\ub7fd\\ub2e4\", \"\\uba39\\ubc29\", \"\\uba4b\\uc9c0\\ub2e4\", \"\\uba54\\ub274\", \"\\uba54\\ucd94\\ub9ac\", \"\\ubaa8\\ub4e0\", \"\\ubaa8\\uc2b5\", \"\\ubb38\\ud654\", \"\\ubc00\\uc811\", \"\\ubc14\\ud0d5\", \"\\ubc18\\uacbd\", \"\\ubc18\\ub824\", \"\\ubc18\\uc751\", \"\\ubc29\\ubc95\", \"\\ubc29\\uc1a1\", \"\\ubc30\\uacbd\\uc74c\\uc545\", \"\\ubc34\\ub4dc\", \"\\ubc94\\uc704\", \"\\ubca0\\uc774\\ube44\", \"\\ubca0\\uc774\\ud0b9\", \"\\ubcf4\\uc774\\ub2e4\", \"\\ubd80\\ub974\\ub2e4\", \"\\ubd84\\uc57c\", \"\\ube0c\\uc774\\ub85c\\uadf8\", \"\\ube14\\ub85c\\uadf8\", \"\\ube44\\uad50\", \"\\uc0ac\\ub78c\", \"\\uc0ac\\uc6a9\", \"\\uc0ac\\ud68c\", \"\\uc0b0\\ucc45\", \"\\uc0c8\\ub86d\\ub2e4\", \"\\uc0dd\\uac01\", \"\\uc0dd\\ubc29\\uc1a1\", \"\\uc0dd\\uc77c\\ub0a0\", \"\\uc0dd\\ud65c\", \"\\uc131\\uacf5\", \"\\uc138\\uc77c\", \"\\uc18c\\uac1c\", \"\\uc18c\\ube44\", \"\\uc18c\\ube44\\uc790\", \"\\uc18c\\ud1b5\", \"\\uc190\\uc27d\\ub2e4\", \"\\uc218\\uc5c5\", \"\\uc218\\uc9d1\", \"\\uc2a4\\ud0c0\\uc77c\", \"\\uc2a4\\ud53c\\ub4dc\", \"\\uc2dc\\uac04\", \"\\uc2dc\\uc2b9\", \"\\uc2dc\\uccad\\uc790\", \"\\uc2dd\\ubb3c\", \"\\uc2e0\\uacbd\", \"\\uc2e0\\uaddc\", \"\\uc2e4\\ub825\", \"\\uc2e4\\ubb34\", \"\\uc2e4\\uc2dc\\uac04\", \"\\uc2e4\\uccb4\", \"\\uc544\\uae30\", \"\\uc544\\uc774\", \"\\uc544\\uc9c1\", \"\\uc544\\ud504\\ub2e4\", \"\\uc54c\\ucc28\\ub2e4\", \"\\uc560\\ucc29\", \"\\uc5b4\\ub974\\uc2e0\", \"\\uc5b4\\ub9ac\\ub2e4\", \"\\uc5b8\\ub355\", \"\\uc5b8\\ubc15\\uc2f1\", \"\\uc5b8\\uc5b4\", \"\\uc5bd\\ub9e4\\uc774\\ub2e4\", \"\\uc5c5\\ub85c\\ub4dc\", \"\\uc5ec\\ub984\", \"\\uc5ec\\ud589\", \"\\uc5ed\\uc0ac\", \"\\uc5f0\\uc2b5\", \"\\uc5f0\\uc8fc\", \"\\uc601\\uc0c1\", \"\\uc601\\uc0c1\", \"\\uc601\\uc0c1\\uad6c\\ub3c4\", \"\\uc601\\uc0c1\\uae30\\ubc95\", \"\\uc601\\uc0c1\\ubbf8\", \"\\uc601\\ud654\", \"\\uc628\\ub77c\\uc778\", \"\\uc62c\\ub9ac\\ub2e4\", \"\\uc694\\ub9ac\", \"\\uc694\\uc18c\", \"\\uc6a9\\uc774\", \"\\uc6b4\\ub3d9\", \"\\uc704\\ud558\\ub2e4\", \"\\uc720\\uba85\\ud55c\", \"\\uc720\\ud22c\", \"\\uc721\\uc544\", \"\\uc74c\\uc2dd\", \"\\uc74c\\uc545\", \"\\uc74c\\uc6d0\", \"\\uc758\\ubbf8\", \"\\uc774\\ub8e8\\uc5b4\\uc9c0\\ub2e4\", \"\\uc774\\ubcc4\", \"\\uc778\\uae30\", \"\\uc778\\uc0c1\", \"\\uc778\\ucc9c\", \"\\uc77c\\uc0c1\", \"\\uc790\\ub140\", \"\\uc790\\uc5f0\", \"\\uc790\\uc720\", \"\\uc791\\uc5c5\", \"\\uc7a5\\ub09c\\uac10\", \"\\uc7a5\\uc18c\", \"\\uc7ac\\uac74\\ucd95\", \"\\uc7ac\\ubbf8\", \"\\uc7ac\\ubbf8\\uc788\\ub2e4\", \"\\uc800\\uc7a5\", \"\\uc804\\ub2ec\", \"\\uc804\\ub2ec\\ub825\", \"\\uc804\\ubc18\\uc801\", \"\\uc804\\uc790\\uc81c\\ud488\", \"\\uc811\\uadfc\\uc131\", \"\\uc811\\ud558\\ub2e4\", \"\\uc815\\ubcf4\", \"\\uc815\\uc131\", \"\\uc815\\uc5fd\", \"\\uc81c\\uacf5\", \"\\uc81c\\uc77c\", \"\\uc81c\\uc791\", \"\\uc81c\\ud488\", \"\\uc870\\uae08\", \"\\uc88b\\uc544\\ud558\\ub2e4\", \"\\uc8fc\\uc2dd\", \"\\uc8fc\\uc758\", \"\\uc8fc\\uc7a5\", \"\\uc8fc\\uc81c\", \"\\uc911\\uc694\", \"\\uc990\\uac70\\uc6c0\", \"\\uc990\\uae30\\ub2e4\", \"\\uc9c0\\uae08\", \"\\uc9c0\\uc2dd\", \"\\uc9c0\\uc774\", \"\\uc9c1\\uc7a5\", \"\\uc9c1\\uc811\", \"\\uc9d1\\uc911\", \"\\ucc28\\ub7c9\", \"\\ucc3d\\ub2e8\", \"\\ucc44\\ub110\", \"\\ucc44\\ud305\", \"\\ucc98\\uc74c\", \"\\ucca0\\uac70\", \"\\ucd2c\\uc601\", \"\\ucd5c\\ub300\\ud55c\", \"\\ucd94\\uc5b5\", \"\\ucde8\\ubbf8\", \"\\ucea0\\ud551\", \"\\ucee4\\ubc84\", \"\\ucee8\\uc149\", \"\\ucf58\\ud150\\uce20\", \"\\ucfe0\\ub9ac\\ucf54\", \"\\ud0a4\\uc6b0\\ub2e4\", \"\\ud14c\\uc774\\ube14\", \"\\ud1a0\\ud06c\", \"\\ud1a0\\ud0b9\", \"\\ud2b9\\uc815\", \"\\ud2b9\\uc9d5\", \"\\ud328\\uc158\", \"\\ud328\\uc158\\uc1fc\", \"\\ud398\\uc778\\ud305\", \"\\ud3b8\\uc548\", \"\\ud3b8\\uc9d1\", \"\\ud3b8\\ud558\\ub2e4\", \"\\ud3c9\\uc18c\", \"\\ud48d\\uacbd\", \"\\ud50c\\ub808\\uc774\", \"\\ud558\\uc6b8\", \"\\ud559\\uad50\", \"\\ud568\\uaed8\", \"\\ud574\\uc678\", \"\\ud589\\ubcf5\", \"\\ud589\\ubcf5\\uac10\", \"\\ud5ec\\uc2a4\\uc7a5\", \"\\ud604\\uba85\", \"\\ud604\\uc7a5\", \"\\ud64d\\ubcf4\", \"\\ud658\\uacbd\", \"\\ud65c\\uae30\\ucc28\\ub2e4\", \"\\ud65c\\ub3d9\", \"\\ud6c4\\uc6d0\", \"\\ud758\\ub7ec\\uac00\\ub2e4\", \"\\ud765\\ubbf8\", \"\\ud798\\ub4e4\\ub2e4\"]}, \"R\": 30, \"lambda.step\": 0.01, \"plot.opts\": {\"xlab\": \"PC1\", \"ylab\": \"PC2\"}, \"topic.order\": [10, 3, 7, 9, 4, 1, 8, 5, 6, 2]};\n",
      "\n",
      "function LDAvis_load_lib(url, callback){\n",
      "  var s = document.createElement('script');\n",
      "  s.src = url;\n",
      "  s.async = true;\n",
      "  s.onreadystatechange = s.onload = callback;\n",
      "  s.onerror = function(){console.warn(\"failed to load library \" + url);};\n",
      "  document.getElementsByTagName(\"head\")[0].appendChild(s);\n",
      "}\n",
      "\n",
      "if(typeof(LDAvis) !== \"undefined\"){\n",
      "   // already loaded: just create the visualization\n",
      "   !function(LDAvis){\n",
      "       new LDAvis(\"#\" + \"ldavis_el17702140518197008864245933325\", ldavis_el17702140518197008864245933325_data);\n",
      "   }(LDAvis);\n",
      "}else if(typeof define === \"function\" && define.amd){\n",
      "   // require.js is available: use it to load d3/LDAvis\n",
      "   require.config({paths: {d3: \"https://d3js.org/d3.v5\"}});\n",
      "   require([\"d3\"], function(d3){\n",
      "      window.d3 = d3;\n",
      "      LDAvis_load_lib(\"https://cdn.jsdelivr.net/gh/bmabey/pyLDAvis@3.2.2/pyLDAvis/js/ldavis.v3.0.0.js\", function(){\n",
      "        new LDAvis(\"#\" + \"ldavis_el17702140518197008864245933325\", ldavis_el17702140518197008864245933325_data);\n",
      "      });\n",
      "    });\n",
      "}else{\n",
      "    // require.js not available: dynamically load d3 & LDAvis\n",
      "    LDAvis_load_lib(\"https://d3js.org/d3.v5.js\", function(){\n",
      "         LDAvis_load_lib(\"https://cdn.jsdelivr.net/gh/bmabey/pyLDAvis@3.2.2/pyLDAvis/js/ldavis.v3.0.0.js\", function(){\n",
      "                 new LDAvis(\"#\" + \"ldavis_el17702140518197008864245933325\", ldavis_el17702140518197008864245933325_data);\n",
      "            })\n",
      "         });\n",
      "}\n",
      "</script></body></html>\n"
     ]
    }
   ],
   "source": [
    "print(soup)"
   ]
  }
 ],
 "metadata": {
  "kernelspec": {
   "display_name": "Python 3",
   "language": "python",
   "name": "python3"
  },
  "language_info": {
   "codemirror_mode": {
    "name": "ipython",
    "version": 3
   },
   "file_extension": ".py",
   "mimetype": "text/x-python",
   "name": "python",
   "nbconvert_exporter": "python",
   "pygments_lexer": "ipython3",
   "version": "3.8.1"
  },
  "toc": {
   "base_numbering": 1,
   "nav_menu": {},
   "number_sections": true,
   "sideBar": true,
   "skip_h1_title": false,
   "title_cell": "Table of Contents",
   "title_sidebar": "Contents",
   "toc_cell": false,
   "toc_position": {},
   "toc_section_display": true,
   "toc_window_display": false
  },
  "varInspector": {
   "cols": {
    "lenName": 16,
    "lenType": 16,
    "lenVar": 40
   },
   "kernels_config": {
    "python": {
     "delete_cmd_postfix": "",
     "delete_cmd_prefix": "del ",
     "library": "var_list.py",
     "varRefreshCmd": "print(var_dic_list())"
    },
    "r": {
     "delete_cmd_postfix": ") ",
     "delete_cmd_prefix": "rm(",
     "library": "var_list.r",
     "varRefreshCmd": "cat(var_dic_list()) "
    }
   },
   "types_to_exclude": [
    "module",
    "function",
    "builtin_function_or_method",
    "instance",
    "_Feature"
   ],
   "window_display": false
  }
 },
 "nbformat": 4,
 "nbformat_minor": 4
}
