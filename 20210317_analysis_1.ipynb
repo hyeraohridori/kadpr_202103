{
 "cells": [
  {
   "cell_type": "code",
   "execution_count": 1,
   "metadata": {
    "ExecuteTime": {
     "end_time": "2021-03-17T02:16:21.135913Z",
     "start_time": "2021-03-17T02:16:20.710546Z"
    }
   },
   "outputs": [],
   "source": [
    "#pip install --upgrade tomotopy\n",
    "#pip install --upgrade pandas\n",
    "#pip install reshape\n",
    "#pip install gensim\n",
    "\n",
    "import re\n",
    "import numpy as np\n",
    "import tomotopy as tp\n",
    "from kiwipiepy import Kiwi, Option\n",
    "from pyvis.network import Network"
   ]
  },
  {
   "cell_type": "code",
   "execution_count": 2,
   "metadata": {
    "ExecuteTime": {
     "end_time": "2021-03-17T02:16:21.959285Z",
     "start_time": "2021-03-17T02:16:21.138441Z"
    }
   },
   "outputs": [],
   "source": [
    "kiwi = Kiwi()"
   ]
  },
  {
   "cell_type": "code",
   "execution_count": 3,
   "metadata": {
    "ExecuteTime": {
     "end_time": "2021-03-17T02:16:22.751516Z",
     "start_time": "2021-03-17T02:16:21.961245Z"
    }
   },
   "outputs": [
    {
     "data": {
      "text/plain": [
       "<kiwipiepy.Kiwi at 0x7fd00e1b89d0>"
      ]
     },
     "execution_count": 3,
     "metadata": {},
     "output_type": "execute_result"
    }
   ],
   "source": [
    "Kiwi(num_workers=-0, model_path='./', options=Option.LOAD_DEFAULT_DICTIONARY | Option.INTEGRATE_ALLOMORPH)"
   ]
  },
  {
   "cell_type": "code",
   "execution_count": 4,
   "metadata": {
    "ExecuteTime": {
     "end_time": "2021-03-17T02:16:24.026978Z",
     "start_time": "2021-03-17T02:16:22.753313Z"
    }
   },
   "outputs": [],
   "source": [
    "try:\n",
    "    corpus = tp.utils.Corpus.load('k.cps')\n",
    "except IOError:\n",
    "    kiwi = Kiwi()\n",
    "    kiwi.add_user_word('전달력', tag='NNG')\n",
    "    kiwi.add_user_word('영상미', tag='NNG')\n",
    "    kiwi.add_user_word('영상기법', tag='NNG')\n",
    "    kiwi.add_user_word('영상구도', tag='NNG')\n",
    "    kiwi.add_user_word('배경음악', tag='NNG')\n",
    "    kiwi.add_user_word('구독자수', tag='NNG')   \n",
    "    kiwi.add_user_word('레고프렌즈', tag='NNG')\n",
    "    kiwi.add_user_word('딱히', tag='MAG')\n",
    "    kiwi.add_user_word('교육', tag='NNP')\n",
    "    kiwi.add_user_word('방송', tag='NNP')\n",
    "    kiwi.add_user_word('브이로그', tag='NNP')\n",
    "    kiwi.add_user_word('생일', tag='NNP')\n",
    "    kiwi.add_user_word('날', tag='NNP')\n",
    "    kiwi.add_user_word('전반적', tag='NNP')\n",
    "    kiwi.add_user_word('조회수', tag='NNP')\n",
    "    kiwi.add_user_word('매니아층', tag='NNP')\n",
    "    kiwi.add_user_word('생방송', tag='NNP')\n",
    "    kiwi.add_user_word('먹방', tag='NNP')\n",
    "    kiwi.add_user_word('첫영상', tag='NNP')\n",
    "    kiwi.add_user_word('배경음악', tag='NNP')\n",
    "    kiwi.add_user_word('맛집', tag='NNP')\n",
    "    kiwi.add_user_word('재건축', tag='NNP')\n",
    "    kiwi.add_user_word('언박싱', tag='NNP')    \n",
    "    kiwi.prepare()\n",
    "    pat_tag = re.compile('NN[GP]|V[VA]|MAG|MM') "
   ]
  },
  {
   "cell_type": "code",
   "execution_count": 5,
   "metadata": {
    "ExecuteTime": {
     "end_time": "2021-03-17T02:16:24.033182Z",
     "start_time": "2021-03-17T02:16:24.029006Z"
    }
   },
   "outputs": [],
   "source": [
    "    def tokenizer(raw, user_data):\n",
    "        res, _ = user_data()[0]\n",
    "        for w, tag, start, l in res:\n",
    "            if not pat_tag.match(tag) or len(w) <= 1: continue\n",
    "            yield w + ('다' if tag.startswith('V') else ''), start, l"
   ]
  },
  {
   "cell_type": "code",
   "execution_count": 6,
   "metadata": {
    "ExecuteTime": {
     "end_time": "2021-03-17T02:16:24.055184Z",
     "start_time": "2021-03-17T02:16:24.035200Z"
    }
   },
   "outputs": [],
   "source": [
    "    corpus = tp.utils.Corpus(\n",
    "        tokenizer=tokenizer\n",
    "    )\n",
    "    \n",
    "    corpus.process((line, kiwi.async_analyze(line)) for line in open('for text mining_final_210309_copy2.txt', encoding='UTF-8'))\n",
    "    corpus.save('data_210309.cps')"
   ]
  },
  {
   "cell_type": "markdown",
   "metadata": {},
   "source": [
    "case1. tw기본값 (tw=tp.TermWeight.ONE)으로 세팅했을 때!"
   ]
  },
  {
   "cell_type": "code",
   "execution_count": 7,
   "metadata": {
    "ExecuteTime": {
     "end_time": "2021-03-17T02:16:24.064652Z",
     "start_time": "2021-03-17T02:16:24.059772Z"
    }
   },
   "outputs": [],
   "source": [
    "# 최소 1개 이상 문헌에 등장하고, 전체 출현빈도는 2 이상인 단어만 사용\n",
    "# 그리고 상위 10개 고빈도 단어는 분석에서 제외하고싶으면 rm_top=10을 추가, 안하고 싶으면 0\n",
    "# 주제 개수는 20개\n",
    "\n",
    "#tw=용어 가중치(tp.TermWeight.ONE은 기본값으로 모든 용어의 가중치를 동일하게 간주)\n",
    "\n",
    "mdl = tp.CTModel(tw=tp.TermWeight.ONE, min_df=1, min_cf=2, rm_top=0, k=20, corpus=corpus)\n",
    "mdl.train(0)"
   ]
  },
  {
   "cell_type": "markdown",
   "metadata": {},
   "source": [
    "case2. tw에 PMI로 가중치 부여했을 때"
   ]
  },
  {
   "cell_type": "code",
   "execution_count": 8,
   "metadata": {
    "ExecuteTime": {
     "end_time": "2021-03-17T02:16:24.072937Z",
     "start_time": "2021-03-17T02:16:24.068141Z"
    }
   },
   "outputs": [],
   "source": [
    "# 최소 1개 이상 문헌에 등장하고, 전체 출현빈도는 2 이상인 단어만 사용\n",
    "# 그리고 상위 10개 고빈도 단어는 분석에서 제외하고싶으면 rm_top=10을 추가, 안하고 싶으면 0\n",
    "# 주제 개수는 20개\n",
    "\n",
    "#tw=용어 가중치(tp.TermWeight.ONE은 기본값으로 모든 용어의 가중치를 동일하게 간주)\n",
    "\n",
    "mdl = tp.CTModel(tw=tp.TermWeight.PMI, min_df=1, min_cf=2, rm_top=0, k=20, corpus=corpus)\n",
    "mdl.train(0)"
   ]
  },
  {
   "cell_type": "markdown",
   "metadata": {},
   "source": [
    "case3. tw에 PMI로 가중치 부여하고, min_df=1, min_cf=1로 설정 (개발자분 피드백)"
   ]
  },
  {
   "cell_type": "code",
   "execution_count": 9,
   "metadata": {
    "ExecuteTime": {
     "end_time": "2021-03-17T02:16:24.079867Z",
     "start_time": "2021-03-17T02:16:24.074755Z"
    }
   },
   "outputs": [],
   "source": [
    "# 최소 0개 이상 문헌에 등장하고, 전체 출현빈도는 0 이상인 단어만 사용\n",
    "# 그리고 상위 10개 고빈도 단어는 분석에서 제외하고싶으면 rm_top=10을 추가, 안하고 싶으면 0\n",
    "# 주제 개수는 10개\n",
    "\n",
    "#tw=용어 가중치(tp.TermWeight.ONE은 기본값으로 모든 용어의 가중치를 동일하게 간주)\n",
    "\n",
    "mdl = tp.CTModel(tw=tp.TermWeight.PMI, min_df=0, min_cf=0, rm_top=0, k=10, corpus=corpus)\n",
    "mdl.train(0)"
   ]
  },
  {
   "cell_type": "code",
   "execution_count": 10,
   "metadata": {
    "ExecuteTime": {
     "end_time": "2021-03-17T02:16:24.085277Z",
     "start_time": "2021-03-17T02:16:24.082151Z"
    }
   },
   "outputs": [
    {
     "name": "stdout",
     "output_type": "stream",
     "text": [
      "Num docs:147, Total Words:433\n"
     ]
    }
   ],
   "source": [
    "#num_beta_sample은 만 개 이상이면 1~5, 수 천개라면 최소 10, 수 백개에 불과하면 20이상으로 키우기\n",
    "mdl.num_beta_sample = 10\n",
    "print('Num docs:{}, Total Words:{}'.format(\n",
    "    len(mdl.docs), mdl.num_words\n",
    "))"
   ]
  },
  {
   "cell_type": "code",
   "execution_count": 11,
   "metadata": {
    "ExecuteTime": {
     "end_time": "2021-03-17T02:16:26.086449Z",
     "start_time": "2021-03-17T02:16:24.087508Z"
    }
   },
   "outputs": [
    {
     "name": "stdout",
     "output_type": "stream",
     "text": [
      "Iteration: 0000, LL per word: -28.31\n",
      "Iteration: 0020, LL per word: -25.99\n",
      "Iteration: 0040, LL per word: -27.23\n",
      "Iteration: 0060, LL per word: -27.98\n",
      "Iteration: 0080, LL per word: -28.7\n",
      "Iteration: 0100, LL per word: -29.57\n",
      "Iteration: 0120, LL per word: -29.58\n",
      "Iteration: 0140, LL per word: -29.55\n",
      "Iteration: 0160, LL per word: -30.11\n",
      "Iteration: 0180, LL per word: -29.6\n",
      "Iteration: 0200, LL per word: -30.49\n",
      "Iteration: 0220, LL per word: -30.83\n",
      "Iteration: 0240, LL per word: -29.91\n",
      "Iteration: 0260, LL per word: -31.71\n",
      "Iteration: 0280, LL per word: -29.91\n",
      "Iteration: 0300, LL per word: -30.51\n",
      "Iteration: 0320, LL per word: -29.85\n",
      "Iteration: 0340, LL per word: -29.99\n",
      "Iteration: 0360, LL per word: -29.52\n",
      "Iteration: 0380, LL per word: -30.11\n",
      "Iteration: 0400, LL per word: -31.01\n",
      "Iteration: 0420, LL per word: -29.83\n",
      "Iteration: 0440, LL per word: -30.33\n",
      "Iteration: 0460, LL per word: -30.85\n",
      "Iteration: 0480, LL per word: -30.8\n"
     ]
    }
   ],
   "source": [
    "#깁스샘플링\n",
    "for i in range(0, 500, 20):\n",
    "    print('Iteration: {:04}, LL per word: {:.4}'.format(i, mdl.ll_per_word))\n",
    "    mdl.train(20)"
   ]
  },
  {
   "cell_type": "code",
   "execution_count": 12,
   "metadata": {
    "ExecuteTime": {
     "end_time": "2021-03-17T02:16:26.092140Z",
     "start_time": "2021-03-17T02:16:26.088618Z"
    }
   },
   "outputs": [
    {
     "name": "stdout",
     "output_type": "stream",
     "text": [
      "Iteration: 0480, LL per word: -30.37\n"
     ]
    }
   ],
   "source": [
    "print('Iteration: {:04}, LL per word: {:.4}'.format(i, mdl.ll_per_word))"
   ]
  },
  {
   "cell_type": "code",
   "execution_count": 13,
   "metadata": {
    "ExecuteTime": {
     "end_time": "2021-03-17T02:16:26.104629Z",
     "start_time": "2021-03-17T02:16:26.094704Z"
    },
    "scrolled": true
   },
   "outputs": [
    {
     "name": "stdout",
     "output_type": "stream",
     "text": [
      "<Basic Info>\n",
      "| CTModel (current version: 0.10.2)\n",
      "| 147 docs, 433 words\n",
      "| Total Vocabs: 268, Used Vocabs: 268\n",
      "| Entropy of words: -5.36839\n",
      "| Removed Vocabs: <NA>\n",
      "|\n",
      "<Training Info>\n",
      "| Iterations: 500, Burn-in steps: 0\n",
      "| Optimization Interval: 2\n",
      "| Log-likelihood per word: -30.36730\n",
      "|\n",
      "<Initial Parameters>\n",
      "| tw: TermWeight.PMI\n",
      "| min_cf: 0 (minimum collection frequency of words)\n",
      "| min_df: 0 (minimum document frequency of words)\n",
      "| rm_top: 0 (the number of top words to be removed)\n",
      "| k: 10 (the number of topics between 1 ~ 32767)\n",
      "| smoothing_alpha: 0.1 (small smoothing value for preventing topic counts to be zero)\n",
      "| eta: 0.01 (hyperparameter of Dirichlet distribution for topic-word)\n",
      "| seed: 1489786347 (random seed)\n",
      "| trained in version 0.10.2\n",
      "|\n",
      "<Parameters>\n",
      "| prior_mean (Prior mean of Logit-normal for the per-document topic distributions)\n",
      "|  [-3.883528  -3.037404  -4.2298903 -3.4846911 -4.185564  -3.7446342\n",
      "|   -3.2632713 -3.5483396 -3.296707  -2.4842188]\n",
      "| prior_cov (Prior covariance of Logit-normal for the per-document topic distributions)\n",
      "|  [[11.399869    1.245779    0.27501595 -0.783439    1.0400013   1.0960337\n",
      "|     1.1055193   0.949561    0.46609822 -1.2188656 ]\n",
      "|   [ 1.245779   10.645821    0.3475674   1.2432166   0.59183884  1.1986518\n",
      "|     0.22498915  0.2221506   0.27741703 -1.3089845 ]\n",
      "|   [ 0.27501595  0.3475674  12.4464      0.98588157  1.1910274   0.4802377\n",
      "|     0.4976859   1.8811812   1.045384   -1.6966143 ]\n",
      "|   [-0.783439    1.2432166   0.98588157 10.99532     1.093628    0.8819706\n",
      "|    -0.01535989  0.9605411   0.29986346 -1.1142683 ]\n",
      "|   [ 1.0400013   0.59183884  1.1910274   1.093628   12.799387    1.6110831\n",
      "|    -0.20633742  0.35403898  0.9761267  -2.657624  ]\n",
      "|   [ 1.0960337   1.1986518   0.4802377   0.8819706   1.6110831   9.280338\n",
      "|     0.71801716  0.95420736  0.91238856 -2.32766   ]\n",
      "|   [ 1.1055193   0.22498915  0.4976859  -0.01535989 -0.20633742  0.71801716\n",
      "|     9.309979    0.2321937  -0.20374045 -2.4661288 ]\n",
      "|   [ 0.949561    0.2221506   1.8811812   0.9605411   0.35403898  0.95420736\n",
      "|     0.2321937  10.471031    0.4570045  -3.2088797 ]\n",
      "|   [ 0.46609822  0.27741703  1.045384    0.29986346  0.9761267   0.91238856\n",
      "|    -0.20374045  0.4570045   9.688695   -2.1175048 ]\n",
      "|   [-1.2188656  -1.3089845  -1.6966143  -1.1142683  -2.657624   -2.32766\n",
      "|    -2.4661288  -3.2088797  -2.1175048   4.4492908 ]]\n",
      "| eta (Dirichlet prior on the per-topic word distribution)\n",
      "|  0.01\n",
      "|\n",
      "<Topics>\n",
      "| #0 (39) : 게임 많이 즐기다 콘텐츠 기존\n",
      "| #1 (49) : 소통 강아지 주제 음악 귀엽다\n",
      "| #2 (41) : 추억 첫영상 라이브 생활 즐거움\n",
      "| #3 (44) : 좋아하다 정보 교육 어리다 촬영\n",
      "| #4 (37) : 여행 운동 모습 제작 수업\n",
      "| #5 (28) : 사람 자유 활동 먹방 사용\n",
      "| #6 (59) : 만들다 도움 분야 처음 대하다\n",
      "| #7 (43) : 재미있다 편집 공유 공감 방송\n",
      "| #8 (45) : 브이로그 일상 패션 아이 편안\n",
      "| #9 (48) : 취미 직접 연주 노래 가족\n",
      "|\n",
      "\n"
     ]
    }
   ],
   "source": [
    "mdl.summary()\n",
    "\n",
    "#Words: CTM 분석 후 추출된 문서들 전체의 단어의 개수 (문서 당 같은 단어가 2개 있을 수도 있고 중복 가능)\n",
    "#Total Vocabs: 작은 빈도의 단어들을 제거한 뒤 남은 토픽모델링 후 어휘의 개수\n",
    "#Used_Vocabs: 모델에 실제로 사용된 어휘만을 포함하는 dictionary 타입의 어휘 사전\n",
    "#prior_cov : 토픽의 사전분포인 로지스틱 정규분포의 공분산 행렬\n",
    "#prior_mean : 토픽의 사전분포인 로지스틱 정규분포의 평균 벡터\n",
    "#k : 토픽의 개수, 1 ~ 32767 범위의 정수.\n",
    "#alpha는 CTM 모형의 모수 \n",
    "#eta는 모수 \n",
    "#num.iterations는 반복 횟수로 z를 몇 번 추출하느냐\n"
   ]
  },
  {
   "cell_type": "code",
   "execution_count": 14,
   "metadata": {
    "ExecuteTime": {
     "end_time": "2021-03-17T02:16:26.110540Z",
     "start_time": "2021-03-17T02:16:26.106948Z"
    }
   },
   "outputs": [
    {
     "data": {
      "text/plain": [
       "['브이로그', '일상', '게임', '편집', '좋아하다', '사람', '재미있다', '정보', '주제', '여행', '만들다', '자유', '소통', '공유', '많이', '모습', '강아지', '첫영상', '활동', '도움', '생활', '라이브', '추억', '운동', '취미', '교육', '귀엽다', '패션', '분야', '대하다', '가장', '처음', '시청자', '실시간', '제작', '즐거움', '음악', '관심', '내용', '콘텐츠', '먹방', '업로드', '촬영', '자연', '영상미', '보이다', '고양이', '수업', '아이', '직장', '즐기다', '함께', '노력', '직접', '연주', '노래', '지식', '전달', '기존', '리뷰', '위하다', '방송', '사회', '경험', '기록', '어리다', '공감', '나오다', '가족', '요리', '배경음악', '신경', '요소', '제품', '비교', '올리다', '사용', '다이어트', '새롭다', '메뉴', '딱히', '구독자수', '얽매이다', '저장', '건강', '차량', '시승', '전달력', '메추리', '실력', '다양', '접근성', '용이', '남기다', '온라인', '헬스장', '다른', '동료', '동호회', '구입', '골프', '연습', '방법', '반려', '환경', '정성', '들어가다', '자녀', '역사', '컨셉', '생각', '그저', '그대로', '산책', '해외', '소개', '패션쇼', '유명한', '밴드', '신규', '접하다', '겨울왕국', '라방', '특징', '후원', '채팅', '식물', '키우다', '실무', '동기', '동창', '리액션', '공감대', '다시', '지금', '학교', '과제', '시연', '스피드', '페인팅', '반려견', '제공', '주식', '토크', '경제', '유투', '육아', '베이비', '특정', '자신', '특별', '매니아층', '토킹', '편하다', '과외', '영화', '채널', '알차다', '생방송', '활기차다', '멋지다', '풍경', '행복감', '지이', '베이킹', '관심거리', '남자', '어르신', '손쉽다', '캠핑', '로또', '밀접', '동물', '하울', '영상', '시간', '들이다', '바탕', '전자제품', '개봉', '창단', '쿠리코', '언덕', '정엽', '이별', '여름', '눈싸움', '음원', '커버', '부르다', '인천', '동네', '방청', '레고', '나라', '아직', '블로그', '흥미', '제일', '플레이', '최대한', '아기', '음식', '장난감', '언박싱', '힘들다', '개인', '턴테이블', '수집', '관하다', '다루다', '느끼다', '집중', '스타일', '검토', '소비자', '현명', '소비', '드리다', '이제', '시작', '긴장감', '설레다', '공략', '편안', '인기', '검색어', '레고프렌즈', '실체', '재건축', '현장', '마지막', '철거', '이루어지다', '가지다', '세일', '의미', '생일날', '기념', '조금', '재미', '매끄럽다', '흘러가다', '구도', '모든', '홍보', '문화', '언어', '구독자', '진짜', '성공', '부자', '중요', '행복', '주장', '대학원', '지내다', '반경', '범위', '영상기법', '영상구도', '같이', '전반적', '주의', '기울이다', '작업', '반응', '장소']"
      ]
     },
     "execution_count": 14,
     "metadata": {},
     "output_type": "execute_result"
    }
   ],
   "source": [
    "mdl.used_vocabs   \n",
    "\n",
    "#Used Vocabs 의미 >> 78개\n",
    "#242 words >> k(20)에 속한 총 단어의 수 (84개가 중복되어서 들어감)  == 총 단어의 빈도 수"
   ]
  },
  {
   "cell_type": "code",
   "execution_count": 15,
   "metadata": {
    "ExecuteTime": {
     "end_time": "2021-03-17T02:16:26.115188Z",
     "start_time": "2021-03-17T02:16:26.112450Z"
    }
   },
   "outputs": [],
   "source": [
    "#Visualize the result\n",
    "\n",
    "g = Network(width=800, height=800, font_color=\"#333\")\n",
    "correl = mdl.get_correlations().reshape([-1])"
   ]
  },
  {
   "cell_type": "code",
   "execution_count": 16,
   "metadata": {
    "ExecuteTime": {
     "end_time": "2021-03-17T02:16:26.120997Z",
     "start_time": "2021-03-17T02:16:26.118246Z"
    }
   },
   "outputs": [],
   "source": [
    "correl.sort()"
   ]
  },
  {
   "cell_type": "code",
   "execution_count": 17,
   "metadata": {
    "ExecuteTime": {
     "end_time": "2021-03-17T02:16:26.127406Z",
     "start_time": "2021-03-17T02:16:26.124237Z"
    }
   },
   "outputs": [],
   "source": [
    "# 상관계수 상위 10%만 간선으로 잇고\n",
    "top_tenth = mdl.k * (mdl.k - 1) // 10\n",
    "top_tenth = correl[-mdl.k - top_tenth]"
   ]
  },
  {
   "cell_type": "code",
   "execution_count": 18,
   "metadata": {
    "ExecuteTime": {
     "end_time": "2021-03-17T02:16:26.131922Z",
     "start_time": "2021-03-17T02:16:26.129655Z"
    }
   },
   "outputs": [],
   "source": [
    "topic_counts = mdl.get_count_by_topics()"
   ]
  },
  {
   "cell_type": "code",
   "execution_count": 19,
   "metadata": {
    "ExecuteTime": {
     "end_time": "2021-03-17T02:16:26.137625Z",
     "start_time": "2021-03-17T02:16:26.134207Z"
    }
   },
   "outputs": [
    {
     "name": "stdout",
     "output_type": "stream",
     "text": [
      "[39 49 41 44 37 28 59 43 45 48]\n"
     ]
    }
   ],
   "source": [
    "print(topic_counts)\n",
    "\n",
    "#합하면 242 (242words) >> 빈도수 242"
   ]
  },
  {
   "cell_type": "code",
   "execution_count": 20,
   "metadata": {
    "ExecuteTime": {
     "end_time": "2021-03-17T02:16:26.147481Z",
     "start_time": "2021-03-17T02:16:26.139879Z"
    }
   },
   "outputs": [
    {
     "name": "stdout",
     "output_type": "stream",
     "text": [
      "Topic #0 게임 많이 즐기다 콘텐츠 기존 신경 힘들다 최대한\n",
      "Topic #1 소통 강아지 주제 음악 귀엽다 실시간 자연 나오다\n",
      "Topic #2 추억 첫영상 라이브 생활 즐거움 내용 관심 고양이\n",
      "Topic #3 좋아하다 정보 교육 어리다 촬영 보이다 직장 노력\n",
      "Topic #4 여행 운동 모습 제작 수업 위하다 눈싸움 반려\n",
      "Topic #5 사람 자유 활동 먹방 사용 창단 다른 메뉴\n",
      "Topic #6 만들다 도움 분야 처음 대하다 영상미 가장 기록\n",
      "Topic #7 재미있다 편집 공유 공감 방송 리뷰 요소 함께\n",
      "Topic #8 브이로그 일상 패션 아이 편안 산책 스타일 장난감\n",
      "Topic #9 취미 직접 연주 노래 가족 제품 비교 전달력\n"
     ]
    }
   ],
   "source": [
    "for k in range(mdl.k):\n",
    "    label = \"#{}\".format(k)\n",
    "    title= ' '.join(word for word, _ in mdl.get_topic_words(k, top_n=8))\n",
    "    print('Topic', label, title)\n",
    "    label += '\\n' + ' '.join(word for word, _ in mdl.get_topic_words(k, top_n=3))\n",
    "    g.add_node(k, label=label, title=title, shape='ellipse', value=float(topic_counts[k]))\n",
    "    for l, correlation in zip(range(k - 1), mdl.get_correlations(k)):\n",
    "        if correlation < top_tenth: continue\n",
    "        g.add_edge(k, l, value=float(correlation), title='{:.02}'.format(correlation))"
   ]
  },
  {
   "cell_type": "code",
   "execution_count": 21,
   "metadata": {
    "ExecuteTime": {
     "end_time": "2021-03-17T02:16:26.151789Z",
     "start_time": "2021-03-17T02:16:26.149499Z"
    },
    "scrolled": true
   },
   "outputs": [],
   "source": [
    "#토픽 topic_id에 속하는 상위 top_n개의 단어와 각각의 확률을 반환.\n",
    "#반환 타입은 (단어:str, 확률:float) 튜플의 list형\n",
    "#확률은 현재 토픽 내 각각의 단어들의 발생확률?\n",
    "\n",
    "topic_words = mdl.get_topic_words(k, top_n=50)"
   ]
  },
  {
   "cell_type": "code",
   "execution_count": 22,
   "metadata": {
    "ExecuteTime": {
     "end_time": "2021-03-17T02:16:26.386458Z",
     "start_time": "2021-03-17T02:16:26.153513Z"
    }
   },
   "outputs": [],
   "source": [
    "import pandas as pd"
   ]
  },
  {
   "cell_type": "code",
   "execution_count": 23,
   "metadata": {
    "ExecuteTime": {
     "end_time": "2021-03-17T02:16:26.392990Z",
     "start_time": "2021-03-17T02:16:26.389015Z"
    }
   },
   "outputs": [],
   "source": [
    "df_topic_words = pd.DataFrame(topic_words)"
   ]
  },
  {
   "cell_type": "code",
   "execution_count": 24,
   "metadata": {
    "ExecuteTime": {
     "end_time": "2021-03-17T02:16:26.411697Z",
     "start_time": "2021-03-17T02:16:26.395323Z"
    },
    "scrolled": true
   },
   "outputs": [
    {
     "data": {
      "text/html": [
       "<div>\n",
       "<style scoped>\n",
       "    .dataframe tbody tr th:only-of-type {\n",
       "        vertical-align: middle;\n",
       "    }\n",
       "\n",
       "    .dataframe tbody tr th {\n",
       "        vertical-align: top;\n",
       "    }\n",
       "\n",
       "    .dataframe thead th {\n",
       "        text-align: right;\n",
       "    }\n",
       "</style>\n",
       "<table border=\"1\" class=\"dataframe\">\n",
       "  <thead>\n",
       "    <tr style=\"text-align: right;\">\n",
       "      <th></th>\n",
       "      <th>0</th>\n",
       "      <th>1</th>\n",
       "    </tr>\n",
       "  </thead>\n",
       "  <tbody>\n",
       "    <tr>\n",
       "      <th>0</th>\n",
       "      <td>취미</td>\n",
       "      <td>0.047285</td>\n",
       "    </tr>\n",
       "    <tr>\n",
       "      <th>1</th>\n",
       "      <td>직접</td>\n",
       "      <td>0.043348</td>\n",
       "    </tr>\n",
       "    <tr>\n",
       "      <th>2</th>\n",
       "      <td>연주</td>\n",
       "      <td>0.040240</td>\n",
       "    </tr>\n",
       "    <tr>\n",
       "      <th>3</th>\n",
       "      <td>노래</td>\n",
       "      <td>0.038422</td>\n",
       "    </tr>\n",
       "    <tr>\n",
       "      <th>4</th>\n",
       "      <td>가족</td>\n",
       "      <td>0.037132</td>\n",
       "    </tr>\n",
       "    <tr>\n",
       "      <th>5</th>\n",
       "      <td>제품</td>\n",
       "      <td>0.034023</td>\n",
       "    </tr>\n",
       "    <tr>\n",
       "      <th>6</th>\n",
       "      <td>비교</td>\n",
       "      <td>0.034023</td>\n",
       "    </tr>\n",
       "    <tr>\n",
       "      <th>7</th>\n",
       "      <td>전달력</td>\n",
       "      <td>0.027268</td>\n",
       "    </tr>\n",
       "    <tr>\n",
       "      <th>8</th>\n",
       "      <td>아직</td>\n",
       "      <td>0.027268</td>\n",
       "    </tr>\n",
       "    <tr>\n",
       "      <th>9</th>\n",
       "      <td>구입</td>\n",
       "      <td>0.027268</td>\n",
       "    </tr>\n",
       "    <tr>\n",
       "      <th>10</th>\n",
       "      <td>모든</td>\n",
       "      <td>0.027268</td>\n",
       "    </tr>\n",
       "    <tr>\n",
       "      <th>11</th>\n",
       "      <td>공감대</td>\n",
       "      <td>0.027268</td>\n",
       "    </tr>\n",
       "    <tr>\n",
       "      <th>12</th>\n",
       "      <td>겨울왕국</td>\n",
       "      <td>0.024160</td>\n",
       "    </tr>\n",
       "    <tr>\n",
       "      <th>13</th>\n",
       "      <td>레고프렌즈</td>\n",
       "      <td>0.024160</td>\n",
       "    </tr>\n",
       "    <tr>\n",
       "      <th>14</th>\n",
       "      <td>실체</td>\n",
       "      <td>0.024160</td>\n",
       "    </tr>\n",
       "    <tr>\n",
       "      <th>15</th>\n",
       "      <td>실력</td>\n",
       "      <td>0.024160</td>\n",
       "    </tr>\n",
       "    <tr>\n",
       "      <th>16</th>\n",
       "      <td>부르다</td>\n",
       "      <td>0.022342</td>\n",
       "    </tr>\n",
       "    <tr>\n",
       "      <th>17</th>\n",
       "      <td>홍보</td>\n",
       "      <td>0.022342</td>\n",
       "    </tr>\n",
       "    <tr>\n",
       "      <th>18</th>\n",
       "      <td>음식</td>\n",
       "      <td>0.022342</td>\n",
       "    </tr>\n",
       "    <tr>\n",
       "      <th>19</th>\n",
       "      <td>아기</td>\n",
       "      <td>0.022342</td>\n",
       "    </tr>\n",
       "    <tr>\n",
       "      <th>20</th>\n",
       "      <td>문화</td>\n",
       "      <td>0.022342</td>\n",
       "    </tr>\n",
       "    <tr>\n",
       "      <th>21</th>\n",
       "      <td>언어</td>\n",
       "      <td>0.022342</td>\n",
       "    </tr>\n",
       "    <tr>\n",
       "      <th>22</th>\n",
       "      <td>방법</td>\n",
       "      <td>0.021052</td>\n",
       "    </tr>\n",
       "    <tr>\n",
       "      <th>23</th>\n",
       "      <td>연습</td>\n",
       "      <td>0.021052</td>\n",
       "    </tr>\n",
       "    <tr>\n",
       "      <th>24</th>\n",
       "      <td>이루어지다</td>\n",
       "      <td>0.020051</td>\n",
       "    </tr>\n",
       "    <tr>\n",
       "      <th>25</th>\n",
       "      <td>정엽</td>\n",
       "      <td>0.020051</td>\n",
       "    </tr>\n",
       "    <tr>\n",
       "      <th>26</th>\n",
       "      <td>언덕</td>\n",
       "      <td>0.020051</td>\n",
       "    </tr>\n",
       "    <tr>\n",
       "      <th>27</th>\n",
       "      <td>철거</td>\n",
       "      <td>0.020051</td>\n",
       "    </tr>\n",
       "    <tr>\n",
       "      <th>28</th>\n",
       "      <td>마지막</td>\n",
       "      <td>0.020051</td>\n",
       "    </tr>\n",
       "    <tr>\n",
       "      <th>29</th>\n",
       "      <td>이별</td>\n",
       "      <td>0.020051</td>\n",
       "    </tr>\n",
       "    <tr>\n",
       "      <th>30</th>\n",
       "      <td>여름</td>\n",
       "      <td>0.020051</td>\n",
       "    </tr>\n",
       "    <tr>\n",
       "      <th>31</th>\n",
       "      <td>현장</td>\n",
       "      <td>0.020051</td>\n",
       "    </tr>\n",
       "    <tr>\n",
       "      <th>32</th>\n",
       "      <td>쿠리코</td>\n",
       "      <td>0.020051</td>\n",
       "    </tr>\n",
       "    <tr>\n",
       "      <th>33</th>\n",
       "      <td>재건축</td>\n",
       "      <td>0.020051</td>\n",
       "    </tr>\n",
       "    <tr>\n",
       "      <th>34</th>\n",
       "      <td>검토</td>\n",
       "      <td>0.017943</td>\n",
       "    </tr>\n",
       "    <tr>\n",
       "      <th>35</th>\n",
       "      <td>현명</td>\n",
       "      <td>0.017943</td>\n",
       "    </tr>\n",
       "    <tr>\n",
       "      <th>36</th>\n",
       "      <td>소비자</td>\n",
       "      <td>0.017943</td>\n",
       "    </tr>\n",
       "    <tr>\n",
       "      <th>37</th>\n",
       "      <td>소비</td>\n",
       "      <td>0.017943</td>\n",
       "    </tr>\n",
       "    <tr>\n",
       "      <th>38</th>\n",
       "      <td>주장</td>\n",
       "      <td>0.016943</td>\n",
       "    </tr>\n",
       "    <tr>\n",
       "      <th>39</th>\n",
       "      <td>수집</td>\n",
       "      <td>0.016943</td>\n",
       "    </tr>\n",
       "    <tr>\n",
       "      <th>40</th>\n",
       "      <td>처음</td>\n",
       "      <td>0.000045</td>\n",
       "    </tr>\n",
       "    <tr>\n",
       "      <th>41</th>\n",
       "      <td>첫영상</td>\n",
       "      <td>0.000045</td>\n",
       "    </tr>\n",
       "    <tr>\n",
       "      <th>42</th>\n",
       "      <td>촬영</td>\n",
       "      <td>0.000045</td>\n",
       "    </tr>\n",
       "    <tr>\n",
       "      <th>43</th>\n",
       "      <td>자연</td>\n",
       "      <td>0.000045</td>\n",
       "    </tr>\n",
       "    <tr>\n",
       "      <th>44</th>\n",
       "      <td>영상미</td>\n",
       "      <td>0.000045</td>\n",
       "    </tr>\n",
       "    <tr>\n",
       "      <th>45</th>\n",
       "      <td>보이다</td>\n",
       "      <td>0.000045</td>\n",
       "    </tr>\n",
       "    <tr>\n",
       "      <th>46</th>\n",
       "      <td>고양이</td>\n",
       "      <td>0.000045</td>\n",
       "    </tr>\n",
       "    <tr>\n",
       "      <th>47</th>\n",
       "      <td>수업</td>\n",
       "      <td>0.000045</td>\n",
       "    </tr>\n",
       "    <tr>\n",
       "      <th>48</th>\n",
       "      <td>아이</td>\n",
       "      <td>0.000045</td>\n",
       "    </tr>\n",
       "    <tr>\n",
       "      <th>49</th>\n",
       "      <td>직장</td>\n",
       "      <td>0.000045</td>\n",
       "    </tr>\n",
       "  </tbody>\n",
       "</table>\n",
       "</div>"
      ],
      "text/plain": [
       "        0         1\n",
       "0      취미  0.047285\n",
       "1      직접  0.043348\n",
       "2      연주  0.040240\n",
       "3      노래  0.038422\n",
       "4      가족  0.037132\n",
       "5      제품  0.034023\n",
       "6      비교  0.034023\n",
       "7     전달력  0.027268\n",
       "8      아직  0.027268\n",
       "9      구입  0.027268\n",
       "10     모든  0.027268\n",
       "11    공감대  0.027268\n",
       "12   겨울왕국  0.024160\n",
       "13  레고프렌즈  0.024160\n",
       "14     실체  0.024160\n",
       "15     실력  0.024160\n",
       "16    부르다  0.022342\n",
       "17     홍보  0.022342\n",
       "18     음식  0.022342\n",
       "19     아기  0.022342\n",
       "20     문화  0.022342\n",
       "21     언어  0.022342\n",
       "22     방법  0.021052\n",
       "23     연습  0.021052\n",
       "24  이루어지다  0.020051\n",
       "25     정엽  0.020051\n",
       "26     언덕  0.020051\n",
       "27     철거  0.020051\n",
       "28    마지막  0.020051\n",
       "29     이별  0.020051\n",
       "30     여름  0.020051\n",
       "31     현장  0.020051\n",
       "32    쿠리코  0.020051\n",
       "33    재건축  0.020051\n",
       "34     검토  0.017943\n",
       "35     현명  0.017943\n",
       "36    소비자  0.017943\n",
       "37     소비  0.017943\n",
       "38     주장  0.016943\n",
       "39     수집  0.016943\n",
       "40     처음  0.000045\n",
       "41    첫영상  0.000045\n",
       "42     촬영  0.000045\n",
       "43     자연  0.000045\n",
       "44    영상미  0.000045\n",
       "45    보이다  0.000045\n",
       "46    고양이  0.000045\n",
       "47     수업  0.000045\n",
       "48     아이  0.000045\n",
       "49     직장  0.000045"
      ]
     },
     "execution_count": 24,
     "metadata": {},
     "output_type": "execute_result"
    }
   ],
   "source": [
    "#https://dandyrilla.github.io/2017-08-12/pandas-10min/\n",
    "\n",
    "df_topic_words"
   ]
  },
  {
   "cell_type": "code",
   "execution_count": 25,
   "metadata": {
    "ExecuteTime": {
     "end_time": "2021-03-17T02:16:26.435251Z",
     "start_time": "2021-03-17T02:16:26.422351Z"
    }
   },
   "outputs": [
    {
     "data": {
      "text/html": [
       "<div>\n",
       "<style scoped>\n",
       "    .dataframe tbody tr th:only-of-type {\n",
       "        vertical-align: middle;\n",
       "    }\n",
       "\n",
       "    .dataframe tbody tr th {\n",
       "        vertical-align: top;\n",
       "    }\n",
       "\n",
       "    .dataframe thead th {\n",
       "        text-align: right;\n",
       "    }\n",
       "</style>\n",
       "<table border=\"1\" class=\"dataframe\">\n",
       "  <thead>\n",
       "    <tr style=\"text-align: right;\">\n",
       "      <th></th>\n",
       "      <th>1</th>\n",
       "    </tr>\n",
       "  </thead>\n",
       "  <tbody>\n",
       "    <tr>\n",
       "      <th>count</th>\n",
       "      <td>50.000000</td>\n",
       "    </tr>\n",
       "    <tr>\n",
       "      <th>mean</th>\n",
       "      <td>0.019804</td>\n",
       "    </tr>\n",
       "    <tr>\n",
       "      <th>std</th>\n",
       "      <td>0.012046</td>\n",
       "    </tr>\n",
       "    <tr>\n",
       "      <th>min</th>\n",
       "      <td>0.000045</td>\n",
       "    </tr>\n",
       "    <tr>\n",
       "      <th>25%</th>\n",
       "      <td>0.017943</td>\n",
       "    </tr>\n",
       "    <tr>\n",
       "      <th>50%</th>\n",
       "      <td>0.020051</td>\n",
       "    </tr>\n",
       "    <tr>\n",
       "      <th>75%</th>\n",
       "      <td>0.024160</td>\n",
       "    </tr>\n",
       "    <tr>\n",
       "      <th>max</th>\n",
       "      <td>0.047285</td>\n",
       "    </tr>\n",
       "  </tbody>\n",
       "</table>\n",
       "</div>"
      ],
      "text/plain": [
       "               1\n",
       "count  50.000000\n",
       "mean    0.019804\n",
       "std     0.012046\n",
       "min     0.000045\n",
       "25%     0.017943\n",
       "50%     0.020051\n",
       "75%     0.024160\n",
       "max     0.047285"
      ]
     },
     "execution_count": 25,
     "metadata": {},
     "output_type": "execute_result"
    }
   ],
   "source": [
    "df_topic_words.describe()"
   ]
  },
  {
   "cell_type": "code",
   "execution_count": 26,
   "metadata": {
    "ExecuteTime": {
     "end_time": "2021-03-17T02:16:26.447609Z",
     "start_time": "2021-03-17T02:16:26.442024Z"
    }
   },
   "outputs": [
    {
     "data": {
      "text/plain": [
       "[('취미', 0.047284699976444244),\n",
       " ('직접', 0.043348412960767746),\n",
       " ('연주', 0.0402400903403759),\n",
       " ('노래', 0.038421835750341415),\n",
       " ('가족', 0.037131763994693756),\n",
       " ('제품', 0.03402344137430191),\n",
       " ('비교', 0.03402344137430191),\n",
       " ('전달력', 0.027268242090940475),\n",
       " ('아직', 0.027268242090940475),\n",
       " ('구입', 0.027268242090940475),\n",
       " ('모든', 0.027268242090940475),\n",
       " ('공감대', 0.027268242090940475),\n",
       " ('겨울왕국', 0.02415991760790348),\n",
       " ('레고프렌즈', 0.02415991760790348),\n",
       " ('실체', 0.02415991760790348),\n",
       " ('실력', 0.02415991760790348),\n",
       " ('부르다', 0.022341664880514145),\n",
       " ('홍보', 0.022341664880514145),\n",
       " ('음식', 0.022341664880514145),\n",
       " ('아기', 0.022341664880514145),\n",
       " ('문화', 0.022341664880514145),\n",
       " ('언어', 0.022341664880514145),\n",
       " ('방법', 0.021051593124866486),\n",
       " ('연습', 0.021051593124866486),\n",
       " ('이루어지다', 0.020050937309861183),\n",
       " ('정엽', 0.020050937309861183),\n",
       " ('언덕', 0.020050937309861183),\n",
       " ('철거', 0.020050937309861183),\n",
       " ('마지막', 0.020050937309861183),\n",
       " ('이별', 0.020050937309861183),\n",
       " ('여름', 0.020050937309861183),\n",
       " ('현장', 0.020050937309861183),\n",
       " ('쿠리코', 0.020050937309861183),\n",
       " ('재건축', 0.020050937309861183),\n",
       " ('검토', 0.01794326864182949),\n",
       " ('현명', 0.01794326864182949),\n",
       " ('소비자', 0.01794326864182949),\n",
       " ('소비', 0.01794326864182949),\n",
       " ('주장', 0.01694261096417904),\n",
       " ('수집', 0.01694261096417904),\n",
       " ('처음', 4.484470628085546e-05),\n",
       " ('첫영상', 4.484470628085546e-05),\n",
       " ('촬영', 4.484363671508618e-05),\n",
       " ('자연', 4.484363671508618e-05),\n",
       " ('영상미', 4.484363671508618e-05),\n",
       " ('보이다', 4.484363671508618e-05),\n",
       " ('고양이', 4.484363671508618e-05),\n",
       " ('수업', 4.484363671508618e-05),\n",
       " ('아이', 4.484363671508618e-05),\n",
       " ('직장', 4.484363671508618e-05)]"
      ]
     },
     "execution_count": 26,
     "metadata": {},
     "output_type": "execute_result"
    }
   ],
   "source": [
    "topic_words"
   ]
  },
  {
   "cell_type": "code",
   "execution_count": 27,
   "metadata": {
    "ExecuteTime": {
     "end_time": "2021-03-17T02:16:26.452134Z",
     "start_time": "2021-03-17T02:16:26.449725Z"
    }
   },
   "outputs": [],
   "source": [
    "g.barnes_hut(gravity=-1000, spring_length=20)"
   ]
  },
  {
   "cell_type": "code",
   "execution_count": 28,
   "metadata": {
    "ExecuteTime": {
     "end_time": "2021-03-17T02:16:26.597771Z",
     "start_time": "2021-03-17T02:16:26.454606Z"
    }
   },
   "outputs": [],
   "source": [
    "g.show_buttons()\n",
    "g.show(\"topic_network6.html\")"
   ]
  },
  {
   "cell_type": "code",
   "execution_count": 29,
   "metadata": {
    "ExecuteTime": {
     "end_time": "2021-03-17T02:16:26.905826Z",
     "start_time": "2021-03-17T02:16:26.600430Z"
    }
   },
   "outputs": [
    {
     "name": "stderr",
     "output_type": "stream",
     "text": [
      "/Users/oridori/git/python/oridori/venv/lib/python3.8/site-packages/sklearn/linear_model/_least_angle.py:30: DeprecationWarning: `np.float` is a deprecated alias for the builtin `float`. To silence this warning, use `float` by itself. Doing this will not modify any behavior and is safe. If you specifically wanted the numpy scalar type, use `np.float64` here.\n",
      "Deprecated in NumPy 1.20; for more details and guidance: https://numpy.org/devdocs/release/1.20.0-notes.html#deprecations\n",
      "  method='lar', copy_X=True, eps=np.finfo(np.float).eps,\n",
      "/Users/oridori/git/python/oridori/venv/lib/python3.8/site-packages/sklearn/linear_model/_least_angle.py:169: DeprecationWarning: `np.float` is a deprecated alias for the builtin `float`. To silence this warning, use `float` by itself. Doing this will not modify any behavior and is safe. If you specifically wanted the numpy scalar type, use `np.float64` here.\n",
      "Deprecated in NumPy 1.20; for more details and guidance: https://numpy.org/devdocs/release/1.20.0-notes.html#deprecations\n",
      "  method='lar', copy_X=True, eps=np.finfo(np.float).eps,\n",
      "/Users/oridori/git/python/oridori/venv/lib/python3.8/site-packages/sklearn/linear_model/_least_angle.py:286: DeprecationWarning: `np.float` is a deprecated alias for the builtin `float`. To silence this warning, use `float` by itself. Doing this will not modify any behavior and is safe. If you specifically wanted the numpy scalar type, use `np.float64` here.\n",
      "Deprecated in NumPy 1.20; for more details and guidance: https://numpy.org/devdocs/release/1.20.0-notes.html#deprecations\n",
      "  eps=np.finfo(np.float).eps, copy_Gram=True, verbose=0,\n",
      "/Users/oridori/git/python/oridori/venv/lib/python3.8/site-packages/sklearn/linear_model/_least_angle.py:858: DeprecationWarning: `np.float` is a deprecated alias for the builtin `float`. To silence this warning, use `float` by itself. Doing this will not modify any behavior and is safe. If you specifically wanted the numpy scalar type, use `np.float64` here.\n",
      "Deprecated in NumPy 1.20; for more details and guidance: https://numpy.org/devdocs/release/1.20.0-notes.html#deprecations\n",
      "  eps=np.finfo(np.float).eps, copy_X=True, fit_path=True):\n",
      "/Users/oridori/git/python/oridori/venv/lib/python3.8/site-packages/sklearn/linear_model/_least_angle.py:1094: DeprecationWarning: `np.float` is a deprecated alias for the builtin `float`. To silence this warning, use `float` by itself. Doing this will not modify any behavior and is safe. If you specifically wanted the numpy scalar type, use `np.float64` here.\n",
      "Deprecated in NumPy 1.20; for more details and guidance: https://numpy.org/devdocs/release/1.20.0-notes.html#deprecations\n",
      "  eps=np.finfo(np.float).eps, copy_X=True, fit_path=True,\n",
      "/Users/oridori/git/python/oridori/venv/lib/python3.8/site-packages/sklearn/linear_model/_least_angle.py:1120: DeprecationWarning: `np.float` is a deprecated alias for the builtin `float`. To silence this warning, use `float` by itself. Doing this will not modify any behavior and is safe. If you specifically wanted the numpy scalar type, use `np.float64` here.\n",
      "Deprecated in NumPy 1.20; for more details and guidance: https://numpy.org/devdocs/release/1.20.0-notes.html#deprecations\n",
      "  eps=np.finfo(np.float).eps, positive=False):\n",
      "/Users/oridori/git/python/oridori/venv/lib/python3.8/site-packages/sklearn/linear_model/_least_angle.py:1349: DeprecationWarning: `np.float` is a deprecated alias for the builtin `float`. To silence this warning, use `float` by itself. Doing this will not modify any behavior and is safe. If you specifically wanted the numpy scalar type, use `np.float64` here.\n",
      "Deprecated in NumPy 1.20; for more details and guidance: https://numpy.org/devdocs/release/1.20.0-notes.html#deprecations\n",
      "  max_n_alphas=1000, n_jobs=None, eps=np.finfo(np.float).eps,\n",
      "/Users/oridori/git/python/oridori/venv/lib/python3.8/site-packages/sklearn/linear_model/_least_angle.py:1590: DeprecationWarning: `np.float` is a deprecated alias for the builtin `float`. To silence this warning, use `float` by itself. Doing this will not modify any behavior and is safe. If you specifically wanted the numpy scalar type, use `np.float64` here.\n",
      "Deprecated in NumPy 1.20; for more details and guidance: https://numpy.org/devdocs/release/1.20.0-notes.html#deprecations\n",
      "  max_n_alphas=1000, n_jobs=None, eps=np.finfo(np.float).eps,\n",
      "/Users/oridori/git/python/oridori/venv/lib/python3.8/site-packages/sklearn/linear_model/_least_angle.py:1723: DeprecationWarning: `np.float` is a deprecated alias for the builtin `float`. To silence this warning, use `float` by itself. Doing this will not modify any behavior and is safe. If you specifically wanted the numpy scalar type, use `np.float64` here.\n",
      "Deprecated in NumPy 1.20; for more details and guidance: https://numpy.org/devdocs/release/1.20.0-notes.html#deprecations\n",
      "  eps=np.finfo(np.float).eps, copy_X=True, positive=False):\n",
      "/Users/oridori/git/python/oridori/venv/lib/python3.8/site-packages/sklearn/decomposition/_lda.py:29: DeprecationWarning: `np.float` is a deprecated alias for the builtin `float`. To silence this warning, use `float` by itself. Doing this will not modify any behavior and is safe. If you specifically wanted the numpy scalar type, use `np.float64` here.\n",
      "Deprecated in NumPy 1.20; for more details and guidance: https://numpy.org/devdocs/release/1.20.0-notes.html#deprecations\n",
      "  EPS = np.finfo(np.float).eps\n"
     ]
    }
   ],
   "source": [
    "import pyLDAvis\n",
    "import pyLDAvis.gensim"
   ]
  },
  {
   "cell_type": "code",
   "execution_count": 30,
   "metadata": {
    "ExecuteTime": {
     "end_time": "2021-03-17T02:16:26.911533Z",
     "start_time": "2021-03-17T02:16:26.908355Z"
    }
   },
   "outputs": [],
   "source": [
    "pyLDAvis.enable_notebook()"
   ]
  },
  {
   "cell_type": "code",
   "execution_count": 31,
   "metadata": {
    "ExecuteTime": {
     "end_time": "2021-03-17T02:16:26.918159Z",
     "start_time": "2021-03-17T02:16:26.914335Z"
    }
   },
   "outputs": [],
   "source": [
    "topic_term_dists = np.stack([mdl.get_topic_word_dist(k) for k in range(mdl.k)])"
   ]
  },
  {
   "cell_type": "code",
   "execution_count": 32,
   "metadata": {
    "ExecuteTime": {
     "end_time": "2021-03-17T02:16:26.924439Z",
     "start_time": "2021-03-17T02:16:26.920530Z"
    }
   },
   "outputs": [],
   "source": [
    "doc_topic_dists = np.stack([doc.get_topic_dist() for doc in mdl.docs])"
   ]
  },
  {
   "cell_type": "code",
   "execution_count": 33,
   "metadata": {
    "ExecuteTime": {
     "end_time": "2021-03-17T02:16:26.930236Z",
     "start_time": "2021-03-17T02:16:26.926933Z"
    }
   },
   "outputs": [],
   "source": [
    "doc_lengths = np.array([len(doc.words) for doc in mdl.docs])"
   ]
  },
  {
   "cell_type": "code",
   "execution_count": 34,
   "metadata": {
    "ExecuteTime": {
     "end_time": "2021-03-17T02:16:26.935656Z",
     "start_time": "2021-03-17T02:16:26.932640Z"
    }
   },
   "outputs": [],
   "source": [
    "vocab = list(mdl.used_vocabs)"
   ]
  },
  {
   "cell_type": "code",
   "execution_count": 35,
   "metadata": {
    "ExecuteTime": {
     "end_time": "2021-03-17T02:16:26.941389Z",
     "start_time": "2021-03-17T02:16:26.938214Z"
    }
   },
   "outputs": [],
   "source": [
    "term_frequency = mdl.used_vocab_freq"
   ]
  },
  {
   "cell_type": "code",
   "execution_count": 36,
   "metadata": {
    "ExecuteTime": {
     "end_time": "2021-03-17T02:16:26.947085Z",
     "start_time": "2021-03-17T02:16:26.943730Z"
    }
   },
   "outputs": [],
   "source": [
    "doc_topic_dists /= doc_topic_dists.sum(axis=1, keepdims= True)"
   ]
  },
  {
   "cell_type": "code",
   "execution_count": 37,
   "metadata": {
    "ExecuteTime": {
     "end_time": "2021-03-17T02:16:29.743493Z",
     "start_time": "2021-03-17T02:16:26.949641Z"
    }
   },
   "outputs": [],
   "source": [
    "prepared_data = pyLDAvis.prepare(\n",
    "    topic_term_dists,\n",
    "    doc_topic_dists,\n",
    "    doc_lengths,\n",
    "    vocab,\n",
    "    term_frequency\n",
    ")"
   ]
  },
  {
   "cell_type": "code",
   "execution_count": 41,
   "metadata": {
    "ExecuteTime": {
     "end_time": "2021-03-17T02:18:08.027800Z",
     "start_time": "2021-03-17T02:18:08.020437Z"
    }
   },
   "outputs": [
    {
     "data": {
      "text/html": [
       "\n",
       "<link rel=\"stylesheet\" type=\"text/css\" href=\"https://cdn.jsdelivr.net/gh/bmabey/pyLDAvis@3.2.2/pyLDAvis/js/ldavis.v1.0.0.css\">\n",
       "\n",
       "\n",
       "<div id=\"ldavis_el21641405311521523849540596717\"></div>\n",
       "<script type=\"text/javascript\">\n",
       "\n",
       "var ldavis_el21641405311521523849540596717_data = {\"mdsDat\": {\"x\": [-0.0881228614208002, 0.31980386121728877, -0.08441017321793132, -0.08096737112510499, -0.07688432251480214, -0.07839765038387338, 0.294884007267194, -0.0730205418118537, -0.07397582154503421, -0.05890912646508322], \"y\": [-0.4172311336725391, -0.0033613240795173174, 0.19772844219763122, 0.10026643450133574, 0.03958988718969137, 0.0431627754119759, -0.004049001603435746, 0.02276513956718197, 0.023584920584272966, -0.0024561400965977523], \"topics\": [1, 2, 3, 4, 5, 6, 7, 8, 9, 10], \"cluster\": [1, 1, 1, 1, 1, 1, 1, 1, 1, 1], \"Freq\": [13.572169227605544, 11.404643013994798, 11.309958878748045, 10.28353368902046, 10.205269110713017, 9.745268846214024, 9.706776366694646, 8.977089324151063, 8.609724946772523, 6.185566596085877]}, \"tinfo\": {\"Term\": [\"\\ube0c\\uc774\\ub85c\\uadf8\", \"\\uac8c\\uc784\", \"\\uc77c\\uc0c1\", \"\\uc0ac\\ub78c\", \"\\uc790\\uc720\", \"\\ud65c\\ub3d9\", \"\\uc5ec\\ud589\", \"\\uc7ac\\ubbf8\\uc788\\ub2e4\", \"\\ud3b8\\uc9d1\", \"\\uc88b\\uc544\\ud558\\ub2e4\", \"\\uc815\\ubcf4\", \"\\uc18c\\ud1b5\", \"\\uacf5\\uc720\", \"\\uad50\\uc721\", \"\\ucd94\\uc5b5\", \"\\uac15\\uc544\\uc9c0\", \"\\uccab\\uc601\\uc0c1\", \"\\ub77c\\uc774\\ube0c\", \"\\uc8fc\\uc81c\", \"\\ub9cc\\ub4e4\\ub2e4\", \"\\ub9ce\\uc774\", \"\\uc6b4\\ub3d9\", \"\\uc0dd\\ud65c\", \"\\uc990\\uac70\\uc6c0\", \"\\ubaa8\\uc2b5\", \"\\ub0b4\\uc6a9\", \"\\uc74c\\uc545\", \"\\uba39\\ubc29\", \"\\ud328\\uc158\", \"\\uad00\\uc2ec\", \"\\ub9cc\\ub4e4\\ub2e4\", \"\\ub3c4\\uc6c0\", \"\\ubd84\\uc57c\", \"\\ucc98\\uc74c\", \"\\ub300\\ud558\\ub2e4\", \"\\uc601\\uc0c1\\ubbf8\", \"\\uac00\\uc7a5\", \"\\uae30\\ub85d\", \"\\uc694\\ub9ac\", \"\\uc9c0\\uc2dd\", \"\\uc804\\ub2ec\", \"\\uc62c\\ub9ac\\ub2e4\", \"\\uc0ac\\ud68c\", \"\\uacbd\\ud5d8\", \"\\ubc30\\uacbd\\uc74c\\uc545\", \"\\ubc29\\uccad\", \"\\ub2e4\\uc2dc\", \"\\uc778\\uae30\", \"\\ub0a8\\uc790\", \"\\uc5b4\\ub974\\uc2e0\", \"\\uc190\\uc27d\\ub2e4\", \"\\uc2e4\\ubb34\", \"\\uac1c\\ubd09\", \"\\uc774\\uc81c\", \"\\uc2dc\\uc791\", \"\\uae34\\uc7a5\\uac10\", \"\\uc124\\ub808\\ub2e4\", \"\\ub4dc\\ub9ac\\ub2e4\", \"\\uc790\\uc2e0\", \"\\ud2b9\\ubcc4\", \"\\uc18c\\ud1b5\", \"\\uac15\\uc544\\uc9c0\", \"\\uc8fc\\uc81c\", \"\\uc74c\\uc545\", \"\\uadc0\\uc5fd\\ub2e4\", \"\\uc2e4\\uc2dc\\uac04\", \"\\uc790\\uc5f0\", \"\\ub098\\uc624\\ub2e4\", \"\\ubca0\\uc774\\ud0b9\", \"\\ub85c\\ub610\", \"\\ub3d9\\ubb3c\", \"\\ud658\\uacbd\", \"\\ub3d9\\uae30\", \"\\ub3d9\\ucc3d\", \"\\ubc18\\ub824\\uacac\", \"\\uc74c\\uc6d0\", \"\\ucee4\\ubc84\", \"\\uc778\\ucc9c\", \"\\ub3d9\\ub124\", \"\\ud765\\ubbf8\", \"\\ud1a0\\ud0b9\", \"\\ud3b8\\ud558\\ub2e4\", \"\\uac80\\uc0c9\\uc5b4\", \"\\ub77c\\ubc29\", \"\\ud2b9\\uc9d5\", \"\\ud6c4\\uc6d0\", \"\\uc601\\uc0c1\\uad6c\\ub3c4\", \"\\uc791\\uc5c5\", \"\\uc2dc\\uccad\\uc790\", \"\\uc8fc\\uc758\", \"\\uc77c\\uc0c1\", \"\\ucde8\\ubbf8\", \"\\uc9c1\\uc811\", \"\\uc5f0\\uc8fc\", \"\\ub178\\ub798\", \"\\uac00\\uc871\", \"\\uc81c\\ud488\", \"\\ube44\\uad50\", \"\\uc804\\ub2ec\\ub825\", \"\\uad6c\\uc785\", \"\\uacf5\\uac10\\ub300\", \"\\uc544\\uc9c1\", \"\\ubaa8\\ub4e0\", \"\\uc2e4\\ub825\", \"\\uaca8\\uc6b8\\uc655\\uad6d\", \"\\ub808\\uace0\\ud504\\ub80c\\uc988\", \"\\uc2e4\\uccb4\", \"\\ubd80\\ub974\\ub2e4\", \"\\uc544\\uae30\", \"\\uc74c\\uc2dd\", \"\\ud64d\\ubcf4\", \"\\ubb38\\ud654\", \"\\uc5b8\\uc5b4\", \"\\uc5f0\\uc2b5\", \"\\ubc29\\ubc95\", \"\\ucfe0\\ub9ac\\ucf54\", \"\\uc5b8\\ub355\", \"\\uc815\\uc5fd\", \"\\uc774\\ubcc4\", \"\\uc5ec\\ub984\", \"\\uc7ac\\uac74\\ucd95\", \"\\uc88b\\uc544\\ud558\\ub2e4\", \"\\uc815\\ubcf4\", \"\\uad50\\uc721\", \"\\uc5b4\\ub9ac\\ub2e4\", \"\\ucd2c\\uc601\", \"\\ubcf4\\uc774\\ub2e4\", \"\\uc9c1\\uc7a5\", \"\\ub178\\ub825\", \"\\uac74\\uac15\", \"\\uc81c\\uacf5\", \"\\uc8fc\\uc2dd\", \"\\ud1a0\\ud06c\", \"\\uc54c\\ucc28\\ub2e4\", \"\\ud65c\\uae30\\ucc28\\ub2e4\", \"\\ucc28\\ub7c9\", \"\\uc2dc\\uc2b9\", \"\\ubc34\\ub4dc\", \"\\ub3d9\\ub8cc\", \"\\ub3d9\\ud638\\ud68c\", \"\\uad00\\uc2ec\\uac70\\ub9ac\", \"\\uadf8\\uc800\", \"\\uac00\\uc9c0\\ub2e4\", \"\\uc138\\uc77c\", \"\\ud134\\ud14c\\uc774\\ube14\", \"\\uad6c\\ub3c5\\uc790\", \"\\ubd80\\uc790\", \"\\uc911\\uc694\", \"\\ud589\\ubcf5\", \"\\uc601\\uc0c1\\uad6c\\ub3c4\", \"\\uc791\\uc5c5\", \"\\ube0c\\uc774\\ub85c\\uadf8\", \"\\uc77c\\uc0c1\", \"\\ube0c\\uc774\\ub85c\\uadf8\", \"\\uc77c\\uc0c1\", \"\\ud328\\uc158\", \"\\uc544\\uc774\", \"\\ud3b8\\uc548\", \"\\uc0b0\\ucc45\", \"\\uacfc\\uc678\", \"\\uc7a5\\ub09c\\uac10\", \"\\uc5b8\\ubc15\\uc2f1\", \"\\uac1c\\uc778\", \"\\uc2a4\\ud0c0\\uc77c\", \"\\uc2dd\\ubb3c\", \"\\ud0a4\\uc6b0\\ub2e4\", \"\\uc18c\\uac1c\", \"\\ud328\\uc158\\uc1fc\", \"\\ud558\\uc6b8\", \"\\uc601\\uc0c1\", \"\\uc2dc\\uac04\", \"\\ub4e4\\uc774\\ub2e4\", \"\\uc758\\ubbf8\", \"\\uc5ed\\uc0ac\", \"\\uc0dd\\uac01\", \"\\uad00\\ud558\\ub2e4\", \"\\ub2e4\\ub8e8\\ub2e4\", \"\\ubc18\\uacbd\", \"\\ubc94\\uc704\", \"\\uc601\\uc0c1\\uad6c\\ub3c4\", \"\\uc791\\uc5c5\", \"\\uc8fc\\uc758\", \"\\uae30\\uc6b8\\uc774\\ub2e4\", \"\\uae30\\ub85d\", \"\\uac8c\\uc784\", \"\\ud3b8\\uc9d1\", \"\\uc88b\\uc544\\ud558\\ub2e4\", \"\\ucd94\\uc5b5\", \"\\uccab\\uc601\\uc0c1\", \"\\ub77c\\uc774\\ube0c\", \"\\uc0dd\\ud65c\", \"\\uc990\\uac70\\uc6c0\", \"\\ub0b4\\uc6a9\", \"\\uad00\\uc2ec\", \"\\uace0\\uc591\\uc774\", \"\\uc5c5\\ub85c\\ub4dc\", \"\\uba54\\ucd94\\ub9ac\", \"\\ub0a8\\uae30\\ub2e4\", \"\\uc9c0\\uc774\", \"\\ub531\\ud788\", \"\\uad6c\\ub3c5\\uc790\\uc218\", \"\\uc5bd\\ub9e4\\uc774\\ub2e4\", \"\\uc800\\uc7a5\", \"\\uc811\\ud558\\ub2e4\", \"\\uba4b\\uc9c0\\ub2e4\", \"\\ud48d\\uacbd\", \"\\ud589\\ubcf5\\uac10\", \"\\ubc00\\uc811\", \"\\ub300\\ud559\\uc6d0\", \"\\uc9c0\\ub0b4\\ub2e4\", \"\\uc601\\uc0c1\\uad6c\\ub3c4\", \"\\uc791\\uc5c5\", \"\\uc8fc\\uc758\", \"\\uae30\\uc6b8\\uc774\\ub2e4\", \"\\uc7a5\\uc18c\", \"\\uc218\\uc9d1\", \"\\uc8fc\\uc7a5\", \"\\ubcf4\\uc774\\ub2e4\", \"\\uae30\\ub85d\", \"\\uc0ac\\ub78c\", \"\\uc9c0\\uc2dd\", \"\\uc804\\ub2ec\", \"\\ube0c\\uc774\\ub85c\\uadf8\", \"\\uc77c\\uc0c1\", \"\\uc7ac\\ubbf8\\uc788\\ub2e4\", \"\\ud3b8\\uc9d1\", \"\\uacf5\\uc720\", \"\\uacf5\\uac10\", \"\\ub9ac\\ubdf0\", \"\\ubc29\\uc1a1\", \"\\uc694\\uc18c\", \"\\ud568\\uaed8\", \"\\uc601\\ud654\", \"\\ucc44\\ub110\", \"\\uc2e0\\uaddc\", \"\\ucc44\\ud305\", \"\\ub9ac\\uc561\\uc158\", \"\\uc81c\\uc77c\", \"\\ud574\\uc678\", \"\\ub290\\ub07c\\ub2e4\", \"\\uc9d1\\uc911\", \"\\uc870\\uae08\", \"\\uc7ac\\ubbf8\", \"\\ub9e4\\ub044\\ub7fd\\ub2e4\", \"\\ud758\\ub7ec\\uac00\\ub2e4\", \"\\uad6c\\ub3c4\", \"\\uc790\\ub140\", \"\\uc804\\ubc18\\uc801\", \"\\uc2dc\\uccad\\uc790\", \"\\uc601\\uc0c1\\uad6c\\ub3c4\", \"\\uc791\\uc5c5\", \"\\uc8fc\\uc758\", \"\\uae30\\uc6b8\\uc774\\ub2e4\", \"\\uc7a5\\uc18c\", \"\\uc77c\\uc0c1\", \"\\ube0c\\uc774\\ub85c\\uadf8\", \"\\uac8c\\uc784\", \"\\uc88b\\uc544\\ud558\\ub2e4\", \"\\uc0ac\\ub78c\", \"\\uac8c\\uc784\", \"\\ub9ce\\uc774\", \"\\uc990\\uae30\\ub2e4\", \"\\ucf58\\ud150\\uce20\", \"\\uae30\\uc874\", \"\\uc2e0\\uacbd\", \"\\ub2e4\\uc774\\uc5b4\\ud2b8\", \"\\uc720\\uba85\\ud55c\", \"\\uc2a4\\ud53c\\ub4dc\", \"\\ud398\\uc778\\ud305\", \"\\uc0dd\\ubc29\\uc1a1\", \"\\ub808\\uace0\", \"\\ub098\\ub77c\", \"\\ucd5c\\ub300\\ud55c\", \"\\ud798\\ub4e4\\ub2e4\", \"\\uc815\\uc131\", \"\\ub4e4\\uc5b4\\uac00\\ub2e4\", \"\\ub2e4\\uc591\", \"\\uc811\\uadfc\\uc131\", \"\\uc6a9\\uc774\", \"\\ud50c\\ub808\\uc774\", \"\\ud2b9\\uc815\", \"\\uc8fc\\uc758\", \"\\uae30\\uc6b8\\uc774\\ub2e4\", \"\\uc7a5\\uc18c\", \"\\uc601\\uc0c1\\uad6c\\ub3c4\", \"\\uc791\\uc5c5\", \"\\uc218\\uc9d1\", \"\\uc8fc\\uc7a5\", \"\\uc804\\ubc18\\uc801\", \"\\ud3b8\\uc9d1\", \"\\uc0ac\\ub78c\", \"\\uc9c0\\uc2dd\", \"\\ube0c\\uc774\\ub85c\\uadf8\", \"\\uc77c\\uc0c1\", \"\\uc5ec\\ud589\", \"\\uc6b4\\ub3d9\", \"\\ubaa8\\uc2b5\", \"\\uc81c\\uc791\", \"\\uc218\\uc5c5\", \"\\uc704\\ud558\\ub2e4\", \"\\ubc18\\ub824\", \"\\ucea0\\ud551\", \"\\ub208\\uc2f8\\uc6c0\", \"\\uc628\\ub77c\\uc778\", \"\\ud5ec\\uc2a4\\uc7a5\", \"\\uc721\\uc544\", \"\\ubca0\\uc774\\ube44\", \"\\ube14\\ub85c\\uadf8\", \"\\uace8\\ud504\", \"\\uadf8\\ub300\\ub85c\", \"\\uc9c0\\uae08\", \"\\ud559\\uad50\", \"\\uacfc\\uc81c\", \"\\uc2dc\\uc5f0\", \"\\uacbd\\uc81c\", \"\\uc720\\ud22c\", \"\\uc0dd\\uc77c\\ub0a0\", \"\\uae30\\ub150\", \"\\uc601\\uc0c1\\uad6c\\ub3c4\", \"\\uc791\\uc5c5\", \"\\uc8fc\\uc758\", \"\\uae30\\uc6b8\\uc774\\ub2e4\", \"\\uc7a5\\uc18c\", \"\\uc218\\uc9d1\", \"\\ub77c\\uc774\\ube0c\", \"\\ubd84\\uc57c\", \"\\uc694\\uc18c\", \"\\ube0c\\uc774\\ub85c\\uadf8\", \"\\uc77c\\uc0c1\", \"\\uac8c\\uc784\", \"\\uc0ac\\ub78c\", \"\\uc790\\uc720\", \"\\ud65c\\ub3d9\", \"\\uba39\\ubc29\", \"\\uc0ac\\uc6a9\", \"\\ub2e4\\ub978\", \"\\ucc3d\\ub2e8\", \"\\uc0c8\\ub86d\\ub2e4\", \"\\uba54\\ub274\", \"\\uacf5\\ub7b5\", \"\\ubc14\\ud0d5\", \"\\uc804\\uc790\\uc81c\\ud488\", \"\\ucee8\\uc149\", \"\\ub9e4\\ub2c8\\uc544\\uce35\", \"\\uc601\\uc0c1\\uad6c\\ub3c4\", \"\\uc791\\uc5c5\", \"\\uc8fc\\uc758\", \"\\uae30\\uc6b8\\uc774\\ub2e4\", \"\\uc7a5\\uc18c\", \"\\uc218\\uc9d1\", \"\\uc8fc\\uc7a5\", \"\\uc804\\ubc18\\uc801\", \"\\ub77c\\ubc29\", \"\\ud2b9\\uc9d5\", \"\\ud6c4\\uc6d0\", \"\\uac80\\ud1a0\", \"\\uc18c\\ube44\\uc790\", \"\\ud604\\uba85\", \"\\uc18c\\ube44\", \"\\ud134\\ud14c\\uc774\\ube14\", \"\\ubd84\\uc57c\", \"\\uc804\\ub2ec\", \"\\ube0c\\uc774\\ub85c\\uadf8\", \"\\uc77c\\uc0c1\", \"\\uac8c\\uc784\", \"\\ud3b8\\uc9d1\", \"\\uc88b\\uc544\\ud558\\ub2e4\", \"\\uc7ac\\ubbf8\\uc788\\ub2e4\", \"\\uc815\\ubcf4\", \"\\uc8fc\\uc81c\", \"\\uc5ec\\ud589\", \"\\ub9cc\\ub4e4\\ub2e4\", \"\\uc18c\\ud1b5\", \"\\uacf5\\uc720\", \"\\ub9ce\\uc774\", \"\\ubaa8\\uc2b5\"], \"Freq\": [7.0, 5.0, 5.0, 4.0, 3.0, 3.0, 4.0, 4.0, 4.0, 3.0, 3.0, 4.0, 3.0, 3.0, 3.0, 3.0, 3.0, 3.0, 3.0, 3.0, 3.0, 3.0, 3.0, 3.0, 2.0, 2.0, 3.0, 2.0, 2.0, 2.0, 3.7786255130566038, 2.9813422184279847, 2.8483711799210742, 2.562071395611283, 2.5545366204012536, 2.508477003884334, 2.376682035703956, 2.263406015572983, 2.154960159182571, 2.029253084457186, 2.029253084457186, 1.928342003276803, 1.9208072280667738, 1.9208072280667738, 1.784181986682849, 1.626354202673451, 1.4409650616920968, 1.2555759207107424, 1.1958938544547733, 1.1958938544547733, 1.1958938544547733, 1.1471301737833168, 1.1471301737833168, 1.1059009399329303, 1.1059009399329303, 1.1059009399329303, 1.1059009399329303, 1.0701867797293882, 1.038684426855891, 1.038684426855891, 4.047767180459536, 3.5863567800222027, 3.462046577320986, 3.1063466492844136, 2.8465236527758484, 2.539242333087144, 2.21811340693951, 2.0263279023032563, 1.4380987841173607, 1.4380987841173607, 1.4380987841173607, 1.2741689998336114, 1.2741689998336114, 1.2741689998336114, 1.2741689998336114, 1.2741689998336114, 1.2741689998336114, 1.2741689998336114, 1.2741689998336114, 1.2741689998336114, 1.1782762475154849, 1.1782762475154849, 1.1102392155498622, 0.8709948358454425, 0.8709948358454425, 0.8709948358454425, 0.79764293821299, 0.79764293821299, 1.5272608940156231, 0.0023650069137138435, 0.0023650633241437307, 2.3156321176433536, 2.1228637878812147, 1.9706426318759445, 1.8815988454326809, 1.818421293435302, 1.6662001374300317, 1.6662001374300317, 1.3353836908960424, 1.3353836908960424, 1.3353836908960424, 1.3353836908960424, 1.3353836908960424, 1.1831624436730859, 1.1831624436730859, 1.1831624436730859, 1.1831624436730859, 1.0941187484475086, 1.0941187484475086, 1.0941187484475086, 1.0941187484475086, 1.0941187484475086, 1.0941187484475086, 1.0309411964501296, 1.0309411964501296, 0.981936957339229, 0.981936957339229, 0.981936957339229, 0.981936957339229, 0.981936957339229, 0.981936957339229, 3.976756636223241, 3.8859019336217564, 3.5529745982500507, 2.3974796011263484, 2.0674951182423333, 2.0143797908271104, 1.9709811349733248, 1.6312798146492586, 1.4474181344320407, 1.28242597592934, 1.28242597592934, 1.28242597592934, 1.28242597592934, 1.28242597592934, 1.1859117438424107, 1.1859117438424107, 1.1859117438424107, 1.117433900365946, 1.117433900365946, 1.117433900365946, 1.0643182411934957, 1.0643182411934957, 1.0643182411934957, 0.8993260826907948, 0.8993260826907948, 0.8993260826907948, 0.8993260826907948, 0.8993260826907948, 0.00238033283767414, 0.00238033283767414, 0.00238033283767414, 0.00238033283767414, 7.126096227546797, 5.433152623688287, 2.813903974110266, 1.9383296801100627, 1.5534832568641845, 1.376400708103046, 1.376400708103046, 1.376400708103046, 1.376400708103046, 1.376400708103046, 1.376400708103046, 1.2728140099552474, 1.2728140099552474, 1.1423102639626097, 1.1423102639626097, 1.1423102639626097, 1.1423102639626097, 1.1423102639626097, 1.1423102639626097, 1.1423102639626097, 1.0222356105807693, 1.0222356105807693, 0.9652277152014712, 0.9652277152014712, 0.9652277152014712, 0.9652277152014712, 0.002554760917110093, 0.002554760917110093, 0.002554760917110093, 0.002554760917110093, 0.0025548827716551977, 0.002554760917110093, 0.002554760917110093, 0.002554760917110093, 3.4388127699479085, 3.299390492938555, 3.2664346389041343, 3.1430620866568315, 3.094056822252618, 2.8923870789393926, 2.69380686834383, 2.403969274637957, 2.0592130125504085, 1.3398344814508116, 1.2389998455883924, 1.2389998455883924, 1.0666217145446182, 1.0666217145446182, 1.0666217145446182, 1.0666217145446182, 1.0666217145446182, 1.0666217145446182, 1.0666217145446182, 1.0666217145446182, 1.0666217145446182, 0.9395849991304103, 0.9395849991304103, 0.002486889887545109, 0.002486889887545109, 0.002486889887545109, 0.002486889887545109, 0.002486889887545109, 0.002486889887545109, 0.002486889887545109, 0.0024870083986891726, 0.0024870083986891726, 0.0024869491431171406, 0.0024869491431171406, 0.0024869491431171406, 0.002486889887545109, 0.002486889887545109, 4.2927468673689, 4.131192862645415, 3.5212283926065986, 2.680316404116387, 2.1332510205940287, 2.1332510205940287, 1.8334857155196114, 1.7164640536126756, 1.3414031316777086, 1.3414031316777086, 1.2404503154583562, 1.2404503154583562, 1.1688231778482692, 1.1688231778482692, 1.1132648859257654, 1.1132648859257654, 1.1132648859257654, 1.0678704399165295, 1.0678704399165295, 1.0678704399165295, 1.0678704399165295, 1.0678704399165295, 0.9962433023064424, 0.8397321941645863, 0.966917623697177, 0.0024898011349425184, 0.0024898011349425184, 0.0024898011349425184, 0.0024898011349425184, 0.0024898011349425184, 0.0024898902788454296, 0.0024898011349425184, 0.0024898011349425184, 0.0024898011349425184, 0.0024898011349425184, 5.882928009894157, 3.092435095243185, 2.140021598088221, 2.071413856197652, 1.7561956632624982, 1.5908909048769269, 1.284856679687092, 1.284856679687092, 1.284856679687092, 1.284856679687092, 1.284856679687092, 1.284856679687092, 1.284856679687092, 1.284856679687092, 1.284856679687092, 1.188159518387086, 1.188159518387086, 1.1195518488990186, 1.1195518488990186, 1.1195518488990186, 1.1195518488990186, 0.9261575262990072, 0.8043335835613631, 0.8043335835613631, 0.8043335835613631, 0.00238484451281579, 0.00238484451281579, 0.00238484451281579, 0.00238484451281579, 0.00238484451281579, 0.002385043619695783, 0.002384901360092606, 0.002384901360092606, 0.00238484451281579, 0.00238484451281579, 4.099196847455032, 3.0021167599104657, 2.888727701615517, 2.3590687057873696, 1.934255334667715, 1.841579974634812, 1.389845281434535, 1.389845281434535, 1.389845281434535, 1.2314158834493518, 1.2314158834493518, 1.2314158834493518, 1.2314158834493518, 1.2314158834493518, 1.0729865549037836, 1.0219837132357654, 1.0219837132357654, 1.0219837132357654, 1.0219837132357654, 1.0219837132357654, 1.0219837132357654, 1.0219837132357654, 1.0219837132357654, 1.0219837132357654, 0.0022856521235040815, 0.0022856521235040815, 0.0022856521235040815, 0.0022856521235040815, 0.0022856521235040815, 0.0022856521235040815, 0.0022857611653994414, 0.0022857611653994414, 0.0022857066444517617, 0.0022856521235040815, 0.0022856521235040815, 0.0022856521235040815, 4.071129938532419, 3.93246000206441, 3.648767969092402, 2.342208151466017, 2.0760146910435173, 1.3054124896505457, 1.3054124896505457, 1.2071683286415384, 1.2071683286415384, 1.0833952970154095, 1.0392188296753933, 1.0392188296753933, 0.969513491718255, 0.9409746686663861, 0.00242299831811729, 0.00242299831811729, 0.00242299831811729, 0.00242299831811729, 0.00242299831811729, 0.00242299831811729, 0.00242299831811729, 0.00242299831811729, 0.00242299831811729, 0.00242299831811729, 0.00242299831811729, 0.00242299831811729, 0.00242299831811729, 0.00242299831811729, 0.00242299831811729, 0.00242299831811729, 0.002423056196181555, 0.002423056196181555, 0.00242299831811729, 0.00242299831811729, 0.00242299831811729, 0.00242299831811729, 0.00242299831811729, 0.00242299831811729, 0.00242299831811729, 0.00242299831811729, 0.00242299831811729, 0.00242299831811729, 0.00242299831811729, 0.00242299831811729, 0.00242299831811729, 0.00242299831811729], \"Total\": [7.0, 5.0, 5.0, 4.0, 3.0, 3.0, 4.0, 4.0, 4.0, 3.0, 3.0, 4.0, 3.0, 3.0, 3.0, 3.0, 3.0, 3.0, 3.0, 3.0, 3.0, 3.0, 3.0, 3.0, 2.0, 2.0, 3.0, 2.0, 2.0, 2.0, 3.800191887770707, 3.002908593142088, 2.869937721555137, 2.5836378227042918, 2.576102995115357, 2.530043378598437, 2.3982484104180593, 2.2849726306527756, 2.1765265338966744, 2.050819575274138, 2.0508195763049257, 1.949908377990906, 1.942373602780877, 1.942373602780877, 1.805748361396952, 1.647920577387554, 1.4625314364061999, 1.2771422954248455, 1.2174602291688763, 1.2174602291688763, 1.2174602291688763, 1.1686965484974199, 1.1686965484974199, 1.1274673146470333, 1.1274673146470333, 1.1274673146470333, 1.1274673146470333, 1.0917531544434913, 1.060250801569994, 1.060250801569994, 4.0696431480571515, 3.6082328115444935, 3.4839225449186033, 3.128222616882031, 2.8683996203734656, 2.561118300684761, 2.239989374537127, 2.0482038699008736, 1.4599747517149775, 1.4599747517149775, 1.4599747517149775, 1.2960449674312282, 1.2960449674312282, 1.2960449674312282, 1.2960449674312282, 1.2960449674312282, 1.2960449674312282, 1.2960449674312282, 1.2960449674312282, 1.2960449674312282, 1.2001522151131017, 1.2001522151131017, 1.132115183147479, 0.8928708034430591, 0.8928708034430591, 0.8928708034430591, 0.8195189058106067, 0.8195189058106067, 2.5135646841754746, 0.8261897135598778, 5.45483898283684, 2.3376770040860047, 2.1449086743238657, 1.9926875183185953, 1.9036437318753316, 1.8404661798779527, 1.6882450238726825, 1.6882450238726825, 1.3574285773386932, 1.3574285773386932, 1.3574285773386932, 1.3574285773386932, 1.3574285773386932, 1.2052073301157367, 1.2052073301157367, 1.2052073301157367, 1.2052073301157367, 1.1161636348901594, 1.1161636348901594, 1.1161636348901594, 1.1161636348901594, 1.1161636348901594, 1.1161636348901594, 1.0529860828927804, 1.0529860828927804, 1.0039818437818795, 1.0039818437818795, 1.0039818437818795, 1.0039818437818795, 1.0039818437818795, 1.0039818437818795, 3.998617277896898, 3.907762575295413, 3.5748352399237073, 2.419340242800005, 2.08935575991599, 2.0362406786474634, 1.9928417766469815, 1.6531404563229153, 1.4692787761056973, 1.3042866176029966, 1.3042866176029966, 1.3042866176029966, 1.3042866176029966, 1.3042866176029966, 1.2077723855160674, 1.2077723855160674, 1.2077723855160674, 1.1392945420396026, 1.1392945420396026, 1.1392945420396026, 1.0861788828671524, 1.0861788828671524, 1.0861788828671524, 0.9211867243644513, 0.9211867243644513, 0.9211867243644513, 0.9211867243644513, 0.9211867243644513, 0.8195189058106067, 0.8195189058106067, 7.1477824411410165, 5.45483898283684, 7.1477824411410165, 5.45483898283684, 2.8355901877044865, 1.9600158937042833, 1.5751694704584052, 1.3980869216972667, 1.3980869216972667, 1.3980869216972667, 1.3980869216972667, 1.3980869216972667, 1.3980869216972667, 1.294500223549468, 1.294500223549468, 1.1639964775568303, 1.1639964775568303, 1.1639964775568303, 1.1639964775568303, 1.1639964775568303, 1.1639964775568303, 1.1639964775568303, 1.04392182417499, 1.04392182417499, 0.9869139287956917, 0.9869139287956917, 0.9869139287956917, 0.9869139287956917, 0.8195189058106067, 0.8195189058106067, 0.8261897135598778, 0.8261897135598778, 2.2849726306527756, 5.904784139892672, 4.152944235128683, 3.998617277896898, 3.460566854571694, 3.3211446299412466, 3.2881888325698148, 3.164816171280617, 3.1158109068764035, 2.914141163563178, 2.7155609529676155, 2.425723359261742, 2.080967097174194, 1.3615885660745972, 1.260753930212178, 1.260753930212178, 1.0883757991684038, 1.0883757991684038, 1.0883757991684038, 1.0883757991684038, 1.0883757991684038, 1.0883757991684038, 1.0883757991684038, 1.0883757991684038, 1.0883757991684038, 0.9613390837541957, 0.9613390837541957, 0.8195189058106067, 0.8195189058106067, 0.8261897135598778, 0.8261897135598778, 0.8261897135598778, 0.8517605053412369, 0.8517605053412369, 2.0362406786474634, 2.2849726306527756, 4.092948030828481, 2.050819575274138, 2.0508195763049257, 7.1477824411410165, 5.45483898283684, 4.314498040745288, 4.152944235128683, 3.5429795659829866, 2.702067577492775, 2.1550021939704167, 2.1550021939704167, 1.855236943416947, 1.7382152269890636, 1.3631543050540966, 1.3631543050540966, 1.2622014888347441, 1.2622014888347441, 1.1905743512246572, 1.1905743512246572, 1.1350160593021534, 1.1350160593021534, 1.1350160593021534, 1.0896216132929175, 1.0896216132929175, 1.0896216132929175, 1.0896216132929175, 1.0896216132929175, 1.0179944756828305, 0.8614833675409744, 2.5135646841754746, 0.8195189058106067, 0.8195189058106067, 0.8261897135598778, 0.8261897135598778, 0.8261897135598778, 5.45483898283684, 7.1477824411410165, 5.904784139892672, 3.998617277896898, 4.092948030828481, 5.904784139892672, 3.1142912252416997, 2.161877728086736, 2.0932699861961668, 1.778051793261013, 1.6127470348754416, 1.3067128096856067, 1.3067128096856067, 1.3067128096856067, 1.3067128096856067, 1.3067128096856067, 1.3067128096856067, 1.3067128096856067, 1.3067128096856067, 1.3067128096856067, 1.2100156483856008, 1.2100156483856008, 1.1414079788975333, 1.1414079788975333, 1.1414079788975333, 1.1414079788975333, 0.9480136562975219, 0.8261897135598778, 0.8261897135598778, 0.8261897135598778, 0.8195189058106067, 0.8195189058106067, 0.8517605053412369, 0.8517605053412369, 0.8614833675409744, 4.152944235128683, 4.092948030828481, 2.050819575274138, 7.1477824411410165, 5.45483898283684, 4.121152169842858, 3.0240722099338444, 2.9106830240033434, 2.381024028175196, 1.9562107846910939, 1.8635352970226384, 1.4118006038223614, 1.4118006038223614, 1.4118006038223614, 1.2533712058371782, 1.2533712058371782, 1.2533712058371782, 1.2533712058371782, 1.2533712058371782, 1.09494187729161, 1.0439390356235918, 1.0439390356235918, 1.0439390356235918, 1.0439390356235918, 1.0439390356235918, 1.0439390356235918, 1.0439390356235918, 1.0439390356235918, 1.0439390356235918, 0.8195189058106067, 0.8195189058106067, 0.8261897135598778, 0.8261897135598778, 0.8261897135598778, 0.8517605053412369, 3.2881888325698148, 2.869937721555137, 1.855236943416947, 7.1477824411410165, 5.45483898283684, 5.904784139892672, 4.092948030828481, 3.954277978257623, 3.6705859452856155, 2.3640261276592303, 2.0978326672367307, 1.3272304658437588, 1.3272304658437588, 1.2289863048347516, 1.2289863048347516, 1.1052132732086226, 1.0610368058686064, 1.0610368058686064, 0.9913314679114682, 0.9627926448595994, 0.8195189058106067, 0.8195189058106067, 0.8261897135598778, 0.8261897135598778, 0.8261897135598778, 0.8517605053412369, 0.8517605053412369, 0.8614833675409744, 0.8928708034430591, 0.8928708034430591, 0.8928708034430591, 0.9007648356698237, 0.9007648356698237, 0.9007648356698237, 0.9007648356698237, 0.9211867243644513, 2.869937721555137, 2.0508195763049257, 7.1477824411410165, 5.45483898283684, 5.904784139892672, 4.152944235128683, 3.998617277896898, 4.314498040745288, 3.907762575295413, 3.4839225449186033, 4.121152169842858, 3.800191887770707, 4.0696431480571515, 3.5429795659829866, 3.1142912252416997, 2.9106830240033434], \"Category\": [\"Default\", \"Default\", \"Default\", \"Default\", \"Default\", \"Default\", \"Default\", \"Default\", \"Default\", \"Default\", \"Default\", \"Default\", \"Default\", \"Default\", \"Default\", \"Default\", \"Default\", \"Default\", \"Default\", \"Default\", \"Default\", \"Default\", \"Default\", \"Default\", \"Default\", \"Default\", \"Default\", \"Default\", \"Default\", \"Default\", \"Topic1\", \"Topic1\", \"Topic1\", \"Topic1\", \"Topic1\", \"Topic1\", \"Topic1\", \"Topic1\", \"Topic1\", \"Topic1\", \"Topic1\", \"Topic1\", \"Topic1\", \"Topic1\", \"Topic1\", \"Topic1\", \"Topic1\", \"Topic1\", \"Topic1\", \"Topic1\", \"Topic1\", \"Topic1\", \"Topic1\", \"Topic1\", \"Topic1\", \"Topic1\", \"Topic1\", \"Topic1\", \"Topic1\", \"Topic1\", \"Topic2\", \"Topic2\", \"Topic2\", \"Topic2\", \"Topic2\", \"Topic2\", \"Topic2\", \"Topic2\", \"Topic2\", \"Topic2\", \"Topic2\", \"Topic2\", \"Topic2\", \"Topic2\", \"Topic2\", \"Topic2\", \"Topic2\", \"Topic2\", \"Topic2\", \"Topic2\", \"Topic2\", \"Topic2\", \"Topic2\", \"Topic2\", \"Topic2\", \"Topic2\", \"Topic2\", \"Topic2\", \"Topic2\", \"Topic2\", \"Topic2\", \"Topic3\", \"Topic3\", \"Topic3\", \"Topic3\", \"Topic3\", \"Topic3\", \"Topic3\", \"Topic3\", \"Topic3\", \"Topic3\", \"Topic3\", \"Topic3\", \"Topic3\", \"Topic3\", \"Topic3\", \"Topic3\", \"Topic3\", \"Topic3\", \"Topic3\", \"Topic3\", \"Topic3\", \"Topic3\", \"Topic3\", \"Topic3\", \"Topic3\", \"Topic3\", \"Topic3\", \"Topic3\", \"Topic3\", \"Topic3\", \"Topic4\", \"Topic4\", \"Topic4\", \"Topic4\", \"Topic4\", \"Topic4\", \"Topic4\", \"Topic4\", \"Topic4\", \"Topic4\", \"Topic4\", \"Topic4\", \"Topic4\", \"Topic4\", \"Topic4\", \"Topic4\", \"Topic4\", \"Topic4\", \"Topic4\", \"Topic4\", \"Topic4\", \"Topic4\", \"Topic4\", \"Topic4\", \"Topic4\", \"Topic4\", \"Topic4\", \"Topic4\", \"Topic4\", \"Topic4\", \"Topic4\", \"Topic4\", \"Topic5\", \"Topic5\", \"Topic5\", \"Topic5\", \"Topic5\", \"Topic5\", \"Topic5\", \"Topic5\", \"Topic5\", \"Topic5\", \"Topic5\", \"Topic5\", \"Topic5\", \"Topic5\", \"Topic5\", \"Topic5\", \"Topic5\", \"Topic5\", \"Topic5\", \"Topic5\", \"Topic5\", \"Topic5\", \"Topic5\", \"Topic5\", \"Topic5\", \"Topic5\", \"Topic5\", \"Topic5\", \"Topic5\", \"Topic5\", \"Topic5\", \"Topic5\", \"Topic5\", \"Topic5\", \"Topic6\", \"Topic6\", \"Topic6\", \"Topic6\", \"Topic6\", \"Topic6\", \"Topic6\", \"Topic6\", \"Topic6\", \"Topic6\", \"Topic6\", \"Topic6\", \"Topic6\", \"Topic6\", \"Topic6\", \"Topic6\", \"Topic6\", \"Topic6\", \"Topic6\", \"Topic6\", \"Topic6\", \"Topic6\", \"Topic6\", \"Topic6\", \"Topic6\", \"Topic6\", \"Topic6\", \"Topic6\", \"Topic6\", \"Topic6\", \"Topic6\", \"Topic6\", \"Topic6\", \"Topic6\", \"Topic6\", \"Topic6\", \"Topic6\", \"Topic7\", \"Topic7\", \"Topic7\", \"Topic7\", \"Topic7\", \"Topic7\", \"Topic7\", \"Topic7\", \"Topic7\", \"Topic7\", \"Topic7\", \"Topic7\", \"Topic7\", \"Topic7\", \"Topic7\", \"Topic7\", \"Topic7\", \"Topic7\", \"Topic7\", \"Topic7\", \"Topic7\", \"Topic7\", \"Topic7\", \"Topic7\", \"Topic7\", \"Topic7\", \"Topic7\", \"Topic7\", \"Topic7\", \"Topic7\", \"Topic7\", \"Topic7\", \"Topic7\", \"Topic7\", \"Topic7\", \"Topic8\", \"Topic8\", \"Topic8\", \"Topic8\", \"Topic8\", \"Topic8\", \"Topic8\", \"Topic8\", \"Topic8\", \"Topic8\", \"Topic8\", \"Topic8\", \"Topic8\", \"Topic8\", \"Topic8\", \"Topic8\", \"Topic8\", \"Topic8\", \"Topic8\", \"Topic8\", \"Topic8\", \"Topic8\", \"Topic8\", \"Topic8\", \"Topic8\", \"Topic8\", \"Topic8\", \"Topic8\", \"Topic8\", \"Topic8\", \"Topic8\", \"Topic8\", \"Topic8\", \"Topic8\", \"Topic8\", \"Topic9\", \"Topic9\", \"Topic9\", \"Topic9\", \"Topic9\", \"Topic9\", \"Topic9\", \"Topic9\", \"Topic9\", \"Topic9\", \"Topic9\", \"Topic9\", \"Topic9\", \"Topic9\", \"Topic9\", \"Topic9\", \"Topic9\", \"Topic9\", \"Topic9\", \"Topic9\", \"Topic9\", \"Topic9\", \"Topic9\", \"Topic9\", \"Topic9\", \"Topic9\", \"Topic9\", \"Topic9\", \"Topic9\", \"Topic9\", \"Topic9\", \"Topic9\", \"Topic9\", \"Topic9\", \"Topic9\", \"Topic9\", \"Topic10\", \"Topic10\", \"Topic10\", \"Topic10\", \"Topic10\", \"Topic10\", \"Topic10\", \"Topic10\", \"Topic10\", \"Topic10\", \"Topic10\", \"Topic10\", \"Topic10\", \"Topic10\", \"Topic10\", \"Topic10\", \"Topic10\", \"Topic10\", \"Topic10\", \"Topic10\", \"Topic10\", \"Topic10\", \"Topic10\", \"Topic10\", \"Topic10\", \"Topic10\", \"Topic10\", \"Topic10\", \"Topic10\", \"Topic10\", \"Topic10\", \"Topic10\", \"Topic10\", \"Topic10\", \"Topic10\", \"Topic10\", \"Topic10\", \"Topic10\", \"Topic10\", \"Topic10\", \"Topic10\", \"Topic10\", \"Topic10\", \"Topic10\", \"Topic10\", \"Topic10\"], \"logprob\": [30.0, 29.0, 28.0, 27.0, 26.0, 25.0, 24.0, 23.0, 22.0, 21.0, 20.0, 19.0, 18.0, 17.0, 16.0, 15.0, 14.0, 13.0, 12.0, 11.0, 10.0, 9.0, 8.0, 7.0, 6.0, 5.0, 4.0, 3.0, 2.0, 1.0, -2.7442, -2.9812, -3.0268, -3.1328, -3.1357, -3.1539, -3.2079, -3.2567, -3.3058, -3.3659, -3.3659, -3.4169, -3.4208, -3.4208, -3.4946, -3.5872, -3.7083, -3.846, -3.8947, -3.8947, -3.8947, -3.9363, -3.9363, -3.9729, -3.9729, -3.9729, -3.9729, -4.0058, -4.0356, -4.0356, -2.5014, -2.6225, -2.6577, -2.7661, -2.8535, -2.9677, -3.1029, -3.1934, -3.5363, -3.5363, -3.5363, -3.6573, -3.6573, -3.6573, -3.6573, -3.6573, -3.6573, -3.6573, -3.6573, -3.6573, -3.7355, -3.7355, -3.795, -4.0377, -4.0377, -4.0377, -4.1257, -4.1257, -3.4761, -9.9466, -9.9465, -3.0516, -3.1385, -3.2129, -3.2591, -3.2933, -3.3807, -3.3807, -3.602, -3.602, -3.602, -3.602, -3.602, -3.7231, -3.7231, -3.7231, -3.7231, -3.8013, -3.8013, -3.8013, -3.8013, -3.8013, -3.8013, -3.8608, -3.8608, -3.9095, -3.9095, -3.9095, -3.9095, -3.9095, -3.9095, -2.4156, -2.4388, -2.5283, -2.9217, -3.0698, -3.0958, -3.1176, -3.3067, -3.4263, -3.5474, -3.5474, -3.5474, -3.5474, -3.5474, -3.6256, -3.6256, -3.6256, -3.6851, -3.6851, -3.6851, -3.7338, -3.7338, -3.7338, -3.9022, -3.9022, -3.9022, -3.9022, -3.9022, -9.8366, -9.8366, -9.8366, -9.8366, -1.8247, -2.096, -2.7539, -3.1266, -3.348, -3.469, -3.469, -3.469, -3.469, -3.469, -3.469, -3.5472, -3.5472, -3.6554, -3.6554, -3.6554, -3.6554, -3.6554, -3.6554, -3.6554, -3.7665, -3.7665, -3.8239, -3.8239, -3.8239, -3.8239, -9.7583, -9.7583, -9.7583, -9.7583, -9.7582, -9.7583, -9.7583, -9.7583, -2.5072, -2.5486, -2.5587, -2.5972, -2.6129, -2.6803, -2.7514, -2.8652, -3.02, -3.4498, -3.528, -3.528, -3.6779, -3.6779, -3.6779, -3.6779, -3.6779, -3.6779, -3.6779, -3.6779, -3.6779, -3.8047, -3.8047, -9.7391, -9.7391, -9.7391, -9.7391, -9.7391, -9.7391, -9.7391, -9.739, -9.739, -9.739, -9.739, -9.739, -9.7391, -9.7391, -2.2815, -2.3198, -2.4796, -2.7525, -2.9807, -2.9807, -3.1322, -3.1981, -3.4447, -3.4447, -3.5229, -3.5229, -3.5824, -3.5824, -3.6311, -3.6311, -3.6311, -3.6727, -3.6727, -3.6727, -3.6727, -3.6727, -3.7422, -3.9131, -3.772, -9.7339, -9.7339, -9.7339, -9.7339, -9.7339, -9.7339, -9.7339, -9.7339, -9.7339, -9.7339, -1.8882, -2.5313, -2.8994, -2.932, -3.0971, -3.1959, -3.4096, -3.4096, -3.4096, -3.4096, -3.4096, -3.4096, -3.4096, -3.4096, -3.4096, -3.4878, -3.4878, -3.5473, -3.5473, -3.5473, -3.5473, -3.737, -3.878, -3.878, -3.878, -9.6989, -9.6989, -9.6989, -9.6989, -9.6989, -9.6988, -9.6988, -9.6988, -9.6989, -9.6989, -2.2077, -2.5191, -2.5576, -2.7602, -2.9587, -3.0078, -3.2893, -3.2893, -3.2893, -3.4103, -3.4103, -3.4103, -3.4103, -3.4103, -3.548, -3.5967, -3.5967, -3.5967, -3.5967, -3.5967, -3.5967, -3.5967, -3.5967, -3.5967, -9.6996, -9.6996, -9.6996, -9.6996, -9.6996, -9.6996, -9.6995, -9.6995, -9.6995, -9.6996, -9.6996, -9.6996, -1.8839, -1.9185, -1.9934, -2.4367, -2.5573, -3.0213, -3.0213, -3.0995, -3.0995, -3.2077, -3.2493, -3.2493, -3.3187, -3.3486, -9.3105, -9.3105, -9.3105, -9.3105, -9.3105, -9.3105, -9.3105, -9.3105, -9.3105, -9.3105, -9.3105, -9.3105, -9.3105, -9.3105, -9.3105, -9.3105, -9.3105, -9.3105, -9.3105, -9.3105, -9.3105, -9.3105, -9.3105, -9.3105, -9.3105, -9.3105, -9.3105, -9.3105, -9.3105, -9.3105, -9.3105, -9.3105], \"loglift\": [30.0, 29.0, 28.0, 27.0, 26.0, 25.0, 24.0, 23.0, 22.0, 21.0, 20.0, 19.0, 18.0, 17.0, 16.0, 15.0, 14.0, 13.0, 12.0, 11.0, 10.0, 9.0, 8.0, 7.0, 6.0, 5.0, 4.0, 3.0, 2.0, 1.0, 1.9915, 1.9899, 1.9896, 1.9888, 1.9887, 1.9886, 1.9881, 1.9877, 1.9872, 1.9866, 1.9866, 1.986, 1.986, 1.986, 1.9851, 1.984, 1.9823, 1.9801, 1.9793, 1.9793, 1.9793, 1.9785, 1.9785, 1.9778, 1.9778, 1.9778, 1.9778, 1.9772, 1.9766, 1.9766, 2.1658, 2.1651, 2.1649, 2.1641, 2.1635, 2.1626, 2.1613, 2.1604, 2.1561, 2.1561, 2.1561, 2.1541, 2.1541, 2.1541, 2.1541, 2.1541, 2.1541, 2.1541, 2.1541, 2.1541, 2.1528, 2.1528, 2.1516, 2.1463, 2.1463, 2.1463, 2.1441, 2.1441, 1.6729, -3.6849, -5.5723, 2.17, 2.1692, 2.1684, 2.1678, 2.1674, 2.1663, 2.1663, 2.1631, 2.1631, 2.1631, 2.1631, 2.1631, 2.161, 2.161, 2.161, 2.161, 2.1595, 2.1595, 2.1595, 2.1595, 2.1595, 2.1595, 2.1583, 2.1583, 2.1573, 2.1573, 2.1573, 2.1573, 2.1573, 2.1573, 2.2691, 2.269, 2.2685, 2.2655, 2.2641, 2.2638, 2.2636, 2.2613, 2.2596, 2.2577, 2.2577, 2.2577, 2.2577, 2.2577, 2.2564, 2.2564, 2.2564, 2.2553, 2.2553, 2.2553, 2.2543, 2.2543, 2.2543, 2.2506, 2.2506, 2.2506, 2.2506, 2.2506, -3.5669, -3.5669, -5.7327, -5.4624, 2.2792, 2.2783, 2.2746, 2.2711, 2.2684, 2.2666, 2.2666, 2.2666, 2.2666, 2.2666, 2.2666, 2.2654, 2.2654, 2.2635, 2.2635, 2.2635, 2.2635, 2.2635, 2.2635, 2.2635, 2.2613, 2.2613, 2.26, 2.26, 2.26, 2.26, -3.4885, -3.4885, -3.4966, -3.4966, -4.5138, -5.4633, -5.1113, -5.0735, 2.3221, 2.3218, 2.3218, 2.3215, 2.3214, 2.3209, 2.3203, 2.3194, 2.3179, 2.3123, 2.311, 2.311, 2.3082, 2.3082, 2.3082, 2.3082, 2.3082, 2.3082, 2.3082, 2.3082, 2.3082, 2.3055, 2.3055, -3.4693, -3.4693, -3.4774, -3.4774, -3.4774, -3.5079, -3.5079, -4.3794, -4.4946, -5.0776, -4.3865, -4.3865, -5.6351, -5.3648, 2.3273, 2.3271, 2.3262, 2.3243, 2.3222, 2.3222, 2.3206, 2.3198, 2.3163, 2.3163, 2.315, 2.315, 2.3139, 2.3139, 2.313, 2.313, 2.313, 2.3122, 2.3122, 2.3122, 2.3122, 2.3122, 2.3107, 2.3068, 1.377, -3.4642, -3.4642, -3.4723, -3.4723, -3.4723, -5.3597, -5.63, -5.439, -5.0492, -5.0725, 2.4068, 2.4035, 2.4003, 2.4, 2.3981, 2.3968, 2.3936, 2.3936, 2.3936, 2.3936, 2.3936, 2.3936, 2.3936, 2.3936, 2.3936, 2.3923, 2.3923, 2.3912, 2.3912, 2.3912, 2.3912, 2.3872, 2.3837, 2.3837, 2.3837, -3.4291, -3.4291, -3.4677, -3.4677, -3.479, -5.0519, -5.0374, -4.3463, -5.5949, -5.3246, 2.4469, 2.445, 2.4447, 2.443, 2.441, 2.4404, 2.4366, 2.4366, 2.4366, 2.4346, 2.4346, 2.4346, 2.4346, 2.4346, 2.432, 2.431, 2.431, 2.431, 2.431, 2.431, 2.431, 2.431, 2.431, 2.431, -3.4298, -3.4298, -3.4379, -3.4379, -3.4379, -3.4684, -4.8191, -4.6831, -4.2468, -5.5956, -5.3253, -5.4046, 2.7776, 2.7774, 2.777, 2.7737, 2.7725, 2.7664, 2.7664, 2.765, 2.765, 2.763, 2.7622, 2.7622, 2.7607, 2.76, -3.0408, -3.0408, -3.0489, -3.0489, -3.0489, -3.0793, -3.0793, -3.0907, -3.1265, -3.1265, -3.1265, -3.1353, -3.1353, -3.1353, -3.1353, -3.1577, -4.2941, -3.958, -5.2066, -4.9363, -5.0156, -4.6636, -4.6257, -4.7018, -4.6028, -4.488, -4.6559, -4.5748, -4.6434, -4.5048, -4.3758, -4.3082]}, \"token.table\": {\"Topic\": [1, 3, 4, 2, 1, 5, 4, 2, 3, 8, 3, 9, 1, 6, 9, 7, 3, 10, 7, 5, 9, 6, 4, 5, 4, 7, 4, 6, 3, 2, 9, 4, 9, 1, 8, 8, 1, 8, 2, 6, 1, 6, 3, 4, 9, 7, 5, 10, 1, 8, 8, 1, 6, 1, 2, 2, 4, 2, 2, 4, 1, 8, 5, 6, 2, 6, 8, 3, 2, 7, 7, 1, 8, 7, 10, 10, 6, 10, 6, 3, 9, 3, 6, 10, 5, 9, 2, 3, 7, 1, 1, 4, 5, 9, 2, 4, 3, 4, 1, 5, 9, 3, 10, 10, 1, 5, 10, 5, 8, 9, 6, 1, 4, 5, 3, 3, 2, 1, 9, 3, 5, 8, 5, 4, 9, 1, 2, 7, 5, 8, 7, 3, 1, 2, 3, 3, 5, 3, 4, 1, 4, 3, 5, 3, 6, 6, 3, 9, 5, 3, 3, 5, 2, 1, 7, 9, 1, 1, 7, 8, 9, 9, 8, 9, 9, 3, 2, 2, 5, 3, 1, 1, 2, 5, 7, 1, 2, 10, 2, 5, 8, 3, 7, 7, 6, 1, 3, 7, 10, 8, 6, 4, 8, 3, 4, 7, 9, 3, 7, 4, 4, 8, 3, 2, 4, 6, 8, 9, 6, 1, 6, 4, 3, 7, 4, 10, 7, 7, 1, 6, 4, 8, 6, 3, 9, 2, 10, 8, 3, 5, 4, 4, 2, 1, 8, 2, 5, 5, 8, 5, 7, 2, 6, 8, 5, 9, 7, 7, 4, 6, 9, 3, 3, 2, 4, 10, 2, 7, 2, 8], \"Freq\": [0.8339419683598843, 1.0866812016793628, 0.9206586647683035, 1.1085759176076588, 0.8556541056664272, 0.7152631102406765, 0.6806060335605513, 0.8833023484587712, 1.1101676712950095, 1.0161252059095693, 0.8297327563581691, 0.9579103433014696, 1.0296680294339977, 0.8244963269878767, 0.9132904866818564, 1.1102609072359597, 0.7366870100528974, 0.9048027419149876, 1.128993245799377, 0.7152631102406765, 0.9579103433014696, 1.104744121733502, 0.8777361455710716, 1.013259587105308, 1.118932686834923, 0.917749783778541, 1.085556243431454, 0.9188002900873676, 0.7366870100528974, 1.0458793742307775, 0.9579103433014696, 0.9206586647683035, 0.9579103433014696, 0.875284006981141, 1.2103757570294724, 1.1248266262997468, 0.8869436718997584, 0.765279097738851, 0.9764652969319864, 0.7931761908778706, 0.8213820673901356, 1.0294628268219652, 1.0506167548639709, 1.2098185561610448, 0.7083153224984908, 0.8810448026742759, 1.013259587105308, 0.7534486479439507, 0.683745986655334, 0.876110924829773, 0.765279097738851, 1.1645497115947654, 1.0402156917357679, 0.9990314080326219, 0.7715781667529702, 0.7715781667529702, 0.8777361455710716, 0.6849433518116238, 0.7715781667529702, 0.8777361455710716, 0.915957967174126, 0.8264355930720375, 0.8591091290060855, 0.9188002900873676, 1.1199828644231984, 0.9123563617407621, 0.765279097738851, 0.8297327563581691, 0.6849433518116238, 0.9280733010833563, 0.8399307434864297, 1.0525784271242433, 0.9633010476620312, 0.917749783778541, 1.0386452423988204, 0.8460143382511278, 0.9188002900873676, 0.8136787172209043, 0.7344362496249202, 0.7366870100528974, 1.0306859164189615, 0.8959259814072057, 0.9188002900873676, 0.9424743745636239, 1.013259587105308, 0.7083153224984908, 0.7715781667529702, 0.9496801679019193, 0.9280733010833563, 1.2136507228828934, 1.1075740356495587, 0.8279705778938731, 1.013259587105308, 0.7978482315078068, 0.6849433518116238, 0.9822021635126474, 0.8959259814072057, 1.085556243431454, 1.0453188504642483, 0.9793247147128578, 0.7978482315078068, 1.1846621620196929, 0.977290688733796, 0.9533648852147983, 1.0296680294339977, 0.7152631102406765, 0.8136787172209043, 0.957926136653287, 0.765279097738851, 0.9579103433014696, 0.9479223555616738, 0.8869436718997584, 0.9206586647683035, 0.8591091290060855, 1.1101676712950095, 1.1101676712950095, 0.9828871609810803, 0.8213820673901356, 1.0223847121443106, 1.1740389390317816, 0.7152631102406765, 0.765279097738851, 0.8591091290060855, 0.8279705778938731, 0.9579103433014696, 0.8869436718997584, 0.7956827260469171, 0.39784136302345857, 0.7724989009720213, 1.240120091217199, 0.7922665349754842, 0.8297327563581691, 0.8556541056664272, 1.1713633060987054, 0.8297327563581691, 0.8959259814072057, 1.020399888809141, 0.7366870100528974, 0.7667026453417033, 0.8213820673901356, 0.8266716539569131, 0.996033948415959, 0.7152631102406765, 0.8959259814072057, 0.9188002900873676, 0.9610916014558128, 0.996033948415959, 0.9706023546693064, 0.957926136653287, 0.9496801679019193, 1.003669657994132, 0.8591091290060855, 1.2202281032319504, 1.1857504204777327, 0.7335926654028467, 0.7978482315078068, 1.0256892183112245, 0.9188952989327285, 1.0780294167258393, 0.876110924829773, 0.9920398031982275, 1.0732289338417096, 0.765279097738851, 0.9579103433014696, 0.7978482315078068, 0.8959259814072057, 0.9590110319546781, 0.7715781667529702, 0.8591091290060855, 0.996033948415959, 0.8869436718997584, 0.7829981072448523, 0.7715781667529702, 0.9166173402610142, 0.9823236018341254, 0.9431730667114082, 0.8928613781542073, 1.0115626726279177, 1.2202281032319504, 0.7152631102406765, 1.2103757570294724, 0.996033948415959, 0.917749783778541, 0.9271066905639476, 0.9188002900873676, 0.9752198697086313, 0.7366870100528974, 1.1607885162709626, 0.9424743745636239, 0.876110924829773, 0.9188002900873676, 1.0236036409396274, 0.8264355930720375, 0.996033948415959, 0.7667026453417033, 0.8399307434864297, 0.8399747236204035, 1.1846621620196929, 0.917749783778541, 1.0003458000621228, 0.7667026453417033, 1.2103757570294724, 1.1740389390317816, 0.8610983629287575, 1.085556243431454, 0.9628312146219092, 0.9251217004626817, 0.9579103433014696, 1.0402156917357679, 0.9752198701987986, 0.7931761908778706, 1.003591967730154, 0.9324406320611552, 0.8810448026742759, 0.8279705778938731, 0.7534486479439507, 0.7335926654028467, 0.7922665349754842, 1.1611534610760197, 0.9033030278037221, 0.95723286496715, 0.765279097738851, 0.866909996562197, 0.8555501878592372, 0.7083153224984908, 0.7715781667529702, 1.0087443326164098, 0.9554429257519454, 0.996033948415959, 0.7724989009720213, 1.085556243431454, 0.7667026453417033, 0.8332276418002199, 0.9431730667114082, 1.0548371253485012, 1.1199828644231984, 1.0579808087249059, 0.8591091290060855, 0.765279097738851, 1.2697046492514616, 0.963172095152406, 0.8332276418002199, 0.9188002900873676, 0.876110924829773, 0.8591091290060855, 0.9579103433014696, 1.1506054997944068, 0.8810448026742759, 1.085556243431454, 0.9188002900873676, 0.7978482315078068, 1.1101676712950095, 0.8959259814072057, 0.7715781667529702, 0.7667026453417033, 1.0897442696138129, 1.1199828644231984, 0.917749783778541, 0.7715781667529702, 0.765279097738851], \"Term\": [\"\\uac00\\uc7a5\", \"\\uac00\\uc871\", \"\\uac00\\uc9c0\\ub2e4\", \"\\uac15\\uc544\\uc9c0\", \"\\uac1c\\ubd09\", \"\\uac1c\\uc778\", \"\\uac74\\uac15\", \"\\uac80\\uc0c9\\uc5b4\", \"\\uac80\\ud1a0\", \"\\uac8c\\uc784\", \"\\uaca8\\uc6b8\\uc655\\uad6d\", \"\\uacbd\\uc81c\", \"\\uacbd\\ud5d8\", \"\\uace0\\uc591\\uc774\", \"\\uace8\\ud504\", \"\\uacf5\\uac10\", \"\\uacf5\\uac10\\ub300\", \"\\uacf5\\ub7b5\", \"\\uacf5\\uc720\", \"\\uacfc\\uc678\", \"\\uacfc\\uc81c\", \"\\uad00\\uc2ec\", \"\\uad00\\uc2ec\\uac70\\ub9ac\", \"\\uad00\\ud558\\ub2e4\", \"\\uad50\\uc721\", \"\\uad6c\\ub3c4\", \"\\uad6c\\ub3c5\\uc790\", \"\\uad6c\\ub3c5\\uc790\\uc218\", \"\\uad6c\\uc785\", \"\\uadc0\\uc5fd\\ub2e4\", \"\\uadf8\\ub300\\ub85c\", \"\\uadf8\\uc800\", \"\\uae30\\ub150\", \"\\uae30\\ub85d\", \"\\uae30\\uc6b8\\uc774\\ub2e4\", \"\\uae30\\uc874\", \"\\uae34\\uc7a5\\uac10\", \"\\ub098\\ub77c\", \"\\ub098\\uc624\\ub2e4\", \"\\ub0a8\\uae30\\ub2e4\", \"\\ub0a8\\uc790\", \"\\ub0b4\\uc6a9\", \"\\ub178\\ub798\", \"\\ub178\\ub825\", \"\\ub208\\uc2f8\\uc6c0\", \"\\ub290\\ub07c\\ub2e4\", \"\\ub2e4\\ub8e8\\ub2e4\", \"\\ub2e4\\ub978\", \"\\ub2e4\\uc2dc\", \"\\ub2e4\\uc591\", \"\\ub2e4\\uc774\\uc5b4\\ud2b8\", \"\\ub300\\ud558\\ub2e4\", \"\\ub300\\ud559\\uc6d0\", \"\\ub3c4\\uc6c0\", \"\\ub3d9\\uae30\", \"\\ub3d9\\ub124\", \"\\ub3d9\\ub8cc\", \"\\ub3d9\\ubb3c\", \"\\ub3d9\\ucc3d\", \"\\ub3d9\\ud638\\ud68c\", \"\\ub4dc\\ub9ac\\ub2e4\", \"\\ub4e4\\uc5b4\\uac00\\ub2e4\", \"\\ub4e4\\uc774\\ub2e4\", \"\\ub531\\ud788\", \"\\ub77c\\ubc29\", \"\\ub77c\\uc774\\ube0c\", \"\\ub808\\uace0\", \"\\ub808\\uace0\\ud504\\ub80c\\uc988\", \"\\ub85c\\ub610\", \"\\ub9ac\\ubdf0\", \"\\ub9ac\\uc561\\uc158\", \"\\ub9cc\\ub4e4\\ub2e4\", \"\\ub9ce\\uc774\", \"\\ub9e4\\ub044\\ub7fd\\ub2e4\", \"\\ub9e4\\ub2c8\\uc544\\uce35\", \"\\uba39\\ubc29\", \"\\uba4b\\uc9c0\\ub2e4\", \"\\uba54\\ub274\", \"\\uba54\\ucd94\\ub9ac\", \"\\ubaa8\\ub4e0\", \"\\ubaa8\\uc2b5\", \"\\ubb38\\ud654\", \"\\ubc00\\uc811\", \"\\ubc14\\ud0d5\", \"\\ubc18\\uacbd\", \"\\ubc18\\ub824\", \"\\ubc18\\ub824\\uacac\", \"\\ubc29\\ubc95\", \"\\ubc29\\uc1a1\", \"\\ubc29\\uccad\", \"\\ubc30\\uacbd\\uc74c\\uc545\", \"\\ubc34\\ub4dc\", \"\\ubc94\\uc704\", \"\\ubca0\\uc774\\ube44\", \"\\ubca0\\uc774\\ud0b9\", \"\\ubcf4\\uc774\\ub2e4\", \"\\ubd80\\ub974\\ub2e4\", \"\\ubd80\\uc790\", \"\\ubd84\\uc57c\", \"\\ube0c\\uc774\\ub85c\\uadf8\", \"\\ube14\\ub85c\\uadf8\", \"\\ube44\\uad50\", \"\\uc0ac\\ub78c\", \"\\uc0ac\\uc6a9\", \"\\uc0ac\\ud68c\", \"\\uc0b0\\ucc45\", \"\\uc0c8\\ub86d\\ub2e4\", \"\\uc0dd\\uac01\", \"\\uc0dd\\ubc29\\uc1a1\", \"\\uc0dd\\uc77c\\ub0a0\", \"\\uc0dd\\ud65c\", \"\\uc124\\ub808\\ub2e4\", \"\\uc138\\uc77c\", \"\\uc18c\\uac1c\", \"\\uc18c\\ube44\", \"\\uc18c\\ube44\\uc790\", \"\\uc18c\\ud1b5\", \"\\uc190\\uc27d\\ub2e4\", \"\\uc218\\uc5c5\", \"\\uc218\\uc9d1\", \"\\uc2a4\\ud0c0\\uc77c\", \"\\uc2a4\\ud53c\\ub4dc\", \"\\uc2dc\\uac04\", \"\\uc2dc\\uc2b9\", \"\\uc2dc\\uc5f0\", \"\\uc2dc\\uc791\", \"\\uc2dc\\uccad\\uc790\", \"\\uc2dc\\uccad\\uc790\", \"\\uc2dd\\ubb3c\", \"\\uc2e0\\uacbd\", \"\\uc2e0\\uaddc\", \"\\uc2e4\\ub825\", \"\\uc2e4\\ubb34\", \"\\uc2e4\\uc2dc\\uac04\", \"\\uc2e4\\uccb4\", \"\\uc544\\uae30\", \"\\uc544\\uc774\", \"\\uc544\\uc9c1\", \"\\uc54c\\ucc28\\ub2e4\", \"\\uc5b4\\ub974\\uc2e0\", \"\\uc5b4\\ub9ac\\ub2e4\", \"\\uc5b8\\ub355\", \"\\uc5b8\\ubc15\\uc2f1\", \"\\uc5b8\\uc5b4\", \"\\uc5bd\\ub9e4\\uc774\\ub2e4\", \"\\uc5c5\\ub85c\\ub4dc\", \"\\uc5ec\\ub984\", \"\\uc5ec\\ud589\", \"\\uc5ed\\uc0ac\", \"\\uc5f0\\uc2b5\", \"\\uc5f0\\uc8fc\", \"\\uc601\\uc0c1\", \"\\uc601\\uc0c1\\uad6c\\ub3c4\", \"\\uc601\\uc0c1\\ubbf8\", \"\\uc601\\ud654\", \"\\uc628\\ub77c\\uc778\", \"\\uc62c\\ub9ac\\ub2e4\", \"\\uc694\\ub9ac\", \"\\uc694\\uc18c\", \"\\uc6a9\\uc774\", \"\\uc6b4\\ub3d9\", \"\\uc704\\ud558\\ub2e4\", \"\\uc720\\uba85\\ud55c\", \"\\uc720\\ud22c\", \"\\uc721\\uc544\", \"\\uc74c\\uc2dd\", \"\\uc74c\\uc545\", \"\\uc74c\\uc6d0\", \"\\uc758\\ubbf8\", \"\\uc774\\ubcc4\", \"\\uc774\\uc81c\", \"\\uc778\\uae30\", \"\\uc778\\ucc9c\", \"\\uc77c\\uc0c1\", \"\\uc790\\ub140\", \"\\uc790\\uc2e0\", \"\\uc790\\uc5f0\", \"\\uc790\\uc720\", \"\\uc791\\uc5c5\", \"\\uc7a5\\ub09c\\uac10\", \"\\uc7a5\\uc18c\", \"\\uc7ac\\uac74\\ucd95\", \"\\uc7ac\\ubbf8\", \"\\uc7ac\\ubbf8\\uc788\\ub2e4\", \"\\uc800\\uc7a5\", \"\\uc804\\ub2ec\", \"\\uc804\\ub2ec\\ub825\", \"\\uc804\\ubc18\\uc801\", \"\\uc804\\uc790\\uc81c\\ud488\", \"\\uc811\\uadfc\\uc131\", \"\\uc811\\ud558\\ub2e4\", \"\\uc815\\ubcf4\", \"\\uc815\\uc131\", \"\\uc815\\uc5fd\", \"\\uc81c\\uacf5\", \"\\uc81c\\uc77c\", \"\\uc81c\\uc791\", \"\\uc81c\\ud488\", \"\\uc870\\uae08\", \"\\uc88b\\uc544\\ud558\\ub2e4\", \"\\uc8fc\\uc2dd\", \"\\uc8fc\\uc758\", \"\\uc8fc\\uc7a5\", \"\\uc8fc\\uc81c\", \"\\uc911\\uc694\", \"\\uc990\\uac70\\uc6c0\", \"\\uc990\\uae30\\ub2e4\", \"\\uc9c0\\uae08\", \"\\uc9c0\\ub0b4\\ub2e4\", \"\\uc9c0\\uc2dd\", \"\\uc9c0\\uc774\", \"\\uc9c1\\uc7a5\", \"\\uc9c1\\uc811\", \"\\uc9d1\\uc911\", \"\\ucc28\\ub7c9\", \"\\ucc3d\\ub2e8\", \"\\ucc44\\ub110\", \"\\ucc44\\ud305\", \"\\ucc98\\uc74c\", \"\\uccab\\uc601\\uc0c1\", \"\\ucd2c\\uc601\", \"\\ucd5c\\ub300\\ud55c\", \"\\ucd94\\uc5b5\", \"\\ucde8\\ubbf8\", \"\\ucea0\\ud551\", \"\\ucee4\\ubc84\", \"\\ucee8\\uc149\", \"\\ucf58\\ud150\\uce20\", \"\\ucfe0\\ub9ac\\ucf54\", \"\\ud0a4\\uc6b0\\ub2e4\", \"\\ud134\\ud14c\\uc774\\ube14\", \"\\ud1a0\\ud06c\", \"\\ud1a0\\ud0b9\", \"\\ud2b9\\ubcc4\", \"\\ud2b9\\uc815\", \"\\ud2b9\\uc9d5\", \"\\ud328\\uc158\", \"\\ud328\\uc158\\uc1fc\", \"\\ud398\\uc778\\ud305\", \"\\ud3b8\\uc548\", \"\\ud3b8\\uc9d1\", \"\\ud3b8\\ud558\\ub2e4\", \"\\ud48d\\uacbd\", \"\\ud50c\\ub808\\uc774\", \"\\ud558\\uc6b8\", \"\\ud559\\uad50\", \"\\ud568\\uaed8\", \"\\ud574\\uc678\", \"\\ud589\\ubcf5\", \"\\ud589\\ubcf5\\uac10\", \"\\ud5ec\\uc2a4\\uc7a5\", \"\\ud604\\uba85\", \"\\ud64d\\ubcf4\", \"\\ud658\\uacbd\", \"\\ud65c\\uae30\\ucc28\\ub2e4\", \"\\ud65c\\ub3d9\", \"\\ud6c4\\uc6d0\", \"\\ud758\\ub7ec\\uac00\\ub2e4\", \"\\ud765\\ubbf8\", \"\\ud798\\ub4e4\\ub2e4\"]}, \"R\": 30, \"lambda.step\": 0.01, \"plot.opts\": {\"xlab\": \"PC1\", \"ylab\": \"PC2\"}, \"topic.order\": [7, 2, 10, 4, 9, 3, 8, 1, 5, 6]};\n",
       "\n",
       "function LDAvis_load_lib(url, callback){\n",
       "  var s = document.createElement('script');\n",
       "  s.src = url;\n",
       "  s.async = true;\n",
       "  s.onreadystatechange = s.onload = callback;\n",
       "  s.onerror = function(){console.warn(\"failed to load library \" + url);};\n",
       "  document.getElementsByTagName(\"head\")[0].appendChild(s);\n",
       "}\n",
       "\n",
       "if(typeof(LDAvis) !== \"undefined\"){\n",
       "   // already loaded: just create the visualization\n",
       "   !function(LDAvis){\n",
       "       new LDAvis(\"#\" + \"ldavis_el21641405311521523849540596717\", ldavis_el21641405311521523849540596717_data);\n",
       "   }(LDAvis);\n",
       "}else if(typeof define === \"function\" && define.amd){\n",
       "   // require.js is available: use it to load d3/LDAvis\n",
       "   require.config({paths: {d3: \"https://d3js.org/d3.v5\"}});\n",
       "   require([\"d3\"], function(d3){\n",
       "      window.d3 = d3;\n",
       "      LDAvis_load_lib(\"https://cdn.jsdelivr.net/gh/bmabey/pyLDAvis@3.2.2/pyLDAvis/js/ldavis.v3.0.0.js\", function(){\n",
       "        new LDAvis(\"#\" + \"ldavis_el21641405311521523849540596717\", ldavis_el21641405311521523849540596717_data);\n",
       "      });\n",
       "    });\n",
       "}else{\n",
       "    // require.js not available: dynamically load d3 & LDAvis\n",
       "    LDAvis_load_lib(\"https://d3js.org/d3.v5.js\", function(){\n",
       "         LDAvis_load_lib(\"https://cdn.jsdelivr.net/gh/bmabey/pyLDAvis@3.2.2/pyLDAvis/js/ldavis.v3.0.0.js\", function(){\n",
       "                 new LDAvis(\"#\" + \"ldavis_el21641405311521523849540596717\", ldavis_el21641405311521523849540596717_data);\n",
       "            })\n",
       "         });\n",
       "}\n",
       "</script>"
      ],
      "text/plain": [
       "<IPython.core.display.HTML object>"
      ]
     },
     "execution_count": 41,
     "metadata": {},
     "output_type": "execute_result"
    }
   ],
   "source": [
    "pyLDAvis.display(prepared_data)"
   ]
  },
  {
   "cell_type": "code",
   "execution_count": null,
   "metadata": {},
   "outputs": [],
   "source": []
  }
 ],
 "metadata": {
  "kernelspec": {
   "display_name": "Python 3",
   "language": "python",
   "name": "python3"
  },
  "language_info": {
   "codemirror_mode": {
    "name": "ipython",
    "version": 3
   },
   "file_extension": ".py",
   "mimetype": "text/x-python",
   "name": "python",
   "nbconvert_exporter": "python",
   "pygments_lexer": "ipython3",
   "version": "3.8.1"
  },
  "toc": {
   "base_numbering": 1,
   "nav_menu": {},
   "number_sections": true,
   "sideBar": true,
   "skip_h1_title": false,
   "title_cell": "Table of Contents",
   "title_sidebar": "Contents",
   "toc_cell": false,
   "toc_position": {},
   "toc_section_display": true,
   "toc_window_display": false
  },
  "varInspector": {
   "cols": {
    "lenName": 16,
    "lenType": 16,
    "lenVar": 40
   },
   "kernels_config": {
    "python": {
     "delete_cmd_postfix": "",
     "delete_cmd_prefix": "del ",
     "library": "var_list.py",
     "varRefreshCmd": "print(var_dic_list())"
    },
    "r": {
     "delete_cmd_postfix": ") ",
     "delete_cmd_prefix": "rm(",
     "library": "var_list.r",
     "varRefreshCmd": "cat(var_dic_list()) "
    }
   },
   "types_to_exclude": [
    "module",
    "function",
    "builtin_function_or_method",
    "instance",
    "_Feature"
   ],
   "window_display": false
  }
 },
 "nbformat": 4,
 "nbformat_minor": 4
}
