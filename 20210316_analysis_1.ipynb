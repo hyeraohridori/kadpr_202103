{
 "cells": [
  {
   "cell_type": "code",
   "execution_count": 1,
   "metadata": {
    "ExecuteTime": {
     "end_time": "2021-03-16T08:48:50.312590Z",
     "start_time": "2021-03-16T08:48:49.740892Z"
    }
   },
   "outputs": [],
   "source": [
    "#pip install --upgrade tomotopy\n",
    "#pip install reshape\n",
    "#pip install gensim\n",
    "\n",
    "import re\n",
    "import numpy as np\n",
    "import tomotopy as tp\n",
    "from kiwipiepy import Kiwi, Option\n",
    "from pyvis.network import Network"
   ]
  },
  {
   "cell_type": "code",
   "execution_count": 2,
   "metadata": {
    "ExecuteTime": {
     "end_time": "2021-03-16T08:48:51.818238Z",
     "start_time": "2021-03-16T08:48:50.995846Z"
    }
   },
   "outputs": [],
   "source": [
    "kiwi = Kiwi()"
   ]
  },
  {
   "cell_type": "code",
   "execution_count": 3,
   "metadata": {
    "ExecuteTime": {
     "end_time": "2021-03-16T08:48:52.639324Z",
     "start_time": "2021-03-16T08:48:51.832432Z"
    }
   },
   "outputs": [
    {
     "data": {
      "text/plain": [
       "<kiwipiepy.Kiwi at 0x7fda4828ad50>"
      ]
     },
     "execution_count": 3,
     "metadata": {},
     "output_type": "execute_result"
    }
   ],
   "source": [
    "Kiwi(num_workers=-0, model_path='./', options=Option.LOAD_DEFAULT_DICTIONARY | Option.INTEGRATE_ALLOMORPH)"
   ]
  },
  {
   "cell_type": "code",
   "execution_count": 4,
   "metadata": {
    "ExecuteTime": {
     "end_time": "2021-03-16T08:48:54.071027Z",
     "start_time": "2021-03-16T08:48:52.753448Z"
    }
   },
   "outputs": [],
   "source": [
    "try:\n",
    "    corpus = tp.utils.Corpus.load('k.cps')\n",
    "except IOError:\n",
    "    kiwi = Kiwi()\n",
    "    kiwi.add_user_word('전달력', tag='NNG')\n",
    "    kiwi.add_user_word('영상미', tag='NNG')\n",
    "    kiwi.add_user_word('영상기법', tag='NNG')\n",
    "    kiwi.add_user_word('영상구도', tag='NNG')\n",
    "    kiwi.add_user_word('배경음악', tag='NNG')\n",
    "    kiwi.add_user_word('구독자수', tag='NNG')   \n",
    "    kiwi.add_user_word('레고프렌즈', tag='NNG')\n",
    "    kiwi.add_user_word('딱히', tag='MAG')\n",
    "    kiwi.add_user_word('교육', tag='NNP')\n",
    "    kiwi.add_user_word('방송', tag='NNP')\n",
    "    kiwi.add_user_word('브이로그', tag='NNP')\n",
    "    kiwi.add_user_word('생일', tag='NNP')\n",
    "    kiwi.add_user_word('날', tag='NNP')\n",
    "    kiwi.add_user_word('전반적', tag='NNP')\n",
    "    kiwi.add_user_word('조회수', tag='NNP')\n",
    "    kiwi.add_user_word('매니아층', tag='NNP')\n",
    "    kiwi.add_user_word('생방송', tag='NNP')\n",
    "    kiwi.add_user_word('먹방', tag='NNP')\n",
    "    kiwi.add_user_word('첫영상', tag='NNP')\n",
    "    kiwi.add_user_word('배경음악', tag='NNP')\n",
    "    kiwi.add_user_word('맛집', tag='NNP')\n",
    "    kiwi.add_user_word('재건축', tag='NNP')\n",
    "    kiwi.add_user_word('언박싱', tag='NNP')    \n",
    "    kiwi.prepare()\n",
    "    pat_tag = re.compile('NN[GP]|V[VA]|MAG|MM') "
   ]
  },
  {
   "cell_type": "code",
   "execution_count": 5,
   "metadata": {
    "ExecuteTime": {
     "end_time": "2021-03-16T08:48:54.564305Z",
     "start_time": "2021-03-16T08:48:54.560297Z"
    }
   },
   "outputs": [],
   "source": [
    "    def tokenizer(raw, user_data):\n",
    "        res, _ = user_data()[0]\n",
    "        for w, tag, start, l in res:\n",
    "            if not pat_tag.match(tag) or len(w) <= 1: continue\n",
    "            yield w + ('다' if tag.startswith('V') else ''), start, l"
   ]
  },
  {
   "cell_type": "code",
   "execution_count": 6,
   "metadata": {
    "ExecuteTime": {
     "end_time": "2021-03-16T08:48:54.968403Z",
     "start_time": "2021-03-16T08:48:54.945365Z"
    }
   },
   "outputs": [],
   "source": [
    "    corpus = tp.utils.Corpus(\n",
    "        tokenizer=tokenizer\n",
    "    )\n",
    "    \n",
    "    corpus.process((line, kiwi.async_analyze(line)) for line in open('for text mining_final_210309_copy2.txt', encoding='UTF-8'))\n",
    "    corpus.save('data_210309.cps')"
   ]
  },
  {
   "cell_type": "markdown",
   "metadata": {},
   "source": [
    "case1. tw기본값 (tw=tp.TermWeight.ONE)으로 세팅했을 때!"
   ]
  },
  {
   "cell_type": "code",
   "execution_count": 7,
   "metadata": {
    "ExecuteTime": {
     "end_time": "2021-03-14T14:16:57.097465Z",
     "start_time": "2021-03-14T14:16:57.092501Z"
    }
   },
   "outputs": [],
   "source": [
    "# 최소 1개 이상 문헌에 등장하고, 전체 출현빈도는 2 이상인 단어만 사용\n",
    "# 그리고 상위 10개 고빈도 단어는 분석에서 제외하고싶으면 rm_top=10을 추가, 안하고 싶으면 0\n",
    "# 주제 개수는 20개\n",
    "\n",
    "#tw=용어 가중치(tp.TermWeight.ONE은 기본값으로 모든 용어의 가중치를 동일하게 간주)\n",
    "\n",
    "mdl = tp.CTModel(tw=tp.TermWeight.ONE, min_df=1, min_cf=2, rm_top=0, k=20, corpus=corpus)\n",
    "mdl.train(0)"
   ]
  },
  {
   "cell_type": "markdown",
   "metadata": {},
   "source": [
    "case2. tw에 PMI로 가중치 부여했을 때"
   ]
  },
  {
   "cell_type": "code",
   "execution_count": 7,
   "metadata": {
    "ExecuteTime": {
     "end_time": "2021-03-16T08:48:57.573610Z",
     "start_time": "2021-03-16T08:48:57.568175Z"
    }
   },
   "outputs": [],
   "source": [
    "# 최소 1개 이상 문헌에 등장하고, 전체 출현빈도는 2 이상인 단어만 사용\n",
    "# 그리고 상위 10개 고빈도 단어는 분석에서 제외하고싶으면 rm_top=10을 추가, 안하고 싶으면 0\n",
    "# 주제 개수는 20개\n",
    "\n",
    "#tw=용어 가중치(tp.TermWeight.ONE은 기본값으로 모든 용어의 가중치를 동일하게 간주)\n",
    "\n",
    "mdl = tp.CTModel(tw=tp.TermWeight.PMI, min_df=1, min_cf=2, rm_top=0, k=20, corpus=corpus)\n",
    "mdl.train(0)"
   ]
  },
  {
   "cell_type": "code",
   "execution_count": 8,
   "metadata": {
    "ExecuteTime": {
     "end_time": "2021-03-16T08:49:00.290740Z",
     "start_time": "2021-03-16T08:49:00.286935Z"
    }
   },
   "outputs": [
    {
     "name": "stdout",
     "output_type": "stream",
     "text": [
      "Num docs:147, Total Words:242\n"
     ]
    }
   ],
   "source": [
    "#num_beta_sample은 만 개 이상이면 1~5, 수 천개라면 최소 10, 수 백개에 불과하면 20이상으로 키우기\n",
    "mdl.num_beta_sample = 10\n",
    "print('Num docs:{}, Total Words:{}'.format(\n",
    "    len(mdl.docs), mdl.num_words\n",
    "))"
   ]
  },
  {
   "cell_type": "code",
   "execution_count": 10,
   "metadata": {
    "ExecuteTime": {
     "end_time": "2021-03-16T08:49:22.919262Z",
     "start_time": "2021-03-16T08:49:18.924649Z"
    }
   },
   "outputs": [
    {
     "name": "stdout",
     "output_type": "stream",
     "text": [
      "Iteration: 0000, LL per word: -41.28\n",
      "Iteration: 0020, LL per word: -41.41\n",
      "Iteration: 0040, LL per word: -42.98\n",
      "Iteration: 0060, LL per word: -43.72\n",
      "Iteration: 0080, LL per word: -44.0\n",
      "Iteration: 0100, LL per word: -45.66\n",
      "Iteration: 0120, LL per word: -44.13\n",
      "Iteration: 0140, LL per word: -43.12\n",
      "Iteration: 0160, LL per word: -44.78\n",
      "Iteration: 0180, LL per word: -45.07\n",
      "Iteration: 0200, LL per word: -44.35\n",
      "Iteration: 0220, LL per word: -44.11\n",
      "Iteration: 0240, LL per word: -44.91\n",
      "Iteration: 0260, LL per word: -45.55\n",
      "Iteration: 0280, LL per word: -45.75\n",
      "Iteration: 0300, LL per word: -45.98\n",
      "Iteration: 0320, LL per word: -46.15\n",
      "Iteration: 0340, LL per word: -46.45\n",
      "Iteration: 0360, LL per word: -48.85\n",
      "Iteration: 0380, LL per word: -46.59\n",
      "Iteration: 0400, LL per word: -45.47\n",
      "Iteration: 0420, LL per word: -45.26\n",
      "Iteration: 0440, LL per word: -46.0\n",
      "Iteration: 0460, LL per word: -47.96\n",
      "Iteration: 0480, LL per word: -48.37\n"
     ]
    }
   ],
   "source": [
    "#깁스샘플링\n",
    "for i in range(0, 500, 20):\n",
    "    print('Iteration: {:04}, LL per word: {:.4}'.format(i, mdl.ll_per_word))\n",
    "    mdl.train(20)"
   ]
  },
  {
   "cell_type": "code",
   "execution_count": 11,
   "metadata": {
    "ExecuteTime": {
     "end_time": "2021-03-16T08:49:35.294275Z",
     "start_time": "2021-03-16T08:49:35.288478Z"
    }
   },
   "outputs": [
    {
     "name": "stdout",
     "output_type": "stream",
     "text": [
      "Iteration: 0480, LL per word: -46.62\n"
     ]
    }
   ],
   "source": [
    "print('Iteration: {:04}, LL per word: {:.4}'.format(i, mdl.ll_per_word))"
   ]
  },
  {
   "cell_type": "code",
   "execution_count": 12,
   "metadata": {
    "ExecuteTime": {
     "end_time": "2021-03-16T08:49:44.464280Z",
     "start_time": "2021-03-16T08:49:44.447146Z"
    },
    "scrolled": true
   },
   "outputs": [
    {
     "name": "stdout",
     "output_type": "stream",
     "text": [
      "<Basic Info>\n",
      "| CTModel (current version: 0.10.2)\n",
      "| 147 docs, 242 words\n",
      "| Total Vocabs: 268, Used Vocabs: 77\n",
      "| Entropy of words: -4.23226\n",
      "| Removed Vocabs: <NA>\n",
      "|\n",
      "<Training Info>\n",
      "| Iterations: 600, Burn-in steps: 0\n",
      "| Optimization Interval: 2\n",
      "| Log-likelihood per word: -46.61535\n",
      "|\n",
      "<Initial Parameters>\n",
      "| tw: TermWeight.PMI\n",
      "| min_cf: 2 (minimum collection frequency of words)\n",
      "| min_df: 1 (minimum document frequency of words)\n",
      "| rm_top: 0 (the number of top words to be removed)\n",
      "| k: 20 (the number of topics between 1 ~ 32767)\n",
      "| smoothing_alpha: 0.1 (small smoothing value for preventing topic counts to be zero)\n",
      "| eta: 0.01 (hyperparameter of Dirichlet distribution for topic-word)\n",
      "| seed: 2948873800 (random seed)\n",
      "| trained in version 0.10.2\n",
      "|\n",
      "<Parameters>\n",
      "| prior_mean (Prior mean of Logit-normal for the per-document topic distributions)\n",
      "|  [-3.7793534 -3.7121224 -3.6036818 -3.6488166 -2.9888606 -3.6616118\n",
      "|   -3.4510443 -3.45036   -3.1387978 -3.1192563 -2.908404  -2.8785129\n",
      "|   -3.1922047 -3.3251495 -3.1206057 -3.4017677 -3.1124651 -3.3193932\n",
      "|   -2.106484  -2.329548 ]\n",
      "| prior_cov (Prior covariance of Logit-normal for the per-document topic distributions)\n",
      "|  [[ 6.45655584e+00  9.08693790e-01  5.95928609e-01  5.35377324e-01\n",
      "|     4.81865257e-01  7.09818482e-01  6.20579481e-01  8.94257307e-01\n",
      "|    -3.76203090e-01  6.72378123e-01  6.67758703e-01 -2.51478732e-01\n",
      "|     3.95291209e-01  6.74168646e-01  3.99587572e-01  4.74040061e-01\n",
      "|     2.35677771e-02  1.79910555e-01 -4.93123621e-01  5.64499982e-02]\n",
      "|   [ 9.08693790e-01  5.04506731e+00  3.56806993e-01  6.60645962e-01\n",
      "|     4.47604507e-01  8.77540112e-01  2.74651051e-01  3.01695950e-02\n",
      "|     6.11101866e-01  3.54859143e-01  4.21372980e-01  2.63190955e-01\n",
      "|     4.81285363e-01  3.83514374e-01  3.24841142e-01  4.14844781e-01\n",
      "|     3.60999793e-01 -4.95643616e-01  2.06772670e-01  5.56640215e-02]\n",
      "|   [ 5.95928609e-01  3.56806993e-01  5.58735371e+00  3.42664033e-01\n",
      "|     3.90644580e-01  5.50325930e-01  8.35327804e-01  5.52046955e-01\n",
      "|     5.51751852e-01  8.08677018e-01  2.40835488e-01  6.36939764e-01\n",
      "|     1.71264559e-01  4.73684222e-01  6.57637954e-01 -1.49038598e-01\n",
      "|     2.27452040e-01  6.73556864e-01 -6.72575235e-01 -3.68791699e-01]\n",
      "|   [ 5.35377324e-01  6.60645962e-01  3.42664033e-01  6.50471592e+00\n",
      "|     2.87650436e-01  6.33566499e-01  3.52605999e-01  4.19639230e-01\n",
      "|    -3.82530600e-01  3.53606194e-01  2.38221124e-01  4.48877543e-01\n",
      "|     3.35312724e-01  1.84299558e-01  3.56455296e-01  3.47305506e-01\n",
      "|     3.03507537e-01  8.10999751e-01 -3.63712907e-01 -4.37029213e-01]\n",
      "|   [ 4.81865257e-01  4.47604507e-01  3.90644580e-01  2.87650436e-01\n",
      "|     5.68743563e+00  2.36016259e-01  3.78716201e-01  4.30035472e-01\n",
      "|    -1.23752944e-01  5.28298952e-02  1.52087107e-01  3.62090081e-01\n",
      "|     2.52221018e-01 -3.32940161e-01  5.30104697e-01  2.34467015e-01\n",
      "|     3.48765403e-01  3.97780359e-01  4.90887761e-01 -3.46356392e-01]\n",
      "|   [ 7.09818482e-01  8.77540112e-01  5.50325930e-01  6.33566499e-01\n",
      "|     2.36016259e-01  5.16228008e+00  4.14895296e-01  2.07679868e-01\n",
      "|     6.17494643e-01  2.08072022e-01  2.95550913e-01 -1.85476035e-01\n",
      "|     3.37038308e-01  5.18792093e-01  2.26450235e-01  1.45789430e-01\n",
      "|     3.86695117e-01  4.40351069e-01 -3.82316947e-01 -1.39421057e-02]\n",
      "|   [ 6.20579481e-01  2.74651051e-01  8.35327804e-01  3.52605999e-01\n",
      "|     3.78716201e-01  4.14895296e-01  4.02367353e+00  3.44894618e-01\n",
      "|     1.07000902e-01  4.09352064e-01  6.09370805e-02  3.00846696e-01\n",
      "|     2.93603778e-01  3.63872826e-01  6.64591193e-01  6.11279488e-01\n",
      "|     2.90137589e-01  9.02880728e-02 -5.77805638e-02 -4.05089140e-01]\n",
      "|   [ 8.94257307e-01  3.01695950e-02  5.52046955e-01  4.19639230e-01\n",
      "|     4.30035472e-01  2.07679868e-01  3.44894618e-01  5.47818422e+00\n",
      "|     3.05231273e-01  5.52053571e-01  4.17235732e-01  6.52807802e-02\n",
      "|     9.60102797e-01  1.72061205e-01  3.15207422e-01  1.97469130e-01\n",
      "|    -1.68622673e-01 -5.16153798e-02 -3.05039763e-01  3.05237263e-01]\n",
      "|   [-3.76203090e-01  6.11101866e-01  5.51751852e-01 -3.82530600e-01\n",
      "|    -1.23752944e-01  6.17494643e-01  1.07000902e-01  3.05231273e-01\n",
      "|     5.22434092e+00 -5.11823222e-02  1.68521091e-01  2.45068341e-01\n",
      "|     3.97103339e-01  1.74282104e-01 -1.18403398e-01 -1.64733171e-01\n",
      "|     1.07423767e-01 -1.02562524e-01  2.90534142e-02 -2.04418376e-01]\n",
      "|   [ 6.72378123e-01  3.54859143e-01  8.08677018e-01  3.53606194e-01\n",
      "|     5.28298952e-02  2.08072022e-01  4.09352064e-01  5.52053571e-01\n",
      "|    -5.11823222e-02  7.03983688e+00  9.30046439e-02  3.45226638e-02\n",
      "|     2.27078348e-01  5.49555123e-01  4.09847200e-01  1.18039958e-01\n",
      "|    -3.05410139e-02  4.04226005e-01 -7.38527775e-01  1.38933584e-01]\n",
      "|   [ 6.67758703e-01  4.21372980e-01  2.40835488e-01  2.38221124e-01\n",
      "|     1.52087107e-01  2.95550913e-01  6.09370805e-02  4.17235732e-01\n",
      "|     1.68521091e-01  9.30046439e-02  4.62420511e+00  7.18833745e-01\n",
      "|     1.66780856e-02  5.64188778e-01  1.66641876e-01  1.56362683e-01\n",
      "|    -3.94679070e-01  2.06470236e-01  1.41028225e-01  1.64772063e-01]\n",
      "|   [-2.51478732e-01  2.63190955e-01  6.36939764e-01  4.48877543e-01\n",
      "|     3.62090081e-01 -1.85476035e-01  3.00846696e-01  6.52807802e-02\n",
      "|     2.45068341e-01  3.45226638e-02  7.18833745e-01  5.03411007e+00\n",
      "|     1.07042745e-01  1.80484116e-01  4.65032130e-01  7.01319098e-01\n",
      "|     4.02650207e-01 -6.21978045e-01  3.59112114e-01 -7.39041984e-01]\n",
      "|   [ 3.95291209e-01  4.81285363e-01  1.71264559e-01  3.35312724e-01\n",
      "|     2.52221018e-01  3.37038308e-01  2.93603778e-01  9.60102797e-01\n",
      "|     3.97103339e-01  2.27078348e-01  1.66780856e-02  1.07042745e-01\n",
      "|     5.68406248e+00  1.74197599e-01  3.11355650e-01  3.18234563e-01\n",
      "|    -6.27968758e-02 -9.30853635e-02 -4.88911420e-01 -2.17402168e-03]\n",
      "|   [ 6.74168646e-01  3.83514374e-01  4.73684222e-01  1.84299558e-01\n",
      "|    -3.32940161e-01  5.18792093e-01  3.63872826e-01  1.72061205e-01\n",
      "|     1.74282104e-01  5.49555123e-01  5.64188778e-01  1.80484116e-01\n",
      "|     1.74197599e-01  6.39027596e+00  4.91240263e-01  4.81512576e-01\n",
      "|     4.31946188e-01  9.08404291e-01 -9.45888638e-01 -5.75524986e-01]\n",
      "|   [ 3.99587572e-01  3.24841142e-01  6.57637954e-01  3.56455296e-01\n",
      "|     5.30104697e-01  2.26450235e-01  6.64591193e-01  3.15207422e-01\n",
      "|    -1.18403398e-01  4.09847200e-01  1.66641876e-01  4.65032130e-01\n",
      "|     3.11355650e-01  4.91240263e-01  4.22210789e+00  2.94144869e-01\n",
      "|     7.98295796e-01 -1.56540632e-01 -2.13014081e-01 -7.64286816e-01]\n",
      "|   [ 4.74040061e-01  4.14844781e-01 -1.49038598e-01  3.47305506e-01\n",
      "|     2.34467015e-01  1.45789430e-01  6.11279488e-01  1.97469130e-01\n",
      "|    -1.64733171e-01  1.18039958e-01  1.56362683e-01  7.01319098e-01\n",
      "|     3.18234563e-01  4.81512576e-01  2.94144869e-01  4.46041393e+00\n",
      "|     3.96375597e-01 -1.18863165e+00  7.05385029e-01 -6.66121304e-01]\n",
      "|   [ 2.35677771e-02  3.60999793e-01  2.27452040e-01  3.03507537e-01\n",
      "|     3.48765403e-01  3.86695117e-01  2.90137589e-01 -1.68622673e-01\n",
      "|     1.07423767e-01 -3.05410139e-02 -3.94679070e-01  4.02650207e-01\n",
      "|    -6.27968758e-02  4.31946188e-01  7.98295796e-01  3.96375597e-01\n",
      "|     5.08392000e+00 -2.77688295e-01  2.83768713e-01 -1.79133177e+00]\n",
      "|   [ 1.79910555e-01 -4.95643616e-01  6.73556864e-01  8.10999751e-01\n",
      "|     3.97780359e-01  4.40351069e-01  9.02880728e-02 -5.16153798e-02\n",
      "|    -1.02562524e-01  4.04226005e-01  2.06470236e-01 -6.21978045e-01\n",
      "|    -9.30853635e-02  9.08404291e-01 -1.56540632e-01 -1.18863165e+00\n",
      "|    -2.77688295e-01  5.27453661e+00 -1.89218724e+00  2.15530638e-02]\n",
      "|   [-4.93123621e-01  2.06772670e-01 -6.72575235e-01 -3.63712907e-01\n",
      "|     4.90887761e-01 -3.82316947e-01 -5.77805638e-02 -3.05039763e-01\n",
      "|     2.90534142e-02 -7.38527775e-01  1.41028225e-01  3.59112114e-01\n",
      "|    -4.88911420e-01 -9.45888638e-01 -2.13014081e-01  7.05385029e-01\n",
      "|     2.83768713e-01 -1.89218724e+00  1.89314318e+00 -4.42792438e-02]\n",
      "|   [ 5.64499982e-02  5.56640215e-02 -3.68791699e-01 -4.37029213e-01\n",
      "|    -3.46356392e-01 -1.39421057e-02 -4.05089140e-01  3.05237263e-01\n",
      "|    -2.04418376e-01  1.38933584e-01  1.64772063e-01 -7.39041984e-01\n",
      "|    -2.17402168e-03 -5.75524986e-01 -7.64286816e-01 -6.66121304e-01\n",
      "|    -1.79133177e+00  2.15530638e-02 -4.42792438e-02  1.66633558e+00]]\n",
      "| eta (Dirichlet prior on the per-topic word distribution)\n",
      "|  0.01\n",
      "|\n",
      "<Topics>\n",
      "| #0 (11) : 재미있다 영상미 자연 요소 좋아하다\n",
      "| #1 (13) : 편집 기존 신경 배경음악 요소\n",
      "| #2 (10) : 사용 보이다 요리 경험 노력\n",
      "| #3 (13) : 자유 운동 관심 위하다 사람\n",
      "| #4 (15) : 브이로그 취미 사회 지식 일상\n",
      "| #5 (7) : 먹방 처음 기록 전달 좋아하다\n",
      "| #6 (6) : 직접 연주 노래 지식 좋아하다\n",
      "| #7 (10) : 게임 리뷰 수업 요소 좋아하다\n",
      "| #8 (15) : 많이 도움 어리다 가장 올리다\n",
      "| #9 (18) : 여행 추억 즐거움 패션 고양이\n",
      "| #10 (11) : 사람 라이브 방송 편집 좋아하다\n",
      "| #11 (15) : 좋아하다 정보 모습 즐거움 지식\n",
      "| #12 (11) : 음악 공감 즐기다 비교 제품\n",
      "| #13 (13) : 교육 주제 제작 수업 좋아하다\n",
      "| #14 (8) : 활동 공유 게임 편집 좋아하다\n",
      "| #15 (8) : 실시간 촬영 직장 소통 좋아하다\n",
      "| #16 (15) : 만들다 첫영상 생활 아이 즐거움\n",
      "| #17 (15) : 내용 분야 대하다 나오다 전달\n",
      "| #18 (17) : 일상 소통 시청자 업로드 요소\n",
      "| #19 (11) : 강아지 귀엽다 콘텐츠 가족 수업\n",
      "|\n",
      "\n"
     ]
    }
   ],
   "source": [
    "mdl.summary()\n",
    "\n",
    "#Words: CTM 분석 후 추출된 문서들 전체의 단어의 개수 (문서 당 같은 단어가 2개 있을 수도 있고 중복 가능)\n",
    "#Total Vocabs: 작은 빈도의 단어들을 제거한 뒤 남은 토픽모델링 후 어휘의 개수\n",
    "#Used_Vocabs: 모델에 실제로 사용된 어휘만을 포함하는 dictionary 타입의 어휘 사전\n",
    "#prior_cov : 토픽의 사전분포인 로지스틱 정규분포의 공분산 행렬\n",
    "#prior_mean : 토픽의 사전분포인 로지스틱 정규분포의 평균 벡터\n",
    "#k : 토픽의 개수, 1 ~ 32767 범위의 정수.\n",
    "#alpha는 CTM 모형의 모수 \n",
    "#eta는 모수 \n",
    "#num.iterations는 반복 횟수로 z를 몇 번 추출하느냐\n"
   ]
  },
  {
   "cell_type": "code",
   "execution_count": 13,
   "metadata": {
    "ExecuteTime": {
     "end_time": "2021-03-16T09:06:05.192990Z",
     "start_time": "2021-03-16T09:06:05.187500Z"
    }
   },
   "outputs": [
    {
     "data": {
      "text/plain": [
       "['브이로그', '일상', '게임', '편집', '좋아하다', '사람', '재미있다', '정보', '주제', '여행', '만들다', '자유', '소통', '공유', '많이', '모습', '강아지', '첫영상', '활동', '도움', '생활', '라이브', '추억', '운동', '취미', '교육', '귀엽다', '패션', '분야', '대하다', '가장', '처음', '시청자', '실시간', '제작', '즐거움', '음악', '관심', '내용', '콘텐츠', '먹방', '업로드', '촬영', '자연', '영상미', '보이다', '고양이', '수업', '아이', '직장', '즐기다', '함께', '노력', '직접', '연주', '노래', '지식', '전달', '기존', '리뷰', '위하다', '방송', '사회', '경험', '기록', '어리다', '공감', '나오다', '가족', '요리', '배경음악', '신경', '요소', '제품', '비교', '올리다', '사용']"
      ]
     },
     "execution_count": 13,
     "metadata": {},
     "output_type": "execute_result"
    }
   ],
   "source": [
    "mdl.used_vocabs   \n",
    "\n",
    "#Used Vocabs 의미 >> 78개\n",
    "#242 words >> k(20)에 속한 총 단어의 수 (84개가 중복되어서 들어감)  == 총 단어의 빈도 수"
   ]
  },
  {
   "cell_type": "code",
   "execution_count": 14,
   "metadata": {
    "ExecuteTime": {
     "end_time": "2021-03-16T09:06:07.404890Z",
     "start_time": "2021-03-16T09:06:07.401783Z"
    }
   },
   "outputs": [],
   "source": [
    "#Visualize the result\n",
    "\n",
    "g = Network(width=800, height=800, font_color=\"#333\")\n",
    "correl = mdl.get_correlations().reshape([-1])"
   ]
  },
  {
   "cell_type": "code",
   "execution_count": 15,
   "metadata": {
    "ExecuteTime": {
     "end_time": "2021-03-16T09:06:09.675494Z",
     "start_time": "2021-03-16T09:06:09.671866Z"
    }
   },
   "outputs": [],
   "source": [
    "correl.sort()"
   ]
  },
  {
   "cell_type": "code",
   "execution_count": 16,
   "metadata": {
    "ExecuteTime": {
     "end_time": "2021-03-16T09:06:10.362653Z",
     "start_time": "2021-03-16T09:06:10.360079Z"
    }
   },
   "outputs": [],
   "source": [
    "# 상관계수 상위 10%만 간선으로 잇고\n",
    "top_tenth = mdl.k * (mdl.k - 1) // 10\n",
    "top_tenth = correl[-mdl.k - top_tenth]"
   ]
  },
  {
   "cell_type": "code",
   "execution_count": 17,
   "metadata": {
    "ExecuteTime": {
     "end_time": "2021-03-16T09:06:12.079695Z",
     "start_time": "2021-03-16T09:06:12.077081Z"
    }
   },
   "outputs": [],
   "source": [
    "topic_counts = mdl.get_count_by_topics()"
   ]
  },
  {
   "cell_type": "code",
   "execution_count": 18,
   "metadata": {
    "ExecuteTime": {
     "end_time": "2021-03-16T09:06:12.600643Z",
     "start_time": "2021-03-16T09:06:12.597617Z"
    }
   },
   "outputs": [
    {
     "name": "stdout",
     "output_type": "stream",
     "text": [
      "[11 13 10 13 15  7  6 10 15 18 11 15 11 13  8  8 15 15 17 11]\n"
     ]
    }
   ],
   "source": [
    "print(topic_counts)\n",
    "\n",
    "#합하면 242 (242words) >> 빈도수 242"
   ]
  },
  {
   "cell_type": "code",
   "execution_count": 19,
   "metadata": {
    "ExecuteTime": {
     "end_time": "2021-03-16T09:06:16.889986Z",
     "start_time": "2021-03-16T09:06:16.882223Z"
    }
   },
   "outputs": [
    {
     "name": "stdout",
     "output_type": "stream",
     "text": [
      "Topic #0 재미있다 영상미 자연 요소 좋아하다 사람 편집 정보\n",
      "Topic #1 편집 기존 신경 배경음악 요소 사람 재미있다 정보\n",
      "Topic #2 사용 보이다 요리 경험 노력 수업 전달 지식\n",
      "Topic #3 자유 운동 관심 위하다 사람 좋아하다 재미있다 정보\n",
      "Topic #4 브이로그 취미 사회 지식 일상 사람 재미있다 정보\n",
      "Topic #5 먹방 처음 기록 전달 좋아하다 사람 재미있다 정보\n",
      "Topic #6 직접 연주 노래 지식 좋아하다 사람 재미있다 정보\n",
      "Topic #7 게임 리뷰 수업 요소 좋아하다 사람 재미있다 정보\n",
      "Topic #8 많이 도움 어리다 가장 올리다 사람 재미있다 정보\n",
      "Topic #9 여행 추억 즐거움 패션 고양이 함께 재미있다 정보\n",
      "Topic #10 사람 라이브 방송 편집 좋아하다 게임 재미있다 정보\n",
      "Topic #11 좋아하다 정보 모습 즐거움 지식 사람 재미있다 편집\n",
      "Topic #12 음악 공감 즐기다 비교 제품 전달 재미있다 정보\n",
      "Topic #13 교육 주제 제작 수업 좋아하다 사람 재미있다 정보\n",
      "Topic #14 활동 공유 게임 편집 좋아하다 사람 재미있다 정보\n",
      "Topic #15 실시간 촬영 직장 소통 좋아하다 사람 재미있다 정보\n",
      "Topic #16 만들다 첫영상 생활 아이 즐거움 처음 모습 정보\n",
      "Topic #17 내용 분야 대하다 나오다 전달 지식 재미있다 정보\n",
      "Topic #18 일상 소통 시청자 업로드 요소 사람 재미있다 정보\n",
      "Topic #19 강아지 귀엽다 콘텐츠 가족 수업 요소 재미있다 정보\n"
     ]
    }
   ],
   "source": [
    "for k in range(mdl.k):\n",
    "    label = \"#{}\".format(k)\n",
    "    title= ' '.join(word for word, _ in mdl.get_topic_words(k, top_n=8))\n",
    "    print('Topic', label, title)\n",
    "    label += '\\n' + ' '.join(word for word, _ in mdl.get_topic_words(k, top_n=3))\n",
    "    g.add_node(k, label=label, title=title, shape='ellipse', value=float(topic_counts[k]))\n",
    "    for l, correlation in zip(range(k - 1), mdl.get_correlations(k)):\n",
    "        if correlation < top_tenth: continue\n",
    "        g.add_edge(k, l, value=float(correlation), title='{:.02}'.format(correlation))"
   ]
  },
  {
   "cell_type": "code",
   "execution_count": 20,
   "metadata": {
    "ExecuteTime": {
     "end_time": "2021-03-16T09:06:23.389258Z",
     "start_time": "2021-03-16T09:06:23.386914Z"
    },
    "scrolled": true
   },
   "outputs": [],
   "source": [
    "#토픽 topic_id에 속하는 상위 top_n개의 단어와 각각의 확률을 반환.\n",
    "#반환 타입은 (단어:str, 확률:float) 튜플의 list형\n",
    "#확률은 현재 토픽 내 각각의 단어들의 발생확률?\n",
    "\n",
    "topic_words = mdl.get_topic_words(k, top_n=50)"
   ]
  },
  {
   "cell_type": "code",
   "execution_count": 21,
   "metadata": {
    "ExecuteTime": {
     "end_time": "2021-03-16T09:06:24.148289Z",
     "start_time": "2021-03-16T09:06:23.775290Z"
    }
   },
   "outputs": [],
   "source": [
    "import pandas as pd"
   ]
  },
  {
   "cell_type": "code",
   "execution_count": 22,
   "metadata": {
    "ExecuteTime": {
     "end_time": "2021-03-16T09:06:24.213669Z",
     "start_time": "2021-03-16T09:06:24.209809Z"
    }
   },
   "outputs": [],
   "source": [
    "df_topic_words = pd.DataFrame(topic_words)"
   ]
  },
  {
   "cell_type": "code",
   "execution_count": 23,
   "metadata": {
    "ExecuteTime": {
     "end_time": "2021-03-16T09:06:25.294838Z",
     "start_time": "2021-03-16T09:06:25.280222Z"
    },
    "scrolled": true
   },
   "outputs": [
    {
     "data": {
      "text/html": [
       "<div>\n",
       "<style scoped>\n",
       "    .dataframe tbody tr th:only-of-type {\n",
       "        vertical-align: middle;\n",
       "    }\n",
       "\n",
       "    .dataframe tbody tr th {\n",
       "        vertical-align: top;\n",
       "    }\n",
       "\n",
       "    .dataframe thead th {\n",
       "        text-align: right;\n",
       "    }\n",
       "</style>\n",
       "<table border=\"1\" class=\"dataframe\">\n",
       "  <thead>\n",
       "    <tr style=\"text-align: right;\">\n",
       "      <th></th>\n",
       "      <th>0</th>\n",
       "      <th>1</th>\n",
       "    </tr>\n",
       "  </thead>\n",
       "  <tbody>\n",
       "    <tr>\n",
       "      <th>0</th>\n",
       "      <td>강아지</td>\n",
       "      <td>0.337762</td>\n",
       "    </tr>\n",
       "    <tr>\n",
       "      <th>1</th>\n",
       "      <td>귀엽다</td>\n",
       "      <td>0.268085</td>\n",
       "    </tr>\n",
       "    <tr>\n",
       "      <th>2</th>\n",
       "      <td>콘텐츠</td>\n",
       "      <td>0.193462</td>\n",
       "    </tr>\n",
       "    <tr>\n",
       "      <th>3</th>\n",
       "      <td>가족</td>\n",
       "      <td>0.184431</td>\n",
       "    </tr>\n",
       "    <tr>\n",
       "      <th>4</th>\n",
       "      <td>수업</td>\n",
       "      <td>0.000223</td>\n",
       "    </tr>\n",
       "    <tr>\n",
       "      <th>5</th>\n",
       "      <td>요소</td>\n",
       "      <td>0.000223</td>\n",
       "    </tr>\n",
       "    <tr>\n",
       "      <th>6</th>\n",
       "      <td>재미있다</td>\n",
       "      <td>0.000223</td>\n",
       "    </tr>\n",
       "    <tr>\n",
       "      <th>7</th>\n",
       "      <td>정보</td>\n",
       "      <td>0.000223</td>\n",
       "    </tr>\n",
       "    <tr>\n",
       "      <th>8</th>\n",
       "      <td>주제</td>\n",
       "      <td>0.000223</td>\n",
       "    </tr>\n",
       "    <tr>\n",
       "      <th>9</th>\n",
       "      <td>여행</td>\n",
       "      <td>0.000223</td>\n",
       "    </tr>\n",
       "    <tr>\n",
       "      <th>10</th>\n",
       "      <td>만들다</td>\n",
       "      <td>0.000223</td>\n",
       "    </tr>\n",
       "    <tr>\n",
       "      <th>11</th>\n",
       "      <td>자유</td>\n",
       "      <td>0.000223</td>\n",
       "    </tr>\n",
       "    <tr>\n",
       "      <th>12</th>\n",
       "      <td>소통</td>\n",
       "      <td>0.000223</td>\n",
       "    </tr>\n",
       "    <tr>\n",
       "      <th>13</th>\n",
       "      <td>공유</td>\n",
       "      <td>0.000223</td>\n",
       "    </tr>\n",
       "    <tr>\n",
       "      <th>14</th>\n",
       "      <td>많이</td>\n",
       "      <td>0.000223</td>\n",
       "    </tr>\n",
       "    <tr>\n",
       "      <th>15</th>\n",
       "      <td>모습</td>\n",
       "      <td>0.000223</td>\n",
       "    </tr>\n",
       "    <tr>\n",
       "      <th>16</th>\n",
       "      <td>사람</td>\n",
       "      <td>0.000223</td>\n",
       "    </tr>\n",
       "    <tr>\n",
       "      <th>17</th>\n",
       "      <td>첫영상</td>\n",
       "      <td>0.000223</td>\n",
       "    </tr>\n",
       "    <tr>\n",
       "      <th>18</th>\n",
       "      <td>활동</td>\n",
       "      <td>0.000223</td>\n",
       "    </tr>\n",
       "    <tr>\n",
       "      <th>19</th>\n",
       "      <td>도움</td>\n",
       "      <td>0.000223</td>\n",
       "    </tr>\n",
       "    <tr>\n",
       "      <th>20</th>\n",
       "      <td>생활</td>\n",
       "      <td>0.000223</td>\n",
       "    </tr>\n",
       "    <tr>\n",
       "      <th>21</th>\n",
       "      <td>라이브</td>\n",
       "      <td>0.000223</td>\n",
       "    </tr>\n",
       "    <tr>\n",
       "      <th>22</th>\n",
       "      <td>추억</td>\n",
       "      <td>0.000223</td>\n",
       "    </tr>\n",
       "    <tr>\n",
       "      <th>23</th>\n",
       "      <td>운동</td>\n",
       "      <td>0.000223</td>\n",
       "    </tr>\n",
       "    <tr>\n",
       "      <th>24</th>\n",
       "      <td>취미</td>\n",
       "      <td>0.000223</td>\n",
       "    </tr>\n",
       "    <tr>\n",
       "      <th>25</th>\n",
       "      <td>교육</td>\n",
       "      <td>0.000223</td>\n",
       "    </tr>\n",
       "    <tr>\n",
       "      <th>26</th>\n",
       "      <td>좋아하다</td>\n",
       "      <td>0.000223</td>\n",
       "    </tr>\n",
       "    <tr>\n",
       "      <th>27</th>\n",
       "      <td>패션</td>\n",
       "      <td>0.000223</td>\n",
       "    </tr>\n",
       "    <tr>\n",
       "      <th>28</th>\n",
       "      <td>분야</td>\n",
       "      <td>0.000223</td>\n",
       "    </tr>\n",
       "    <tr>\n",
       "      <th>29</th>\n",
       "      <td>대하다</td>\n",
       "      <td>0.000223</td>\n",
       "    </tr>\n",
       "    <tr>\n",
       "      <th>30</th>\n",
       "      <td>가장</td>\n",
       "      <td>0.000223</td>\n",
       "    </tr>\n",
       "    <tr>\n",
       "      <th>31</th>\n",
       "      <td>처음</td>\n",
       "      <td>0.000223</td>\n",
       "    </tr>\n",
       "    <tr>\n",
       "      <th>32</th>\n",
       "      <td>시청자</td>\n",
       "      <td>0.000223</td>\n",
       "    </tr>\n",
       "    <tr>\n",
       "      <th>33</th>\n",
       "      <td>실시간</td>\n",
       "      <td>0.000223</td>\n",
       "    </tr>\n",
       "    <tr>\n",
       "      <th>34</th>\n",
       "      <td>제작</td>\n",
       "      <td>0.000223</td>\n",
       "    </tr>\n",
       "    <tr>\n",
       "      <th>35</th>\n",
       "      <td>즐거움</td>\n",
       "      <td>0.000223</td>\n",
       "    </tr>\n",
       "    <tr>\n",
       "      <th>36</th>\n",
       "      <td>음악</td>\n",
       "      <td>0.000223</td>\n",
       "    </tr>\n",
       "    <tr>\n",
       "      <th>37</th>\n",
       "      <td>관심</td>\n",
       "      <td>0.000223</td>\n",
       "    </tr>\n",
       "    <tr>\n",
       "      <th>38</th>\n",
       "      <td>내용</td>\n",
       "      <td>0.000223</td>\n",
       "    </tr>\n",
       "    <tr>\n",
       "      <th>39</th>\n",
       "      <td>편집</td>\n",
       "      <td>0.000223</td>\n",
       "    </tr>\n",
       "    <tr>\n",
       "      <th>40</th>\n",
       "      <td>먹방</td>\n",
       "      <td>0.000223</td>\n",
       "    </tr>\n",
       "    <tr>\n",
       "      <th>41</th>\n",
       "      <td>업로드</td>\n",
       "      <td>0.000223</td>\n",
       "    </tr>\n",
       "    <tr>\n",
       "      <th>42</th>\n",
       "      <td>촬영</td>\n",
       "      <td>0.000223</td>\n",
       "    </tr>\n",
       "    <tr>\n",
       "      <th>43</th>\n",
       "      <td>자연</td>\n",
       "      <td>0.000223</td>\n",
       "    </tr>\n",
       "    <tr>\n",
       "      <th>44</th>\n",
       "      <td>영상미</td>\n",
       "      <td>0.000223</td>\n",
       "    </tr>\n",
       "    <tr>\n",
       "      <th>45</th>\n",
       "      <td>보이다</td>\n",
       "      <td>0.000223</td>\n",
       "    </tr>\n",
       "    <tr>\n",
       "      <th>46</th>\n",
       "      <td>고양이</td>\n",
       "      <td>0.000223</td>\n",
       "    </tr>\n",
       "    <tr>\n",
       "      <th>47</th>\n",
       "      <td>게임</td>\n",
       "      <td>0.000223</td>\n",
       "    </tr>\n",
       "    <tr>\n",
       "      <th>48</th>\n",
       "      <td>아이</td>\n",
       "      <td>0.000223</td>\n",
       "    </tr>\n",
       "    <tr>\n",
       "      <th>49</th>\n",
       "      <td>직장</td>\n",
       "      <td>0.000223</td>\n",
       "    </tr>\n",
       "  </tbody>\n",
       "</table>\n",
       "</div>"
      ],
      "text/plain": [
       "       0         1\n",
       "0    강아지  0.337762\n",
       "1    귀엽다  0.268085\n",
       "2    콘텐츠  0.193462\n",
       "3     가족  0.184431\n",
       "4     수업  0.000223\n",
       "5     요소  0.000223\n",
       "6   재미있다  0.000223\n",
       "7     정보  0.000223\n",
       "8     주제  0.000223\n",
       "9     여행  0.000223\n",
       "10   만들다  0.000223\n",
       "11    자유  0.000223\n",
       "12    소통  0.000223\n",
       "13    공유  0.000223\n",
       "14    많이  0.000223\n",
       "15    모습  0.000223\n",
       "16    사람  0.000223\n",
       "17   첫영상  0.000223\n",
       "18    활동  0.000223\n",
       "19    도움  0.000223\n",
       "20    생활  0.000223\n",
       "21   라이브  0.000223\n",
       "22    추억  0.000223\n",
       "23    운동  0.000223\n",
       "24    취미  0.000223\n",
       "25    교육  0.000223\n",
       "26  좋아하다  0.000223\n",
       "27    패션  0.000223\n",
       "28    분야  0.000223\n",
       "29   대하다  0.000223\n",
       "30    가장  0.000223\n",
       "31    처음  0.000223\n",
       "32   시청자  0.000223\n",
       "33   실시간  0.000223\n",
       "34    제작  0.000223\n",
       "35   즐거움  0.000223\n",
       "36    음악  0.000223\n",
       "37    관심  0.000223\n",
       "38    내용  0.000223\n",
       "39    편집  0.000223\n",
       "40    먹방  0.000223\n",
       "41   업로드  0.000223\n",
       "42    촬영  0.000223\n",
       "43    자연  0.000223\n",
       "44   영상미  0.000223\n",
       "45   보이다  0.000223\n",
       "46   고양이  0.000223\n",
       "47    게임  0.000223\n",
       "48    아이  0.000223\n",
       "49    직장  0.000223"
      ]
     },
     "execution_count": 23,
     "metadata": {},
     "output_type": "execute_result"
    }
   ],
   "source": [
    "#https://dandyrilla.github.io/2017-08-12/pandas-10min/\n",
    "\n",
    "df_topic_words"
   ]
  },
  {
   "cell_type": "code",
   "execution_count": 24,
   "metadata": {
    "ExecuteTime": {
     "end_time": "2021-03-16T09:06:30.395285Z",
     "start_time": "2021-03-16T09:06:30.381335Z"
    }
   },
   "outputs": [
    {
     "data": {
      "text/html": [
       "<div>\n",
       "<style scoped>\n",
       "    .dataframe tbody tr th:only-of-type {\n",
       "        vertical-align: middle;\n",
       "    }\n",
       "\n",
       "    .dataframe tbody tr th {\n",
       "        vertical-align: top;\n",
       "    }\n",
       "\n",
       "    .dataframe thead th {\n",
       "        text-align: right;\n",
       "    }\n",
       "</style>\n",
       "<table border=\"1\" class=\"dataframe\">\n",
       "  <thead>\n",
       "    <tr style=\"text-align: right;\">\n",
       "      <th></th>\n",
       "      <th>1</th>\n",
       "    </tr>\n",
       "  </thead>\n",
       "  <tbody>\n",
       "    <tr>\n",
       "      <th>count</th>\n",
       "      <td>50.000000</td>\n",
       "    </tr>\n",
       "    <tr>\n",
       "      <th>mean</th>\n",
       "      <td>0.019880</td>\n",
       "    </tr>\n",
       "    <tr>\n",
       "      <th>std</th>\n",
       "      <td>0.069640</td>\n",
       "    </tr>\n",
       "    <tr>\n",
       "      <th>min</th>\n",
       "      <td>0.000223</td>\n",
       "    </tr>\n",
       "    <tr>\n",
       "      <th>25%</th>\n",
       "      <td>0.000223</td>\n",
       "    </tr>\n",
       "    <tr>\n",
       "      <th>50%</th>\n",
       "      <td>0.000223</td>\n",
       "    </tr>\n",
       "    <tr>\n",
       "      <th>75%</th>\n",
       "      <td>0.000223</td>\n",
       "    </tr>\n",
       "    <tr>\n",
       "      <th>max</th>\n",
       "      <td>0.337762</td>\n",
       "    </tr>\n",
       "  </tbody>\n",
       "</table>\n",
       "</div>"
      ],
      "text/plain": [
       "               1\n",
       "count  50.000000\n",
       "mean    0.019880\n",
       "std     0.069640\n",
       "min     0.000223\n",
       "25%     0.000223\n",
       "50%     0.000223\n",
       "75%     0.000223\n",
       "max     0.337762"
      ]
     },
     "execution_count": 24,
     "metadata": {},
     "output_type": "execute_result"
    }
   ],
   "source": [
    "df_topic_words.describe()"
   ]
  },
  {
   "cell_type": "code",
   "execution_count": 25,
   "metadata": {
    "ExecuteTime": {
     "end_time": "2021-03-16T09:06:31.451462Z",
     "start_time": "2021-03-16T09:06:31.445971Z"
    }
   },
   "outputs": [
    {
     "data": {
      "text/plain": [
       "[('강아지', 0.3377619981765747),\n",
       " ('귀엽다', 0.26808470487594604),\n",
       " ('콘텐츠', 0.19346237182617188),\n",
       " ('가족', 0.18443121016025543),\n",
       " ('수업', 0.00022274623916018754),\n",
       " ('요소', 0.00022274094226304442),\n",
       " ('재미있다', 0.00022273563081398606),\n",
       " ('정보', 0.00022273563081398606),\n",
       " ('주제', 0.00022273563081398606),\n",
       " ('여행', 0.00022273563081398606),\n",
       " ('만들다', 0.00022273563081398606),\n",
       " ('자유', 0.00022273563081398606),\n",
       " ('소통', 0.00022273563081398606),\n",
       " ('공유', 0.00022273563081398606),\n",
       " ('많이', 0.00022273563081398606),\n",
       " ('모습', 0.00022273563081398606),\n",
       " ('사람', 0.00022273563081398606),\n",
       " ('첫영상', 0.00022273563081398606),\n",
       " ('활동', 0.00022273563081398606),\n",
       " ('도움', 0.00022273563081398606),\n",
       " ('생활', 0.00022273563081398606),\n",
       " ('라이브', 0.00022273563081398606),\n",
       " ('추억', 0.00022273563081398606),\n",
       " ('운동', 0.00022273563081398606),\n",
       " ('취미', 0.00022273563081398606),\n",
       " ('교육', 0.00022273563081398606),\n",
       " ('좋아하다', 0.00022273563081398606),\n",
       " ('패션', 0.00022273563081398606),\n",
       " ('분야', 0.00022273563081398606),\n",
       " ('대하다', 0.00022273563081398606),\n",
       " ('가장', 0.00022273563081398606),\n",
       " ('처음', 0.00022273563081398606),\n",
       " ('시청자', 0.00022273563081398606),\n",
       " ('실시간', 0.00022273563081398606),\n",
       " ('제작', 0.00022273563081398606),\n",
       " ('즐거움', 0.00022273563081398606),\n",
       " ('음악', 0.00022273563081398606),\n",
       " ('관심', 0.00022273563081398606),\n",
       " ('내용', 0.00022273563081398606),\n",
       " ('편집', 0.00022273563081398606),\n",
       " ('먹방', 0.00022273563081398606),\n",
       " ('업로드', 0.00022273563081398606),\n",
       " ('촬영', 0.00022273563081398606),\n",
       " ('자연', 0.00022273563081398606),\n",
       " ('영상미', 0.00022273563081398606),\n",
       " ('보이다', 0.00022273563081398606),\n",
       " ('고양이', 0.00022273563081398606),\n",
       " ('게임', 0.00022273563081398606),\n",
       " ('아이', 0.00022273563081398606),\n",
       " ('직장', 0.00022273563081398606)]"
      ]
     },
     "execution_count": 25,
     "metadata": {},
     "output_type": "execute_result"
    }
   ],
   "source": [
    "topic_words"
   ]
  },
  {
   "cell_type": "code",
   "execution_count": 26,
   "metadata": {
    "ExecuteTime": {
     "end_time": "2021-03-16T09:06:49.184126Z",
     "start_time": "2021-03-16T09:06:49.181394Z"
    }
   },
   "outputs": [],
   "source": [
    "g.barnes_hut(gravity=-1000, spring_length=20)"
   ]
  },
  {
   "cell_type": "code",
   "execution_count": 27,
   "metadata": {
    "ExecuteTime": {
     "end_time": "2021-03-16T09:06:54.163451Z",
     "start_time": "2021-03-16T09:06:54.009490Z"
    }
   },
   "outputs": [],
   "source": [
    "g.show_buttons()\n",
    "g.show(\"topic_network6.html\")"
   ]
  },
  {
   "cell_type": "code",
   "execution_count": 28,
   "metadata": {
    "ExecuteTime": {
     "end_time": "2021-03-16T09:07:07.380756Z",
     "start_time": "2021-03-16T09:07:06.683413Z"
    }
   },
   "outputs": [
    {
     "name": "stderr",
     "output_type": "stream",
     "text": [
      "/Users/oridori/git/python/oridori/venv/lib/python3.8/site-packages/sklearn/linear_model/_least_angle.py:30: DeprecationWarning: `np.float` is a deprecated alias for the builtin `float`. To silence this warning, use `float` by itself. Doing this will not modify any behavior and is safe. If you specifically wanted the numpy scalar type, use `np.float64` here.\n",
      "Deprecated in NumPy 1.20; for more details and guidance: https://numpy.org/devdocs/release/1.20.0-notes.html#deprecations\n",
      "  method='lar', copy_X=True, eps=np.finfo(np.float).eps,\n",
      "/Users/oridori/git/python/oridori/venv/lib/python3.8/site-packages/sklearn/linear_model/_least_angle.py:169: DeprecationWarning: `np.float` is a deprecated alias for the builtin `float`. To silence this warning, use `float` by itself. Doing this will not modify any behavior and is safe. If you specifically wanted the numpy scalar type, use `np.float64` here.\n",
      "Deprecated in NumPy 1.20; for more details and guidance: https://numpy.org/devdocs/release/1.20.0-notes.html#deprecations\n",
      "  method='lar', copy_X=True, eps=np.finfo(np.float).eps,\n",
      "/Users/oridori/git/python/oridori/venv/lib/python3.8/site-packages/sklearn/linear_model/_least_angle.py:286: DeprecationWarning: `np.float` is a deprecated alias for the builtin `float`. To silence this warning, use `float` by itself. Doing this will not modify any behavior and is safe. If you specifically wanted the numpy scalar type, use `np.float64` here.\n",
      "Deprecated in NumPy 1.20; for more details and guidance: https://numpy.org/devdocs/release/1.20.0-notes.html#deprecations\n",
      "  eps=np.finfo(np.float).eps, copy_Gram=True, verbose=0,\n",
      "/Users/oridori/git/python/oridori/venv/lib/python3.8/site-packages/sklearn/linear_model/_least_angle.py:858: DeprecationWarning: `np.float` is a deprecated alias for the builtin `float`. To silence this warning, use `float` by itself. Doing this will not modify any behavior and is safe. If you specifically wanted the numpy scalar type, use `np.float64` here.\n",
      "Deprecated in NumPy 1.20; for more details and guidance: https://numpy.org/devdocs/release/1.20.0-notes.html#deprecations\n",
      "  eps=np.finfo(np.float).eps, copy_X=True, fit_path=True):\n",
      "/Users/oridori/git/python/oridori/venv/lib/python3.8/site-packages/sklearn/linear_model/_least_angle.py:1094: DeprecationWarning: `np.float` is a deprecated alias for the builtin `float`. To silence this warning, use `float` by itself. Doing this will not modify any behavior and is safe. If you specifically wanted the numpy scalar type, use `np.float64` here.\n",
      "Deprecated in NumPy 1.20; for more details and guidance: https://numpy.org/devdocs/release/1.20.0-notes.html#deprecations\n",
      "  eps=np.finfo(np.float).eps, copy_X=True, fit_path=True,\n",
      "/Users/oridori/git/python/oridori/venv/lib/python3.8/site-packages/sklearn/linear_model/_least_angle.py:1120: DeprecationWarning: `np.float` is a deprecated alias for the builtin `float`. To silence this warning, use `float` by itself. Doing this will not modify any behavior and is safe. If you specifically wanted the numpy scalar type, use `np.float64` here.\n",
      "Deprecated in NumPy 1.20; for more details and guidance: https://numpy.org/devdocs/release/1.20.0-notes.html#deprecations\n",
      "  eps=np.finfo(np.float).eps, positive=False):\n",
      "/Users/oridori/git/python/oridori/venv/lib/python3.8/site-packages/sklearn/linear_model/_least_angle.py:1349: DeprecationWarning: `np.float` is a deprecated alias for the builtin `float`. To silence this warning, use `float` by itself. Doing this will not modify any behavior and is safe. If you specifically wanted the numpy scalar type, use `np.float64` here.\n",
      "Deprecated in NumPy 1.20; for more details and guidance: https://numpy.org/devdocs/release/1.20.0-notes.html#deprecations\n",
      "  max_n_alphas=1000, n_jobs=None, eps=np.finfo(np.float).eps,\n",
      "/Users/oridori/git/python/oridori/venv/lib/python3.8/site-packages/sklearn/linear_model/_least_angle.py:1590: DeprecationWarning: `np.float` is a deprecated alias for the builtin `float`. To silence this warning, use `float` by itself. Doing this will not modify any behavior and is safe. If you specifically wanted the numpy scalar type, use `np.float64` here.\n",
      "Deprecated in NumPy 1.20; for more details and guidance: https://numpy.org/devdocs/release/1.20.0-notes.html#deprecations\n",
      "  max_n_alphas=1000, n_jobs=None, eps=np.finfo(np.float).eps,\n",
      "/Users/oridori/git/python/oridori/venv/lib/python3.8/site-packages/sklearn/linear_model/_least_angle.py:1723: DeprecationWarning: `np.float` is a deprecated alias for the builtin `float`. To silence this warning, use `float` by itself. Doing this will not modify any behavior and is safe. If you specifically wanted the numpy scalar type, use `np.float64` here.\n",
      "Deprecated in NumPy 1.20; for more details and guidance: https://numpy.org/devdocs/release/1.20.0-notes.html#deprecations\n",
      "  eps=np.finfo(np.float).eps, copy_X=True, positive=False):\n",
      "/Users/oridori/git/python/oridori/venv/lib/python3.8/site-packages/sklearn/decomposition/_lda.py:29: DeprecationWarning: `np.float` is a deprecated alias for the builtin `float`. To silence this warning, use `float` by itself. Doing this will not modify any behavior and is safe. If you specifically wanted the numpy scalar type, use `np.float64` here.\n",
      "Deprecated in NumPy 1.20; for more details and guidance: https://numpy.org/devdocs/release/1.20.0-notes.html#deprecations\n",
      "  EPS = np.finfo(np.float).eps\n"
     ]
    }
   ],
   "source": [
    "import pyLDAvis\n",
    "import pyLDAvis.gensim"
   ]
  },
  {
   "cell_type": "code",
   "execution_count": 29,
   "metadata": {
    "ExecuteTime": {
     "end_time": "2021-03-16T09:07:09.845332Z",
     "start_time": "2021-03-16T09:07:09.842580Z"
    }
   },
   "outputs": [],
   "source": [
    "pyLDAvis.enable_notebook()"
   ]
  },
  {
   "cell_type": "code",
   "execution_count": 30,
   "metadata": {
    "ExecuteTime": {
     "end_time": "2021-03-16T09:07:10.492462Z",
     "start_time": "2021-03-16T09:07:10.489088Z"
    }
   },
   "outputs": [],
   "source": [
    "topic_term_dists = np.stack([mdl.get_topic_word_dist(k) for k in range(mdl.k)])"
   ]
  },
  {
   "cell_type": "code",
   "execution_count": 31,
   "metadata": {
    "ExecuteTime": {
     "end_time": "2021-03-16T09:07:10.997439Z",
     "start_time": "2021-03-16T09:07:10.992711Z"
    }
   },
   "outputs": [],
   "source": [
    "doc_topic_dists = np.stack([doc.get_topic_dist() for doc in mdl.docs])"
   ]
  },
  {
   "cell_type": "code",
   "execution_count": 32,
   "metadata": {
    "ExecuteTime": {
     "end_time": "2021-03-16T09:07:12.555411Z",
     "start_time": "2021-03-16T09:07:12.552376Z"
    }
   },
   "outputs": [],
   "source": [
    "doc_lengths = np.array([len(doc.words) for doc in mdl.docs])"
   ]
  },
  {
   "cell_type": "code",
   "execution_count": 33,
   "metadata": {
    "ExecuteTime": {
     "end_time": "2021-03-16T09:07:13.051484Z",
     "start_time": "2021-03-16T09:07:13.048993Z"
    }
   },
   "outputs": [],
   "source": [
    "vocab = list(mdl.used_vocabs)"
   ]
  },
  {
   "cell_type": "code",
   "execution_count": 34,
   "metadata": {
    "ExecuteTime": {
     "end_time": "2021-03-16T09:07:13.540505Z",
     "start_time": "2021-03-16T09:07:13.538301Z"
    }
   },
   "outputs": [],
   "source": [
    "term_frequency = mdl.used_vocab_freq"
   ]
  },
  {
   "cell_type": "code",
   "execution_count": 35,
   "metadata": {
    "ExecuteTime": {
     "end_time": "2021-03-16T09:07:14.494446Z",
     "start_time": "2021-03-16T09:07:14.490983Z"
    }
   },
   "outputs": [],
   "source": [
    "doc_topic_dists /= doc_topic_dists.sum(axis=1, keepdims= True)"
   ]
  },
  {
   "cell_type": "code",
   "execution_count": 36,
   "metadata": {
    "ExecuteTime": {
     "end_time": "2021-03-16T09:07:17.837873Z",
     "start_time": "2021-03-16T09:07:17.817973Z"
    }
   },
   "outputs": [
    {
     "name": "stderr",
     "output_type": "stream",
     "text": [
      "/Users/oridori/git/python/oridori/venv/lib/python3.8/site-packages/pandas/core/indexes/base.py:395: DeprecationWarning: `np.bool` is a deprecated alias for the builtin `bool`. To silence this warning, use `bool` by itself. Doing this will not modify any behavior and is safe. If you specifically wanted the numpy scalar type, use `np.bool_` here.\n",
      "Deprecated in NumPy 1.20; for more details and guidance: https://numpy.org/devdocs/release/1.20.0-notes.html#deprecations\n",
      "  elif issubclass(data.dtype.type, np.bool) or is_bool_dtype(data):\n"
     ]
    },
    {
     "ename": "ValidationError",
     "evalue": "\n * Not all rows (distributions) in doc_topic_dists sum to 1.",
     "output_type": "error",
     "traceback": [
      "\u001b[0;31m---------------------------------------------------------------------------\u001b[0m",
      "\u001b[0;31mValidationError\u001b[0m                           Traceback (most recent call last)",
      "\u001b[0;32m<ipython-input-36-1a007e568888>\u001b[0m in \u001b[0;36m<module>\u001b[0;34m\u001b[0m\n\u001b[0;32m----> 1\u001b[0;31m prepared_data = pyLDAvis.prepare(\n\u001b[0m\u001b[1;32m      2\u001b[0m     \u001b[0mtopic_term_dists\u001b[0m\u001b[0;34m,\u001b[0m\u001b[0;34m\u001b[0m\u001b[0;34m\u001b[0m\u001b[0m\n\u001b[1;32m      3\u001b[0m     \u001b[0mdoc_topic_dists\u001b[0m\u001b[0;34m,\u001b[0m\u001b[0;34m\u001b[0m\u001b[0;34m\u001b[0m\u001b[0m\n\u001b[1;32m      4\u001b[0m     \u001b[0mdoc_lengths\u001b[0m\u001b[0;34m,\u001b[0m\u001b[0;34m\u001b[0m\u001b[0;34m\u001b[0m\u001b[0m\n\u001b[1;32m      5\u001b[0m     \u001b[0mvocab\u001b[0m\u001b[0;34m,\u001b[0m\u001b[0;34m\u001b[0m\u001b[0;34m\u001b[0m\u001b[0m\n",
      "\u001b[0;32m~/git/python/oridori/venv/lib/python3.8/site-packages/pyLDAvis/_prepare.py\u001b[0m in \u001b[0;36mprepare\u001b[0;34m(topic_term_dists, doc_topic_dists, doc_lengths, vocab, term_frequency, R, lambda_step, mds, n_jobs, plot_opts, sort_topics, start_index)\u001b[0m\n\u001b[1;32m    414\u001b[0m     \u001b[0mdoc_lengths\u001b[0m \u001b[0;34m=\u001b[0m \u001b[0m_series_with_name\u001b[0m\u001b[0;34m(\u001b[0m\u001b[0mdoc_lengths\u001b[0m\u001b[0;34m,\u001b[0m \u001b[0;34m'doc_length'\u001b[0m\u001b[0;34m)\u001b[0m\u001b[0;34m\u001b[0m\u001b[0;34m\u001b[0m\u001b[0m\n\u001b[1;32m    415\u001b[0m     \u001b[0mvocab\u001b[0m \u001b[0;34m=\u001b[0m \u001b[0m_series_with_name\u001b[0m\u001b[0;34m(\u001b[0m\u001b[0mvocab\u001b[0m\u001b[0;34m,\u001b[0m \u001b[0;34m'vocab'\u001b[0m\u001b[0;34m)\u001b[0m\u001b[0;34m\u001b[0m\u001b[0;34m\u001b[0m\u001b[0m\n\u001b[0;32m--> 416\u001b[0;31m     \u001b[0m_input_validate\u001b[0m\u001b[0;34m(\u001b[0m\u001b[0mtopic_term_dists\u001b[0m\u001b[0;34m,\u001b[0m \u001b[0mdoc_topic_dists\u001b[0m\u001b[0;34m,\u001b[0m \u001b[0mdoc_lengths\u001b[0m\u001b[0;34m,\u001b[0m \u001b[0mvocab\u001b[0m\u001b[0;34m,\u001b[0m \u001b[0mterm_frequency\u001b[0m\u001b[0;34m)\u001b[0m\u001b[0;34m\u001b[0m\u001b[0;34m\u001b[0m\u001b[0m\n\u001b[0m\u001b[1;32m    417\u001b[0m     \u001b[0mR\u001b[0m \u001b[0;34m=\u001b[0m \u001b[0mmin\u001b[0m\u001b[0;34m(\u001b[0m\u001b[0mR\u001b[0m\u001b[0;34m,\u001b[0m \u001b[0mlen\u001b[0m\u001b[0;34m(\u001b[0m\u001b[0mvocab\u001b[0m\u001b[0;34m)\u001b[0m\u001b[0;34m)\u001b[0m\u001b[0;34m\u001b[0m\u001b[0;34m\u001b[0m\u001b[0m\n\u001b[1;32m    418\u001b[0m \u001b[0;34m\u001b[0m\u001b[0m\n",
      "\u001b[0;32m~/git/python/oridori/venv/lib/python3.8/site-packages/pyLDAvis/_prepare.py\u001b[0m in \u001b[0;36m_input_validate\u001b[0;34m(*args)\u001b[0m\n\u001b[1;32m     73\u001b[0m     \u001b[0mres\u001b[0m \u001b[0;34m=\u001b[0m \u001b[0m_input_check\u001b[0m\u001b[0;34m(\u001b[0m\u001b[0;34m*\u001b[0m\u001b[0margs\u001b[0m\u001b[0;34m)\u001b[0m\u001b[0;34m\u001b[0m\u001b[0;34m\u001b[0m\u001b[0m\n\u001b[1;32m     74\u001b[0m     \u001b[0;32mif\u001b[0m \u001b[0mres\u001b[0m\u001b[0;34m:\u001b[0m\u001b[0;34m\u001b[0m\u001b[0;34m\u001b[0m\u001b[0m\n\u001b[0;32m---> 75\u001b[0;31m         \u001b[0;32mraise\u001b[0m \u001b[0mValidationError\u001b[0m\u001b[0;34m(\u001b[0m\u001b[0;34m'\\n'\u001b[0m \u001b[0;34m+\u001b[0m \u001b[0;34m'\\n'\u001b[0m\u001b[0;34m.\u001b[0m\u001b[0mjoin\u001b[0m\u001b[0;34m(\u001b[0m\u001b[0;34m[\u001b[0m\u001b[0;34m' * '\u001b[0m \u001b[0;34m+\u001b[0m \u001b[0ms\u001b[0m \u001b[0;32mfor\u001b[0m \u001b[0ms\u001b[0m \u001b[0;32min\u001b[0m \u001b[0mres\u001b[0m\u001b[0;34m]\u001b[0m\u001b[0;34m)\u001b[0m\u001b[0;34m)\u001b[0m\u001b[0;34m\u001b[0m\u001b[0;34m\u001b[0m\u001b[0m\n\u001b[0m\u001b[1;32m     76\u001b[0m \u001b[0;34m\u001b[0m\u001b[0m\n\u001b[1;32m     77\u001b[0m \u001b[0;34m\u001b[0m\u001b[0m\n",
      "\u001b[0;31mValidationError\u001b[0m: \n * Not all rows (distributions) in doc_topic_dists sum to 1."
     ]
    }
   ],
   "source": [
    "prepared_data = pyLDAvis.prepare(\n",
    "    topic_term_dists,\n",
    "    doc_topic_dists,\n",
    "    doc_lengths,\n",
    "    vocab,\n",
    "    term_frequency\n",
    ")"
   ]
  },
  {
   "cell_type": "code",
   "execution_count": null,
   "metadata": {},
   "outputs": [],
   "source": []
  }
 ],
 "metadata": {
  "kernelspec": {
   "display_name": "Python 3",
   "language": "python",
   "name": "python3"
  },
  "language_info": {
   "codemirror_mode": {
    "name": "ipython",
    "version": 3
   },
   "file_extension": ".py",
   "mimetype": "text/x-python",
   "name": "python",
   "nbconvert_exporter": "python",
   "pygments_lexer": "ipython3",
   "version": "3.8.1"
  },
  "toc": {
   "base_numbering": 1,
   "nav_menu": {},
   "number_sections": true,
   "sideBar": true,
   "skip_h1_title": false,
   "title_cell": "Table of Contents",
   "title_sidebar": "Contents",
   "toc_cell": false,
   "toc_position": {},
   "toc_section_display": true,
   "toc_window_display": false
  },
  "varInspector": {
   "cols": {
    "lenName": 16,
    "lenType": 16,
    "lenVar": 40
   },
   "kernels_config": {
    "python": {
     "delete_cmd_postfix": "",
     "delete_cmd_prefix": "del ",
     "library": "var_list.py",
     "varRefreshCmd": "print(var_dic_list())"
    },
    "r": {
     "delete_cmd_postfix": ") ",
     "delete_cmd_prefix": "rm(",
     "library": "var_list.r",
     "varRefreshCmd": "cat(var_dic_list()) "
    }
   },
   "types_to_exclude": [
    "module",
    "function",
    "builtin_function_or_method",
    "instance",
    "_Feature"
   ],
   "window_display": false
  }
 },
 "nbformat": 4,
 "nbformat_minor": 4
}
