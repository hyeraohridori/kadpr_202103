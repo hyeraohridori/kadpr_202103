{
 "cells": [
  {
   "cell_type": "code",
   "execution_count": 1,
   "metadata": {
    "ExecuteTime": {
     "end_time": "2021-03-22T05:30:43.800751Z",
     "start_time": "2021-03-22T05:30:39.484872Z"
    }
   },
   "outputs": [],
   "source": [
    "#pip install -U jupyter\n",
    "#pip install --upgrade tomotopy\n",
    "#pip install --upgrade pandas\n",
    "#pip install reshape\n",
    "#pip install gensim\n",
    "#pip install soynlp\n",
    "\n",
    "import re\n",
    "import gensim₩\n",
    "import numpy as np\n",
    "import tomotopy as tp\n",
    "import tomotopy.coherence\n",
    "from kiwipiepy import Kiwi, Option\n",
    "from pyvis.network import Network"
   ]
  },
  {
   "cell_type": "code",
   "execution_count": 2,
   "metadata": {
    "ExecuteTime": {
     "end_time": "2021-03-22T05:30:47.300510Z",
     "start_time": "2021-03-22T05:30:43.809663Z"
    }
   },
   "outputs": [],
   "source": [
    "kiwi = Kiwi()"
   ]
  },
  {
   "cell_type": "code",
   "execution_count": 3,
   "metadata": {
    "ExecuteTime": {
     "end_time": "2021-03-22T05:30:50.245832Z",
     "start_time": "2021-03-22T05:30:47.310918Z"
    }
   },
   "outputs": [
    {
     "data": {
      "text/plain": [
       "<kiwipiepy.Kiwi at 0x7fb7e9506430>"
      ]
     },
     "execution_count": 3,
     "metadata": {},
     "output_type": "execute_result"
    }
   ],
   "source": [
    "Kiwi(num_workers=-0, model_path='./', options=Option.LOAD_DEFAULT_DICTIONARY | Option.INTEGRATE_ALLOMORPH)"
   ]
  },
  {
   "cell_type": "code",
   "execution_count": 4,
   "metadata": {
    "ExecuteTime": {
     "end_time": "2021-03-22T05:30:54.889605Z",
     "start_time": "2021-03-22T05:30:50.250897Z"
    }
   },
   "outputs": [],
   "source": [
    "try:\n",
    "    corpus = tp.utils.Corpus.load('k.cps')\n",
    "except IOError:\n",
    "    kiwi = Kiwi()\n",
    "    kiwi.add_user_word('전달력', tag='NNG')\n",
    "    kiwi.add_user_word('영상미', tag='NNG')\n",
    "    kiwi.add_user_word('영상기법', tag='NNG')\n",
    "    kiwi.add_user_word('영상구도', tag='NNG')\n",
    "    kiwi.add_user_word('배경음악', tag='NNG')\n",
    "    kiwi.add_user_word('구독자수', tag='NNG')   \n",
    "    kiwi.add_user_word('레고프렌즈', tag='NNG')\n",
    "    kiwi.add_user_word('딱히', tag='MAG')\n",
    "    kiwi.add_user_word('교육', tag='NNP')\n",
    "    kiwi.add_user_word('방송', tag='NNP')\n",
    "    kiwi.add_user_word('브이로그', tag='NNP')\n",
    "    kiwi.add_user_word('생일', tag='NNP')\n",
    "    kiwi.add_user_word('날', tag='NNP')\n",
    "    kiwi.add_user_word('전반적', tag='NNP')\n",
    "    kiwi.add_user_word('조회수', tag='NNP')\n",
    "    kiwi.add_user_word('반려견', tag='NNP')\n",
    "    kiwi.add_user_word('매니아층', tag='NNP')\n",
    "    kiwi.add_user_word('생방송', tag='NNP')\n",
    "    kiwi.add_user_word('먹방', tag='NNP')\n",
    "    kiwi.add_user_word('배경음악', tag='NNP')\n",
    "    kiwi.add_user_word('맛집', tag='NNP')\n",
    "    kiwi.add_user_word('재건축', tag='NNP')\n",
    "    kiwi.add_user_word('언박싱', tag='NNP')    \n",
    "    kiwi.prepare()\n",
    "    pat_tag = re.compile('NN[GP]|V[VA]|MAG|MM') "
   ]
  },
  {
   "cell_type": "code",
   "execution_count": 5,
   "metadata": {
    "ExecuteTime": {
     "end_time": "2021-03-22T05:30:54.928596Z",
     "start_time": "2021-03-22T05:30:54.910545Z"
    }
   },
   "outputs": [],
   "source": [
    "    def tokenizer(raw, user_data):\n",
    "        res, _ = user_data()[0]\n",
    "        for w, tag, start, l in res:\n",
    "            if not pat_tag.match(tag) or len(w) <= 1: continue\n",
    "            yield w + ('다' if tag.startswith('V') else ''), start, l"
   ]
  },
  {
   "cell_type": "code",
   "execution_count": 6,
   "metadata": {
    "ExecuteTime": {
     "end_time": "2021-03-22T05:30:54.978945Z",
     "start_time": "2021-03-22T05:30:54.932444Z"
    }
   },
   "outputs": [],
   "source": [
    "    corpus = tp.utils.Corpus(\n",
    "        tokenizer=tokenizer\n",
    "    )\n",
    "    \n",
    "    corpus.process((line, kiwi.async_analyze(line)) for line in open('ctm_data_final_210322.txt', encoding='UTF-8'))\n",
    "    corpus.save('data_210322_1.cps')"
   ]
  },
  {
   "cell_type": "code",
   "execution_count": 7,
   "metadata": {
    "ExecuteTime": {
     "end_time": "2021-03-22T05:30:55.340787Z",
     "start_time": "2021-03-22T05:30:54.989267Z"
    }
   },
   "outputs": [],
   "source": [
    "from soynlp.vectorizer import sent_to_word_contexts_matrix"
   ]
  },
  {
   "cell_type": "code",
   "execution_count": 8,
   "metadata": {
    "ExecuteTime": {
     "end_time": "2021-03-22T05:30:55.355046Z",
     "start_time": "2021-03-22T05:30:55.350844Z"
    }
   },
   "outputs": [],
   "source": [
    "#PMI 산출 코드\n",
    "#def getPMI(self, a, b):\n",
    "    #import math\n",
    "    #co = self.dictNear.get((a,b),0)\n",
    "    #if not co: return None\n",
    "    #return math.log(float(co) * self.nTotal / self.dictCount[a] / self.dictCount[b])"
   ]
  },
  {
   "cell_type": "markdown",
   "metadata": {},
   "source": [
    "case1. tw기본값 (tw=tp.TermWeight.ONE)으로 세팅했을 때!"
   ]
  },
  {
   "cell_type": "code",
   "execution_count": 9,
   "metadata": {
    "ExecuteTime": {
     "end_time": "2021-03-22T05:30:55.361737Z",
     "start_time": "2021-03-22T05:30:55.358580Z"
    }
   },
   "outputs": [],
   "source": [
    "# 최소 1개 이상 문헌에 등장하고, 전체 출현빈도는 2 이상인 단어만 사용\n",
    "# 그리고 상위 10개 고빈도 단어는 분석에서 제외하고싶으면 rm_top=10을 추가, 안하고 싶으면 0\n",
    "# 주제 개수는 20개\n",
    "\n",
    "#tw=용어 가중치(tp.TermWeight.ONE은 기본값으로 모든 용어의 가중치를 동일하게 간주)\n",
    "\n",
    "#아래는 코드 (#지우기)\n",
    "#mdl = tp.CTModel(tw=tp.TermWeight.ONE, min_df=1, min_cf=2, rm_top=0, k=20, corpus=corpus)\n",
    "#mdl.train(0)"
   ]
  },
  {
   "cell_type": "markdown",
   "metadata": {},
   "source": [
    "case2. tw에 PMI로 가중치 부여했을 때"
   ]
  },
  {
   "cell_type": "code",
   "execution_count": 10,
   "metadata": {
    "ExecuteTime": {
     "end_time": "2021-03-22T05:30:55.368531Z",
     "start_time": "2021-03-22T05:30:55.365066Z"
    }
   },
   "outputs": [],
   "source": [
    "# 최소 1개 이상 문헌에 등장하고, 전체 출현빈도는 2 이상인 단어만 사용\n",
    "# 그리고 상위 10개 고빈도 단어는 분석에서 제외하고싶으면 rm_top=10을 추가, 안하고 싶으면 0\n",
    "# 주제 개수는 20개\n",
    "\n",
    "#tw=용어 가중치(tp.TermWeight.ONE은 기본값으로 모든 용어의 가중치를 동일하게 간주)\n",
    "\n",
    "#아래는 코드 (#지우기)\n",
    "#mdl = tp.CTModel(tw=tp.TermWeight.PMI, min_df=1, min_cf=2, rm_top=0, k=20, corpus=corpus)\n",
    "#mdl.train(0)"
   ]
  },
  {
   "cell_type": "markdown",
   "metadata": {},
   "source": [
    "case3. tw에 PMI로 가중치 부여하고, min_df=0, min_cf=0로 설정 (개발자분 피드백)"
   ]
  },
  {
   "cell_type": "code",
   "execution_count": 11,
   "metadata": {
    "ExecuteTime": {
     "end_time": "2021-03-22T05:30:55.381927Z",
     "start_time": "2021-03-22T05:30:55.371950Z"
    }
   },
   "outputs": [],
   "source": [
    "# 최소 0개 이상 문헌에 등장하고, 전체 출현빈도는 0 이상인 단어만 사용\n",
    "# 그리고 상위 10개 고빈도 단어는 분석에서 제외하고싶으면 rm_top=10을 추가, 안하고 싶으면 0\n",
    "# 주제 개수는 10개\n",
    "\n",
    "#tw=용어 가중치(tp.TermWeight.ONE은 기본값으로 모든 용어의 가중치를 동일하게 간주)\n",
    "\n",
    "mdl = tp.CTModel(tw=tp.TermWeight.PMI, min_df=0, min_cf=0, rm_top=0, k=10, corpus=corpus)\n",
    "mdl.train(0)"
   ]
  },
  {
   "cell_type": "code",
   "execution_count": 12,
   "metadata": {
    "ExecuteTime": {
     "end_time": "2021-03-22T05:30:55.391447Z",
     "start_time": "2021-03-22T05:30:55.385697Z"
    }
   },
   "outputs": [
    {
     "name": "stdout",
     "output_type": "stream",
     "text": [
      "Num docs:147, Total Words:465\n"
     ]
    }
   ],
   "source": [
    "#num_beta_sample은 만 개 이상이면 1~5, 수 천개라면 최소 10, 수 백개에 불과하면 20이상으로 키우기\n",
    "mdl.num_beta_sample = 10\n",
    "print('Num docs:{}, Total Words:{}'.format(\n",
    "    len(mdl.docs), mdl.num_words\n",
    "))"
   ]
  },
  {
   "cell_type": "code",
   "execution_count": 13,
   "metadata": {
    "ExecuteTime": {
     "end_time": "2021-03-22T05:31:08.597226Z",
     "start_time": "2021-03-22T05:30:55.395717Z"
    }
   },
   "outputs": [
    {
     "name": "stdout",
     "output_type": "stream",
     "text": [
      "Iteration: 0000, LL per word: -27.3\n",
      "Iteration: 0020, LL per word: -25.27\n",
      "Iteration: 0040, LL per word: -26.17\n",
      "Iteration: 0060, LL per word: -26.94\n",
      "Iteration: 0080, LL per word: -27.48\n",
      "Iteration: 0100, LL per word: -27.88\n",
      "Iteration: 0120, LL per word: -29.26\n",
      "Iteration: 0140, LL per word: -29.23\n",
      "Iteration: 0160, LL per word: -29.02\n",
      "Iteration: 0180, LL per word: -27.78\n",
      "Iteration: 0200, LL per word: -27.4\n",
      "Iteration: 0220, LL per word: -27.74\n",
      "Iteration: 0240, LL per word: -27.45\n",
      "Iteration: 0260, LL per word: -27.98\n",
      "Iteration: 0280, LL per word: -27.85\n",
      "Iteration: 0300, LL per word: -28.44\n",
      "Iteration: 0320, LL per word: -27.64\n",
      "Iteration: 0340, LL per word: -28.08\n",
      "Iteration: 0360, LL per word: -28.89\n",
      "Iteration: 0380, LL per word: -29.14\n",
      "Iteration: 0400, LL per word: -27.86\n",
      "Iteration: 0420, LL per word: -27.79\n",
      "Iteration: 0440, LL per word: -27.62\n",
      "Iteration: 0460, LL per word: -27.13\n",
      "Iteration: 0480, LL per word: -27.03\n",
      "Iteration: 0500, LL per word: -27.91\n",
      "Iteration: 0520, LL per word: -27.66\n",
      "Iteration: 0540, LL per word: -26.87\n",
      "Iteration: 0560, LL per word: -27.76\n",
      "Iteration: 0580, LL per word: -28.17\n",
      "Iteration: 0600, LL per word: -27.66\n",
      "Iteration: 0620, LL per word: -27.45\n",
      "Iteration: 0640, LL per word: -28.26\n",
      "Iteration: 0660, LL per word: -28.82\n",
      "Iteration: 0680, LL per word: -27.85\n",
      "Iteration: 0700, LL per word: -28.23\n",
      "Iteration: 0720, LL per word: -28.2\n",
      "Iteration: 0740, LL per word: -28.19\n",
      "Iteration: 0760, LL per word: -28.07\n",
      "Iteration: 0780, LL per word: -28.19\n",
      "Iteration: 0800, LL per word: -27.9\n",
      "Iteration: 0820, LL per word: -27.45\n",
      "Iteration: 0840, LL per word: -27.26\n",
      "Iteration: 0860, LL per word: -26.74\n",
      "Iteration: 0880, LL per word: -27.37\n",
      "Iteration: 0900, LL per word: -28.03\n",
      "Iteration: 0920, LL per word: -27.73\n",
      "Iteration: 0940, LL per word: -28.41\n",
      "Iteration: 0960, LL per word: -27.58\n",
      "Iteration: 0980, LL per word: -27.32\n"
     ]
    }
   ],
   "source": [
    "#깁스샘플링\n",
    "for i in range(0, 1000, 20):\n",
    "    print('Iteration: {:04}, LL per word: {:.4}'.format(i, mdl.ll_per_word))\n",
    "    mdl.train(20)"
   ]
  },
  {
   "cell_type": "code",
   "execution_count": 14,
   "metadata": {
    "ExecuteTime": {
     "end_time": "2021-03-22T05:31:08.613541Z",
     "start_time": "2021-03-22T05:31:08.604855Z"
    }
   },
   "outputs": [
    {
     "name": "stdout",
     "output_type": "stream",
     "text": [
      "Iteration: 0980, LL per word: -27.19\n"
     ]
    }
   ],
   "source": [
    "print('Iteration: {:04}, LL per word: {:.4}'.format(i, mdl.ll_per_word))"
   ]
  },
  {
   "cell_type": "code",
   "execution_count": 15,
   "metadata": {
    "ExecuteTime": {
     "end_time": "2021-03-22T05:31:08.641437Z",
     "start_time": "2021-03-22T05:31:08.618951Z"
    },
    "scrolled": true
   },
   "outputs": [
    {
     "name": "stdout",
     "output_type": "stream",
     "text": [
      "<Basic Info>\n",
      "| CTModel (current version: 0.10.2)\n",
      "| 147 docs, 465 words\n",
      "| Total Vocabs: 273, Used Vocabs: 273\n",
      "| Entropy of words: -5.33406\n",
      "| Removed Vocabs: <NA>\n",
      "|\n",
      "<Training Info>\n",
      "| Iterations: 1000, Burn-in steps: 0\n",
      "| Optimization Interval: 2\n",
      "| Log-likelihood per word: -27.18626\n",
      "|\n",
      "<Initial Parameters>\n",
      "| tw: TermWeight.PMI\n",
      "| min_cf: 0 (minimum collection frequency of words)\n",
      "| min_df: 0 (minimum document frequency of words)\n",
      "| rm_top: 0 (the number of top words to be removed)\n",
      "| k: 10 (the number of topics between 1 ~ 32767)\n",
      "| smoothing_alpha: 0.1 (small smoothing value for preventing topic counts to be zero)\n",
      "| eta: 0.01 (hyperparameter of Dirichlet distribution for topic-word)\n",
      "| seed: 1505892886 (random seed)\n",
      "| trained in version 0.10.2\n",
      "|\n",
      "<Parameters>\n",
      "| prior_mean (Prior mean of Logit-normal for the per-document topic distributions)\n",
      "|  [-3.916378  -3.7780397 -4.6356635 -3.5264432 -3.9766529 -4.304249\n",
      "|   -3.922733  -4.221271  -3.4640088 -1.9515429]\n",
      "| prior_cov (Prior covariance of Logit-normal for the per-document topic distributions)\n",
      "|  [[11.532228    1.2330366   0.9463333   1.2423493   1.0859318   1.1208727\n",
      "|     0.30907816  0.6854641   0.80111915 -1.9446383 ]\n",
      "|   [ 1.2330366   9.7898855   0.6844886   0.39598027  1.1195949   1.2694724\n",
      "|    -0.22519769  1.0804057  -0.8084475  -0.8169377 ]\n",
      "|   [ 0.9463333   0.6844886  13.248559    0.70625687  0.1311938   1.6916406\n",
      "|     1.4421961   1.5805262   1.1615582  -2.0873632 ]\n",
      "|   [ 1.2423493   0.39598027  0.70625687 11.99353    -0.03356642  1.2761707\n",
      "|     1.4078085   1.1424369   1.1165121  -2.1089237 ]\n",
      "|   [ 1.0859318   1.1195949   0.1311938  -0.03356642 11.584197    1.247088\n",
      "|     0.75707424  0.646602   -0.8849606  -1.0186023 ]\n",
      "|   [ 1.1208727   1.2694724   1.6916406   1.2761707   1.247088   14.643244\n",
      "|     1.6770535   1.6408796   1.5437902  -3.801526  ]\n",
      "|   [ 0.30907816 -0.22519769  1.4421961   1.4078085   0.75707424  1.6770535\n",
      "|    11.335717    0.40586942  0.7497065  -3.04871   ]\n",
      "|   [ 0.6854641   1.0804057   1.5805262   1.1424369   0.646602    1.6408796\n",
      "|     0.40586942  9.188484    1.0131086  -2.0629096 ]\n",
      "|   [ 0.80111915 -0.8084475   1.1615582   1.1165121  -0.8849606   1.5437902\n",
      "|     0.7497065   1.0131086  10.641348   -2.439771  ]\n",
      "|   [-1.9446383  -0.8169377  -2.0873632  -2.1089237  -1.0186023  -3.801526\n",
      "|    -3.04871    -2.0629096  -2.439771    4.31348   ]]\n",
      "| eta (Dirichlet prior on the per-topic word distribution)\n",
      "|  0.01\n",
      "|\n",
      "<Topics>\n",
      "| #0 (53) : 공유 생활 내용 가장 취미\n",
      "| #1 (33) : 재미있다 교육 어리다 촬영 요소\n",
      "| #2 (39) : 패션 관심 즐거움 업로드 공감\n",
      "| #3 (56) : 소통 좋아하다 자유 활동 시청자\n",
      "| #4 (49) : 만들다 추억 분야 대하다 고양이\n",
      "| #5 (41) : 브이로그 일상 강아지 귀엽다 반려견\n",
      "| #6 (44) : 여행 사람 주제 제작 수업\n",
      "| #7 (24) : 운동 콘텐츠 위하다 구입 장난감\n",
      "| #8 (52) : 게임 정보 라이브 도움 즐기다\n",
      "| #9 (74) : 영상 편집 관련 보이다 모습\n",
      "|\n",
      "\n"
     ]
    }
   ],
   "source": [
    "mdl.summary()\n",
    "\n",
    "#Words: CTM 분석 후 추출된 문서들 전체의 단어의 개수 (문서 당 같은 단어가 2개 있을 수도 있고 중복 가능)\n",
    "#Total Vocabs: 작은 빈도의 단어들을 제거한 뒤 남은 토픽모델링 후 어휘의 개수\n",
    "#Used_Vocabs: 모델에 실제로 사용된 어휘만을 포함하는 dictionary 타입의 어휘 사전\n",
    "#prior_cov : 토픽의 사전분포인 로지스틱 정규분포의 공분산 행렬\n",
    "#prior_mean : 토픽의 사전분포인 로지스틱 정규분포의 평균 벡터\n",
    "#k : 토픽의 개수, 1 ~ 32767 범위의 정수.\n",
    "#alpha는 CTM 모형의 모수 \n",
    "#eta는 모수 \n",
    "#num.iterations는 반복 횟수로 z를 몇 번 추출하느냐\n"
   ]
  },
  {
   "cell_type": "code",
   "execution_count": 16,
   "metadata": {
    "ExecuteTime": {
     "end_time": "2021-03-22T05:31:08.720694Z",
     "start_time": "2021-03-22T05:31:08.646725Z"
    }
   },
   "outputs": [],
   "source": [
    "mdl.save('trained_ctm_model.bin')"
   ]
  },
  {
   "cell_type": "code",
   "execution_count": 17,
   "metadata": {
    "ExecuteTime": {
     "end_time": "2021-03-22T05:31:08.735003Z",
     "start_time": "2021-03-22T05:31:08.728314Z"
    }
   },
   "outputs": [],
   "source": [
    "import itertools"
   ]
  },
  {
   "cell_type": "code",
   "execution_count": 18,
   "metadata": {
    "ExecuteTime": {
     "end_time": "2021-03-22T05:31:08.773799Z",
     "start_time": "2021-03-22T05:31:08.741888Z"
    }
   },
   "outputs": [
    {
     "name": "stdout",
     "output_type": "stream",
     "text": [
      "==== Coherence : u_mass ====\n",
      "Average: -22.29408313226251 \n",
      "Per Topic: [-21.736088398794525, -25.254564104263448, -25.248171169319075, -17.10559745096002, -19.903030660140622, -21.25052667434378, -23.559608767788863, -23.454930307758826, -22.96881647130552, -22.45949731795046]\n",
      "\n",
      "==== Coherence : c_uci ====\n",
      "Average: -14.891648000479142 \n",
      "Per Topic: [-14.742224178774192, -16.702203446382878, -17.003018922511124, -11.965786918676798, -13.477880959211687, -13.757370245808978, -15.733985850494216, -14.718951094549489, -15.272843115715348, -15.542215272666704]\n",
      "\n",
      "==== Coherence : c_npmi ====\n",
      "Average: -0.44048706080386746 \n",
      "Per Topic: [-0.4187020790447674, -0.5518828529882321, -0.562148778471677, -0.27206945534076094, -0.33245849503554586, -0.38833396183926633, -0.49762467620861106, -0.4278069234224893, -0.4663166815891999, -0.4875267040981248]\n",
      "\n",
      "==== Coherence : c_v ====\n",
      "Average: 0.9290446770191192 \n",
      "Per Topic: [0.9023079097270965, 0.9449620604515075, 0.9417855381965637, 0.9252568304538726, 0.92166086435318, 0.9361391365528107, 0.9255703389644623, 0.9462462604045868, 0.9370399653911591, 0.9094778656959533]\n",
      "\n"
     ]
    }
   ],
   "source": [
    "for preset in ('u_mass', 'c_uci', 'c_npmi', 'c_v'):\n",
    "    coh = tp.coherence.Coherence(mdl, coherence=preset)\n",
    "    average_coherence = coh.get_score()\n",
    "    coherence_per_topic = [coh.get_score(topic_id=k) for k in range(mdl.k)]\n",
    "    print('==== Coherence : {} ===='.format(preset))\n",
    "    print('Average:', average_coherence, '\\nPer Topic:', coherence_per_topic)\n",
    "    print()"
   ]
  },
  {
   "cell_type": "code",
   "execution_count": 19,
   "metadata": {
    "ExecuteTime": {
     "end_time": "2021-03-22T05:31:10.529738Z",
     "start_time": "2021-03-22T05:31:08.780069Z"
    },
    "scrolled": true
   },
   "outputs": [
    {
     "name": "stdout",
     "output_type": "stream",
     "text": [
      "==== Coherence : <Segmentation.ONE_ONE: 1>, <ConfirmMeasure.DIFFERENCE: 1>, <IndirectMeasure.NONE: 0> ====\n",
      "Average: 0.07581065758864243 \n",
      "Per Topic: [0.07329931972248091, 0.04565381707494779, 0.0378117913772651, 0.11155706726558451, 0.13718820860598194, 0.08887944065542393, 0.05163265305438445, 0.10275888131592738, 0.05925359031850517, 0.05007180649592312]\n",
      "\n",
      "==== Coherence : <Segmentation.ONE_ONE: 1>, <ConfirmMeasure.DIFFERENCE: 1>, <IndirectMeasure.COSINE: 1> ====\n",
      "Average: 0.08248412334748234 \n",
      "Per Topic: [0.07983918136192693, 0.04259674313167731, 0.06664826898421679, 0.16974862636610244, 0.1291230795232372, 0.16656952985148463, 0.03827623688201937, 0.04370214407875513, 0.0566501791537222, 0.03168724414168133]\n",
      "\n",
      "==== Coherence : <Segmentation.ONE_ONE: 1>, <ConfirmMeasure.DIFFERENCE: 1>, <IndirectMeasure.DICE: 2> ====\n",
      "Average: 4.748609274898966 \n",
      "Per Topic: [20.541754910680982, 1.5022152794731989, 0.5279186328252157, 3.6042629096243117, -1.7228050820529461, 1.99129691918691, 5.729693435298072, 7.665653596321742, 3.0664820856518213, 4.5796200619803535]\n",
      "\n",
      "==== Coherence : <Segmentation.ONE_ONE: 1>, <ConfirmMeasure.DIFFERENCE: 1>, <IndirectMeasure.JACCARD: 3> ====\n",
      "Average: -1.2149611259748538 \n",
      "Per Topic: [-1.5879020671049753, 0.3303065644370185, -1.9384279330571492, -1.7511324882507324, 0.9355301447212696, -0.6105850325690375, -2.79718709786733, 0.23369875020451017, -2.8280405905511645, -2.1358715097109475]\n",
      "\n",
      "==== Coherence : <Segmentation.ONE_ONE: 1>, <ConfirmMeasure.RATIO: 2>, <IndirectMeasure.NONE: 0> ====\n",
      "Average: 5.985712907573482 \n",
      "Per Topic: [5.0361110938314155, 7.077777635618573, 5.172222141338537, 5.435370360658608, 9.527777729492668, 5.138194417945335, 4.1014814552239685, 11.433333158820652, 4.049305537474069, 2.8855555453309862]\n",
      "\n",
      "==== Coherence : <Segmentation.ONE_ONE: 1>, <ConfirmMeasure.RATIO: 2>, <IndirectMeasure.COSINE: 1> ====\n",
      "Average: 0.13224948420448024 \n",
      "Per Topic: [0.14802127142643762, 0.06575330764883094, 0.06708078418030507, 0.24014989332192474, 0.21933438517153264, 0.14452814925462007, 0.09405736482391755, 0.12888006005022262, 0.11312785152759817, 0.10156177463941277]\n",
      "\n",
      "==== Coherence : <Segmentation.ONE_ONE: 1>, <ConfirmMeasure.RATIO: 2>, <IndirectMeasure.DICE: 2> ====\n",
      "Average: 0.05550633029184406 \n",
      "Per Topic: [0.06661618190507095, 0.02979795957605044, 0.029834761677516832, 0.1064976824240552, 0.08968147304322985, 0.059551421801249185, 0.03537949487153027, 0.056310342914528314, 0.04130795862939623, 0.040086026075813505]\n",
      "\n",
      "==== Coherence : <Segmentation.ONE_ONE: 1>, <ConfirmMeasure.RATIO: 2>, <IndirectMeasure.JACCARD: 3> ====\n",
      "Average: 0.07711458843201399 \n",
      "Per Topic: [0.08215603126833836, 0.05320647797650761, 0.04703999592198266, 0.14565196873413191, 0.12900501415133475, 0.07426099557843473, 0.04537087999698189, 0.08906451761722564, 0.053259435585803455, 0.05213056748939885]\n",
      "\n",
      "==== Coherence : <Segmentation.ONE_ONE: 1>, <ConfirmMeasure.LIKELIHOOD: 3>, <IndirectMeasure.NONE: 0> ====\n",
      "Average: 20327286473.87681 \n",
      "Per Topic: [9.03796296139317, 44142101279.31398, 25699168555.012802, 8106575972.824616, 38208616789.480354, 8956916105.902536, 9773242634.108488, 58654572937.267784, 8401360548.681901, 1330309907.137635]\n",
      "\n",
      "==== Coherence : <Segmentation.ONE_ONE: 1>, <ConfirmMeasure.LIKELIHOOD: 3>, <IndirectMeasure.COSINE: 1> ====\n",
      "Average: nan \n",
      "Per Topic: [0.1298671253129012, nan, nan, 0.15524144185175226, 0.1218453374173906, 0.1061458446085453, nan, nan, nan, 0.06693663170663658]\n",
      "\n",
      "==== Coherence : <Segmentation.ONE_ONE: 1>, <ConfirmMeasure.LIKELIHOOD: 3>, <IndirectMeasure.DICE: 2> ====\n",
      "Average: nan \n",
      "Per Topic: [0.05462605193671253, 0.005682053665320079, nan, 0.05033450777667799, 0.02111718472112121, 0.05991205445626638, 0.007693737036824393, 0.013008880124254087, 0.013700758792734469, 0.020163264199800655]\n",
      "\n",
      "==== Coherence : <Segmentation.ONE_ONE: 1>, <ConfirmMeasure.LIKELIHOOD: 3>, <IndirectMeasure.JACCARD: 3> ====\n",
      "Average: nan \n",
      "Per Topic: [0.06327875840167205, 0.006604325771331787, nan, 0.058880043165598035, 0.02577880401183071, 0.09915712799495388, 0.00854907311640531, 0.01567852746026025, 0.014823158543417512, 0.02282659857608282]\n",
      "\n",
      "==== Coherence : <Segmentation.ONE_ONE: 1>, <ConfirmMeasure.LOGLIKELIHOOD: 4>, <IndirectMeasure.NONE: 0> ====\n",
      "Average: -20.559604552975365 \n",
      "Per Topic: [-20.689796626764842, -23.817607252918748, -24.073060666903334, -15.184718447462274, -17.27307600110212, -19.116625302712144, -22.077140531775683, -20.653224309912332, -21.389110734382225, -21.321685655819934]\n",
      "\n",
      "==== Coherence : <Segmentation.ONE_ONE: 1>, <ConfirmMeasure.LOGLIKELIHOOD: 4>, <IndirectMeasure.COSINE: 1> ====\n",
      "Average: 0.9463447270128462 \n",
      "Per Topic: [0.9306536316871643, 0.9624914911058214, 0.9631527026494344, 0.9387168897522821, 0.9370145188437567, 0.9468030863338046, 0.9436061104138692, 0.9584052297804091, 0.9545429044299656, 0.9280607051319546]\n",
      "\n",
      "==== Coherence : <Segmentation.ONE_ONE: 1>, <ConfirmMeasure.LOGLIKELIHOOD: 4>, <IndirectMeasure.DICE: 2> ====\n",
      "Average: 0.5228833293914794 \n",
      "Per Topic: [0.5315812203619216, 0.5141448643472459, 0.5145920011732313, 0.5281919598579407, 0.5267706645859612, 0.5230984859996372, 0.5242467191484239, 0.5134219937854343, 0.518865684668223, 0.5339196999867757]\n",
      "\n",
      "==== Coherence : <Segmentation.ONE_ONE: 1>, <ConfirmMeasure.LOGLIKELIHOOD: 4>, <IndirectMeasure.JACCARD: 3> ====\n",
      "Average: 1.0980144696765477 \n",
      "Per Topic: [1.1356360647413466, 1.059308025572035, 1.0606268511878119, 1.1209480841954549, 1.1147867070304023, 1.0993343750635782, 1.1034781826866997, 1.0553727043999566, 1.0791071229510838, 1.1515465789371067]\n",
      "\n",
      "==== Coherence : <Segmentation.ONE_ONE: 1>, <ConfirmMeasure.PMI: 5>, <IndirectMeasure.NONE: 0> ====\n",
      "Average: -14.672838398381142 \n",
      "Per Topic: [-14.510343077934484, -16.631621854477544, -16.98997374491507, -11.11036888850518, -12.816131262167366, -13.705546413328857, -15.627395011593297, -14.706360981390059, -15.26040469055805, -15.370238058941519]\n",
      "\n",
      "==== Coherence : <Segmentation.ONE_ONE: 1>, <ConfirmMeasure.PMI: 5>, <IndirectMeasure.COSINE: 1> ====\n",
      "Average: 0.9390696035491096 \n",
      "Per Topic: [0.9137912498580085, 0.9570699466599358, 0.9547867377599081, 0.9306559668646919, 0.9341093275282119, 0.9413177662425571, 0.9340114143159655, 0.96390204694536, 0.9479940414428711, 0.913057537873586]\n",
      "\n",
      "==== Coherence : <Segmentation.ONE_ONE: 1>, <ConfirmMeasure.PMI: 5>, <IndirectMeasure.DICE: 2> ====\n",
      "Average: 0.5343641300996145 \n",
      "Per Topic: [0.5413378053241306, 0.5267065074708727, 0.5268801172574361, 0.5350679980383979, 0.5353195799721612, 0.5379622909757826, 0.539318131075965, 0.5211686597930061, 0.5330828494495816, 0.5467973616388109]\n",
      "\n",
      "==== Coherence : <Segmentation.ONE_ONE: 1>, <ConfirmMeasure.PMI: 5>, <IndirectMeasure.JACCARD: 3> ====\n",
      "Average: 1.151450511349572 \n",
      "Per Topic: [1.1819447729322645, 1.115701715151469, 1.1148461951149835, 1.1539469851387871, 1.155556903945075, 1.1695393006006876, 1.1739637878206042, 1.089431071281433, 1.143357809384664, 1.2162165721257527]\n",
      "\n",
      "==== Coherence : <Segmentation.ONE_ONE: 1>, <ConfirmMeasure.NPMI: 6>, <IndirectMeasure.NONE: 0> ====\n",
      "Average: -0.4288689060426788 \n",
      "Per Topic: [-0.4107672919753345, -0.5472172178101793, -0.5616658322052375, -0.23078162651904724, -0.2962483757595133, -0.38076673262871996, -0.4902826953889817, -0.4273519698282682, -0.4658092856233915, -0.4777980326881152]\n",
      "\n",
      "==== Coherence : <Segmentation.ONE_ONE: 1>, <ConfirmMeasure.NPMI: 6>, <IndirectMeasure.COSINE: 1> ====\n",
      "Average: 0.8450668134954242 \n",
      "Per Topic: [0.7892559978697035, 0.8788481116294861, 0.8720868017938402, 0.8366840839385986, 0.8294892893897162, 0.8596062302589417, 0.8373740024036831, 0.8819710863961114, 0.8618482139375475, 0.8035043173366123]\n",
      "\n",
      "==== Coherence : <Segmentation.ONE_ONE: 1>, <ConfirmMeasure.NPMI: 6>, <IndirectMeasure.DICE: 2> ====\n",
      "Average: 0.5536192764176263 \n",
      "Per Topic: [0.5680847154723273, 0.5404912643962436, 0.5417698701222737, 0.5568664338853624, 0.5576786319414775, 0.5553476678000556, 0.5590068446265326, 0.5352700922224257, 0.5500176774130927, 0.5716595662964715]\n",
      "\n",
      "==== Coherence : <Segmentation.ONE_ONE: 1>, <ConfirmMeasure.NPMI: 6>, <IndirectMeasure.JACCARD: 3> ====\n",
      "Average: 1.2493359430631004 \n",
      "Per Topic: [1.3205226553810967, 1.1816773414611816, 1.1851294729444715, 1.2643160343170166, 1.270370160208808, 1.2593961821662054, 1.2748021178775364, 1.1541145986980863, 1.2257635593414307, 1.3572673082351685]\n",
      "\n",
      "==== Coherence : <Segmentation.ONE_ONE: 1>, <ConfirmMeasure.LOGCOND: 7>, <IndirectMeasure.NONE: 0> ====\n",
      "Average: -22.23491374019663 \n",
      "Per Topic: [-21.69627152170283, -25.23015049784973, -25.234655665716673, -17.05384982666085, -19.860596382256183, -21.12976734267295, -23.49172823909615, -23.401597927065954, -22.897739475140735, -22.35278052380429]\n",
      "\n",
      "==== Coherence : <Segmentation.ONE_ONE: 1>, <ConfirmMeasure.LOGCOND: 7>, <IndirectMeasure.COSINE: 1> ====\n",
      "Average: 0.9581527943081326 \n",
      "Per Topic: [0.9426033271683587, 0.9710764235920376, 0.969614409075843, 0.9520093189345465, 0.9550440020031399, 0.958497530884213, 0.9550004257096185, 0.9757437838448418, 0.9639895213974847, 0.9379492004712423]\n",
      "\n",
      "==== Coherence : <Segmentation.ONE_ONE: 1>, <ConfirmMeasure.LOGCOND: 7>, <IndirectMeasure.DICE: 2> ====\n",
      "Average: 0.521903791560067 \n",
      "Per Topic: [0.5300233072704739, 0.5150596817334493, 0.5157544242011176, 0.5252909845776028, 0.5235213200251262, 0.5218786875406901, 0.5236315170923869, 0.5123562256495158, 0.5187060157457988, 0.5328157517645095]\n",
      "\n",
      "==== Coherence : <Segmentation.ONE_ONE: 1>, <ConfirmMeasure.LOGCOND: 7>, <IndirectMeasure.JACCARD: 3> ====\n",
      "Average: 1.0933914189868503 \n",
      "Per Topic: [1.1286320368448892, 1.0629902627733019, 1.0655428647994996, 1.108269132508172, 1.100329656071133, 1.093440376387702, 1.1006098906199138, 1.05094010565016, 1.0782945659425525, 1.144865298271179]\n",
      "\n",
      "==== Coherence : <Segmentation.ONE_PRE: 2>, <ConfirmMeasure.DIFFERENCE: 1>, <IndirectMeasure.NONE: 0> ====\n",
      "Average: 0.0582566137520506 \n",
      "Per Topic: [0.059901738469514715, 0.043386243379528566, 0.03340891911884928, 0.09755857898288478, 0.12467876038349565, 0.05192743763922422, 0.028223733936266537, 0.07407407406572598, 0.03521164020963779, 0.03419501133537855]\n",
      "\n",
      "==== Coherence : <Segmentation.ONE_PRE: 2>, <ConfirmMeasure.DIFFERENCE: 1>, <IndirectMeasure.COSINE: 1> ====\n",
      "Average: 0.08248412334748234 \n",
      "Per Topic: [0.07983918136192693, 0.04259674313167731, 0.06664826898421679, 0.16974862636610244, 0.1291230795232372, 0.16656952985148463, 0.03827623688201937, 0.04370214407875513, 0.0566501791537222, 0.03168724414168133]\n",
      "\n",
      "==== Coherence : <Segmentation.ONE_PRE: 2>, <ConfirmMeasure.DIFFERENCE: 1>, <IndirectMeasure.DICE: 2> ====\n",
      "Average: 4.748609274898966 \n",
      "Per Topic: [20.541754910680982, 1.5022152794731989, 0.5279186328252157, 3.6042629096243117, -1.7228050820529461, 1.99129691918691, 5.729693435298072, 7.665653596321742, 3.0664820856518213, 4.5796200619803535]\n",
      "\n",
      "==== Coherence : <Segmentation.ONE_PRE: 2>, <ConfirmMeasure.DIFFERENCE: 1>, <IndirectMeasure.JACCARD: 3> ====\n",
      "Average: -1.2149611259748538 \n",
      "Per Topic: [-1.5879020671049753, 0.3303065644370185, -1.9384279330571492, -1.7511324882507324, 0.9355301447212696, -0.6105850325690375, -2.79718709786733, 0.23369875020451017, -2.8280405905511645, -2.1358715097109475]\n",
      "\n",
      "==== Coherence : <Segmentation.ONE_PRE: 2>, <ConfirmMeasure.RATIO: 2>, <IndirectMeasure.NONE: 0> ====\n",
      "Average: 5.985712907573482 \n",
      "Per Topic: [5.036111093831414, 7.077777635618572, 5.172222141338536, 5.4353703606586095, 9.52777772949267, 5.138194417945336, 4.1014814552239685, 11.433333158820655, 4.049305537474068, 2.885555545330986]\n",
      "\n",
      "==== Coherence : <Segmentation.ONE_PRE: 2>, <ConfirmMeasure.RATIO: 2>, <IndirectMeasure.COSINE: 1> ====\n",
      "Average: 0.13224948420448024 \n",
      "Per Topic: [0.14802127142643762, 0.06575330764883094, 0.06708078418030507, 0.24014989332192474, 0.21933438517153264, 0.14452814925462007, 0.09405736482391755, 0.12888006005022262, 0.11312785152759817, 0.10156177463941277]\n",
      "\n"
     ]
    },
    {
     "name": "stdout",
     "output_type": "stream",
     "text": [
      "==== Coherence : <Segmentation.ONE_PRE: 2>, <ConfirmMeasure.RATIO: 2>, <IndirectMeasure.DICE: 2> ====\n",
      "Average: 0.05550633029184406 \n",
      "Per Topic: [0.06661618190507095, 0.02979795957605044, 0.029834761677516832, 0.1064976824240552, 0.08968147304322985, 0.059551421801249185, 0.03537949487153027, 0.056310342914528314, 0.04130795862939623, 0.040086026075813505]\n",
      "\n",
      "==== Coherence : <Segmentation.ONE_PRE: 2>, <ConfirmMeasure.RATIO: 2>, <IndirectMeasure.JACCARD: 3> ====\n",
      "Average: 0.07711458843201399 \n",
      "Per Topic: [0.08215603126833836, 0.05320647797650761, 0.04703999592198266, 0.14565196873413191, 0.12900501415133475, 0.07426099557843473, 0.04537087999698189, 0.08906451761722564, 0.053259435585803455, 0.05213056748939885]\n",
      "\n",
      "==== Coherence : <Segmentation.ONE_PRE: 2>, <ConfirmMeasure.LIKELIHOOD: 3>, <IndirectMeasure.NONE: 0> ====\n",
      "Average: 26331065762.317696 \n",
      "Per Topic: [10.122222220296116, 44142101279.513985, 29327286467.965836, 16213151935.444675, 43537414975.80492, 17913832203.67022, 19546485261.80242, 73167044588.77158, 16802721091.396143, 2660619808.6849465]\n",
      "\n",
      "==== Coherence : <Segmentation.ONE_PRE: 2>, <ConfirmMeasure.LIKELIHOOD: 3>, <IndirectMeasure.COSINE: 1> ====\n",
      "Average: nan \n",
      "Per Topic: [0.1298671253129012, nan, nan, 0.15524144185175226, 0.1218453374173906, 0.1061458446085453, nan, nan, nan, 0.06693663170663657]\n",
      "\n",
      "==== Coherence : <Segmentation.ONE_PRE: 2>, <ConfirmMeasure.LIKELIHOOD: 3>, <IndirectMeasure.DICE: 2> ====\n",
      "Average: nan \n",
      "Per Topic: [0.05462605193671253, 0.005682053665320079, nan, 0.05033450777667799, 0.02111718472112121, 0.05991205445626637, 0.0076937370368243925, 0.013008880124254087, 0.01370075879273447, 0.020163264199800652]\n",
      "\n",
      "==== Coherence : <Segmentation.ONE_PRE: 2>, <ConfirmMeasure.LIKELIHOOD: 3>, <IndirectMeasure.JACCARD: 3> ====\n",
      "Average: nan \n",
      "Per Topic: [0.06327875840167205, 0.006604325771331787, nan, 0.058880043165598035, 0.0257788040118307, 0.09915712799495388, 0.008549073116405308, 0.01567852746026025, 0.014823158543417514, 0.02282659857608281]\n",
      "\n",
      "==== Coherence : <Segmentation.ONE_PRE: 2>, <ConfirmMeasure.LOGLIKELIHOOD: 4>, <IndirectMeasure.NONE: 0> ====\n",
      "Average: -20.096850545965374 \n",
      "Per Topic: [-20.662957634375267, -23.806877213548685, -23.824268696211032, -14.912746806164687, -16.998383530458472, -18.104278475607774, -21.325078277991302, -19.66249006518035, -20.627096931449525, -21.044327828666667]\n",
      "\n",
      "==== Coherence : <Segmentation.ONE_PRE: 2>, <ConfirmMeasure.LOGLIKELIHOOD: 4>, <IndirectMeasure.COSINE: 1> ====\n",
      "Average: 0.9463447270128462 \n",
      "Per Topic: [0.9306536316871643, 0.9624914911058214, 0.9631527026494344, 0.9387168897522821, 0.9370145188437567, 0.9468030863338046, 0.9436061104138692, 0.9584052297804091, 0.9545429044299656, 0.9280607051319546]\n",
      "\n",
      "==== Coherence : <Segmentation.ONE_PRE: 2>, <ConfirmMeasure.LOGLIKELIHOOD: 4>, <IndirectMeasure.DICE: 2> ====\n",
      "Average: 0.5228833293914794 \n",
      "Per Topic: [0.5315812203619216, 0.5141448643472459, 0.5145920011732313, 0.5281919598579407, 0.5267706645859612, 0.5230984859996372, 0.5242467191484239, 0.5134219937854343, 0.518865684668223, 0.5339196999867757]\n",
      "\n",
      "==== Coherence : <Segmentation.ONE_PRE: 2>, <ConfirmMeasure.LOGLIKELIHOOD: 4>, <IndirectMeasure.JACCARD: 3> ====\n",
      "Average: 1.0980144696765477 \n",
      "Per Topic: [1.1356360647413466, 1.059308025572035, 1.0606268511878119, 1.1209480841954549, 1.1147867070304023, 1.0993343750635782, 1.1034781826866997, 1.0553727043999566, 1.0791071229510838, 1.1515465789371067]\n",
      "\n",
      "==== Coherence : <Segmentation.ONE_PRE: 2>, <ConfirmMeasure.PMI: 5>, <IndirectMeasure.NONE: 0> ====\n",
      "Average: -14.672838398381142 \n",
      "Per Topic: [-14.510343077934502, -16.63162185447753, -16.98997374491506, -11.110368888505182, -12.816131262167378, -13.705546413328856, -15.627395011593297, -14.706360981390059, -15.260404690558046, -15.370238058941537]\n",
      "\n",
      "==== Coherence : <Segmentation.ONE_PRE: 2>, <ConfirmMeasure.PMI: 5>, <IndirectMeasure.COSINE: 1> ====\n",
      "Average: 0.9390696035491096 \n",
      "Per Topic: [0.9137912498580085, 0.9570699466599358, 0.9547867377599081, 0.9306559668646919, 0.9341093275282119, 0.9413177662425571, 0.9340114143159655, 0.96390204694536, 0.9479940414428711, 0.913057537873586]\n",
      "\n",
      "==== Coherence : <Segmentation.ONE_PRE: 2>, <ConfirmMeasure.PMI: 5>, <IndirectMeasure.DICE: 2> ====\n",
      "Average: 0.5343641300996145 \n",
      "Per Topic: [0.5413378053241306, 0.5267065074708727, 0.5268801172574361, 0.5350679980383979, 0.5353195799721612, 0.5379622909757826, 0.539318131075965, 0.5211686597930061, 0.5330828494495816, 0.5467973616388109]\n",
      "\n",
      "==== Coherence : <Segmentation.ONE_PRE: 2>, <ConfirmMeasure.PMI: 5>, <IndirectMeasure.JACCARD: 3> ====\n",
      "Average: 1.151450511349572 \n",
      "Per Topic: [1.1819447729322645, 1.115701715151469, 1.1148461951149835, 1.1539469851387871, 1.155556903945075, 1.1695393006006876, 1.1739637878206042, 1.089431071281433, 1.143357809384664, 1.2162165721257527]\n",
      "\n",
      "==== Coherence : <Segmentation.ONE_PRE: 2>, <ConfirmMeasure.NPMI: 6>, <IndirectMeasure.NONE: 0> ====\n",
      "Average: -0.42886890604267897 \n",
      "Per Topic: [-0.4107672919753348, -0.5472172178101794, -0.5616658322052376, -0.23078162651904724, -0.2962483757595137, -0.38076673262871996, -0.49028269538898184, -0.4273519698282682, -0.4658092856233917, -0.4777980326881156]\n",
      "\n",
      "==== Coherence : <Segmentation.ONE_PRE: 2>, <ConfirmMeasure.NPMI: 6>, <IndirectMeasure.COSINE: 1> ====\n",
      "Average: 0.8450668134954242 \n",
      "Per Topic: [0.7892559978697035, 0.8788481116294861, 0.8720868017938402, 0.8366840839385986, 0.8294892893897162, 0.8596062302589417, 0.8373740024036831, 0.8819710863961114, 0.8618482139375475, 0.8035043173366123]\n",
      "\n",
      "==== Coherence : <Segmentation.ONE_PRE: 2>, <ConfirmMeasure.NPMI: 6>, <IndirectMeasure.DICE: 2> ====\n",
      "Average: 0.5536192764176263 \n",
      "Per Topic: [0.5680847154723273, 0.5404912643962436, 0.5417698701222737, 0.5568664338853624, 0.5576786319414775, 0.5553476678000556, 0.5590068446265326, 0.5352700922224257, 0.5500176774130927, 0.5716595662964715]\n",
      "\n",
      "==== Coherence : <Segmentation.ONE_PRE: 2>, <ConfirmMeasure.NPMI: 6>, <IndirectMeasure.JACCARD: 3> ====\n",
      "Average: 1.2493359430631004 \n",
      "Per Topic: [1.3205226553810967, 1.1816773414611816, 1.1851294729444715, 1.2643160343170166, 1.270370160208808, 1.2593961821662054, 1.2748021178775364, 1.1541145986980863, 1.2257635593414307, 1.3572673082351685]\n",
      "\n",
      "==== Coherence : <Segmentation.ONE_PRE: 2>, <ConfirmMeasure.LOGCOND: 7>, <IndirectMeasure.NONE: 0> ====\n",
      "Average: -22.29408313226251 \n",
      "Per Topic: [-21.736088398794525, -25.254564104263448, -25.248171169319075, -17.10559745096002, -19.903030660140622, -21.25052667434378, -23.559608767788863, -23.454930307758826, -22.96881647130552, -22.45949731795046]\n",
      "\n",
      "==== Coherence : <Segmentation.ONE_PRE: 2>, <ConfirmMeasure.LOGCOND: 7>, <IndirectMeasure.COSINE: 1> ====\n",
      "Average: 0.9581527943081326 \n",
      "Per Topic: [0.9426033271683587, 0.9710764235920376, 0.969614409075843, 0.9520093189345465, 0.9550440020031399, 0.958497530884213, 0.9550004257096185, 0.9757437838448418, 0.9639895213974847, 0.9379492004712423]\n",
      "\n",
      "==== Coherence : <Segmentation.ONE_PRE: 2>, <ConfirmMeasure.LOGCOND: 7>, <IndirectMeasure.DICE: 2> ====\n",
      "Average: 0.521903791560067 \n",
      "Per Topic: [0.5300233072704739, 0.5150596817334493, 0.5157544242011176, 0.5252909845776028, 0.5235213200251262, 0.5218786875406901, 0.5236315170923869, 0.5123562256495158, 0.5187060157457988, 0.5328157517645095]\n",
      "\n",
      "==== Coherence : <Segmentation.ONE_PRE: 2>, <ConfirmMeasure.LOGCOND: 7>, <IndirectMeasure.JACCARD: 3> ====\n",
      "Average: 1.0933914189868503 \n",
      "Per Topic: [1.1286320368448892, 1.0629902627733019, 1.0655428647994996, 1.108269132508172, 1.100329656071133, 1.093440376387702, 1.1006098906199138, 1.05094010565016, 1.0782945659425525, 1.144865298271179]\n",
      "\n",
      "==== Coherence : <Segmentation.ONE_SUC: 3>, <ConfirmMeasure.DIFFERENCE: 1>, <IndirectMeasure.NONE: 0> ====\n",
      "Average: -0.009523809523809521 \n",
      "Per Topic: [-0.013605442176870748, -0.006802721088435374, -0.006802721088435374, -0.013605442176870748, -0.013605442176870748, -0.006802721088435374, -0.006802721088435374, -0.006802721088435374, -0.006802721088435374, -0.013605442176870748]\n",
      "\n",
      "==== Coherence : <Segmentation.ONE_SUC: 3>, <ConfirmMeasure.DIFFERENCE: 1>, <IndirectMeasure.COSINE: 1> ====\n",
      "Average: nan \n",
      "Per Topic: [-0.09777721017599106, -0.03477703034877777, -0.03477702662348747, -0.051607612520456314, -0.07728263735771179, -0.025117890909314156, 0.0037400564178824425, -0.047118980437517166, -0.015389799140393734, 0.01646864227950573]\n",
      "\n",
      "==== Coherence : <Segmentation.ONE_SUC: 3>, <ConfirmMeasure.DIFFERENCE: 1>, <IndirectMeasure.DICE: 2> ====\n",
      "Average: -2.034296655654907 \n",
      "Per Topic: [-22.389278411865234, -2.1063835620880127, 3.7672812938690186, 2.841567039489746, -44.185516357421875, 3.735849142074585, 2.078037738800049, 5.696864128112793, 2.2458794116973877, 1.806671380996704]\n",
      "\n",
      "==== Coherence : <Segmentation.ONE_SUC: 3>, <ConfirmMeasure.DIFFERENCE: 1>, <IndirectMeasure.JACCARD: 3> ====\n",
      "Average: -1.4358700573444367 \n",
      "Per Topic: [-0.9572452306747437, -1.361365556716919, -1.361365556716919, -1.543015480041504, -0.9778687953948975, -1.6675167083740234, -1.9276111125946045, -1.2129080295562744, -1.8026460409164429, -2.2396626472473145]\n",
      "\n",
      "==== Coherence : <Segmentation.ONE_SUC: 3>, <ConfirmMeasure.RATIO: 2>, <IndirectMeasure.NONE: 0> ====\n",
      "Average: 0.0 \n",
      "Per Topic: [0.0, 0.0, 0.0, 0.0, 0.0, 0.0, 0.0, 0.0, 0.0, 0.0]\n",
      "\n",
      "==== Coherence : <Segmentation.ONE_SUC: 3>, <ConfirmMeasure.RATIO: 2>, <IndirectMeasure.COSINE: 1> ====\n",
      "Average: nan \n",
      "Per Topic: [0.0, 0.0, 0.0, 0.0, 0.0, 0.0, 0.0, 0.0, 0.0, 0.010045305825769901]\n",
      "\n",
      "==== Coherence : <Segmentation.ONE_SUC: 3>, <ConfirmMeasure.RATIO: 2>, <IndirectMeasure.DICE: 2> ====\n",
      "Average: 0.0014446227811276912 \n",
      "Per Topic: [0.0, 0.0, 0.0, 0.0, 0.0, 0.0, 0.0, 0.0, 0.0, 0.014446227811276913]\n",
      "\n",
      "==== Coherence : <Segmentation.ONE_SUC: 3>, <ConfirmMeasure.RATIO: 2>, <IndirectMeasure.JACCARD: 3> ====\n",
      "Average: 0.0014657980762422084 \n",
      "Per Topic: [0.0, 0.0, 0.0, 0.0, 0.0, 0.0, 0.0, 0.0, 0.0, 0.014657980762422085]\n",
      "\n",
      "==== Coherence : <Segmentation.ONE_SUC: 3>, <ConfirmMeasure.LIKELIHOOD: 3>, <IndirectMeasure.NONE: 0> ====\n",
      "Average: 0.0 \n",
      "Per Topic: [0.0, 0.0, 0.0, 0.0, 0.0, 0.0, 0.0, 0.0, 0.0, 0.0]\n",
      "\n",
      "==== Coherence : <Segmentation.ONE_SUC: 3>, <ConfirmMeasure.LIKELIHOOD: 3>, <IndirectMeasure.COSINE: 1> ====\n",
      "Average: nan \n",
      "Per Topic: [0.0, 0.0, 0.0, 0.0, 0.0, 0.0, 0.0, 0.0, 0.0, 0.02860334701836109]\n",
      "\n",
      "==== Coherence : <Segmentation.ONE_SUC: 3>, <ConfirmMeasure.LIKELIHOOD: 3>, <IndirectMeasure.DICE: 2> ====\n",
      "Average: 0.0020263373851776125 \n",
      "Per Topic: [0.0, 0.0, 0.0, 0.0, 0.0, 0.0, 0.0, 0.0, 0.0, 0.020263373851776123]\n",
      "\n",
      "==== Coherence : <Segmentation.ONE_SUC: 3>, <ConfirmMeasure.LIKELIHOOD: 3>, <IndirectMeasure.JACCARD: 3> ====\n",
      "Average: 0.0020682472735643388 \n",
      "Per Topic: [0.0, 0.0, 0.0, 0.0, 0.0, 0.0, 0.0, 0.0, 0.0, 0.020682472735643387]\n",
      "\n",
      "==== Coherence : <Segmentation.ONE_SUC: 3>, <ConfirmMeasure.LOGLIKELIHOOD: 4>, <IndirectMeasure.NONE: 0> ====\n",
      "Average: -27.631021115928547 \n",
      "Per Topic: [-27.631021115928547, -27.631021115928547, -27.631021115928547, -27.631021115928547, -27.631021115928547, -27.631021115928547, -27.631021115928547, -27.631021115928547, -27.631021115928547, -27.631021115928547]\n",
      "\n",
      "==== Coherence : <Segmentation.ONE_SUC: 3>, <ConfirmMeasure.LOGLIKELIHOOD: 4>, <IndirectMeasure.COSINE: 1> ====\n",
      "Average: 0.9089295446872712 \n",
      "Per Topic: [0.8810691237449646, 0.914141833782196, 0.914141833782196, 0.9122443795204163, 0.9661123156547546, 0.9146391749382019, 0.9152960181236267, 0.8937321901321411, 0.9149293899536133, 0.9328299760818481]\n",
      "\n"
     ]
    },
    {
     "name": "stdout",
     "output_type": "stream",
     "text": [
      "==== Coherence : <Segmentation.ONE_SUC: 3>, <ConfirmMeasure.LOGLIKELIHOOD: 4>, <IndirectMeasure.DICE: 2> ====\n",
      "Average: 0.5402398407459259 \n",
      "Per Topic: [0.5547961592674255, 0.5368674397468567, 0.5368674397468567, 0.5410807132720947, 0.5479734539985657, 0.5367944240570068, 0.53669673204422, 0.5425752401351929, 0.5367514491081238, 0.5319953560829163]\n",
      "\n",
      "==== Coherence : <Segmentation.ONE_SUC: 3>, <ConfirmMeasure.LOGLIKELIHOOD: 4>, <IndirectMeasure.JACCARD: 3> ====\n",
      "Average: 1.1885324120521545 \n",
      "Per Topic: [1.246161937713623, 1.15920889377594, 1.15920889377594, 1.179032325744629, 1.2122594118118286, 1.1588685512542725, 1.0197890996932983, 1.1861518621444702, 1.158668041229248, 1.0231053829193115]\n",
      "\n",
      "==== Coherence : <Segmentation.ONE_SUC: 3>, <ConfirmMeasure.PMI: 5>, <IndirectMeasure.NONE: 0> ====\n",
      "Average: -17.774982745184246 \n",
      "Per Topic: [-20.135062593959827, -19.44191541520063, -19.44191541520063, -20.135062593959827, -20.135062593959827, -19.44191541520063, -19.44191541520063, -19.44191541520063, -19.44191541520063, -20.135062593959827]\n",
      "\n",
      "==== Coherence : <Segmentation.ONE_SUC: 3>, <ConfirmMeasure.PMI: 5>, <IndirectMeasure.COSINE: 1> ====\n",
      "Average: nan \n",
      "Per Topic: [0.8522228002548218, 0.9025208950042725, 0.9025208950042725, 0.8865811824798584, 0.8696166276931763, 0.9024902582168579, 0.902449905872345, 0.8935931324958801, nan, 0.9092733263969421]\n",
      "\n",
      "==== Coherence : <Segmentation.ONE_SUC: 3>, <ConfirmMeasure.PMI: 5>, <IndirectMeasure.DICE: 2> ====\n",
      "Average: 0.565178245306015 \n",
      "Per Topic: [0.5773945450782776, 0.5641274452209473, 0.6030097603797913, 0.5627714395523071, 0.5699892044067383, 0.5641274452209473, 0.5641274452209473, 0.5677458047866821, 0.5641274452209473, 0.5532442331314087]\n",
      "\n",
      "==== Coherence : <Segmentation.ONE_SUC: 3>, <ConfirmMeasure.PMI: 5>, <IndirectMeasure.JACCARD: 3> ====\n",
      "Average: -36.51455281972885 \n",
      "Per Topic: [1.366273283958435, 1.2942487001419067, 1.2942487001419067, 1.287132978439331, 1.3255228996276855, 1.2942487001419067, 1.2942487001419067, -129.1995391845703, 1.2942487001419067, 1.2383593320846558]\n",
      "\n",
      "==== Coherence : <Segmentation.ONE_SUC: 3>, <ConfirmMeasure.NPMI: 6>, <IndirectMeasure.NONE: 0> ====\n",
      "Average: -0.6407894935559035 \n",
      "Per Topic: [-0.7287122147777774, -0.7036263818709503, -0.7036263818709503, -0.7287122147777774, 0.0, -0.7036263818709503, -0.7036263818709503, -0.7036263818709503, -0.7036263818709503, -0.7287122147777774]\n",
      "\n",
      "==== Coherence : <Segmentation.ONE_SUC: 3>, <ConfirmMeasure.NPMI: 6>, <IndirectMeasure.COSINE: 1> ====\n",
      "Average: nan \n",
      "Per Topic: [0.6665419936180115, 0.7793239951133728, nan, 0.7468193769454956, 0.7024475336074829, 0.7826908826828003, 0.7868743538856506, 0.7553064227104187, 0.7845805287361145, 0.7962149977684021]\n",
      "\n",
      "==== Coherence : <Segmentation.ONE_SUC: 3>, <ConfirmMeasure.NPMI: 6>, <IndirectMeasure.DICE: 2> ====\n",
      "Average: 0.6345110237598419 \n",
      "Per Topic: [0.620062530040741, 0.5899417996406555, 0.5899417400360107, 0.592726469039917, 0.6069976091384888, 1.0292353630065918, 0.5886764526367188, 0.5970238447189331, 0.5890774726867676, 0.5774967074394226]\n",
      "\n",
      "==== Coherence : <Segmentation.ONE_SUC: 3>, <ConfirmMeasure.NPMI: 6>, <IndirectMeasure.JACCARD: 3> ====\n",
      "Average: 1.4657773971557617 \n",
      "Per Topic: [1.6320112943649292, 1.4386777877807617, 1.4386777877807617, 1.4553515911102295, 1.5445129871368408, 1.4354373216629028, 1.431175947189331, 1.4815361499786377, 1.4335484504699707, 1.366844654083252]\n",
      "\n",
      "==== Coherence : <Segmentation.ONE_SUC: 3>, <ConfirmMeasure.LOGCOND: 7>, <IndirectMeasure.NONE: 0> ====\n",
      "Average: -27.631021115928547 \n",
      "Per Topic: [-27.631021115928547, -27.631021115928547, -27.631021115928547, -27.631021115928547, -27.631021115928547, -27.631021115928547, -27.631021115928547, -27.631021115928547, -27.631021115928547, -27.631021115928547]\n",
      "\n",
      "==== Coherence : <Segmentation.ONE_SUC: 3>, <ConfirmMeasure.LOGCOND: 7>, <IndirectMeasure.COSINE: 1> ====\n",
      "Average: 0.9255567252635956 \n",
      "Per Topic: [0.898263692855835, 0.9323820471763611, 0.9323820471763611, 0.9212538003921509, 0.9094001650810242, 0.9326490759849548, 0.9329929947853088, 0.9267771244049072, 0.9328025579452515, 0.9366637468338013]\n",
      "\n",
      "==== Coherence : <Segmentation.ONE_SUC: 3>, <ConfirmMeasure.LOGCOND: 7>, <IndirectMeasure.DICE: 2> ====\n",
      "Average: 0.5360158503055572 \n",
      "Per Topic: [0.5529600381851196, 0.5358929634094238, 0.5358929634094238, 0.5414350032806396, 0.5472559332847595, 0.5358209013938904, 0.5357257127761841, 0.5386648178100586, 0.535778820514679, 0.5335094928741455]\n",
      "\n",
      "==== Coherence : <Segmentation.ONE_SUC: 3>, <ConfirmMeasure.LOGCOND: 7>, <IndirectMeasure.JACCARD: 3> ====\n",
      "Average: 1.1709429621696472 \n",
      "Per Topic: [1.2369365692138672, 1.1546753644943237, 1.1546753644943237, 1.1807160377502441, 1.208753228187561, 1.1543408632278442, 1.1538991928100586, 1.167621374130249, 1.1541454792022705, 1.14366614818573]\n",
      "\n",
      "==== Coherence : <Segmentation.ONE_ALL: 4>, <ConfirmMeasure.DIFFERENCE: 1>, <IndirectMeasure.NONE: 0> ====\n",
      "Average: -0.01891156462585034 \n",
      "Per Topic: [-0.018367346938775505, -0.013605442176870746, -0.014965986394557823, -0.025850340136054424, -0.018367346938775505, -0.021768707482993196, -0.018367346938775512, -0.010204081632653057, -0.019727891156462583, -0.027891156462585033]\n",
      "\n",
      "==== Coherence : <Segmentation.ONE_ALL: 4>, <ConfirmMeasure.DIFFERENCE: 1>, <IndirectMeasure.COSINE: 1> ====\n",
      "Average: 0.15927054234780372 \n",
      "Per Topic: [0.1788686841726303, 0.024487076373770834, 0.07518160035833717, 0.3685785490088165, 0.32893441841006277, 0.21335301073268056, 0.06206352859735489, 0.11699280105531215, 0.13253568727523088, 0.09171006749384106]\n",
      "\n",
      "==== Coherence : <Segmentation.ONE_ALL: 4>, <ConfirmMeasure.DIFFERENCE: 1>, <IndirectMeasure.DICE: 2> ====\n",
      "Average: 3.1207943201065063 \n",
      "Per Topic: [24.48296489715576, 1.973669993877411, 1.899383008480072, 3.1694833517074583, -3.753977370262146, 2.4241484642028808, 2.5320536613464357, -6.118213510513305, 2.0257880449295045, 2.5726426601409913]\n",
      "\n",
      "==== Coherence : <Segmentation.ONE_ALL: 4>, <ConfirmMeasure.DIFFERENCE: 1>, <IndirectMeasure.JACCARD: 3> ====\n",
      "Average: -1.5365714091062546 \n",
      "Per Topic: [-1.0426758050918579, -2.041842591762543, -2.118753707408905, -1.465631401538849, -0.7867592453956604, -1.7184427380561829, -1.661513662338257, -0.8580737411975861, -2.0195560693740844, -1.6524651288986205]\n",
      "\n",
      "==== Coherence : <Segmentation.ONE_ALL: 4>, <ConfirmMeasure.RATIO: 2>, <IndirectMeasure.NONE: 0> ====\n",
      "Average: 0.0 \n",
      "Per Topic: [0.0, 0.0, 0.0, 0.0, 0.0, 0.0, 0.0, 0.0, 0.0, 0.0]\n",
      "\n",
      "==== Coherence : <Segmentation.ONE_ALL: 4>, <ConfirmMeasure.RATIO: 2>, <IndirectMeasure.COSINE: 1> ====\n",
      "Average: 0.26886848203372204 \n",
      "Per Topic: [0.30087098106741905, 0.17903210110962392, 0.18979429453611374, 0.4278482373803854, 0.4193437544628978, 0.26142663396894933, 0.1987516086548567, 0.27522404342889784, 0.21767100989818572, 0.21872215582989157]\n",
      "\n",
      "==== Coherence : <Segmentation.ONE_ALL: 4>, <ConfirmMeasure.RATIO: 2>, <IndirectMeasure.DICE: 2> ====\n",
      "Average: 0.0671588138397783 \n",
      "Per Topic: [0.06934869084507227, 0.07175838369876146, 0.0658474036026746, 0.07444027904421091, 0.08325050231069327, 0.0594273030757904, 0.05263072475790977, 0.08062235321849584, 0.05675735957920551, 0.05750513826496899]\n",
      "\n",
      "==== Coherence : <Segmentation.ONE_ALL: 4>, <ConfirmMeasure.RATIO: 2>, <IndirectMeasure.JACCARD: 3> ====\n",
      "Average: 0.07494350706692784 \n",
      "Per Topic: [0.07552510257810355, 0.08469813000410795, 0.07693299506790936, 0.08174430206418037, 0.09470962826162577, 0.06483291015028954, 0.056802973523736, 0.09111366253346205, 0.060888447239995, 0.06218691924586892]\n",
      "\n",
      "==== Coherence : <Segmentation.ONE_ALL: 4>, <ConfirmMeasure.LIKELIHOOD: 3>, <IndirectMeasure.NONE: 0> ====\n",
      "Average: 0.0 \n",
      "Per Topic: [0.0, 0.0, 0.0, 0.0, 0.0, 0.0, 0.0, 0.0, 0.0, 0.0]\n",
      "\n",
      "==== Coherence : <Segmentation.ONE_ALL: 4>, <ConfirmMeasure.LIKELIHOOD: 3>, <IndirectMeasure.COSINE: 1> ====\n",
      "Average: nan \n",
      "Per Topic: [0.25876203924417496, nan, nan, 0.1358473971801631, 0.21801890283867253, 0.09018452170229092, nan, nan, nan, 0.11423258907250142]\n",
      "\n",
      "==== Coherence : <Segmentation.ONE_ALL: 4>, <ConfirmMeasure.LIKELIHOOD: 3>, <IndirectMeasure.DICE: 2> ====\n",
      "Average: 0.014461107115186353 \n",
      "Per Topic: [0.058946977742016314, 1.7745718523115573e-12, 6.283889511168872e-12, 1.273580784236228e-10, 0.028288823393744743, 0.038818569535500336, 3.3158562224092083e-11, 0.018556699907080733, 3.9034762054634965e-11, 3.6591153995679803e-10]\n",
      "\n",
      "==== Coherence : <Segmentation.ONE_ALL: 4>, <ConfirmMeasure.LIKELIHOOD: 3>, <IndirectMeasure.JACCARD: 3> ====\n",
      "Average: 0.016038083388395213 \n",
      "Per Topic: [0.06306325681507588, 1.7745718523115573e-12, 6.283889424432698e-12, 1.273580784236228e-10, 0.0329493075885003, 0.04458805030036621, 3.3158562224092083e-11, 0.01978021860648831, 3.903476222810731e-11, 3.6591153995679803e-10]\n",
      "\n",
      "==== Coherence : <Segmentation.ONE_ALL: 4>, <ConfirmMeasure.LOGLIKELIHOOD: 4>, <IndirectMeasure.NONE: 0> ====\n",
      "Average: -27.631021115928547 \n",
      "Per Topic: [-27.631021115928547, -27.631021115928547, -27.631021115928547, -27.631021115928547, -27.631021115928547, -27.631021115928547, -27.631021115928547, -27.631021115928547, -27.631021115928547, -27.631021115928547]\n",
      "\n",
      "==== Coherence : <Segmentation.ONE_ALL: 4>, <ConfirmMeasure.LOGLIKELIHOOD: 4>, <IndirectMeasure.COSINE: 1> ====\n",
      "Average: 0.969841997027397 \n",
      "Per Topic: [0.9607819974422455, 0.9790290415287017, 0.9793631553649902, 0.965456223487854, 0.9645098984241486, 0.9701945304870605, 0.9682979106903076, 0.9766392588615418, 0.9744856059551239, 0.9596623480319977]\n",
      "\n",
      "==== Coherence : <Segmentation.ONE_ALL: 4>, <ConfirmMeasure.LOGLIKELIHOOD: 4>, <IndirectMeasure.DICE: 2> ====\n",
      "Average: 0.900000006556511 \n",
      "Per Topic: [0.9000000178813934, 0.9, 0.9000000178813934, 0.899999988079071, 0.9, 0.9000000178813934, 0.9000000178813934, 0.8999999940395356, 0.9000000119209289, 0.9]\n",
      "\n",
      "==== Coherence : <Segmentation.ONE_ALL: 4>, <ConfirmMeasure.LOGLIKELIHOOD: 4>, <IndirectMeasure.JACCARD: 3> ====\n",
      "Average: 9.018643074035646 \n",
      "Per Topic: [9.00843334197998, 9.010779094696044, 9.006333351135254, 9.020603942871094, 9.021706295013427, 9.028146839141845, 9.019080638885498, 9.002072811126709, 9.009833717346192, 9.0594407081604]\n",
      "\n",
      "==== Coherence : <Segmentation.ONE_ALL: 4>, <ConfirmMeasure.PMI: 5>, <IndirectMeasure.NONE: 0> ====\n",
      "Average: 0.0 \n",
      "Per Topic: [0.0, 0.0, 0.0, 0.0, 0.0, 0.0, 0.0, 0.0, 0.0, 0.0]\n",
      "\n",
      "==== Coherence : <Segmentation.ONE_ALL: 4>, <ConfirmMeasure.PMI: 5>, <IndirectMeasure.COSINE: 1> ====\n",
      "Average: 0.9655756103992461 \n",
      "Per Topic: [0.9509771049022675, 0.9758773565292358, 0.9745749056339263, 0.9608127057552338, 0.9627778470516205, 0.9668945968151093, 0.9626787662506103, 0.9797332048416137, 0.9706731259822845, 0.9507564902305603]\n",
      "\n",
      "==== Coherence : <Segmentation.ONE_ALL: 4>, <ConfirmMeasure.PMI: 5>, <IndirectMeasure.DICE: 2> ====\n",
      "Average: 0.900000001192093 \n",
      "Per Topic: [0.9, 0.9, 0.9000000119209289, 0.899999988079071, 0.9, 0.9000000357627869, 0.9000000298023224, 0.8999999701976776, 0.8999999761581421, 0.9]\n",
      "\n"
     ]
    },
    {
     "name": "stdout",
     "output_type": "stream",
     "text": [
      "==== Coherence : <Segmentation.ONE_ALL: 4>, <ConfirmMeasure.PMI: 5>, <IndirectMeasure.JACCARD: 3> ====\n",
      "Average: 9.008780441284179 \n",
      "Per Topic: [9.005330467224121, 9.0048752784729, 9.00417947769165, 9.014835262298584, 9.011392402648926, 9.00784969329834, 9.006060791015624, 9.001980876922607, 9.003767490386963, 9.02753267288208]\n",
      "\n",
      "==== Coherence : <Segmentation.ONE_ALL: 4>, <ConfirmMeasure.NPMI: 6>, <IndirectMeasure.NONE: 0> ====\n",
      "Average: 0.0 \n",
      "Per Topic: [0.0, 0.0, 0.0, 0.0, 0.0, 0.0, 0.0, 0.0, 0.0, 0.0]\n",
      "\n",
      "==== Coherence : <Segmentation.ONE_ALL: 4>, <ConfirmMeasure.NPMI: 6>, <IndirectMeasure.COSINE: 1> ====\n",
      "Average: 0.9099923872947695 \n",
      "Per Topic: [0.8755637049674988, 0.9304057478904724, 0.9263676583766938, 0.9052387773990631, 0.9007247686386108, 0.9189103126525879, 0.905403059720993, 0.9321994304656982, 0.9201637208461761, 0.8849466919898987]\n",
      "\n",
      "==== Coherence : <Segmentation.ONE_ALL: 4>, <ConfirmMeasure.NPMI: 6>, <IndirectMeasure.DICE: 2> ====\n",
      "Average: 0.9022966295480728 \n",
      "Per Topic: [0.9012288331985474, 0.899999988079071, 0.9, 0.9101135671138764, 0.9071740508079529, 0.9020512223243713, 0.900000023841858, 0.9005502164363861, 0.9005995869636536, 0.9012488067150116]\n",
      "\n",
      "==== Coherence : <Segmentation.ONE_ALL: 4>, <ConfirmMeasure.NPMI: 6>, <IndirectMeasure.JACCARD: 3> ====\n",
      "Average: 9.275442495346068 \n",
      "Per Topic: [9.142667865753173, 9.010335445404053, 9.009428787231446, 10.225786209106445, 9.806925582885743, 9.228811168670655, 9.01661033630371, 9.057396507263183, 9.06808099746704, 9.188382053375244]\n",
      "\n",
      "==== Coherence : <Segmentation.ONE_ALL: 4>, <ConfirmMeasure.LOGCOND: 7>, <IndirectMeasure.NONE: 0> ====\n",
      "Average: -27.631021115928547 \n",
      "Per Topic: [-27.631021115928547, -27.631021115928547, -27.631021115928547, -27.631021115928547, -27.631021115928547, -27.631021115928547, -27.631021115928547, -27.631021115928547, -27.631021115928547, -27.631021115928547]\n",
      "\n",
      "==== Coherence : <Segmentation.ONE_ALL: 4>, <ConfirmMeasure.LOGCOND: 7>, <IndirectMeasure.COSINE: 1> ====\n",
      "Average: 0.9765486526489257 \n",
      "Per Topic: [0.9676353931427002, 0.98386652469635, 0.9830134272575378, 0.9730409204959869, 0.9748012304306031, 0.9768182456493377, 0.974785715341568, 0.9864448308944702, 0.9798369467258453, 0.9652432918548584]\n",
      "\n",
      "==== Coherence : <Segmentation.ONE_ALL: 4>, <ConfirmMeasure.LOGCOND: 7>, <IndirectMeasure.DICE: 2> ====\n",
      "Average: 0.9000000077486039 \n",
      "Per Topic: [0.9000000059604645, 0.8999999940395356, 0.9000000178813934, 0.9000000059604645, 0.9000000059604645, 0.9000000059604645, 0.900000023841858, 0.9000000059604645, 0.9000000119209289, 0.9]\n",
      "\n",
      "==== Coherence : <Segmentation.ONE_ALL: 4>, <ConfirmMeasure.LOGCOND: 7>, <IndirectMeasure.JACCARD: 3> ====\n",
      "Average: 9.015626125335693 \n",
      "Per Topic: [9.006459045410157, 9.009137725830078, 9.005367469787597, 9.016400051116943, 9.01710262298584, 9.024997520446778, 9.016400241851807, 9.00169506072998, 9.00848445892334, 9.050217056274414]\n",
      "\n",
      "==== Coherence : <Segmentation.ONE_SET: 5>, <ConfirmMeasure.DIFFERENCE: 1>, <IndirectMeasure.NONE: 0> ====\n",
      "Average: -0.01891156462585034 \n",
      "Per Topic: [-0.018367346938775505, -0.013605442176870746, -0.014965986394557823, -0.025850340136054424, -0.018367346938775505, -0.021768707482993196, -0.018367346938775512, -0.010204081632653057, -0.019727891156462583, -0.027891156462585033]\n",
      "\n",
      "==== Coherence : <Segmentation.ONE_SET: 5>, <ConfirmMeasure.DIFFERENCE: 1>, <IndirectMeasure.COSINE: 1> ====\n",
      "Average: 0.3721784535422922 \n",
      "Per Topic: [0.4050553470849991, 0.30774818658828734, 0.33914579153060914, 0.4969943515956402, 0.4402275960892439, 0.4055146336555481, 0.3180458515882492, 0.32489729300141335, 0.3525594897568226, 0.3315959945321083]\n",
      "\n",
      "==== Coherence : <Segmentation.ONE_SET: 5>, <ConfirmMeasure.DIFFERENCE: 1>, <IndirectMeasure.DICE: 2> ====\n",
      "Average: 20.204389760494227 \n",
      "Per Topic: [197.72421250343322, 1.882888090610504, 1.8139562249183654, 3.1189813137054445, -4.354218208789826, 2.3357468366622927, 2.3925624012947084, -7.258040452003479, 1.968550682067871, 2.419258213043213]\n",
      "\n",
      "==== Coherence : <Segmentation.ONE_SET: 5>, <ConfirmMeasure.DIFFERENCE: 1>, <IndirectMeasure.JACCARD: 3> ====\n",
      "Average: -1.5966777229309081 \n",
      "Per Topic: [-1.0463746905326843, -2.2065067529678344, -2.2598145961761475, -1.4778157830238343, -0.7839176118373871, -1.774057960510254, -1.7380150318145753, -0.8517067611217499, -2.093123030662537, -1.735445010662079]\n",
      "\n",
      "==== Coherence : <Segmentation.ONE_SET: 5>, <ConfirmMeasure.RATIO: 2>, <IndirectMeasure.NONE: 0> ====\n",
      "Average: 0.0 \n",
      "Per Topic: [0.0, 0.0, 0.0, 0.0, 0.0, 0.0, 0.0, 0.0, 0.0, 0.0]\n",
      "\n",
      "==== Coherence : <Segmentation.ONE_SET: 5>, <ConfirmMeasure.RATIO: 2>, <IndirectMeasure.COSINE: 1> ====\n",
      "Average: 0.44360996991395946 \n",
      "Per Topic: [0.47527805864810946, 0.35639550164341927, 0.35630935803055763, 0.5556790381669998, 0.5283392384648323, 0.4536722242832184, 0.40833600461483, 0.45015645027160645, 0.4293178886175156, 0.42261593639850614]\n",
      "\n",
      "==== Coherence : <Segmentation.ONE_SET: 5>, <ConfirmMeasure.RATIO: 2>, <IndirectMeasure.DICE: 2> ====\n",
      "Average: 0.08997324556112289 \n",
      "Per Topic: [0.09021383188664914, 0.0888215120881796, 0.08889860771596432, 0.09048078656196594, 0.08956489078700543, 0.09027556516230106, 0.09040788076817989, 0.09008644931018353, 0.09036549143493175, 0.0906174398958683]\n",
      "\n",
      "==== Coherence : <Segmentation.ONE_SET: 5>, <ConfirmMeasure.RATIO: 2>, <IndirectMeasure.JACCARD: 3> ====\n",
      "Average: 0.10000000055879354 \n",
      "Per Topic: [0.1, 0.10000000074505806, 0.1000000037252903, 0.09999999776482582, 0.1000000037252903, 0.09999999552965164, 0.09999999962747097, 0.10000000596046447, 0.09999999329447747, 0.10000000521540642]\n",
      "\n",
      "==== Coherence : <Segmentation.ONE_SET: 5>, <ConfirmMeasure.LIKELIHOOD: 3>, <IndirectMeasure.NONE: 0> ====\n",
      "Average: 0.0 \n",
      "Per Topic: [0.0, 0.0, 0.0, 0.0, 0.0, 0.0, 0.0, 0.0, 0.0, 0.0]\n",
      "\n",
      "==== Coherence : <Segmentation.ONE_SET: 5>, <ConfirmMeasure.LIKELIHOOD: 3>, <IndirectMeasure.COSINE: 1> ====\n",
      "Average: nan \n",
      "Per Topic: [0.4479052096605301, nan, nan, 0.11496772625237614, 0.21801890284516556, 0.09018452174366601, nan, nan, nan, 0.0972570225622289]\n",
      "\n",
      "==== Coherence : <Segmentation.ONE_SET: 5>, <ConfirmMeasure.LIKELIHOOD: 3>, <IndirectMeasure.DICE: 2> ====\n",
      "Average: 0.07159809282403554 \n",
      "Per Topic: [0.08908848762512207, 0.07999999523900778, 0.07245343776731218, 0.050000000159096614, 0.0725155502897614, 0.07232922771536028, 0.07194441565979408, 0.08332076893238047, 0.07432904401254066, 0.05000000083997984]\n",
      "\n",
      "==== Coherence : <Segmentation.ONE_SET: 5>, <ConfirmMeasure.LIKELIHOOD: 3>, <IndirectMeasure.JACCARD: 3> ====\n",
      "Average: 0.0999999997613963 \n",
      "Per Topic: [0.10000000521540642, 0.10000000000737937, 0.09999999257116045, 0.1000000001590966, 0.09999999258340533, 0.1000000015791527, 0.10000000009048866, 0.09999999851969699, 0.10000000604819663, 0.10000000083997987]\n",
      "\n",
      "==== Coherence : <Segmentation.ONE_SET: 5>, <ConfirmMeasure.LOGLIKELIHOOD: 4>, <IndirectMeasure.NONE: 0> ====\n",
      "Average: -27.631021115928547 \n",
      "Per Topic: [-27.631021115928547, -27.631021115928547, -27.631021115928547, -27.631021115928547, -27.631021115928547, -27.631021115928547, -27.631021115928547, -27.631021115928547, -27.631021115928547, -27.631021115928547]\n",
      "\n",
      "==== Coherence : <Segmentation.ONE_SET: 5>, <ConfirmMeasure.LOGLIKELIHOOD: 4>, <IndirectMeasure.COSINE: 1> ====\n",
      "Average: 0.9755370438098907 \n",
      "Per Topic: [0.9682905972003937, 0.9829746901988983, 0.9832782745361328, 0.9720285415649415, 0.9712401986122131, 0.9757620573043824, 0.9742892146110534, 0.9811036646366119, 0.9793297111988067, 0.9670734882354737]\n",
      "\n",
      "==== Coherence : <Segmentation.ONE_SET: 5>, <ConfirmMeasure.LOGLIKELIHOOD: 4>, <IndirectMeasure.DICE: 2> ====\n",
      "Average: 0.909104090332985 \n",
      "Per Topic: [0.9090972065925598, 0.9090984344482422, 0.9090955495834351, 0.9091056227684021, 0.9091068625450134, 0.9091106057167053, 0.9091046690940857, 0.9090924739837647, 0.9090981245040893, 0.9091313540935516]\n",
      "\n",
      "==== Coherence : <Segmentation.ONE_SET: 5>, <ConfirmMeasure.LOGLIKELIHOOD: 4>, <IndirectMeasure.JACCARD: 3> ====\n",
      "Average: 10.01864333152771 \n",
      "Per Topic: [10.008433151245118, 10.010779762268067, 10.006333446502685, 10.02060432434082, 10.021706295013427, 10.028146934509277, 10.019081020355225, 10.002073574066163, 10.00983362197876, 10.059441184997558]\n",
      "\n",
      "==== Coherence : <Segmentation.ONE_SET: 5>, <ConfirmMeasure.PMI: 5>, <IndirectMeasure.NONE: 0> ====\n",
      "Average: 0.0 \n",
      "Per Topic: [0.0, 0.0, 0.0, 0.0, 0.0, 0.0, 0.0, 0.0, 0.0, 0.0]\n",
      "\n",
      "==== Coherence : <Segmentation.ONE_SET: 5>, <ConfirmMeasure.PMI: 5>, <IndirectMeasure.COSINE: 1> ====\n",
      "Average: 0.9721638268232347 \n",
      "Per Topic: [0.9604224979877471, 0.9804902255535126, 0.9794419705867767, 0.968291288614273, 0.9698950827121735, 0.9732331275939942, 0.9698497951030731, 0.9836210191249848, 0.9763155102729797, 0.9600777506828309]\n",
      "\n",
      "==== Coherence : <Segmentation.ONE_SET: 5>, <ConfirmMeasure.PMI: 5>, <IndirectMeasure.DICE: 2> ====\n",
      "Average: 0.9090973287820814 \n",
      "Per Topic: [0.909094899892807, 0.9090945541858673, 0.9090940713882446, 0.9091016054153442, 0.9090994656085968, 0.9090966761112214, 0.9090954840183259, 0.9090923964977264, 0.909093701839447, 0.9091104328632355]\n",
      "\n",
      "==== Coherence : <Segmentation.ONE_SET: 5>, <ConfirmMeasure.PMI: 5>, <IndirectMeasure.JACCARD: 3> ====\n",
      "Average: 10.00878080368042 \n",
      "Per Topic: [10.005329608917236, 10.004873943328857, 10.004181480407714, 10.01483507156372, 10.011391162872314, 10.007853412628174, 10.006063175201415, 10.001981353759765, 10.003765392303468, 10.027533435821534]\n",
      "\n",
      "==== Coherence : <Segmentation.ONE_SET: 5>, <ConfirmMeasure.NPMI: 6>, <IndirectMeasure.NONE: 0> ====\n",
      "Average: 0.0 \n",
      "Per Topic: [0.0, 0.0, 0.0, 0.0, 0.0, 0.0, 0.0, 0.0, 0.0, 0.0]\n",
      "\n",
      "==== Coherence : <Segmentation.ONE_SET: 5>, <ConfirmMeasure.NPMI: 6>, <IndirectMeasure.COSINE: 1> ====\n",
      "Average: 0.927546843290329 \n",
      "Per Topic: [0.9001832962036133, 0.9439054369926453, 0.9406769573688507, 0.9235872745513916, 0.920074850320816, 0.9346837103366852, 0.9239216685295105, 0.9453939080238343, 0.9357643187046051, 0.9072770118713379]\n",
      "\n",
      "==== Coherence : <Segmentation.ONE_SET: 5>, <ConfirmMeasure.NPMI: 6>, <IndirectMeasure.DICE: 2> ====\n",
      "Average: 0.9105846548080445 \n",
      "Per Topic: [0.9095272362232208, 0.9090984880924224, 0.9090980172157288, 0.916903680562973, 0.9140451371669769, 0.9096612632274628, 0.9091029822826385, 0.9090928614139557, 0.9091427564620972, 0.9101741254329682]\n",
      "\n",
      "==== Coherence : <Segmentation.ONE_SET: 5>, <ConfirmMeasure.NPMI: 6>, <IndirectMeasure.JACCARD: 3> ====\n",
      "Average: 10.212852916717528 \n",
      "Per Topic: [10.068294525146484, 10.010337257385254, 10.009429931640625, 11.071740341186523, 10.65716257095337, 10.087487030029298, 10.016608238220215, 10.002586841583252, 10.014046955108643, 10.19083547592163]\n",
      "\n",
      "==== Coherence : <Segmentation.ONE_SET: 5>, <ConfirmMeasure.LOGCOND: 7>, <IndirectMeasure.NONE: 0> ====\n",
      "Average: -27.631021115928547 \n",
      "Per Topic: [-27.631021115928547, -27.631021115928547, -27.631021115928547, -27.631021115928547, -27.631021115928547, -27.631021115928547, -27.631021115928547, -27.631021115928547, -27.631021115928547, -27.631021115928547]\n",
      "\n",
      "==== Coherence : <Segmentation.ONE_SET: 5>, <ConfirmMeasure.LOGCOND: 7>, <IndirectMeasure.COSINE: 1> ====\n",
      "Average: 0.9809708219766616 \n",
      "Per Topic: [0.9738284051418304, 0.986897325515747, 0.9862312197685241, 0.9781629025936127, 0.9795583188533783, 0.9811415016651154, 0.9795380592346191, 0.9890244364738464, 0.9836608827114105, 0.9716651678085327]\n",
      "\n",
      "==== Coherence : <Segmentation.ONE_SET: 5>, <ConfirmMeasure.LOGCOND: 7>, <IndirectMeasure.DICE: 2> ====\n",
      "Average: 0.909101985692978 \n",
      "Per Topic: [0.9090957283973694, 0.9090973198413849, 0.9090948700904846, 0.9091026544570923, 0.9091033935546875, 0.9091085314750671, 0.9091027915477753, 0.9090921938419342, 0.9090971350669861, 0.9091252386569977]\n",
      "\n",
      "==== Coherence : <Segmentation.ONE_SET: 5>, <ConfirmMeasure.LOGCOND: 7>, <IndirectMeasure.JACCARD: 3> ====\n",
      "Average: 10.015626344680786 \n",
      "Per Topic: [10.00645923614502, 10.009137821197509, 10.005368041992188, 10.016399955749511, 10.017102241516113, 10.024997901916503, 10.016400909423828, 10.001695537567139, 10.00848455429077, 10.050217247009277]\n",
      "\n"
     ]
    }
   ],
   "source": [
    "for seg, cm, im in itertools.product(tp.coherence.Segmentation, tp.coherence.ConfirmMeasure, tp.coherence.IndirectMeasure):\n",
    "    coh = tp.coherence.Coherence(mdl, coherence=(tp.coherence.ProbEstimation.DOCUMENT, seg, cm, im))\n",
    "    average_coherence = coh.get_score()\n",
    "    coherence_per_topic = [coh.get_score(topic_id=k) for k in range(mdl.k)]\n",
    "    print('==== Coherence : {}, {}, {} ===='.format(repr(seg), repr(cm), repr(im)))\n",
    "    print('Average:', average_coherence, '\\nPer Topic:', coherence_per_topic)\n",
    "    print()"
   ]
  },
  {
   "cell_type": "code",
   "execution_count": 20,
   "metadata": {
    "ExecuteTime": {
     "end_time": "2021-03-22T05:31:12.449828Z",
     "start_time": "2021-03-22T05:31:10.542443Z"
    }
   },
   "outputs": [],
   "source": [
    "import matplotlib.pyplot as plt"
   ]
  },
  {
   "cell_type": "code",
   "execution_count": 21,
   "metadata": {
    "ExecuteTime": {
     "end_time": "2021-03-22T05:31:12.466881Z",
     "start_time": "2021-03-22T05:31:12.455378Z"
    }
   },
   "outputs": [],
   "source": [
    "import gensim"
   ]
  },
  {
   "cell_type": "code",
   "execution_count": 22,
   "metadata": {
    "ExecuteTime": {
     "end_time": "2021-03-22T05:31:12.487923Z",
     "start_time": "2021-03-22T05:31:12.474740Z"
    }
   },
   "outputs": [
    {
     "data": {
      "text/plain": [
       "['영상', '브이로그', '일상', '게임', '편집', '재미있다', '좋아하다', '만들다', '사람', '정보', '주제', '여행', '자유', '소통', '공유', '많이', '모습', '강아지', '대하다', '가장', '활동', '시청자', '도움', '관심', '패션', '생활', '콘텐츠', '업로드', '라이브', '보이다', '추억', '운동', '취미', '교육', '귀엽다', '분야', '관련', '처음', '방송', '실시간', '제작', '즐거움', '음악', '내용', '먹방', '촬영', '자연', '영상미', '고양이', '수업', '아이', '직장', '반려견', '즐기다', '함께', '노력', '직접', '연주', '노래', '지식', '전달', '기존', '리뷰', '위하다', '사회', '경험', '기록', '어리다', '공감', '나오다', '가족', '요리', '배경음악', '신경', '요소', '제품', '비교', '올리다', '사용', '다이어트', '새롭다', '메뉴', '딱히', '구독자수', '얽매이다', '저장', '건강', '차량', '시승', '전달력', '메추리', '실력', '다양', '접근성', '용이', '남기다', '온라인', '헬스장', '다른', '동료', '동호회', '구입', '골프', '연습', '방법', '환경', '정성', '들어가다', '자녀', '역사', '컨셉', '생각', '그저', '그대로', '산책', '해외', '소개', '패션쇼', '유명한', '밴드', '신규', '접하다', '겨울왕국', '라이', '특징', '후원', '채팅', '식물', '키우다', '실무', '동기', '동창', '리액션', '너무', '공감대', '다시', '지금', '학교', '과제', '시연', '스피드', '페인팅', '제공', '주식', '토크', '경제', '유투', '육아', '베이비', '특정', '자신', '특별', '매니아층', '토킹', '편하다', '과외', '영화', '채널', '알차다', '생방송', '활기차다', '인상', '멋지다', '풍경', '행복감', '지이', '베이킹', '관심거리', '남자', '어르신', '손쉽다', '캠핑', '로또', '밀접', '동물', '평소', '하울', '시간', '들이다', '바탕', '전자제품', '개봉', '창단', '쿠리코', '언덕', '정엽', '이별', '여름', '눈싸움', '음원', '커버', '부르다', '인천', '동네', '레고', '나라', '아직', '블로그', '흥미', '제일', '플레이', '최대한', '아기', '음식', '장난감', '언박싱', '힘들다', '개인', '테이블', '수집', '관하다', '다루다', '기억', '느끼다', '집중', '스타일', '검토', '소비자', '현명', '소비', '드리다', '이제', '시작', '긴장감', '설레다', '공략', '편안', '인기', '검색어', '레고프렌즈', '실체', '재건축', '현장', '마지막', '철거', '이루어지다', '마음', '아프다', '가지다', '세일', '의미', '생일날', '기념', '조금', '재미', '매끄럽다', '흘러가다', '구도', '모든', '애착', '홍보', '문화', '언어', '구독자', '진짜', '성공', '부자', '중요', '행복', '주장', '대학원', '지내다', '반경', '범위', '영상기법', '영상구도', '같이', '전반적', '주의', '기울이다', '작업', '반응', '장소']"
      ]
     },
     "execution_count": 22,
     "metadata": {},
     "output_type": "execute_result"
    }
   ],
   "source": [
    "mdl.used_vocabs   \n",
    "\n",
    "#Used Vocabs 의미 >> 78개\n",
    "#242 words >> k(10)에 속한 총 단어의 수 (84개가 중복되어서 들어감)  == 총 단어의 빈도 수"
   ]
  },
  {
   "cell_type": "code",
   "execution_count": 23,
   "metadata": {
    "ExecuteTime": {
     "end_time": "2021-03-22T05:31:12.504487Z",
     "start_time": "2021-03-22T05:31:12.494193Z"
    }
   },
   "outputs": [],
   "source": [
    "#Visualize the result\n",
    "\n",
    "g = Network(width=800, height=800, font_color=\"#333\")\n",
    "correl = mdl.get_correlations().reshape([-1])"
   ]
  },
  {
   "cell_type": "code",
   "execution_count": 24,
   "metadata": {
    "ExecuteTime": {
     "end_time": "2021-03-22T05:31:12.519628Z",
     "start_time": "2021-03-22T05:31:12.510658Z"
    }
   },
   "outputs": [],
   "source": [
    "correl.sort()"
   ]
  },
  {
   "cell_type": "code",
   "execution_count": 25,
   "metadata": {
    "ExecuteTime": {
     "end_time": "2021-03-22T05:31:12.817515Z",
     "start_time": "2021-03-22T05:31:12.809179Z"
    }
   },
   "outputs": [],
   "source": [
    "# 상관계수 상위 10%만 간선으로 잇고\n",
    "top_tenth = mdl.k * (mdl.k - 1) // 10\n",
    "top_tenth = correl[-mdl.k - top_tenth]"
   ]
  },
  {
   "cell_type": "code",
   "execution_count": 26,
   "metadata": {
    "ExecuteTime": {
     "end_time": "2021-03-22T05:31:12.842525Z",
     "start_time": "2021-03-22T05:31:12.835635Z"
    }
   },
   "outputs": [],
   "source": [
    "topic_counts = mdl.get_count_by_topics()"
   ]
  },
  {
   "cell_type": "code",
   "execution_count": 27,
   "metadata": {
    "ExecuteTime": {
     "end_time": "2021-03-22T05:31:12.855730Z",
     "start_time": "2021-03-22T05:31:12.847645Z"
    }
   },
   "outputs": [
    {
     "name": "stdout",
     "output_type": "stream",
     "text": [
      "[53 33 39 56 49 41 44 24 52 74]\n"
     ]
    }
   ],
   "source": [
    "print(topic_counts)\n",
    "\n",
    "#합하면 465 (242words) >> 빈도수 465"
   ]
  },
  {
   "cell_type": "code",
   "execution_count": 28,
   "metadata": {
    "ExecuteTime": {
     "end_time": "2021-03-22T05:31:12.889783Z",
     "start_time": "2021-03-22T05:31:12.861717Z"
    }
   },
   "outputs": [
    {
     "name": "stdout",
     "output_type": "stream",
     "text": [
      "Topic #0 공유 생활 내용 가장 취미 처음 기록 직장\n",
      "Topic #1 재미있다 교육 어리다 촬영 요소 베이킹 영화 생방송\n",
      "Topic #2 패션 관심 즐거움 업로드 공감 먹방 가족 스타일\n",
      "Topic #3 소통 좋아하다 자유 활동 시청자 음악 많이 실시간\n",
      "Topic #4 만들다 추억 분야 대하다 고양이 사용 요리 지식\n",
      "Topic #5 브이로그 일상 강아지 귀엽다 반려견 나오다 개인 과외\n",
      "Topic #6 여행 사람 주제 제작 수업 함께 로또 블로그\n",
      "Topic #7 운동 콘텐츠 위하다 구입 장난감 다이어트 헬스장 언박싱\n",
      "Topic #8 게임 정보 라이브 도움 즐기다 제품 비교 전달력\n",
      "Topic #9 영상 편집 관련 보이다 모습 자연 직접 연주\n"
     ]
    }
   ],
   "source": [
    "for k in range(mdl.k):\n",
    "    label = \"#{}\".format(k)\n",
    "    title= ' '.join(word for word, _ in mdl.get_topic_words(k, top_n=8))\n",
    "    print('Topic', label, title)\n",
    "    label += '\\n' + ' '.join(word for word, _ in mdl.get_topic_words(k, top_n=3))\n",
    "    g.add_node(k, label=label, title=title, shape='ellipse', value=float(topic_counts[k]))\n",
    "    for l, correlation in zip(range(k - 1), mdl.get_correlations(k)):\n",
    "        if correlation < top_tenth: continue\n",
    "        g.add_edge(k, l, value=float(correlation), title='{:.02}'.format(correlation))"
   ]
  },
  {
   "cell_type": "code",
   "execution_count": 1,
   "metadata": {
    "ExecuteTime": {
     "end_time": "2021-03-22T05:56:24.408230Z",
     "start_time": "2021-03-22T05:56:23.695549Z"
    },
    "scrolled": true
   },
   "outputs": [
    {
     "ename": "NameError",
     "evalue": "name 'mdl' is not defined",
     "output_type": "error",
     "traceback": [
      "\u001b[0;31m---------------------------------------------------------------------------\u001b[0m",
      "\u001b[0;31mNameError\u001b[0m                                 Traceback (most recent call last)",
      "\u001b[0;32m<ipython-input-1-45a12c91ecd0>\u001b[0m in \u001b[0;36m<module>\u001b[0;34m\u001b[0m\n\u001b[1;32m      3\u001b[0m \u001b[0;31m#확률은 현재 토픽 내 각각의 단어들의 발생확률?\u001b[0m\u001b[0;34m\u001b[0m\u001b[0;34m\u001b[0m\u001b[0;34m\u001b[0m\u001b[0m\n\u001b[1;32m      4\u001b[0m \u001b[0;34m\u001b[0m\u001b[0m\n\u001b[0;32m----> 5\u001b[0;31m \u001b[0mtopic_words\u001b[0m \u001b[0;34m=\u001b[0m \u001b[0mmdl\u001b[0m\u001b[0;34m.\u001b[0m\u001b[0mget_topic_words\u001b[0m\u001b[0;34m(\u001b[0m\u001b[0mk\u001b[0m\u001b[0;34m,\u001b[0m \u001b[0mtop_n\u001b[0m\u001b[0;34m=\u001b[0m\u001b[0;36m100\u001b[0m\u001b[0;34m)\u001b[0m\u001b[0;34m\u001b[0m\u001b[0;34m\u001b[0m\u001b[0m\n\u001b[0m",
      "\u001b[0;31mNameError\u001b[0m: name 'mdl' is not defined"
     ]
    }
   ],
   "source": [
    "#토픽 topic_id에 속하는 상위 top_n개의 단어와 각각의 확률을 반환.\n",
    "#반환 타입은 (단어:str, 확률:float) 튜플의 list형\n",
    "#확률은 현재 토픽 내 각각의 단어들의 발생확률?\n",
    "\n",
    "topic_words = mdl.get_topic_words(k, top_n=100)"
   ]
  },
  {
   "cell_type": "code",
   "execution_count": null,
   "metadata": {
    "ExecuteTime": {
     "end_time": "2021-03-22T05:56:24.426651Z",
     "start_time": "2021-03-22T05:56:22.080Z"
    }
   },
   "outputs": [],
   "source": [
    "import pandas as pd"
   ]
  },
  {
   "cell_type": "code",
   "execution_count": null,
   "metadata": {
    "ExecuteTime": {
     "end_time": "2021-03-22T05:56:24.438365Z",
     "start_time": "2021-03-22T05:56:22.792Z"
    }
   },
   "outputs": [],
   "source": [
    "df_topic_words = pd.DataFrame(topic_words)"
   ]
  },
  {
   "cell_type": "code",
   "execution_count": null,
   "metadata": {
    "ExecuteTime": {
     "end_time": "2021-03-22T05:56:24.451868Z",
     "start_time": "2021-03-22T05:56:23.350Z"
    },
    "scrolled": true
   },
   "outputs": [],
   "source": [
    "#https://dandyrilla.github.io/2017-08-12/pandas-10min/\n",
    "\n",
    "df_topic_words"
   ]
  },
  {
   "cell_type": "code",
   "execution_count": 33,
   "metadata": {
    "ExecuteTime": {
     "end_time": "2021-03-22T05:31:14.568291Z",
     "start_time": "2021-03-22T05:31:14.448538Z"
    }
   },
   "outputs": [
    {
     "data": {
      "text/html": [
       "<div>\n",
       "<style scoped>\n",
       "    .dataframe tbody tr th:only-of-type {\n",
       "        vertical-align: middle;\n",
       "    }\n",
       "\n",
       "    .dataframe tbody tr th {\n",
       "        vertical-align: top;\n",
       "    }\n",
       "\n",
       "    .dataframe thead th {\n",
       "        text-align: right;\n",
       "    }\n",
       "</style>\n",
       "<table border=\"1\" class=\"dataframe\">\n",
       "  <thead>\n",
       "    <tr style=\"text-align: right;\">\n",
       "      <th></th>\n",
       "      <th>1</th>\n",
       "    </tr>\n",
       "  </thead>\n",
       "  <tbody>\n",
       "    <tr>\n",
       "      <th>count</th>\n",
       "      <td>50.000000</td>\n",
       "    </tr>\n",
       "    <tr>\n",
       "      <th>mean</th>\n",
       "      <td>0.019839</td>\n",
       "    </tr>\n",
       "    <tr>\n",
       "      <th>std</th>\n",
       "      <td>0.017741</td>\n",
       "    </tr>\n",
       "    <tr>\n",
       "      <th>min</th>\n",
       "      <td>0.000036</td>\n",
       "    </tr>\n",
       "    <tr>\n",
       "      <th>25%</th>\n",
       "      <td>0.011970</td>\n",
       "    </tr>\n",
       "    <tr>\n",
       "      <th>50%</th>\n",
       "      <td>0.019667</td>\n",
       "    </tr>\n",
       "    <tr>\n",
       "      <th>75%</th>\n",
       "      <td>0.023695</td>\n",
       "    </tr>\n",
       "    <tr>\n",
       "      <th>max</th>\n",
       "      <td>0.104379</td>\n",
       "    </tr>\n",
       "  </tbody>\n",
       "</table>\n",
       "</div>"
      ],
      "text/plain": [
       "               1\n",
       "count  50.000000\n",
       "mean    0.019839\n",
       "std     0.017741\n",
       "min     0.000036\n",
       "25%     0.011970\n",
       "50%     0.019667\n",
       "75%     0.023695\n",
       "max     0.104379"
      ]
     },
     "execution_count": 33,
     "metadata": {},
     "output_type": "execute_result"
    }
   ],
   "source": [
    "df_topic_words.describe()"
   ]
  },
  {
   "cell_type": "code",
   "execution_count": 34,
   "metadata": {
    "ExecuteTime": {
     "end_time": "2021-03-22T05:31:14.591038Z",
     "start_time": "2021-03-22T05:31:14.573356Z"
    }
   },
   "outputs": [
    {
     "data": {
      "text/plain": [
       "[('영상', 0.10437855124473572),\n",
       " ('편집', 0.06009669974446297),\n",
       " ('관련', 0.043095991015434265),\n",
       " ('보이다', 0.040451738983392715),\n",
       " ('모습', 0.035881705582141876),\n",
       " ('자연', 0.032842058688402176),\n",
       " ('직접', 0.032842058688402176),\n",
       " ('연주', 0.032842058688402176),\n",
       " ('영상미', 0.03138129785656929),\n",
       " ('리뷰', 0.03138129785656929),\n",
       " ('노력', 0.025203438475728035),\n",
       " ('배경음악', 0.02369496040046215),\n",
       " ('기존', 0.02369496040046215),\n",
       " ('신경', 0.02369496040046215),\n",
       " ('아직', 0.022163789719343185),\n",
       " ('캠핑', 0.022163789719343185),\n",
       " ('겨울왕국', 0.019666604697704315),\n",
       " ('스피드', 0.019666604697704315),\n",
       " ('동네', 0.019666604697704315),\n",
       " ('인천', 0.019666604697704315),\n",
       " ('실력', 0.019666604697704315),\n",
       " ('산책', 0.019666604697704315),\n",
       " ('페인팅', 0.019666604697704315),\n",
       " ('주식', 0.019666604697704315),\n",
       " ('토크', 0.019666604697704315),\n",
       " ('환경', 0.019666604697704315),\n",
       " ('동물', 0.01820584572851658),\n",
       " ('애착', 0.01820584572851658),\n",
       " ('신규', 0.01820584572851658),\n",
       " ('홍보', 0.01820584572851658),\n",
       " ('모든', 0.01820584572851658),\n",
       " ('유명한', 0.017169421538710594),\n",
       " ('연습', 0.017169421538710594),\n",
       " ('그저', 0.01636550761759281),\n",
       " ('그대로', 0.01636550761759281),\n",
       " ('자녀', 0.014672238379716873),\n",
       " ('라이', 0.013211478479206562),\n",
       " ('전반적', 0.011555933393537998),\n",
       " ('주의', 0.011555933393537998),\n",
       " ('즐기다', 3.602846118155867e-05),\n",
       " ('가족', 3.602846118155867e-05),\n",
       " ('즐거움', 3.602674405556172e-05),\n",
       " ('음악', 3.602674405556172e-05),\n",
       " ('내용', 3.602674405556172e-05),\n",
       " ('먹방', 3.602674405556172e-05),\n",
       " ('촬영', 3.602674405556172e-05),\n",
       " ('제작', 3.602674405556172e-05),\n",
       " ('실시간', 3.602674405556172e-05),\n",
       " ('고양이', 3.602674405556172e-05),\n",
       " ('수업', 3.602674405556172e-05)]"
      ]
     },
     "execution_count": 34,
     "metadata": {},
     "output_type": "execute_result"
    }
   ],
   "source": [
    "topic_words"
   ]
  },
  {
   "cell_type": "code",
   "execution_count": 35,
   "metadata": {
    "ExecuteTime": {
     "end_time": "2021-03-22T05:31:14.602282Z",
     "start_time": "2021-03-22T05:31:14.596137Z"
    }
   },
   "outputs": [],
   "source": [
    "g.barnes_hut(gravity=-1000, spring_length=20)"
   ]
  },
  {
   "cell_type": "code",
   "execution_count": 36,
   "metadata": {
    "ExecuteTime": {
     "end_time": "2021-03-22T05:31:14.955975Z",
     "start_time": "2021-03-22T05:31:14.607823Z"
    }
   },
   "outputs": [],
   "source": [
    "g.show_buttons()\n",
    "g.show(\"topic_network_210318_2.html\")"
   ]
  },
  {
   "cell_type": "code",
   "execution_count": 37,
   "metadata": {
    "ExecuteTime": {
     "end_time": "2021-03-22T05:31:15.321896Z",
     "start_time": "2021-03-22T05:31:14.961177Z"
    }
   },
   "outputs": [
    {
     "name": "stderr",
     "output_type": "stream",
     "text": [
      "/Users/oridori/git/python/oridori/venv/lib/python3.8/site-packages/sklearn/linear_model/_least_angle.py:30: DeprecationWarning: `np.float` is a deprecated alias for the builtin `float`. To silence this warning, use `float` by itself. Doing this will not modify any behavior and is safe. If you specifically wanted the numpy scalar type, use `np.float64` here.\n",
      "Deprecated in NumPy 1.20; for more details and guidance: https://numpy.org/devdocs/release/1.20.0-notes.html#deprecations\n",
      "  method='lar', copy_X=True, eps=np.finfo(np.float).eps,\n",
      "/Users/oridori/git/python/oridori/venv/lib/python3.8/site-packages/sklearn/linear_model/_least_angle.py:169: DeprecationWarning: `np.float` is a deprecated alias for the builtin `float`. To silence this warning, use `float` by itself. Doing this will not modify any behavior and is safe. If you specifically wanted the numpy scalar type, use `np.float64` here.\n",
      "Deprecated in NumPy 1.20; for more details and guidance: https://numpy.org/devdocs/release/1.20.0-notes.html#deprecations\n",
      "  method='lar', copy_X=True, eps=np.finfo(np.float).eps,\n",
      "/Users/oridori/git/python/oridori/venv/lib/python3.8/site-packages/sklearn/linear_model/_least_angle.py:286: DeprecationWarning: `np.float` is a deprecated alias for the builtin `float`. To silence this warning, use `float` by itself. Doing this will not modify any behavior and is safe. If you specifically wanted the numpy scalar type, use `np.float64` here.\n",
      "Deprecated in NumPy 1.20; for more details and guidance: https://numpy.org/devdocs/release/1.20.0-notes.html#deprecations\n",
      "  eps=np.finfo(np.float).eps, copy_Gram=True, verbose=0,\n",
      "/Users/oridori/git/python/oridori/venv/lib/python3.8/site-packages/sklearn/linear_model/_least_angle.py:858: DeprecationWarning: `np.float` is a deprecated alias for the builtin `float`. To silence this warning, use `float` by itself. Doing this will not modify any behavior and is safe. If you specifically wanted the numpy scalar type, use `np.float64` here.\n",
      "Deprecated in NumPy 1.20; for more details and guidance: https://numpy.org/devdocs/release/1.20.0-notes.html#deprecations\n",
      "  eps=np.finfo(np.float).eps, copy_X=True, fit_path=True):\n",
      "/Users/oridori/git/python/oridori/venv/lib/python3.8/site-packages/sklearn/linear_model/_least_angle.py:1094: DeprecationWarning: `np.float` is a deprecated alias for the builtin `float`. To silence this warning, use `float` by itself. Doing this will not modify any behavior and is safe. If you specifically wanted the numpy scalar type, use `np.float64` here.\n",
      "Deprecated in NumPy 1.20; for more details and guidance: https://numpy.org/devdocs/release/1.20.0-notes.html#deprecations\n",
      "  eps=np.finfo(np.float).eps, copy_X=True, fit_path=True,\n",
      "/Users/oridori/git/python/oridori/venv/lib/python3.8/site-packages/sklearn/linear_model/_least_angle.py:1120: DeprecationWarning: `np.float` is a deprecated alias for the builtin `float`. To silence this warning, use `float` by itself. Doing this will not modify any behavior and is safe. If you specifically wanted the numpy scalar type, use `np.float64` here.\n",
      "Deprecated in NumPy 1.20; for more details and guidance: https://numpy.org/devdocs/release/1.20.0-notes.html#deprecations\n",
      "  eps=np.finfo(np.float).eps, positive=False):\n",
      "/Users/oridori/git/python/oridori/venv/lib/python3.8/site-packages/sklearn/linear_model/_least_angle.py:1349: DeprecationWarning: `np.float` is a deprecated alias for the builtin `float`. To silence this warning, use `float` by itself. Doing this will not modify any behavior and is safe. If you specifically wanted the numpy scalar type, use `np.float64` here.\n",
      "Deprecated in NumPy 1.20; for more details and guidance: https://numpy.org/devdocs/release/1.20.0-notes.html#deprecations\n",
      "  max_n_alphas=1000, n_jobs=None, eps=np.finfo(np.float).eps,\n",
      "/Users/oridori/git/python/oridori/venv/lib/python3.8/site-packages/sklearn/linear_model/_least_angle.py:1590: DeprecationWarning: `np.float` is a deprecated alias for the builtin `float`. To silence this warning, use `float` by itself. Doing this will not modify any behavior and is safe. If you specifically wanted the numpy scalar type, use `np.float64` here.\n",
      "Deprecated in NumPy 1.20; for more details and guidance: https://numpy.org/devdocs/release/1.20.0-notes.html#deprecations\n",
      "  max_n_alphas=1000, n_jobs=None, eps=np.finfo(np.float).eps,\n",
      "/Users/oridori/git/python/oridori/venv/lib/python3.8/site-packages/sklearn/linear_model/_least_angle.py:1723: DeprecationWarning: `np.float` is a deprecated alias for the builtin `float`. To silence this warning, use `float` by itself. Doing this will not modify any behavior and is safe. If you specifically wanted the numpy scalar type, use `np.float64` here.\n",
      "Deprecated in NumPy 1.20; for more details and guidance: https://numpy.org/devdocs/release/1.20.0-notes.html#deprecations\n",
      "  eps=np.finfo(np.float).eps, copy_X=True, positive=False):\n",
      "/Users/oridori/git/python/oridori/venv/lib/python3.8/site-packages/sklearn/decomposition/_lda.py:29: DeprecationWarning: `np.float` is a deprecated alias for the builtin `float`. To silence this warning, use `float` by itself. Doing this will not modify any behavior and is safe. If you specifically wanted the numpy scalar type, use `np.float64` here.\n",
      "Deprecated in NumPy 1.20; for more details and guidance: https://numpy.org/devdocs/release/1.20.0-notes.html#deprecations\n",
      "  EPS = np.finfo(np.float).eps\n"
     ]
    }
   ],
   "source": [
    "import pyLDAvis\n",
    "import pyLDAvis.gensim"
   ]
  },
  {
   "cell_type": "code",
   "execution_count": 38,
   "metadata": {
    "ExecuteTime": {
     "end_time": "2021-03-22T05:31:15.331965Z",
     "start_time": "2021-03-22T05:31:15.326396Z"
    }
   },
   "outputs": [],
   "source": [
    "pyLDAvis.enable_notebook()"
   ]
  },
  {
   "cell_type": "code",
   "execution_count": 39,
   "metadata": {
    "ExecuteTime": {
     "end_time": "2021-03-22T05:31:15.348155Z",
     "start_time": "2021-03-22T05:31:15.336861Z"
    }
   },
   "outputs": [],
   "source": [
    "topic_term_dists = np.stack([mdl.get_topic_word_dist(k) for k in range(mdl.k)])\n",
    "doc_topic_dists = np.stack([doc.get_topic_dist() for doc in mdl.docs])\n",
    "doc_lengths = np.array([len(doc.words) for doc in mdl.docs])"
   ]
  },
  {
   "cell_type": "code",
   "execution_count": 40,
   "metadata": {
    "ExecuteTime": {
     "end_time": "2021-03-22T05:31:15.358856Z",
     "start_time": "2021-03-22T05:31:15.352383Z"
    }
   },
   "outputs": [],
   "source": [
    "vocab = list(mdl.used_vocabs)\n",
    "term_frequency = mdl.used_vocab_freq\n",
    "doc_topic_dists /= doc_topic_dists.sum(axis=1, keepdims= True)"
   ]
  },
  {
   "cell_type": "code",
   "execution_count": 41,
   "metadata": {
    "ExecuteTime": {
     "end_time": "2021-03-22T05:31:22.929993Z",
     "start_time": "2021-03-22T05:31:15.363053Z"
    }
   },
   "outputs": [],
   "source": [
    "prepared_data = pyLDAvis.prepare(\n",
    "    topic_term_dists,\n",
    "    doc_topic_dists,\n",
    "    doc_lengths,\n",
    "    vocab,\n",
    "    term_frequency\n",
    "    \n",
    ")"
   ]
  },
  {
   "cell_type": "code",
   "execution_count": 42,
   "metadata": {
    "ExecuteTime": {
     "end_time": "2021-03-22T05:31:22.949467Z",
     "start_time": "2021-03-22T05:31:22.934254Z"
    }
   },
   "outputs": [
    {
     "data": {
      "text/html": [
       "\n",
       "<link rel=\"stylesheet\" type=\"text/css\" href=\"https://cdn.jsdelivr.net/gh/bmabey/pyLDAvis@3.2.2/pyLDAvis/js/ldavis.v1.0.0.css\">\n",
       "\n",
       "\n",
       "<div id=\"ldavis_el754321404274581657767674464450\"></div>\n",
       "<script type=\"text/javascript\">\n",
       "\n",
       "var ldavis_el754321404274581657767674464450_data = {\"mdsDat\": {\"x\": [-0.31691198362938117, 0.12399059825376554, -0.06661567701578111, 0.11810085834315132, 0.10864693453153175, 0.09971817040633538, -0.26510549162639874, 0.04536340558869734, 0.08595669604126824, 0.06685648910681108], \"y\": [0.04154598794899229, 0.09458320090132395, -0.296133558423676, 0.0804994893894477, 0.07293033093550291, 0.06824893383150327, 0.1390620129354153, -0.30823181564048785, 0.05954195870996102, 0.047953459412017146], \"topics\": [1, 2, 3, 4, 5, 6, 7, 8, 9, 10], \"cluster\": [1, 1, 1, 1, 1, 1, 1, 1, 1, 1], \"Freq\": [15.109658318493535, 12.0335451387713, 11.96926930206475, 10.996503972801655, 10.734924840504318, 9.60231514556859, 8.51076935272928, 8.351612966004634, 7.468123001420744, 5.223277961641187]}, \"tinfo\": {\"Term\": [\"\\ube0c\\uc774\\ub85c\\uadf8\", \"\\uac8c\\uc784\", \"\\uc601\\uc0c1\", \"\\uc77c\\uc0c1\", \"\\uc7ac\\ubbf8\\uc788\\ub2e4\", \"\\uc5ec\\ud589\", \"\\uc0ac\\ub78c\", \"\\uc18c\\ud1b5\", \"\\uac15\\uc544\\uc9c0\", \"\\uc88b\\uc544\\ud558\\ub2e4\", \"\\uad50\\uc721\", \"\\uc8fc\\uc81c\", \"\\uc815\\ubcf4\", \"\\uc790\\uc720\", \"\\uc6b4\\ub3d9\", \"\\ud65c\\ub3d9\", \"\\ub9cc\\ub4e4\\ub2e4\", \"\\ud328\\uc158\", \"\\ucf58\\ud150\\uce20\", \"\\uacf5\\uc720\", \"\\ud3b8\\uc9d1\", \"\\uc2dc\\uccad\\uc790\", \"\\uad00\\uc2ec\", \"\\ucd94\\uc5b5\", \"\\uc990\\uac70\\uc6c0\", \"\\uadc0\\uc5fd\\ub2e4\", \"\\uc74c\\uc545\", \"\\ub9ce\\uc774\", \"\\uc0dd\\ud65c\", \"\\ub77c\\uc774\\ube0c\", \"\\ud3b8\\uc9d1\", \"\\uad00\\ub828\", \"\\ubcf4\\uc774\\ub2e4\", \"\\uc790\\uc5f0\", \"\\uc9c1\\uc811\", \"\\uc5f0\\uc8fc\", \"\\uc601\\uc0c1\\ubbf8\", \"\\ub9ac\\ubdf0\", \"\\ub178\\ub825\", \"\\uae30\\uc874\", \"\\ubc30\\uacbd\\uc74c\\uc545\", \"\\uc2e0\\uacbd\", \"\\ucea0\\ud551\", \"\\uc544\\uc9c1\", \"\\uc2e4\\ub825\", \"\\ud658\\uacbd\", \"\\uc0b0\\ucc45\", \"\\uaca8\\uc6b8\\uc655\\uad6d\", \"\\uc2a4\\ud53c\\ub4dc\", \"\\ud398\\uc778\\ud305\", \"\\uc8fc\\uc2dd\", \"\\ud1a0\\ud06c\", \"\\uc778\\ucc9c\", \"\\ub3d9\\ub124\", \"\\uc2e0\\uaddc\", \"\\ub3d9\\ubb3c\", \"\\ubaa8\\ub4e0\", \"\\uc560\\ucc29\", \"\\ud64d\\ubcf4\", \"\\uc5f0\\uc2b5\", \"\\uc601\\uc0c1\", \"\\ubaa8\\uc2b5\", \"\\uc18c\\ud1b5\", \"\\uc88b\\uc544\\ud558\\ub2e4\", \"\\uc790\\uc720\", \"\\ud65c\\ub3d9\", \"\\uc2dc\\uccad\\uc790\", \"\\uc74c\\uc545\", \"\\ub9ce\\uc774\", \"\\uc2e4\\uc2dc\\uac04\", \"\\ubc29\\uc1a1\", \"\\ub178\\ub798\", \"\\uc544\\uc774\", \"\\ucc3d\\ub2e8\", \"\\ucc28\\ub7c9\", \"\\uc2dc\\uc2b9\", \"\\uc815\\uc131\", \"\\ub4e4\\uc5b4\\uac00\\ub2e4\", \"\\ubc34\\ub4dc\", \"\\ucc44\\ud305\", \"\\ubd80\\ub974\\ub2e4\", \"\\uc720\\ud22c\", \"\\uac00\\uc9c0\\ub2e4\", \"\\ub9e4\\ub2c8\\uc544\\uce35\", \"\\ud2b9\\uc9d5\", \"\\ud6c4\\uc6d0\", \"\\ud14c\\uc774\\ube14\", \"\\uae30\\uc5b5\", \"\\uc804\\ubc18\\uc801\", \"\\uc8fc\\uc758\", \"\\uc601\\uc0c1\\uad6c\\ub3c4\", \"\\uac19\\uc774\", \"\\uac8c\\uc784\", \"\\uc990\\uae30\\ub2e4\", \"\\ud3b8\\uc9d1\", \"\\uc601\\uc0c1\", \"\\uacf5\\uc720\", \"\\uc0dd\\ud65c\", \"\\ub0b4\\uc6a9\", \"\\uac00\\uc7a5\", \"\\ucde8\\ubbf8\", \"\\ucc98\\uc74c\", \"\\uae30\\ub85d\", \"\\uc9c1\\uc7a5\", \"\\uc62c\\ub9ac\\ub2e4\", \"\\uc0ac\\ud68c\", \"\\uac74\\uac15\", \"\\ud3b8\\uc548\", \"\\ub2e4\\uc2dc\", \"\\ub808\\uace0\\ud504\\ub80c\\uc988\", \"\\uc2e4\\uccb4\", \"\\uc9c0\\uc774\", \"\\ub3d9\\ud638\\ud68c\", \"\\uace8\\ud504\", \"\\ubc29\\ubc95\", \"\\uc778\\uc0c1\", \"\\uc9c0\\uae08\", \"\\uacf5\\ub7b5\", \"\\uc811\\ud558\\ub2e4\", \"\\ubc00\\uc811\", \"\\uc774\\uc81c\", \"\\uc2dc\\uc791\", \"\\uae34\\uc7a5\\uac10\", \"\\uc124\\ub808\\ub2e4\", \"\\ub300\\ud559\\uc6d0\", \"\\uc9c0\\ub0b4\\ub2e4\", \"\\uac8c\\uc784\", \"\\uc815\\ubcf4\", \"\\ub77c\\uc774\\ube0c\", \"\\ub3c4\\uc6c0\", \"\\uc990\\uae30\\ub2e4\", \"\\uc81c\\ud488\", \"\\ube44\\uad50\", \"\\uc804\\ub2ec\\ub825\", \"\\uba54\\ucd94\\ub9ac\", \"\\uc81c\\uacf5\", \"\\uc54c\\ucc28\\ub2e4\", \"\\uc74c\\uc6d0\", \"\\ucee4\\ubc84\", \"\\ub808\\uace0\", \"\\ub098\\ub77c\", \"\\ucd5c\\ub300\\ud55c\", \"\\ud798\\ub4e4\\ub2e4\", \"\\ubb38\\ud654\", \"\\uc5b8\\uc5b4\", \"\\ub108\\ubb34\", \"\\uc138\\uc77c\", \"\\uac80\\ud1a0\", \"\\uc18c\\ube44\\uc790\", \"\\ud604\\uba85\", \"\\uc18c\\ube44\", \"\\ub4dc\\ub9ac\\ub2e4\", \"\\uad6c\\ub3c5\\uc790\", \"\\uc9c4\\uc9dc\", \"\\uc131\\uacf5\", \"\\ubd80\\uc790\", \"\\ub9cc\\ub4e4\\ub2e4\", \"\\ucd94\\uc5b5\", \"\\ubd84\\uc57c\", \"\\ub300\\ud558\\ub2e4\", \"\\uace0\\uc591\\uc774\", \"\\uc0ac\\uc6a9\", \"\\uc694\\ub9ac\", \"\\uc9c0\\uc2dd\", \"\\uc804\\ub2ec\", \"\\uacbd\\ud5d8\", \"\\uacf5\\uac10\\ub300\", \"\\ub208\\uc2f8\\uc6c0\", \"\\ub0a8\\uae30\\ub2e4\", \"\\uc544\\uae30\", \"\\uc74c\\uc2dd\", \"\\uc778\\uae30\", \"\\uac80\\uc0c9\\uc5b4\", \"\\ub0a8\\uc790\", \"\\uc5b4\\ub974\\uc2e0\", \"\\uc190\\uc27d\\ub2e4\", \"\\uc2e4\\ubb34\", \"\\ubc14\\ud0d5\", \"\\uc804\\uc790\\uc81c\\ud488\", \"\\uac1c\\ubd09\", \"\\ud2b9\\uc815\", \"\\uc790\\uc2e0\", \"\\ud2b9\\ubcc4\", \"\\uc218\\uc9d1\", \"\\uc601\\uc0c1\\uad6c\\ub3c4\", \"\\uac19\\uc774\", \"\\uc5ec\\ud589\", \"\\uc0ac\\ub78c\", \"\\uc8fc\\uc81c\", \"\\uc81c\\uc791\", \"\\uc218\\uc5c5\", \"\\ud568\\uaed8\", \"\\ub85c\\ub610\", \"\\uc628\\ub77c\\uc778\", \"\\ub2e4\\ub978\", \"\\uc721\\uc544\", \"\\ubca0\\uc774\\ube44\", \"\\ube14\\ub85c\\uadf8\", \"\\ud765\\ubbf8\", \"\\uad00\\uc2ec\\uac70\\ub9ac\", \"\\uc758\\ubbf8\", \"\\uae30\\ub150\", \"\\ud559\\uad50\", \"\\uacfc\\uc81c\", \"\\uc2dc\\uc5f0\", \"\\ud589\\ubcf5\\uac10\", \"\\uc5ed\\uc0ac\", \"\\ucee8\\uc149\", \"\\uc0dd\\uac01\", \"\\uc601\\uc0c1\\uae30\\ubc95\", \"\\uae30\\uc6b8\\uc774\\ub2e4\", \"\\ubc18\\uc751\", \"\\uc7a5\\uc18c\", \"\\uc804\\ubc18\\uc801\", \"\\uc8fc\\uc758\", \"\\uc601\\uc0c1\\uad6c\\ub3c4\", \"\\uc601\\uc0c1\", \"\\uc18c\\ud1b5\", \"\\uc990\\uae30\\ub2e4\", \"\\ud328\\uc158\", \"\\uad00\\uc2ec\", \"\\uc990\\uac70\\uc6c0\", \"\\uc5c5\\ub85c\\ub4dc\", \"\\uacf5\\uac10\", \"\\uba39\\ubc29\", \"\\uac00\\uc871\", \"\\ub3d9\\uae30\", \"\\ub3d9\\ucc3d\", \"\\uc2a4\\ud0c0\\uc77c\", \"\\uc0c8\\ub86d\\ub2e4\", \"\\uba54\\ub274\", \"\\ub531\\ud788\", \"\\uad6c\\ub3c5\\uc790\\uc218\", \"\\uc5bd\\ub9e4\\uc774\\ub2e4\", \"\\ud574\\uc678\", \"\\uc18c\\uac1c\", \"\\ud328\\uc158\\uc1fc\", \"\\uba4b\\uc9c0\\ub2e4\", \"\\ud48d\\uacbd\", \"\\ud3c9\\uc18c\", \"\\ud558\\uc6b8\", \"\\uc2dc\\uac04\", \"\\ub4e4\\uc774\\ub2e4\", \"\\uc601\\uc0c1\", \"\\uc804\\ubc18\\uc801\", \"\\uc8fc\\uc758\", \"\\uc601\\uc0c1\\uad6c\\ub3c4\", \"\\uac19\\uc774\", \"\\uc791\\uc5c5\", \"\\uc6b4\\ub3d9\", \"\\uc0ac\\ub78c\", \"\\ucd94\\uc5b5\", \"\\ube0c\\uc774\\ub85c\\uadf8\", \"\\uc77c\\uc0c1\", \"\\ube0c\\uc774\\ub85c\\uadf8\", \"\\uac15\\uc544\\uc9c0\", \"\\uadc0\\uc5fd\\ub2e4\", \"\\ubc18\\ub824\\uacac\", \"\\ub098\\uc624\\ub2e4\", \"\\uacfc\\uc678\", \"\\uac1c\\uc778\", \"\\uc2dd\\ubb3c\", \"\\ud0a4\\uc6b0\\ub2e4\", \"\\ud1a0\\ud0b9\", \"\\ud3b8\\ud558\\ub2e4\", \"\\ucfe0\\ub9ac\\ucf54\", \"\\uc5b8\\ub355\", \"\\uc815\\uc5fd\", \"\\uc774\\ubcc4\", \"\\uc5ec\\ub984\", \"\\uc0dd\\uc77c\\ub0a0\", \"\\uc800\\uc7a5\", \"\\uc77c\\uc0c1\", \"\\uc804\\ubc18\\uc801\", \"\\uc8fc\\uc758\", \"\\uc601\\uc0c1\\uad6c\\ub3c4\", \"\\uac19\\uc774\", \"\\uc791\\uc5c5\", \"\\uc601\\uc0c1\\uae30\\ubc95\", \"\\uae30\\uc6b8\\uc774\\ub2e4\", \"\\ubc18\\uc751\", \"\\uc7a5\\uc18c\", \"\\uad00\\ud558\\ub2e4\", \"\\ub2e4\\ub8e8\\ub2e4\", \"\\uc2dc\\uccad\\uc790\", \"\\uc9c1\\uc7a5\", \"\\uae30\\ub85d\", \"\\uc601\\uc0c1\", \"\\uac8c\\uc784\", \"\\ud3b8\\uc9d1\", \"\\uc7ac\\ubbf8\\uc788\\ub2e4\", \"\\uc88b\\uc544\\ud558\\ub2e4\", \"\\ub9cc\\ub4e4\\ub2e4\", \"\\uc0ac\\ub78c\", \"\\uc815\\ubcf4\", \"\\uc7ac\\ubbf8\\uc788\\ub2e4\", \"\\uad50\\uc721\", \"\\uc5b4\\ub9ac\\ub2e4\", \"\\ucd2c\\uc601\", \"\\uc694\\uc18c\", \"\\ubca0\\uc774\\ud0b9\", \"\\uc601\\ud654\", \"\\ucc44\\ub110\", \"\\uc0dd\\ubc29\\uc1a1\", \"\\ud65c\\uae30\\ucc28\\ub2e4\", \"\\ub3d9\\ub8cc\", \"\\ub9ac\\uc561\\uc158\", \"\\uc81c\\uc77c\", \"\\ud50c\\ub808\\uc774\", \"\\ub290\\ub07c\\ub2e4\", \"\\uc9d1\\uc911\", \"\\uc870\\uae08\", \"\\uc7ac\\ubbf8\", \"\\ub9e4\\ub044\\ub7fd\\ub2e4\", \"\\ud758\\ub7ec\\uac00\\ub2e4\", \"\\uad6c\\ub3c4\", \"\\uad00\\ud558\\ub2e4\", \"\\ub2e4\\ub8e8\\ub2e4\", \"\\uc804\\ubc18\\uc801\", \"\\uc8fc\\uc758\", \"\\uc601\\uc0c1\\uad6c\\ub3c4\", \"\\uac19\\uc774\", \"\\uc791\\uc5c5\", \"\\uc601\\uc0c1\\uae30\\ubc95\", \"\\uae30\\uc6b8\\uc774\\ub2e4\", \"\\ube0c\\uc774\\ub85c\\uadf8\", \"\\ud65c\\ub3d9\", \"\\uc9c1\\uc7a5\", \"\\ud3b8\\uc9d1\", \"\\uc601\\uc0c1\", \"\\uc77c\\uc0c1\", \"\\uac8c\\uc784\", \"\\uc6b4\\ub3d9\", \"\\ucf58\\ud150\\uce20\", \"\\uc704\\ud558\\ub2e4\", \"\\uad6c\\uc785\", \"\\ub2e4\\uc774\\uc5b4\\ud2b8\", \"\\ud5ec\\uc2a4\\uc7a5\", \"\\uc7a5\\ub09c\\uac10\", \"\\uc5b8\\ubc15\\uc2f1\", \"\\ub2e4\\uc591\", \"\\uc811\\uadfc\\uc131\", \"\\uc6a9\\uc774\", \"\\uacbd\\uc81c\", \"\\uc7ac\\uac74\\ucd95\", \"\\ud604\\uc7a5\", \"\\ub9c8\\uc9c0\\ub9c9\", \"\\ucca0\\uac70\", \"\\uc774\\ub8e8\\uc5b4\\uc9c0\\ub2e4\", \"\\ub9c8\\uc74c\", \"\\uc544\\ud504\\ub2e4\", \"\\uc804\\ubc18\\uc801\", \"\\uc8fc\\uc758\", \"\\uc601\\uc0c1\\uad6c\\ub3c4\", \"\\uac19\\uc774\", \"\\uc791\\uc5c5\", \"\\uc601\\uc0c1\\uae30\\ubc95\", \"\\uae30\\uc6b8\\uc774\\ub2e4\", \"\\ubc18\\uc751\", \"\\uc7a5\\uc18c\", \"\\uad00\\ud558\\ub2e4\", \"\\ub2e4\\ub8e8\\ub2e4\", \"\\uac00\\uc871\", \"\\uc601\\uc0c1\", \"\\ube0c\\uc774\\ub85c\\uadf8\", \"\\uc77c\\uc0c1\", \"\\uac8c\\uc784\", \"\\ud3b8\\uc9d1\", \"\\uc7ac\\ubbf8\\uc788\\ub2e4\", \"\\uc88b\\uc544\\ud558\\ub2e4\", \"\\ub9cc\\ub4e4\\ub2e4\", \"\\uc0ac\\ub78c\", \"\\uc815\\ubcf4\"], \"Freq\": [6.0, 5.0, 8.0, 5.0, 4.0, 4.0, 4.0, 4.0, 3.0, 4.0, 3.0, 3.0, 4.0, 4.0, 2.0, 4.0, 3.0, 3.0, 2.0, 3.0, 4.0, 3.0, 3.0, 3.0, 3.0, 2.0, 3.0, 3.0, 3.0, 3.0, 4.222388788589881, 3.0279205026313543, 2.842135589619938, 2.30748012769032, 2.30748012769032, 2.30748012769032, 2.2048472013338163, 2.2048472013338163, 1.7707913497135728, 1.6648058140698594, 1.6648058140698594, 1.6648058140698594, 1.5572258979535851, 1.5572258979535851, 1.381773900036278, 1.381773900036278, 1.381773900036278, 1.381773900036278, 1.381773900036278, 1.381773900036278, 1.381773900036278, 1.381773900036278, 1.381773900036278, 1.381773900036278, 1.2791411045490568, 1.2791411045490568, 1.2791411045490568, 1.2791411045490568, 1.2791411045490568, 1.2063220329882538, 7.333627743603891, 2.521045448581025, 4.506146457382099, 4.372610671114258, 4.1175626265379295, 3.997216450327302, 3.738469211451967, 3.477357915180879, 3.4522752682964652, 2.8300270539136623, 2.7244013613617306, 2.269145525436021, 2.0136342998762373, 1.4220695326721589, 1.3164437358940835, 1.3164437358940835, 1.3164437358940835, 1.3164437358940835, 1.3164437358940835, 1.3164437358940835, 1.3164437358940835, 1.1833710263835537, 1.1833710263835537, 1.0302494800601503, 0.9553067135562242, 0.9553067135562242, 0.93445523120924, 0.93445523120924, 0.002605052261299577, 0.002605052261299577, 0.002605052261299577, 0.002605052261299577, 0.0026053008162247563, 0.0026051764369788228, 0.0026051143491392, 0.002605052261299577, 3.7434505106650033, 3.396117483758202, 3.1125009335401574, 2.981010358610189, 2.7581258494842706, 2.573464467124667, 2.2612874031811407, 2.2133767827104123, 1.9320840864709021, 1.9246814670387444, 1.6166424721265882, 1.6166424721265882, 1.434496110177372, 1.434496110177372, 1.434496110177372, 1.3279473637937838, 1.2523497482281558, 1.2523497482281558, 1.2523497482281558, 1.2523497482281558, 1.1937117259847276, 1.1937117259847276, 1.1458010018445675, 1.1458010018445675, 1.1052931044754284, 1.1052931044754284, 1.1052931044754284, 1.1052931044754284, 1.0115653640355116, 1.0115653640355116, 5.89641703531112, 3.977800175987262, 3.1830240752638166, 2.7260371750727312, 2.05195429559897, 1.8431940728849276, 1.8431940728849276, 1.466985720825727, 1.3017011546228574, 1.3017011546228574, 1.3017011546228574, 1.3017011546228574, 1.3017011546228574, 1.3017011546228574, 1.3017011546228574, 1.3017011546228574, 1.3017011546228574, 1.2050159028286385, 1.2050159028286385, 1.083206802648903, 1.083206802648903, 0.9711319269730987, 0.9711319269730987, 0.9711319269730987, 0.9711319269730987, 0.9711319269730987, 0.9179221412020141, 0.9179221412020141, 0.9179221412020141, 0.9179221412020141, 3.7728661469376665, 3.4222416102611133, 2.7851706942908967, 2.746623335659755, 2.5148371004914702, 2.233179109002218, 2.102215493832334, 1.9817178997268317, 1.9817178997268317, 1.8777661845212539, 1.5772359944647698, 1.5772359944647698, 1.2955779099971139, 1.2955779099971139, 1.2955779099971139, 1.2218230699838055, 1.2218230699838055, 1.1646143878056334, 1.1646143878056334, 1.1646143878056334, 1.1178714477566316, 1.1178714477566316, 1.1178714477566316, 1.1178714477566316, 1.013919825529458, 1.013919825529458, 1.013919825529458, 0.9196440009113326, 0.8223518638900444, 0.8223518638900444, 4.699183054006611, 4.426563926001424, 3.791709581064725, 2.6597614133975527, 2.1639433959429977, 1.8077866343176048, 1.5805366056902692, 1.4024583080461044, 1.4024583080461044, 1.4024583080461044, 1.4024583080461044, 1.4024583080461044, 1.4024583080461044, 1.224379927233408, 1.167051525674584, 1.167051525674584, 1.1202108422972457, 1.1202108422972457, 1.1202108422972457, 1.1202108422972457, 1.046301629589243, 1.046301629589243, 1.046301629589243, 0.8240727347248203, 0.8240727347248203, 0.8240727347248203, 0.8240727347248203, 0.0025691269491919986, 0.0025691269491919986, 0.0025691269491919986, 0.0025707194966227754, 0.0025694943851659294, 0.0025692494278499755, 3.352976916162875, 3.129950094371924, 3.0803403528681113, 2.74291361459802, 2.6549741926362778, 2.387569872212154, 2.050143428799368, 1.3287041198429947, 1.3287041198429947, 1.3287041198429947, 1.2300131685539164, 1.2300131685539164, 1.061299873133197, 1.061299873133197, 1.061299873133197, 1.061299873133197, 1.061299873133197, 1.061299873133197, 1.061299873133197, 1.061299873133197, 0.9912775290015562, 0.9912775290015562, 0.9912775290015562, 0.9912775290015562, 0.6709275252433742, 0.002434018542999521, 0.002434018542999521, 0.002434018542999521, 0.002434018542999521, 0.002434018542999521, 0.002434250915894868, 0.002434134873420488, 0.002434134873420488, 0.002434018542999521, 0.002434018542999521, 6.824125847503467, 3.7543690678781534, 2.9768469099957917, 2.48225649374517, 2.1167508038398015, 1.3265640897246562, 1.3265640897246562, 1.2280319904364816, 1.2280319904364816, 1.2280319904364816, 1.2280319904364816, 1.103896408898693, 1.103896408898693, 1.103896408898693, 1.103896408898693, 1.103896408898693, 1.103896408898693, 1.0595904267716376, 4.815190722726317, 0.002430098304105831, 0.002430098304105831, 0.002430098304105831, 0.002430098304105831, 0.002430098304105831, 0.002430098304105831, 0.002430098304105831, 0.002430098304105831, 0.002430098304105831, 0.002430098304105831, 0.002430098304105831, 0.0024302141544504823, 0.0024302141544504823, 0.0024302141544504823, 0.002430098304105831, 0.002430098304105831, 0.002430098304105831, 0.002430098304105831, 0.002430098304105831, 0.002430098304105831, 0.002430098304105831, 0.002430098304105831, 4.3819433854473875, 3.42724474482419, 2.2587508470075273, 2.094317755576276, 1.78076206409873, 1.459427645834426, 1.2949946837704815, 1.2949946837704815, 1.2949946837704815, 1.2949946837704815, 1.1305615923392305, 1.1305615923392305, 1.1305615923392305, 1.1305615923392305, 1.0776259781466877, 1.0776259781466877, 1.0343744771181715, 1.0343744771181715, 1.0343744771181715, 1.0343744771181715, 1.0343744771181715, 0.8509531111387525, 0.8509531111387525, 0.0023722671758583326, 0.0023722671758583326, 0.0023722671758583326, 0.0023722671758583326, 0.0023722671758583326, 0.0023722671758583326, 0.0023722671758583326, 0.002373115390797228, 0.002372493315974601, 0.0023723801195812064, 0.00237232377405503, 0.0023722671758583326, 0.0023722671758583326, 0.0023722671758583326, 2.8760994309549246, 2.6647682381794744, 1.7667311892485154, 1.3255311067604767, 1.1761841166284017, 1.1761841166284017, 1.1761841166284017, 1.1761841166284017, 1.026837216977081, 1.026837216977081, 1.026837216977081, 0.9787581871324, 0.9062612066105976, 0.9062612066105976, 0.9062612066105976, 0.9062612066105976, 0.9062612066105976, 0.9062612066105976, 0.9062612066105976, 0.002154621205942761, 0.002154621205942761, 0.002154621205942761, 0.002154621205942761, 0.002154621205942761, 0.002154621205942761, 0.002154621205942761, 0.002154621205942761, 0.002154621205942761, 0.002154621205942761, 0.002154621205942761, 0.0021547240571126664, 0.002154621205942761, 0.002154621205942761, 0.002154621205942761, 0.002154621205942761, 0.002154621205942761, 0.002154621205942761, 0.002154621205942761, 0.002154621205942761, 0.002154621205942761, 0.002154621205942761], \"Total\": [6.0, 5.0, 8.0, 5.0, 4.0, 4.0, 4.0, 4.0, 3.0, 4.0, 3.0, 3.0, 4.0, 4.0, 2.0, 4.0, 3.0, 3.0, 2.0, 3.0, 4.0, 3.0, 3.0, 3.0, 3.0, 2.0, 3.0, 3.0, 3.0, 3.0, 4.244530222243064, 3.0500618175985013, 2.864276904587085, 2.329621442657467, 2.329621442657467, 2.329621442657467, 2.2269885163009633, 2.2269885163009633, 1.7929326646807202, 1.6869471290370068, 1.6869471290370068, 1.6869471290370068, 1.5793672129207326, 1.5793672129207326, 1.4039152150034255, 1.4039152150034255, 1.4039152150034255, 1.4039152150034255, 1.4039152150034255, 1.4039152150034255, 1.4039152150034255, 1.4039152150034255, 1.4039152150034255, 1.4039152150034255, 1.3012824195162043, 1.3012824195162043, 1.3012824195162043, 1.3012824195162043, 1.3012824195162043, 1.2284633479554012, 8.024264157818845, 3.1878315874911443, 4.528214323362767, 4.3946781696589525, 4.139630125082624, 4.019284175012113, 3.760536825847006, 3.4994254137255734, 3.474342889056913, 2.8520945524583565, 2.746468859906425, 2.291213023980715, 2.0357017984209316, 1.4441370312168536, 1.3385112344387782, 1.3385112344387782, 1.3385112344387782, 1.3385112344387782, 1.3385112344387782, 1.3385112344387782, 1.3385112344387782, 1.2054385249282484, 1.2054385249282484, 1.052316978604845, 0.9773742121009189, 0.9773742121009189, 0.9565227297539347, 0.9565227297539347, 0.8340601692476919, 0.8340601692476919, 0.8444606528823821, 0.8444606528823821, 5.918705282152054, 2.074242661184436, 4.244530222243064, 8.024264157818845, 3.7654952452768895, 3.4181622183700884, 3.1345456681520436, 3.003055093222075, 2.780170584096157, 2.595509201736553, 2.28333237612203, 2.2354217461163666, 1.9541288210827892, 1.9467262016506315, 1.6386872067384752, 1.6386872067384752, 1.4565408447892592, 1.4565408447892592, 1.4565408447892592, 1.3499920984056708, 1.2743944828400429, 1.2743944828400429, 1.2743944828400429, 1.2743944828400429, 1.2157564605966147, 1.2157564605966147, 1.1678457364564545, 1.1678457364564545, 1.1273378390873154, 1.1273378390873154, 1.1273378390873154, 1.1273378390873154, 1.0336100986473986, 1.0336100986473986, 5.918705282152054, 4.00008817427327, 3.205312073549825, 2.7483251733587397, 2.074242661184436, 1.8654820711709366, 1.8654820711709366, 1.489273719111736, 1.3239891529088663, 1.3239891529088663, 1.3239891529088663, 1.3239891529088663, 1.3239891529088663, 1.3239891529088663, 1.3239891529088663, 1.3239891529088663, 1.3239891529088663, 1.2273039011146474, 1.2273039011146474, 1.105494800934912, 1.105494800934912, 0.9934199252591074, 0.9934199252591074, 0.9934199252591074, 0.9934199252591074, 0.9934199252591074, 0.9402101394880228, 0.9402101394880228, 0.9402101394880228, 0.9402101394880228, 3.7949749359300036, 3.444350515583871, 2.8072794832832337, 2.768732124652092, 2.5369458894838073, 2.255287897994555, 2.124324282824671, 2.0038266887191694, 2.0038266887191694, 1.8998749735135918, 1.5993447834571077, 1.5993447834571077, 1.3176866989894518, 1.3176866989894518, 1.3176866989894518, 1.2439318589761434, 1.2439318589761434, 1.1867231767979713, 1.1867231767979713, 1.1867231767979713, 1.1399802367489695, 1.1399802367489695, 1.1399802367489695, 1.1399802367489695, 1.0360286145217958, 1.0360286145217958, 1.0360286145217958, 0.9417527899036703, 0.8444606528823821, 0.8444606528823821, 4.721286477863413, 4.448667466188647, 3.8138130049215273, 2.6818648372543548, 2.1860469420155533, 1.829890058174407, 1.6026400295470715, 1.4245617319029067, 1.4245617319029067, 1.4245617319029067, 1.4245617319029067, 1.4245617319029067, 1.4245617319029067, 1.2464833510902102, 1.1891549495313862, 1.1891549495313862, 1.142314266154048, 1.142314266154048, 1.142314266154048, 1.142314266154048, 1.0684050534460454, 1.0684050534460454, 1.0684050534460454, 0.8461761585816225, 0.8461761585816225, 0.8461761585816225, 0.8461761585816225, 0.8340601692476919, 0.8340601692476919, 0.8444606528823821, 8.024264157818845, 4.528214323362767, 2.074242661184436, 3.375215448425869, 3.1521886266349184, 3.102578998977472, 2.7651521468610145, 2.677212724899272, 2.4098084044751484, 2.072382184558652, 1.3509426521059895, 1.3509426521059895, 1.3509426521059895, 1.2522517008169112, 1.2522517008169112, 1.0835384053961918, 1.0835384053961918, 1.0835384053961918, 1.0835384053961918, 1.0835384053961918, 1.0835384053961918, 1.0835384053961918, 1.0835384053961918, 1.0135160612645508, 1.0135160612645508, 1.0135160612645508, 1.0135160612645508, 8.024264157818845, 0.8340601692476919, 0.8340601692476919, 0.8444606528823821, 0.8444606528823821, 0.8444606528823821, 2.8986175929278715, 4.448667466188647, 3.444350515583871, 6.846369148220294, 5.299931637221961, 6.846369148220294, 3.7766115203800417, 2.99908936249768, 2.504499060093425, 2.13899325634169, 1.3488065422265445, 1.3488065422265445, 1.2502744429383699, 1.2502744429383699, 1.2502744429383699, 1.2502744429383699, 1.1261388614005812, 1.1261388614005812, 1.1261388614005812, 1.1261388614005812, 1.1261388614005812, 1.1261388614005812, 1.081832879273526, 5.299931637221961, 0.8340601692476919, 0.8340601692476919, 0.8444606528823821, 0.8444606528823821, 0.8444606528823821, 0.8461761585816225, 0.8461761585816225, 0.8461761585816225, 0.8461761585816225, 0.8732533947688884, 0.8732533947688884, 3.760536825847006, 2.2354217461163666, 2.28333237612203, 8.024264157818845, 5.918705282152054, 4.244530222243064, 4.404243669077523, 4.3946781696589525, 3.7949749359300036, 4.448667466188647, 4.00008817427327, 4.404243669077523, 3.449545150670079, 2.281051130637663, 2.116618039206412, 1.8030623477288659, 1.4817279294645618, 1.3172949674006174, 1.3172949674006174, 1.3172949674006174, 1.3172949674006174, 1.1528618759693663, 1.1528618759693663, 1.1528618759693663, 1.1528618759693663, 1.0999262617768235, 1.0999262617768235, 1.0566747607483074, 1.0566747607483074, 1.0566747607483074, 1.0566747607483074, 1.0566747607483074, 0.8732533947688884, 0.8732533947688884, 0.8340601692476919, 0.8340601692476919, 0.8444606528823821, 0.8444606528823821, 0.8444606528823821, 0.8461761585816225, 0.8461761585816225, 6.846369148220294, 4.019284175012113, 2.2354217461163666, 4.244530222243064, 8.024264157818845, 5.299931637221961, 5.918705282152054, 2.8986175929278715, 2.6872861677795257, 1.7892491188485669, 1.3480490363605282, 1.1987020462284532, 1.1987020462284532, 1.1987020462284532, 1.1987020462284532, 1.0493551465771325, 1.0493551465771325, 1.0493551465771325, 1.0012761167324515, 0.928779136210649, 0.928779136210649, 0.928779136210649, 0.928779136210649, 0.928779136210649, 0.928779136210649, 0.928779136210649, 0.8340601692476919, 0.8340601692476919, 0.8444606528823821, 0.8444606528823821, 0.8444606528823821, 0.8461761585816225, 0.8461761585816225, 0.8461761585816225, 0.8461761585816225, 0.8732533947688884, 0.8732533947688884, 2.072382184558652, 8.024264157818845, 6.846369148220294, 5.299931637221961, 5.918705282152054, 4.244530222243064, 4.404243669077523, 4.3946781696589525, 3.7949749359300036, 4.448667466188647, 4.00008817427327], \"Category\": [\"Default\", \"Default\", \"Default\", \"Default\", \"Default\", \"Default\", \"Default\", \"Default\", \"Default\", \"Default\", \"Default\", \"Default\", \"Default\", \"Default\", \"Default\", \"Default\", \"Default\", \"Default\", \"Default\", \"Default\", \"Default\", \"Default\", \"Default\", \"Default\", \"Default\", \"Default\", \"Default\", \"Default\", \"Default\", \"Default\", \"Topic1\", \"Topic1\", \"Topic1\", \"Topic1\", \"Topic1\", \"Topic1\", \"Topic1\", \"Topic1\", \"Topic1\", \"Topic1\", \"Topic1\", \"Topic1\", \"Topic1\", \"Topic1\", \"Topic1\", \"Topic1\", \"Topic1\", \"Topic1\", \"Topic1\", \"Topic1\", \"Topic1\", \"Topic1\", \"Topic1\", \"Topic1\", \"Topic1\", \"Topic1\", \"Topic1\", \"Topic1\", \"Topic1\", \"Topic1\", \"Topic1\", \"Topic1\", \"Topic2\", \"Topic2\", \"Topic2\", \"Topic2\", \"Topic2\", \"Topic2\", \"Topic2\", \"Topic2\", \"Topic2\", \"Topic2\", \"Topic2\", \"Topic2\", \"Topic2\", \"Topic2\", \"Topic2\", \"Topic2\", \"Topic2\", \"Topic2\", \"Topic2\", \"Topic2\", \"Topic2\", \"Topic2\", \"Topic2\", \"Topic2\", \"Topic2\", \"Topic2\", \"Topic2\", \"Topic2\", \"Topic2\", \"Topic2\", \"Topic2\", \"Topic2\", \"Topic2\", \"Topic2\", \"Topic3\", \"Topic3\", \"Topic3\", \"Topic3\", \"Topic3\", \"Topic3\", \"Topic3\", \"Topic3\", \"Topic3\", \"Topic3\", \"Topic3\", \"Topic3\", \"Topic3\", \"Topic3\", \"Topic3\", \"Topic3\", \"Topic3\", \"Topic3\", \"Topic3\", \"Topic3\", \"Topic3\", \"Topic3\", \"Topic3\", \"Topic3\", \"Topic3\", \"Topic3\", \"Topic3\", \"Topic3\", \"Topic3\", \"Topic3\", \"Topic4\", \"Topic4\", \"Topic4\", \"Topic4\", \"Topic4\", \"Topic4\", \"Topic4\", \"Topic4\", \"Topic4\", \"Topic4\", \"Topic4\", \"Topic4\", \"Topic4\", \"Topic4\", \"Topic4\", \"Topic4\", \"Topic4\", \"Topic4\", \"Topic4\", \"Topic4\", \"Topic4\", \"Topic4\", \"Topic4\", \"Topic4\", \"Topic4\", \"Topic4\", \"Topic4\", \"Topic4\", \"Topic4\", \"Topic4\", \"Topic5\", \"Topic5\", \"Topic5\", \"Topic5\", \"Topic5\", \"Topic5\", \"Topic5\", \"Topic5\", \"Topic5\", \"Topic5\", \"Topic5\", \"Topic5\", \"Topic5\", \"Topic5\", \"Topic5\", \"Topic5\", \"Topic5\", \"Topic5\", \"Topic5\", \"Topic5\", \"Topic5\", \"Topic5\", \"Topic5\", \"Topic5\", \"Topic5\", \"Topic5\", \"Topic5\", \"Topic5\", \"Topic5\", \"Topic5\", \"Topic6\", \"Topic6\", \"Topic6\", \"Topic6\", \"Topic6\", \"Topic6\", \"Topic6\", \"Topic6\", \"Topic6\", \"Topic6\", \"Topic6\", \"Topic6\", \"Topic6\", \"Topic6\", \"Topic6\", \"Topic6\", \"Topic6\", \"Topic6\", \"Topic6\", \"Topic6\", \"Topic6\", \"Topic6\", \"Topic6\", \"Topic6\", \"Topic6\", \"Topic6\", \"Topic6\", \"Topic6\", \"Topic6\", \"Topic6\", \"Topic6\", \"Topic6\", \"Topic6\", \"Topic7\", \"Topic7\", \"Topic7\", \"Topic7\", \"Topic7\", \"Topic7\", \"Topic7\", \"Topic7\", \"Topic7\", \"Topic7\", \"Topic7\", \"Topic7\", \"Topic7\", \"Topic7\", \"Topic7\", \"Topic7\", \"Topic7\", \"Topic7\", \"Topic7\", \"Topic7\", \"Topic7\", \"Topic7\", \"Topic7\", \"Topic7\", \"Topic7\", \"Topic7\", \"Topic7\", \"Topic7\", \"Topic7\", \"Topic7\", \"Topic7\", \"Topic7\", \"Topic7\", \"Topic7\", \"Topic7\", \"Topic8\", \"Topic8\", \"Topic8\", \"Topic8\", \"Topic8\", \"Topic8\", \"Topic8\", \"Topic8\", \"Topic8\", \"Topic8\", \"Topic8\", \"Topic8\", \"Topic8\", \"Topic8\", \"Topic8\", \"Topic8\", \"Topic8\", \"Topic8\", \"Topic8\", \"Topic8\", \"Topic8\", \"Topic8\", \"Topic8\", \"Topic8\", \"Topic8\", \"Topic8\", \"Topic8\", \"Topic8\", \"Topic8\", \"Topic8\", \"Topic8\", \"Topic8\", \"Topic8\", \"Topic8\", \"Topic8\", \"Topic8\", \"Topic8\", \"Topic8\", \"Topic8\", \"Topic8\", \"Topic8\", \"Topic9\", \"Topic9\", \"Topic9\", \"Topic9\", \"Topic9\", \"Topic9\", \"Topic9\", \"Topic9\", \"Topic9\", \"Topic9\", \"Topic9\", \"Topic9\", \"Topic9\", \"Topic9\", \"Topic9\", \"Topic9\", \"Topic9\", \"Topic9\", \"Topic9\", \"Topic9\", \"Topic9\", \"Topic9\", \"Topic9\", \"Topic9\", \"Topic9\", \"Topic9\", \"Topic9\", \"Topic9\", \"Topic9\", \"Topic9\", \"Topic9\", \"Topic9\", \"Topic9\", \"Topic9\", \"Topic9\", \"Topic9\", \"Topic9\", \"Topic10\", \"Topic10\", \"Topic10\", \"Topic10\", \"Topic10\", \"Topic10\", \"Topic10\", \"Topic10\", \"Topic10\", \"Topic10\", \"Topic10\", \"Topic10\", \"Topic10\", \"Topic10\", \"Topic10\", \"Topic10\", \"Topic10\", \"Topic10\", \"Topic10\", \"Topic10\", \"Topic10\", \"Topic10\", \"Topic10\", \"Topic10\", \"Topic10\", \"Topic10\", \"Topic10\", \"Topic10\", \"Topic10\", \"Topic10\", \"Topic10\", \"Topic10\", \"Topic10\", \"Topic10\", \"Topic10\", \"Topic10\", \"Topic10\", \"Topic10\", \"Topic10\", \"Topic10\", \"Topic10\"], \"logprob\": [30.0, 29.0, 28.0, 27.0, 26.0, 25.0, 24.0, 23.0, 22.0, 21.0, 20.0, 19.0, 18.0, 17.0, 16.0, 15.0, 14.0, 13.0, 12.0, 11.0, 10.0, 9.0, 8.0, 7.0, 6.0, 5.0, 4.0, 3.0, 2.0, 1.0, -2.8118, -3.1443, -3.2076, -3.416, -3.416, -3.416, -3.4615, -3.4615, -3.6808, -3.7425, -3.7425, -3.7425, -3.8093, -3.8093, -3.9288, -3.9288, -3.9288, -3.9288, -3.9288, -3.9288, -3.9288, -3.9288, -3.9288, -3.9288, -4.006, -4.006, -4.006, -4.006, -4.006, -4.0646, -2.2597, -3.3275, -2.5191, -2.5492, -2.6093, -2.639, -2.7059, -2.7783, -2.7855, -2.9843, -3.0223, -3.2052, -3.3246, -3.6725, -3.7496, -3.7496, -3.7496, -3.7496, -3.7496, -3.7496, -3.7496, -3.8562, -3.8562, -3.9948, -4.0703, -4.0703, -4.0924, -4.0924, -9.9749, -9.9749, -9.9749, -9.9749, -9.9748, -9.9748, -9.9748, -9.9749, -2.6992, -2.7966, -2.8838, -2.9269, -3.0047, -3.074, -3.2033, -3.2247, -3.3606, -3.3644, -3.5389, -3.5389, -3.6584, -3.6584, -3.6584, -3.7356, -3.7942, -3.7942, -3.7942, -3.7942, -3.8421, -3.8421, -3.8831, -3.8831, -3.9191, -3.9191, -3.9191, -3.9191, -4.0077, -4.0077, -2.1601, -2.5537, -2.7766, -2.9316, -3.2157, -3.3229, -3.3229, -3.5512, -3.6708, -3.6708, -3.6708, -3.6708, -3.6708, -3.6708, -3.6708, -3.6708, -3.6708, -3.748, -3.748, -3.8545, -3.8545, -3.9637, -3.9637, -3.9637, -3.9637, -3.9637, -4.0201, -4.0201, -4.0201, -4.0201, -2.5825, -2.6801, -2.8861, -2.9, -2.9882, -3.1069, -3.1674, -3.2264, -3.2264, -3.2803, -3.4547, -3.4547, -3.6514, -3.6514, -3.6514, -3.71, -3.71, -3.758, -3.758, -3.758, -3.7989, -3.7989, -3.7989, -3.7989, -3.8965, -3.8965, -3.8965, -3.9941, -4.106, -4.106, -2.2515, -2.3112, -2.4661, -2.8206, -3.0269, -3.2068, -3.3411, -3.4606, -3.4606, -3.4606, -3.4606, -3.4606, -3.4606, -3.5964, -3.6444, -3.6444, -3.6854, -3.6854, -3.6854, -3.6854, -3.7536, -3.7536, -3.7536, -3.9924, -3.9924, -3.9924, -3.9924, -9.7631, -9.7631, -9.7631, -9.7624, -9.7629, -9.763, -2.4684, -2.5372, -2.5532, -2.6692, -2.7018, -2.8079, -2.9603, -3.394, -3.394, -3.394, -3.4712, -3.4712, -3.6187, -3.6187, -3.6187, -3.6187, -3.6187, -3.6187, -3.6187, -3.6187, -3.687, -3.687, -3.687, -3.687, -4.0773, -9.6964, -9.6964, -9.6964, -9.6964, -9.6964, -9.6963, -9.6964, -9.6964, -9.6964, -9.6964, -1.7389, -2.3364, -2.5685, -2.7502, -2.9094, -3.3767, -3.3767, -3.4539, -3.4539, -3.4539, -3.4539, -3.5605, -3.5605, -3.5605, -3.5605, -3.5605, -3.5605, -3.6014, -2.0875, -9.6791, -9.6791, -9.6791, -9.6791, -9.6791, -9.6791, -9.6791, -9.6791, -9.6791, -9.6791, -9.6791, -9.6791, -9.6791, -9.6791, -9.6791, -9.6791, -9.6791, -9.6791, -9.6791, -9.6791, -9.6791, -9.6791, -2.07, -2.3158, -2.7327, -2.8083, -2.9705, -3.1695, -3.289, -3.289, -3.289, -3.289, -3.4248, -3.4248, -3.4248, -3.4248, -3.4728, -3.4728, -3.5137, -3.5137, -3.5137, -3.5137, -3.5137, -3.7089, -3.7089, -9.5914, -9.5914, -9.5914, -9.5914, -9.5914, -9.5914, -9.5914, -9.5911, -9.5913, -9.5914, -9.5914, -9.5914, -9.5914, -9.5914, -2.1336, -2.2099, -2.6209, -2.9082, -3.0277, -3.0277, -3.0277, -3.0277, -3.1635, -3.1635, -3.1635, -3.2115, -3.2884, -3.2884, -3.2884, -3.2884, -3.2884, -3.2884, -3.2884, -9.3301, -9.3301, -9.3301, -9.3301, -9.3301, -9.3301, -9.3301, -9.3301, -9.3301, -9.3301, -9.3301, -9.3301, -9.3301, -9.3301, -9.3301, -9.3301, -9.3301, -9.3301, -9.3301, -9.3301, -9.3301, -9.3301], \"loglift\": [30.0, 29.0, 28.0, 27.0, 26.0, 25.0, 24.0, 23.0, 22.0, 21.0, 20.0, 19.0, 18.0, 17.0, 16.0, 15.0, 14.0, 13.0, 12.0, 11.0, 10.0, 9.0, 8.0, 7.0, 6.0, 5.0, 4.0, 3.0, 2.0, 1.0, 1.8846, 1.8826, 1.8821, 1.8803, 1.8803, 1.8803, 1.8798, 1.8798, 1.8774, 1.8766, 1.8766, 1.8766, 1.8757, 1.8757, 1.8739, 1.8739, 1.8739, 1.8739, 1.8739, 1.8739, 1.8739, 1.8739, 1.8739, 1.8739, 1.8727, 1.8727, 1.8727, 1.8727, 1.8727, 1.8716, 1.7998, 1.6552, 2.1126, 2.1124, 2.1121, 2.112, 2.1116, 2.1111, 2.1111, 2.1097, 2.1094, 2.1078, 2.1066, 2.1021, 2.1008, 2.1008, 2.1008, 2.1008, 2.1008, 2.1008, 2.1008, 2.099, 2.099, 2.0963, 2.0946, 2.0946, 2.0941, 2.0941, -3.6514, -3.6514, -3.6638, -3.6638, -5.6109, -4.5624, -5.2784, -5.9153, 2.117, 2.1164, 2.1158, 2.1155, 2.1149, 2.1143, 2.1131, 2.1129, 2.1115, 2.1114, 2.1093, 2.1093, 2.1076, 2.1076, 2.1076, 2.1064, 2.1054, 2.1054, 2.1054, 2.1054, 2.1045, 2.1045, 2.1038, 2.1038, 2.1031, 2.1031, 2.1031, 2.1031, 2.1013, 2.1013, 2.2038, 2.202, 2.2006, 2.1995, 2.1968, 2.1956, 2.1956, 2.1925, 2.1906, 2.1906, 2.1906, 2.1906, 2.1906, 2.1906, 2.1906, 2.1906, 2.1906, 2.1893, 2.1893, 2.1872, 2.1872, 2.1849, 2.1849, 2.1849, 2.1849, 2.1849, 2.1836, 2.1836, 2.1836, 2.1836, 2.2258, 2.2252, 2.2238, 2.2237, 2.2229, 2.2218, 2.2212, 2.2206, 2.2206, 2.22, 2.2177, 2.2177, 2.2147, 2.2147, 2.2147, 2.2137, 2.2137, 2.2129, 2.2129, 2.2129, 2.2121, 2.2121, 2.2121, 2.2121, 2.2101, 2.2101, 2.2101, 2.2079, 2.2051, 2.2051, 2.3385, 2.3382, 2.3374, 2.3349, 2.333, 2.331, 2.3293, 2.3275, 2.3275, 2.3275, 2.3275, 2.3275, 2.3275, 2.3253, 2.3244, 2.3244, 2.3236, 2.3236, 2.3236, 2.3236, 2.3223, 2.3223, 2.3223, 2.3167, 2.3167, 2.3167, 2.3167, -3.4396, -3.4396, -3.452, -5.7029, -5.1312, -4.3506, 2.4572, 2.4568, 2.4566, 2.4558, 2.4555, 2.4546, 2.453, 2.4472, 2.4472, 2.4472, 2.4459, 2.4459, 2.4431, 2.4431, 2.4431, 2.4431, 2.4431, 2.4431, 2.4431, 2.4431, 2.4417, 2.4417, 2.4417, 2.4417, -0.0177, -3.3729, -3.3729, -3.3853, -3.3853, -3.3853, -4.6185, -5.0469, -4.7911, -5.4781, -5.2221, 2.4795, 2.4768, 2.4753, 2.4738, 2.4723, 2.4661, 2.4661, 2.4648, 2.4648, 2.4648, 2.4648, 2.4628, 2.4628, 2.4628, 2.4628, 2.4628, 2.4628, 2.4619, 2.3868, -3.3557, -3.3557, -3.3681, -3.3681, -3.3681, -3.3701, -3.3701, -3.3701, -3.3701, -3.4016, -3.4016, -4.8616, -4.3415, -4.3627, -5.6196, -5.3152, -4.9827, -5.0197, -5.0175, -4.8708, -5.0297, -4.9234, 2.5895, 2.588, 2.5847, 2.5839, 2.5821, 2.5794, 2.5775, 2.5775, 2.5775, 2.5775, 2.575, 2.575, 2.575, 2.575, 2.574, 2.574, 2.5732, 2.5732, 2.5732, 2.5732, 2.5732, 2.5687, 2.5687, -3.2679, -3.2679, -3.2803, -3.2803, -3.2803, -3.2824, -3.2824, -5.3727, -4.8404, -4.2538, -4.895, -5.5319, -5.1171, -5.2275, 2.9442, 2.9436, 2.9394, 2.9352, 2.9331, 2.9331, 2.9331, 2.9331, 2.9304, 2.9304, 2.9304, 2.9293, 2.9275, 2.9275, 2.9275, 2.9275, 2.9275, 2.9275, 2.9275, -3.0066, -3.0066, -3.019, -3.019, -3.019, -3.0211, -3.0211, -3.0211, -3.0211, -3.0526, -3.0526, -3.9167, -5.2706, -5.1118, -4.8558, -4.9662, -4.6337, -4.6707, -4.6685, -4.5218, -4.6807, -4.5744]}, \"token.table\": {\"Topic\": [3, 7, 2, 8, 5, 5, 8, 3, 5, 4, 4, 1, 10, 5, 5, 3, 7, 5, 3, 3, 8, 6, 1, 7, 6, 9, 9, 9, 4, 7, 10, 8, 6, 3, 2, 6, 1, 3, 4, 8, 5, 5, 3, 4, 2, 1, 5, 9, 9, 6, 3, 10, 10, 5, 3, 4, 7, 1, 9, 1, 7, 3, 4, 2, 7, 7, 4, 4, 3, 6, 1, 9, 10, 10, 5, 2, 9, 2, 7, 7, 7, 4, 1, 1, 3, 4, 3, 5, 8, 6, 3, 2, 1, 2, 6, 9, 1, 2, 4, 5, 8, 6, 4, 6, 5, 3, 1, 7, 6, 9, 8, 3, 3, 4, 4, 7, 4, 4, 2, 5, 6, 5, 7, 1, 7, 2, 6, 3, 2, 8, 1, 1, 1, 5, 2, 3, 5, 2, 1, 10, 4, 1, 5, 9, 8, 10, 4, 7, 7, 8, 6, 6, 1, 1, 1, 7, 5, 6, 1, 9, 6, 3, 5, 9, 10, 10, 10, 2, 6, 5, 2, 4, 6, 10, 8, 3, 5, 3, 1, 8, 5, 1, 2, 5, 10, 6, 10, 9, 9, 8, 5, 4, 1, 5, 10, 3, 4, 2, 8, 4, 9, 6, 4, 9, 2, 1, 1, 6, 7, 4, 3, 3, 5, 3, 3, 1, 4, 9, 2, 2, 9, 2, 3, 10, 9, 4, 5, 3, 1, 4, 6, 10, 8, 8, 2, 1, 8, 5, 5, 2, 7, 7, 1, 3, 1, 8, 7, 7, 9, 7, 6, 6, 7, 6, 10, 4, 10, 1, 1, 9, 2, 2, 9, 6, 4], \"Freq\": [0.998982671603671, 0.9650729556073331, 0.8295736193262309, 1.0591505052649626, 1.18418779677504, 0.8772081898997044, 0.7413961666802479, 1.2204891768091946, 0.8039025552598041, 1.0066236589115891, 1.0137352197773881, 0.7122937263683405, 0.998725509665989, 1.0527008502571298, 1.1825242361043855, 0.7846863851540357, 1.1205684076198585, 1.25051209763341, 0.8225331572651192, 1.0622772675167371, 0.7413961666802479, 0.8754158375057394, 0.9835866219793807, 0.9517196955318675, 0.8022570049775404, 1.1451429859767746, 0.8696798763214465, 0.9463649905783953, 1.063592018423174, 0.9229022201888207, 0.7418127775973244, 1.0003036380021573, 0.840933303430367, 0.8759127759563254, 1.0454534627287422, 1.1817870190011264, 1.185573611392136, 0.8870455380168848, 0.7552931969291086, 0.9350193106361592, 0.7589057404669189, 0.8426565011548947, 0.9570765009043992, 0.9045723228678276, 0.8729000660642342, 1.1154908599739042, 1.25051209763341, 0.9091518538566373, 1.1451429859767746, 0.701970281529475, 0.6865581583774164, 0.9529662128802409, 0.8342356661076528, 1.0835284400714527, 0.967482807403506, 1.0915738898296694, 0.7402238714138578, 0.7122937263683405, 0.8674065999096078, 0.7684726889430995, 0.7402238714138578, 0.7846863851540357, 1.0066236589115891, 0.7470986976207847, 0.9866641864089583, 0.9229022201888207, 0.9359463076172656, 0.7552931969291086, 0.6865581583774164, 1.2479408745114322, 0.898073782312092, 0.8674065999096078, 1.0766822390949984, 1.0766822390949984, 1.0540254066315071, 0.8634726323210804, 0.9463649905783953, 0.9502840116917941, 0.829941499202131, 0.9229022201888207, 0.7985615027295601, 0.7552931969291086, 0.7684726889430995, 0.9410785725857715, 0.3136928575285905, 0.8147941183041885, 0.8562774763679475, 0.8772081898997044, 0.7985628870331436, 1.1817870190011264, 0.7846863851540357, 1.0923116747452266, 1.185573611392136, 0.7470986976207847, 0.701970281529475, 0.6748877308139563, 1.0473847675814991, 0.7470986976207847, 1.063592018423174, 1.06865027791653, 1.022439755796639, 0.701970281529475, 1.0721089368308045, 0.8991456498831011, 0.886804740884052, 1.027365840303684, 0.7122937263683405, 0.7985615027295601, 0.9359746069850465, 0.7591314206363917, 0.8879899577893067, 0.8776646069859481, 0.8870455380168848, 1.063592018423174, 0.9045723228678276, 0.9229022201888207, 1.0066236589115891, 1.0066236589115891, 1.104188018266519, 0.8426565011548947, 0.9148934368975552, 1.0618497876733528, 0.7402238714138578, 0.7122937263683405, 0.9866641864089583, 0.7470986976207847, 0.8754158375057394, 0.8870455380168848, 1.0636779229250224, 0.7998243950742687, 1.185573611392136, 0.7684726889430995, 0.7122937263683405, 0.8772081898997044, 1.0518585358308534, 0.6865581583774164, 0.7589057404669189, 0.982462166880913, 1.2663299476132526, 1.0766822390949984, 0.7552931969291086, 0.7684726889430995, 0.8426565011548947, 0.8767887633631887, 0.8879899577893067, 0.8342356661076528, 0.8147941183041885, 0.9229022201888207, 1.084931258992596, 0.8879899577893067, 1.0590333849562794, 0.9359746069850465, 0.814025100272104, 0.8585085814279515, 0.8723541327062617, 0.12462201895803739, 1.18418779677504, 1.1817870190011264, 0.898073782312092, 0.7591314206363917, 0.701970281529475, 1.023473979004001, 0.9414758453641742, 1.109223983585036, 0.9529662128802409, 1.0349761235560992, 1.1177873326477072, 0.8295736193262309, 0.701970281529475, 0.7589057404669189, 0.857283595253464, 0.7552931969291086, 0.840933303430367, 1.0766822390949984, 0.8879899577893067, 0.8870455380168848, 0.8039025552598041, 0.7846863851540357, 0.7122937263683405, 0.9434083950978706, 0.9652243055676356, 0.8585085814279515, 0.9662699031402384, 1.18418779677504, 0.8342356661076528, 1.1817870190011264, 1.0766822390949984, 0.9463649905783953, 0.9082149627833391, 0.924357189690446, 0.9980903095358934, 0.6714682379518797, 1.1989542683736871, 0.8772081898997044, 0.9529662128802409, 0.8562774763679475, 0.9999779569175906, 0.7470986976207847, 0.8879899577893067, 0.7552931969291086, 0.8674065999096078, 1.1186246071488624, 1.0721089368308045, 0.9463649905783953, 0.9101917923401474, 0.7122937263683405, 1.1989542683736871, 1.0488191200874841, 0.9669375061807356, 0.9642073405519286, 0.8225331572651192, 0.967482807403506, 0.9980903095358934, 0.7407450763459961, 0.8946857582801239, 0.8585085814279515, 1.063592018423174, 0.9091518538566373, 0.7470986976207847, 0.6924550637396117, 0.7591314206363917, 0.7470986976207847, 1.1558425599080204, 1.0766822390949984, 0.9449035976041593, 0.7552931969291086, 0.8709914935853889, 1.0790704776035571, 1.2663299476132526, 0.7552931969291086, 0.9359746069850465, 1.116367894111875, 0.8879899577893067, 0.7998243950742687, 1.0454534627287422, 0.7122937263683405, 0.7998243950742687, 0.9652243055676356, 0.9652243055676356, 1.0231495650478089, 0.8888321488926397, 0.9229022201888207, 0.7122937263683405, 1.2204891768091946, 0.9423893318130646, 0.7998243950742687, 0.9866641864089583, 0.9229022201888207, 0.8674065999096078, 0.9866641864089583, 0.8754158375057394, 1.0929618372785213, 0.9229022201888207, 0.8754158375057394, 0.8342356661076528, 1.0066236589115891, 1.0766822390949984, 0.7684726889430995, 0.7122937263683405, 0.7591314206363917, 0.9952020871945301, 1.0231495650478089, 0.9463649905783953, 0.701970281529475, 0.7552931969291086], \"Term\": [\"\\uac00\\uc7a5\", \"\\uac00\\uc871\", \"\\uac00\\uc9c0\\ub2e4\", \"\\uac15\\uc544\\uc9c0\", \"\\uac19\\uc774\", \"\\uac1c\\ubd09\", \"\\uac1c\\uc778\", \"\\uac74\\uac15\", \"\\uac80\\uc0c9\\uc5b4\", \"\\uac80\\ud1a0\", \"\\uac8c\\uc784\", \"\\uaca8\\uc6b8\\uc655\\uad6d\", \"\\uacbd\\uc81c\", \"\\uacbd\\ud5d8\", \"\\uace0\\uc591\\uc774\", \"\\uace8\\ud504\", \"\\uacf5\\uac10\", \"\\uacf5\\uac10\\ub300\", \"\\uacf5\\ub7b5\", \"\\uacf5\\uc720\", \"\\uacfc\\uc678\", \"\\uacfc\\uc81c\", \"\\uad00\\ub828\", \"\\uad00\\uc2ec\", \"\\uad00\\uc2ec\\uac70\\ub9ac\", \"\\uad00\\ud558\\ub2e4\", \"\\uad50\\uc721\", \"\\uad6c\\ub3c4\", \"\\uad6c\\ub3c5\\uc790\", \"\\uad6c\\ub3c5\\uc790\\uc218\", \"\\uad6c\\uc785\", \"\\uadc0\\uc5fd\\ub2e4\", \"\\uae30\\ub150\", \"\\uae30\\ub85d\", \"\\uae30\\uc5b5\", \"\\uae30\\uc6b8\\uc774\\ub2e4\", \"\\uae30\\uc874\", \"\\uae34\\uc7a5\\uac10\", \"\\ub098\\ub77c\", \"\\ub098\\uc624\\ub2e4\", \"\\ub0a8\\uae30\\ub2e4\", \"\\ub0a8\\uc790\", \"\\ub0b4\\uc6a9\", \"\\ub108\\ubb34\", \"\\ub178\\ub798\", \"\\ub178\\ub825\", \"\\ub208\\uc2f8\\uc6c0\", \"\\ub290\\ub07c\\ub2e4\", \"\\ub2e4\\ub8e8\\ub2e4\", \"\\ub2e4\\ub978\", \"\\ub2e4\\uc2dc\", \"\\ub2e4\\uc591\", \"\\ub2e4\\uc774\\uc5b4\\ud2b8\", \"\\ub300\\ud558\\ub2e4\", \"\\ub300\\ud559\\uc6d0\", \"\\ub3c4\\uc6c0\", \"\\ub3d9\\uae30\", \"\\ub3d9\\ub124\", \"\\ub3d9\\ub8cc\", \"\\ub3d9\\ubb3c\", \"\\ub3d9\\ucc3d\", \"\\ub3d9\\ud638\\ud68c\", \"\\ub4dc\\ub9ac\\ub2e4\", \"\\ub4e4\\uc5b4\\uac00\\ub2e4\", \"\\ub4e4\\uc774\\ub2e4\", \"\\ub531\\ud788\", \"\\ub77c\\uc774\\ube0c\", \"\\ub808\\uace0\", \"\\ub808\\uace0\\ud504\\ub80c\\uc988\", \"\\ub85c\\ub610\", \"\\ub9ac\\ubdf0\", \"\\ub9ac\\uc561\\uc158\", \"\\ub9c8\\uc74c\", \"\\ub9c8\\uc9c0\\ub9c9\", \"\\ub9cc\\ub4e4\\ub2e4\", \"\\ub9ce\\uc774\", \"\\ub9e4\\ub044\\ub7fd\\ub2e4\", \"\\ub9e4\\ub2c8\\uc544\\uce35\", \"\\uba39\\ubc29\", \"\\uba4b\\uc9c0\\ub2e4\", \"\\uba54\\ub274\", \"\\uba54\\ucd94\\ub9ac\", \"\\ubaa8\\ub4e0\", \"\\ubaa8\\uc2b5\", \"\\ubaa8\\uc2b5\", \"\\ubb38\\ud654\", \"\\ubc00\\uc811\", \"\\ubc14\\ud0d5\", \"\\ubc18\\ub824\\uacac\", \"\\ubc18\\uc751\", \"\\ubc29\\ubc95\", \"\\ubc29\\uc1a1\", \"\\ubc30\\uacbd\\uc74c\\uc545\", \"\\ubc34\\ub4dc\", \"\\ubca0\\uc774\\ube44\", \"\\ubca0\\uc774\\ud0b9\", \"\\ubcf4\\uc774\\ub2e4\", \"\\ubd80\\ub974\\ub2e4\", \"\\ubd80\\uc790\", \"\\ubd84\\uc57c\", \"\\ube0c\\uc774\\ub85c\\uadf8\", \"\\ube14\\ub85c\\uadf8\", \"\\ube44\\uad50\", \"\\uc0ac\\ub78c\", \"\\uc0ac\\uc6a9\", \"\\uc0ac\\ud68c\", \"\\uc0b0\\ucc45\", \"\\uc0c8\\ub86d\\ub2e4\", \"\\uc0dd\\uac01\", \"\\uc0dd\\ubc29\\uc1a1\", \"\\uc0dd\\uc77c\\ub0a0\", \"\\uc0dd\\ud65c\", \"\\uc124\\ub808\\ub2e4\", \"\\uc131\\uacf5\", \"\\uc138\\uc77c\", \"\\uc18c\\uac1c\", \"\\uc18c\\ube44\", \"\\uc18c\\ube44\\uc790\", \"\\uc18c\\ud1b5\", \"\\uc190\\uc27d\\ub2e4\", \"\\uc218\\uc5c5\", \"\\uc218\\uc9d1\", \"\\uc2a4\\ud0c0\\uc77c\", \"\\uc2a4\\ud53c\\ub4dc\", \"\\uc2dc\\uac04\", \"\\uc2dc\\uc2b9\", \"\\uc2dc\\uc5f0\", \"\\uc2dc\\uc791\", \"\\uc2dc\\uccad\\uc790\", \"\\uc2dd\\ubb3c\", \"\\uc2e0\\uacbd\", \"\\uc2e0\\uaddc\", \"\\uc2e4\\ub825\", \"\\uc2e4\\ubb34\", \"\\uc2e4\\uc2dc\\uac04\", \"\\uc2e4\\uccb4\", \"\\uc544\\uae30\", \"\\uc544\\uc774\", \"\\uc544\\uc9c1\", \"\\uc544\\ud504\\ub2e4\", \"\\uc54c\\ucc28\\ub2e4\", \"\\uc560\\ucc29\", \"\\uc5b4\\ub974\\uc2e0\", \"\\uc5b4\\ub9ac\\ub2e4\", \"\\uc5b8\\ub355\", \"\\uc5b8\\ubc15\\uc2f1\", \"\\uc5b8\\uc5b4\", \"\\uc5bd\\ub9e4\\uc774\\ub2e4\", \"\\uc5c5\\ub85c\\ub4dc\", \"\\uc5ec\\ub984\", \"\\uc5ec\\ud589\", \"\\uc5ed\\uc0ac\", \"\\uc5f0\\uc2b5\", \"\\uc5f0\\uc8fc\", \"\\uc601\\uc0c1\", \"\\uc601\\uc0c1\", \"\\uc601\\uc0c1\\uad6c\\ub3c4\", \"\\uc601\\uc0c1\\uae30\\ubc95\", \"\\uc601\\uc0c1\\ubbf8\", \"\\uc601\\ud654\", \"\\uc628\\ub77c\\uc778\", \"\\uc62c\\ub9ac\\ub2e4\", \"\\uc694\\ub9ac\", \"\\uc694\\uc18c\", \"\\uc6a9\\uc774\", \"\\uc6b4\\ub3d9\", \"\\uc704\\ud558\\ub2e4\", \"\\uc720\\ud22c\", \"\\uc721\\uc544\", \"\\uc74c\\uc2dd\", \"\\uc74c\\uc545\", \"\\uc74c\\uc6d0\", \"\\uc758\\ubbf8\", \"\\uc774\\ub8e8\\uc5b4\\uc9c0\\ub2e4\", \"\\uc774\\ubcc4\", \"\\uc774\\uc81c\", \"\\uc778\\uae30\", \"\\uc778\\uc0c1\", \"\\uc778\\ucc9c\", \"\\uc77c\\uc0c1\", \"\\uc790\\uc2e0\", \"\\uc790\\uc5f0\", \"\\uc790\\uc720\", \"\\uc791\\uc5c5\", \"\\uc7a5\\ub09c\\uac10\", \"\\uc7a5\\uc18c\", \"\\uc7ac\\uac74\\ucd95\", \"\\uc7ac\\ubbf8\", \"\\uc7ac\\ubbf8\\uc788\\ub2e4\", \"\\uc800\\uc7a5\", \"\\uc804\\ub2ec\", \"\\uc804\\ub2ec\\ub825\", \"\\uc804\\ubc18\\uc801\", \"\\uc804\\uc790\\uc81c\\ud488\", \"\\uc811\\uadfc\\uc131\", \"\\uc811\\ud558\\ub2e4\", \"\\uc815\\ubcf4\", \"\\uc815\\uc131\", \"\\uc815\\uc5fd\", \"\\uc81c\\uacf5\", \"\\uc81c\\uc77c\", \"\\uc81c\\uc791\", \"\\uc81c\\ud488\", \"\\uc870\\uae08\", \"\\uc88b\\uc544\\ud558\\ub2e4\", \"\\uc8fc\\uc2dd\", \"\\uc8fc\\uc758\", \"\\uc8fc\\uc81c\", \"\\uc990\\uac70\\uc6c0\", \"\\uc990\\uae30\\ub2e4\", \"\\uc9c0\\uae08\", \"\\uc9c0\\ub0b4\\ub2e4\", \"\\uc9c0\\uc2dd\", \"\\uc9c0\\uc774\", \"\\uc9c1\\uc7a5\", \"\\uc9c1\\uc811\", \"\\uc9c4\\uc9dc\", \"\\uc9d1\\uc911\", \"\\ucc28\\ub7c9\", \"\\ucc3d\\ub2e8\", \"\\ucc44\\ub110\", \"\\ucc44\\ud305\", \"\\ucc98\\uc74c\", \"\\ucca0\\uac70\", \"\\ucd2c\\uc601\", \"\\ucd5c\\ub300\\ud55c\", \"\\ucd94\\uc5b5\", \"\\ucde8\\ubbf8\", \"\\ucea0\\ud551\", \"\\ucee4\\ubc84\", \"\\ucee8\\uc149\", \"\\ucf58\\ud150\\uce20\", \"\\ucfe0\\ub9ac\\ucf54\", \"\\ud0a4\\uc6b0\\ub2e4\", \"\\ud14c\\uc774\\ube14\", \"\\ud1a0\\ud06c\", \"\\ud1a0\\ud0b9\", \"\\ud2b9\\ubcc4\", \"\\ud2b9\\uc815\", \"\\ud2b9\\uc9d5\", \"\\ud328\\uc158\", \"\\ud328\\uc158\\uc1fc\", \"\\ud398\\uc778\\ud305\", \"\\ud3b8\\uc548\", \"\\ud3b8\\uc9d1\", \"\\ud3b8\\ud558\\ub2e4\", \"\\ud3c9\\uc18c\", \"\\ud48d\\uacbd\", \"\\ud50c\\ub808\\uc774\", \"\\ud558\\uc6b8\", \"\\ud559\\uad50\", \"\\ud568\\uaed8\", \"\\ud574\\uc678\", \"\\ud589\\ubcf5\\uac10\", \"\\ud5ec\\uc2a4\\uc7a5\", \"\\ud604\\uba85\", \"\\ud604\\uc7a5\", \"\\ud64d\\ubcf4\", \"\\ud658\\uacbd\", \"\\ud65c\\uae30\\ucc28\\ub2e4\", \"\\ud65c\\ub3d9\", \"\\ud6c4\\uc6d0\", \"\\ud758\\ub7ec\\uac00\\ub2e4\", \"\\ud765\\ubbf8\", \"\\ud798\\ub4e4\\ub2e4\"]}, \"R\": 30, \"lambda.step\": 0.01, \"plot.opts\": {\"xlab\": \"PC1\", \"ylab\": \"PC2\"}, \"topic.order\": [10, 4, 1, 9, 5, 7, 3, 6, 2, 8]};\n",
       "\n",
       "function LDAvis_load_lib(url, callback){\n",
       "  var s = document.createElement('script');\n",
       "  s.src = url;\n",
       "  s.async = true;\n",
       "  s.onreadystatechange = s.onload = callback;\n",
       "  s.onerror = function(){console.warn(\"failed to load library \" + url);};\n",
       "  document.getElementsByTagName(\"head\")[0].appendChild(s);\n",
       "}\n",
       "\n",
       "if(typeof(LDAvis) !== \"undefined\"){\n",
       "   // already loaded: just create the visualization\n",
       "   !function(LDAvis){\n",
       "       new LDAvis(\"#\" + \"ldavis_el754321404274581657767674464450\", ldavis_el754321404274581657767674464450_data);\n",
       "   }(LDAvis);\n",
       "}else if(typeof define === \"function\" && define.amd){\n",
       "   // require.js is available: use it to load d3/LDAvis\n",
       "   require.config({paths: {d3: \"https://d3js.org/d3.v5\"}});\n",
       "   require([\"d3\"], function(d3){\n",
       "      window.d3 = d3;\n",
       "      LDAvis_load_lib(\"https://cdn.jsdelivr.net/gh/bmabey/pyLDAvis@3.2.2/pyLDAvis/js/ldavis.v3.0.0.js\", function(){\n",
       "        new LDAvis(\"#\" + \"ldavis_el754321404274581657767674464450\", ldavis_el754321404274581657767674464450_data);\n",
       "      });\n",
       "    });\n",
       "}else{\n",
       "    // require.js not available: dynamically load d3 & LDAvis\n",
       "    LDAvis_load_lib(\"https://d3js.org/d3.v5.js\", function(){\n",
       "         LDAvis_load_lib(\"https://cdn.jsdelivr.net/gh/bmabey/pyLDAvis@3.2.2/pyLDAvis/js/ldavis.v3.0.0.js\", function(){\n",
       "                 new LDAvis(\"#\" + \"ldavis_el754321404274581657767674464450\", ldavis_el754321404274581657767674464450_data);\n",
       "            })\n",
       "         });\n",
       "}\n",
       "</script>"
      ],
      "text/plain": [
       "<IPython.core.display.HTML object>"
      ]
     },
     "execution_count": 42,
     "metadata": {},
     "output_type": "execute_result"
    }
   ],
   "source": [
    "pyLDAvis.display(prepared_data)"
   ]
  },
  {
   "cell_type": "code",
   "execution_count": 46,
   "metadata": {
    "ExecuteTime": {
     "end_time": "2021-03-22T05:40:07.860006Z",
     "start_time": "2021-03-22T05:40:07.817842Z"
    }
   },
   "outputs": [],
   "source": [
    "htmlFile = 'tomotopy_CTM TO LDA_210322_2.html'\n",
    "pyLDAvis.save_html(prepared_data, htmlFile)"
   ]
  },
  {
   "cell_type": "code",
   "execution_count": 44,
   "metadata": {
    "ExecuteTime": {
     "end_time": "2021-03-22T05:31:23.346640Z",
     "start_time": "2021-03-22T05:31:22.972430Z"
    }
   },
   "outputs": [],
   "source": [
    "from bs4 import BeautifulSoup\n",
    "with open(htmlFile) as inf:\n",
    "    txt = inf.read()\n",
    "    soup = BeautifulSoup(txt)"
   ]
  },
  {
   "cell_type": "code",
   "execution_count": 45,
   "metadata": {
    "ExecuteTime": {
     "end_time": "2021-03-22T05:31:23.433107Z",
     "start_time": "2021-03-22T05:31:23.380942Z"
    }
   },
   "outputs": [
    {
     "name": "stdout",
     "output_type": "stream",
     "text": [
      "<html><head><link href=\"https://cdn.jsdelivr.net/gh/bmabey/pyLDAvis@3.2.2/pyLDAvis/js/ldavis.v1.0.0.css\" rel=\"stylesheet\" type=\"text/css\"/>\n",
      "</head><body><div id=\"ldavis_el754321404274581657763115694940\"></div>\n",
      "<script type=\"text/javascript\">\n",
      "\n",
      "var ldavis_el754321404274581657763115694940_data = {\"mdsDat\": {\"x\": [-0.31691198362938117, 0.12399059825376554, -0.06661567701578111, 0.11810085834315132, 0.10864693453153175, 0.09971817040633538, -0.26510549162639874, 0.04536340558869734, 0.08595669604126824, 0.06685648910681108], \"y\": [0.04154598794899229, 0.09458320090132395, -0.296133558423676, 0.0804994893894477, 0.07293033093550291, 0.06824893383150327, 0.1390620129354153, -0.30823181564048785, 0.05954195870996102, 0.047953459412017146], \"topics\": [1, 2, 3, 4, 5, 6, 7, 8, 9, 10], \"cluster\": [1, 1, 1, 1, 1, 1, 1, 1, 1, 1], \"Freq\": [15.109658318493535, 12.0335451387713, 11.96926930206475, 10.996503972801655, 10.734924840504318, 9.60231514556859, 8.51076935272928, 8.351612966004634, 7.468123001420744, 5.223277961641187]}, \"tinfo\": {\"Term\": [\"\\ube0c\\uc774\\ub85c\\uadf8\", \"\\uac8c\\uc784\", \"\\uc601\\uc0c1\", \"\\uc77c\\uc0c1\", \"\\uc7ac\\ubbf8\\uc788\\ub2e4\", \"\\uc5ec\\ud589\", \"\\uc0ac\\ub78c\", \"\\uc18c\\ud1b5\", \"\\uac15\\uc544\\uc9c0\", \"\\uc88b\\uc544\\ud558\\ub2e4\", \"\\uad50\\uc721\", \"\\uc8fc\\uc81c\", \"\\uc815\\ubcf4\", \"\\uc790\\uc720\", \"\\uc6b4\\ub3d9\", \"\\ud65c\\ub3d9\", \"\\ub9cc\\ub4e4\\ub2e4\", \"\\ud328\\uc158\", \"\\ucf58\\ud150\\uce20\", \"\\uacf5\\uc720\", \"\\ud3b8\\uc9d1\", \"\\uc2dc\\uccad\\uc790\", \"\\uad00\\uc2ec\", \"\\ucd94\\uc5b5\", \"\\uc990\\uac70\\uc6c0\", \"\\uadc0\\uc5fd\\ub2e4\", \"\\uc74c\\uc545\", \"\\ub9ce\\uc774\", \"\\uc0dd\\ud65c\", \"\\ub77c\\uc774\\ube0c\", \"\\ud3b8\\uc9d1\", \"\\uad00\\ub828\", \"\\ubcf4\\uc774\\ub2e4\", \"\\uc790\\uc5f0\", \"\\uc9c1\\uc811\", \"\\uc5f0\\uc8fc\", \"\\uc601\\uc0c1\\ubbf8\", \"\\ub9ac\\ubdf0\", \"\\ub178\\ub825\", \"\\uae30\\uc874\", \"\\ubc30\\uacbd\\uc74c\\uc545\", \"\\uc2e0\\uacbd\", \"\\ucea0\\ud551\", \"\\uc544\\uc9c1\", \"\\uc2e4\\ub825\", \"\\ud658\\uacbd\", \"\\uc0b0\\ucc45\", \"\\uaca8\\uc6b8\\uc655\\uad6d\", \"\\uc2a4\\ud53c\\ub4dc\", \"\\ud398\\uc778\\ud305\", \"\\uc8fc\\uc2dd\", \"\\ud1a0\\ud06c\", \"\\uc778\\ucc9c\", \"\\ub3d9\\ub124\", \"\\uc2e0\\uaddc\", \"\\ub3d9\\ubb3c\", \"\\ubaa8\\ub4e0\", \"\\uc560\\ucc29\", \"\\ud64d\\ubcf4\", \"\\uc5f0\\uc2b5\", \"\\uc601\\uc0c1\", \"\\ubaa8\\uc2b5\", \"\\uc18c\\ud1b5\", \"\\uc88b\\uc544\\ud558\\ub2e4\", \"\\uc790\\uc720\", \"\\ud65c\\ub3d9\", \"\\uc2dc\\uccad\\uc790\", \"\\uc74c\\uc545\", \"\\ub9ce\\uc774\", \"\\uc2e4\\uc2dc\\uac04\", \"\\ubc29\\uc1a1\", \"\\ub178\\ub798\", \"\\uc544\\uc774\", \"\\ucc3d\\ub2e8\", \"\\ucc28\\ub7c9\", \"\\uc2dc\\uc2b9\", \"\\uc815\\uc131\", \"\\ub4e4\\uc5b4\\uac00\\ub2e4\", \"\\ubc34\\ub4dc\", \"\\ucc44\\ud305\", \"\\ubd80\\ub974\\ub2e4\", \"\\uc720\\ud22c\", \"\\uac00\\uc9c0\\ub2e4\", \"\\ub9e4\\ub2c8\\uc544\\uce35\", \"\\ud2b9\\uc9d5\", \"\\ud6c4\\uc6d0\", \"\\ud14c\\uc774\\ube14\", \"\\uae30\\uc5b5\", \"\\uc804\\ubc18\\uc801\", \"\\uc8fc\\uc758\", \"\\uc601\\uc0c1\\uad6c\\ub3c4\", \"\\uac19\\uc774\", \"\\uac8c\\uc784\", \"\\uc990\\uae30\\ub2e4\", \"\\ud3b8\\uc9d1\", \"\\uc601\\uc0c1\", \"\\uacf5\\uc720\", \"\\uc0dd\\ud65c\", \"\\ub0b4\\uc6a9\", \"\\uac00\\uc7a5\", \"\\ucde8\\ubbf8\", \"\\ucc98\\uc74c\", \"\\uae30\\ub85d\", \"\\uc9c1\\uc7a5\", \"\\uc62c\\ub9ac\\ub2e4\", \"\\uc0ac\\ud68c\", \"\\uac74\\uac15\", \"\\ud3b8\\uc548\", \"\\ub2e4\\uc2dc\", \"\\ub808\\uace0\\ud504\\ub80c\\uc988\", \"\\uc2e4\\uccb4\", \"\\uc9c0\\uc774\", \"\\ub3d9\\ud638\\ud68c\", \"\\uace8\\ud504\", \"\\ubc29\\ubc95\", \"\\uc778\\uc0c1\", \"\\uc9c0\\uae08\", \"\\uacf5\\ub7b5\", \"\\uc811\\ud558\\ub2e4\", \"\\ubc00\\uc811\", \"\\uc774\\uc81c\", \"\\uc2dc\\uc791\", \"\\uae34\\uc7a5\\uac10\", \"\\uc124\\ub808\\ub2e4\", \"\\ub300\\ud559\\uc6d0\", \"\\uc9c0\\ub0b4\\ub2e4\", \"\\uac8c\\uc784\", \"\\uc815\\ubcf4\", \"\\ub77c\\uc774\\ube0c\", \"\\ub3c4\\uc6c0\", \"\\uc990\\uae30\\ub2e4\", \"\\uc81c\\ud488\", \"\\ube44\\uad50\", \"\\uc804\\ub2ec\\ub825\", \"\\uba54\\ucd94\\ub9ac\", \"\\uc81c\\uacf5\", \"\\uc54c\\ucc28\\ub2e4\", \"\\uc74c\\uc6d0\", \"\\ucee4\\ubc84\", \"\\ub808\\uace0\", \"\\ub098\\ub77c\", \"\\ucd5c\\ub300\\ud55c\", \"\\ud798\\ub4e4\\ub2e4\", \"\\ubb38\\ud654\", \"\\uc5b8\\uc5b4\", \"\\ub108\\ubb34\", \"\\uc138\\uc77c\", \"\\uac80\\ud1a0\", \"\\uc18c\\ube44\\uc790\", \"\\ud604\\uba85\", \"\\uc18c\\ube44\", \"\\ub4dc\\ub9ac\\ub2e4\", \"\\uad6c\\ub3c5\\uc790\", \"\\uc9c4\\uc9dc\", \"\\uc131\\uacf5\", \"\\ubd80\\uc790\", \"\\ub9cc\\ub4e4\\ub2e4\", \"\\ucd94\\uc5b5\", \"\\ubd84\\uc57c\", \"\\ub300\\ud558\\ub2e4\", \"\\uace0\\uc591\\uc774\", \"\\uc0ac\\uc6a9\", \"\\uc694\\ub9ac\", \"\\uc9c0\\uc2dd\", \"\\uc804\\ub2ec\", \"\\uacbd\\ud5d8\", \"\\uacf5\\uac10\\ub300\", \"\\ub208\\uc2f8\\uc6c0\", \"\\ub0a8\\uae30\\ub2e4\", \"\\uc544\\uae30\", \"\\uc74c\\uc2dd\", \"\\uc778\\uae30\", \"\\uac80\\uc0c9\\uc5b4\", \"\\ub0a8\\uc790\", \"\\uc5b4\\ub974\\uc2e0\", \"\\uc190\\uc27d\\ub2e4\", \"\\uc2e4\\ubb34\", \"\\ubc14\\ud0d5\", \"\\uc804\\uc790\\uc81c\\ud488\", \"\\uac1c\\ubd09\", \"\\ud2b9\\uc815\", \"\\uc790\\uc2e0\", \"\\ud2b9\\ubcc4\", \"\\uc218\\uc9d1\", \"\\uc601\\uc0c1\\uad6c\\ub3c4\", \"\\uac19\\uc774\", \"\\uc5ec\\ud589\", \"\\uc0ac\\ub78c\", \"\\uc8fc\\uc81c\", \"\\uc81c\\uc791\", \"\\uc218\\uc5c5\", \"\\ud568\\uaed8\", \"\\ub85c\\ub610\", \"\\uc628\\ub77c\\uc778\", \"\\ub2e4\\ub978\", \"\\uc721\\uc544\", \"\\ubca0\\uc774\\ube44\", \"\\ube14\\ub85c\\uadf8\", \"\\ud765\\ubbf8\", \"\\uad00\\uc2ec\\uac70\\ub9ac\", \"\\uc758\\ubbf8\", \"\\uae30\\ub150\", \"\\ud559\\uad50\", \"\\uacfc\\uc81c\", \"\\uc2dc\\uc5f0\", \"\\ud589\\ubcf5\\uac10\", \"\\uc5ed\\uc0ac\", \"\\ucee8\\uc149\", \"\\uc0dd\\uac01\", \"\\uc601\\uc0c1\\uae30\\ubc95\", \"\\uae30\\uc6b8\\uc774\\ub2e4\", \"\\ubc18\\uc751\", \"\\uc7a5\\uc18c\", \"\\uc804\\ubc18\\uc801\", \"\\uc8fc\\uc758\", \"\\uc601\\uc0c1\\uad6c\\ub3c4\", \"\\uc601\\uc0c1\", \"\\uc18c\\ud1b5\", \"\\uc990\\uae30\\ub2e4\", \"\\ud328\\uc158\", \"\\uad00\\uc2ec\", \"\\uc990\\uac70\\uc6c0\", \"\\uc5c5\\ub85c\\ub4dc\", \"\\uacf5\\uac10\", \"\\uba39\\ubc29\", \"\\uac00\\uc871\", \"\\ub3d9\\uae30\", \"\\ub3d9\\ucc3d\", \"\\uc2a4\\ud0c0\\uc77c\", \"\\uc0c8\\ub86d\\ub2e4\", \"\\uba54\\ub274\", \"\\ub531\\ud788\", \"\\uad6c\\ub3c5\\uc790\\uc218\", \"\\uc5bd\\ub9e4\\uc774\\ub2e4\", \"\\ud574\\uc678\", \"\\uc18c\\uac1c\", \"\\ud328\\uc158\\uc1fc\", \"\\uba4b\\uc9c0\\ub2e4\", \"\\ud48d\\uacbd\", \"\\ud3c9\\uc18c\", \"\\ud558\\uc6b8\", \"\\uc2dc\\uac04\", \"\\ub4e4\\uc774\\ub2e4\", \"\\uc601\\uc0c1\", \"\\uc804\\ubc18\\uc801\", \"\\uc8fc\\uc758\", \"\\uc601\\uc0c1\\uad6c\\ub3c4\", \"\\uac19\\uc774\", \"\\uc791\\uc5c5\", \"\\uc6b4\\ub3d9\", \"\\uc0ac\\ub78c\", \"\\ucd94\\uc5b5\", \"\\ube0c\\uc774\\ub85c\\uadf8\", \"\\uc77c\\uc0c1\", \"\\ube0c\\uc774\\ub85c\\uadf8\", \"\\uac15\\uc544\\uc9c0\", \"\\uadc0\\uc5fd\\ub2e4\", \"\\ubc18\\ub824\\uacac\", \"\\ub098\\uc624\\ub2e4\", \"\\uacfc\\uc678\", \"\\uac1c\\uc778\", \"\\uc2dd\\ubb3c\", \"\\ud0a4\\uc6b0\\ub2e4\", \"\\ud1a0\\ud0b9\", \"\\ud3b8\\ud558\\ub2e4\", \"\\ucfe0\\ub9ac\\ucf54\", \"\\uc5b8\\ub355\", \"\\uc815\\uc5fd\", \"\\uc774\\ubcc4\", \"\\uc5ec\\ub984\", \"\\uc0dd\\uc77c\\ub0a0\", \"\\uc800\\uc7a5\", \"\\uc77c\\uc0c1\", \"\\uc804\\ubc18\\uc801\", \"\\uc8fc\\uc758\", \"\\uc601\\uc0c1\\uad6c\\ub3c4\", \"\\uac19\\uc774\", \"\\uc791\\uc5c5\", \"\\uc601\\uc0c1\\uae30\\ubc95\", \"\\uae30\\uc6b8\\uc774\\ub2e4\", \"\\ubc18\\uc751\", \"\\uc7a5\\uc18c\", \"\\uad00\\ud558\\ub2e4\", \"\\ub2e4\\ub8e8\\ub2e4\", \"\\uc2dc\\uccad\\uc790\", \"\\uc9c1\\uc7a5\", \"\\uae30\\ub85d\", \"\\uc601\\uc0c1\", \"\\uac8c\\uc784\", \"\\ud3b8\\uc9d1\", \"\\uc7ac\\ubbf8\\uc788\\ub2e4\", \"\\uc88b\\uc544\\ud558\\ub2e4\", \"\\ub9cc\\ub4e4\\ub2e4\", \"\\uc0ac\\ub78c\", \"\\uc815\\ubcf4\", \"\\uc7ac\\ubbf8\\uc788\\ub2e4\", \"\\uad50\\uc721\", \"\\uc5b4\\ub9ac\\ub2e4\", \"\\ucd2c\\uc601\", \"\\uc694\\uc18c\", \"\\ubca0\\uc774\\ud0b9\", \"\\uc601\\ud654\", \"\\ucc44\\ub110\", \"\\uc0dd\\ubc29\\uc1a1\", \"\\ud65c\\uae30\\ucc28\\ub2e4\", \"\\ub3d9\\ub8cc\", \"\\ub9ac\\uc561\\uc158\", \"\\uc81c\\uc77c\", \"\\ud50c\\ub808\\uc774\", \"\\ub290\\ub07c\\ub2e4\", \"\\uc9d1\\uc911\", \"\\uc870\\uae08\", \"\\uc7ac\\ubbf8\", \"\\ub9e4\\ub044\\ub7fd\\ub2e4\", \"\\ud758\\ub7ec\\uac00\\ub2e4\", \"\\uad6c\\ub3c4\", \"\\uad00\\ud558\\ub2e4\", \"\\ub2e4\\ub8e8\\ub2e4\", \"\\uc804\\ubc18\\uc801\", \"\\uc8fc\\uc758\", \"\\uc601\\uc0c1\\uad6c\\ub3c4\", \"\\uac19\\uc774\", \"\\uc791\\uc5c5\", \"\\uc601\\uc0c1\\uae30\\ubc95\", \"\\uae30\\uc6b8\\uc774\\ub2e4\", \"\\ube0c\\uc774\\ub85c\\uadf8\", \"\\ud65c\\ub3d9\", \"\\uc9c1\\uc7a5\", \"\\ud3b8\\uc9d1\", \"\\uc601\\uc0c1\", \"\\uc77c\\uc0c1\", \"\\uac8c\\uc784\", \"\\uc6b4\\ub3d9\", \"\\ucf58\\ud150\\uce20\", \"\\uc704\\ud558\\ub2e4\", \"\\uad6c\\uc785\", \"\\ub2e4\\uc774\\uc5b4\\ud2b8\", \"\\ud5ec\\uc2a4\\uc7a5\", \"\\uc7a5\\ub09c\\uac10\", \"\\uc5b8\\ubc15\\uc2f1\", \"\\ub2e4\\uc591\", \"\\uc811\\uadfc\\uc131\", \"\\uc6a9\\uc774\", \"\\uacbd\\uc81c\", \"\\uc7ac\\uac74\\ucd95\", \"\\ud604\\uc7a5\", \"\\ub9c8\\uc9c0\\ub9c9\", \"\\ucca0\\uac70\", \"\\uc774\\ub8e8\\uc5b4\\uc9c0\\ub2e4\", \"\\ub9c8\\uc74c\", \"\\uc544\\ud504\\ub2e4\", \"\\uc804\\ubc18\\uc801\", \"\\uc8fc\\uc758\", \"\\uc601\\uc0c1\\uad6c\\ub3c4\", \"\\uac19\\uc774\", \"\\uc791\\uc5c5\", \"\\uc601\\uc0c1\\uae30\\ubc95\", \"\\uae30\\uc6b8\\uc774\\ub2e4\", \"\\ubc18\\uc751\", \"\\uc7a5\\uc18c\", \"\\uad00\\ud558\\ub2e4\", \"\\ub2e4\\ub8e8\\ub2e4\", \"\\uac00\\uc871\", \"\\uc601\\uc0c1\", \"\\ube0c\\uc774\\ub85c\\uadf8\", \"\\uc77c\\uc0c1\", \"\\uac8c\\uc784\", \"\\ud3b8\\uc9d1\", \"\\uc7ac\\ubbf8\\uc788\\ub2e4\", \"\\uc88b\\uc544\\ud558\\ub2e4\", \"\\ub9cc\\ub4e4\\ub2e4\", \"\\uc0ac\\ub78c\", \"\\uc815\\ubcf4\"], \"Freq\": [6.0, 5.0, 8.0, 5.0, 4.0, 4.0, 4.0, 4.0, 3.0, 4.0, 3.0, 3.0, 4.0, 4.0, 2.0, 4.0, 3.0, 3.0, 2.0, 3.0, 4.0, 3.0, 3.0, 3.0, 3.0, 2.0, 3.0, 3.0, 3.0, 3.0, 4.222388788589881, 3.0279205026313543, 2.842135589619938, 2.30748012769032, 2.30748012769032, 2.30748012769032, 2.2048472013338163, 2.2048472013338163, 1.7707913497135728, 1.6648058140698594, 1.6648058140698594, 1.6648058140698594, 1.5572258979535851, 1.5572258979535851, 1.381773900036278, 1.381773900036278, 1.381773900036278, 1.381773900036278, 1.381773900036278, 1.381773900036278, 1.381773900036278, 1.381773900036278, 1.381773900036278, 1.381773900036278, 1.2791411045490568, 1.2791411045490568, 1.2791411045490568, 1.2791411045490568, 1.2791411045490568, 1.2063220329882538, 7.333627743603891, 2.521045448581025, 4.506146457382099, 4.372610671114258, 4.1175626265379295, 3.997216450327302, 3.738469211451967, 3.477357915180879, 3.4522752682964652, 2.8300270539136623, 2.7244013613617306, 2.269145525436021, 2.0136342998762373, 1.4220695326721589, 1.3164437358940835, 1.3164437358940835, 1.3164437358940835, 1.3164437358940835, 1.3164437358940835, 1.3164437358940835, 1.3164437358940835, 1.1833710263835537, 1.1833710263835537, 1.0302494800601503, 0.9553067135562242, 0.9553067135562242, 0.93445523120924, 0.93445523120924, 0.002605052261299577, 0.002605052261299577, 0.002605052261299577, 0.002605052261299577, 0.0026053008162247563, 0.0026051764369788228, 0.0026051143491392, 0.002605052261299577, 3.7434505106650033, 3.396117483758202, 3.1125009335401574, 2.981010358610189, 2.7581258494842706, 2.573464467124667, 2.2612874031811407, 2.2133767827104123, 1.9320840864709021, 1.9246814670387444, 1.6166424721265882, 1.6166424721265882, 1.434496110177372, 1.434496110177372, 1.434496110177372, 1.3279473637937838, 1.2523497482281558, 1.2523497482281558, 1.2523497482281558, 1.2523497482281558, 1.1937117259847276, 1.1937117259847276, 1.1458010018445675, 1.1458010018445675, 1.1052931044754284, 1.1052931044754284, 1.1052931044754284, 1.1052931044754284, 1.0115653640355116, 1.0115653640355116, 5.89641703531112, 3.977800175987262, 3.1830240752638166, 2.7260371750727312, 2.05195429559897, 1.8431940728849276, 1.8431940728849276, 1.466985720825727, 1.3017011546228574, 1.3017011546228574, 1.3017011546228574, 1.3017011546228574, 1.3017011546228574, 1.3017011546228574, 1.3017011546228574, 1.3017011546228574, 1.3017011546228574, 1.2050159028286385, 1.2050159028286385, 1.083206802648903, 1.083206802648903, 0.9711319269730987, 0.9711319269730987, 0.9711319269730987, 0.9711319269730987, 0.9711319269730987, 0.9179221412020141, 0.9179221412020141, 0.9179221412020141, 0.9179221412020141, 3.7728661469376665, 3.4222416102611133, 2.7851706942908967, 2.746623335659755, 2.5148371004914702, 2.233179109002218, 2.102215493832334, 1.9817178997268317, 1.9817178997268317, 1.8777661845212539, 1.5772359944647698, 1.5772359944647698, 1.2955779099971139, 1.2955779099971139, 1.2955779099971139, 1.2218230699838055, 1.2218230699838055, 1.1646143878056334, 1.1646143878056334, 1.1646143878056334, 1.1178714477566316, 1.1178714477566316, 1.1178714477566316, 1.1178714477566316, 1.013919825529458, 1.013919825529458, 1.013919825529458, 0.9196440009113326, 0.8223518638900444, 0.8223518638900444, 4.699183054006611, 4.426563926001424, 3.791709581064725, 2.6597614133975527, 2.1639433959429977, 1.8077866343176048, 1.5805366056902692, 1.4024583080461044, 1.4024583080461044, 1.4024583080461044, 1.4024583080461044, 1.4024583080461044, 1.4024583080461044, 1.224379927233408, 1.167051525674584, 1.167051525674584, 1.1202108422972457, 1.1202108422972457, 1.1202108422972457, 1.1202108422972457, 1.046301629589243, 1.046301629589243, 1.046301629589243, 0.8240727347248203, 0.8240727347248203, 0.8240727347248203, 0.8240727347248203, 0.0025691269491919986, 0.0025691269491919986, 0.0025691269491919986, 0.0025707194966227754, 0.0025694943851659294, 0.0025692494278499755, 3.352976916162875, 3.129950094371924, 3.0803403528681113, 2.74291361459802, 2.6549741926362778, 2.387569872212154, 2.050143428799368, 1.3287041198429947, 1.3287041198429947, 1.3287041198429947, 1.2300131685539164, 1.2300131685539164, 1.061299873133197, 1.061299873133197, 1.061299873133197, 1.061299873133197, 1.061299873133197, 1.061299873133197, 1.061299873133197, 1.061299873133197, 0.9912775290015562, 0.9912775290015562, 0.9912775290015562, 0.9912775290015562, 0.6709275252433742, 0.002434018542999521, 0.002434018542999521, 0.002434018542999521, 0.002434018542999521, 0.002434018542999521, 0.002434250915894868, 0.002434134873420488, 0.002434134873420488, 0.002434018542999521, 0.002434018542999521, 6.824125847503467, 3.7543690678781534, 2.9768469099957917, 2.48225649374517, 2.1167508038398015, 1.3265640897246562, 1.3265640897246562, 1.2280319904364816, 1.2280319904364816, 1.2280319904364816, 1.2280319904364816, 1.103896408898693, 1.103896408898693, 1.103896408898693, 1.103896408898693, 1.103896408898693, 1.103896408898693, 1.0595904267716376, 4.815190722726317, 0.002430098304105831, 0.002430098304105831, 0.002430098304105831, 0.002430098304105831, 0.002430098304105831, 0.002430098304105831, 0.002430098304105831, 0.002430098304105831, 0.002430098304105831, 0.002430098304105831, 0.002430098304105831, 0.0024302141544504823, 0.0024302141544504823, 0.0024302141544504823, 0.002430098304105831, 0.002430098304105831, 0.002430098304105831, 0.002430098304105831, 0.002430098304105831, 0.002430098304105831, 0.002430098304105831, 0.002430098304105831, 4.3819433854473875, 3.42724474482419, 2.2587508470075273, 2.094317755576276, 1.78076206409873, 1.459427645834426, 1.2949946837704815, 1.2949946837704815, 1.2949946837704815, 1.2949946837704815, 1.1305615923392305, 1.1305615923392305, 1.1305615923392305, 1.1305615923392305, 1.0776259781466877, 1.0776259781466877, 1.0343744771181715, 1.0343744771181715, 1.0343744771181715, 1.0343744771181715, 1.0343744771181715, 0.8509531111387525, 0.8509531111387525, 0.0023722671758583326, 0.0023722671758583326, 0.0023722671758583326, 0.0023722671758583326, 0.0023722671758583326, 0.0023722671758583326, 0.0023722671758583326, 0.002373115390797228, 0.002372493315974601, 0.0023723801195812064, 0.00237232377405503, 0.0023722671758583326, 0.0023722671758583326, 0.0023722671758583326, 2.8760994309549246, 2.6647682381794744, 1.7667311892485154, 1.3255311067604767, 1.1761841166284017, 1.1761841166284017, 1.1761841166284017, 1.1761841166284017, 1.026837216977081, 1.026837216977081, 1.026837216977081, 0.9787581871324, 0.9062612066105976, 0.9062612066105976, 0.9062612066105976, 0.9062612066105976, 0.9062612066105976, 0.9062612066105976, 0.9062612066105976, 0.002154621205942761, 0.002154621205942761, 0.002154621205942761, 0.002154621205942761, 0.002154621205942761, 0.002154621205942761, 0.002154621205942761, 0.002154621205942761, 0.002154621205942761, 0.002154621205942761, 0.002154621205942761, 0.0021547240571126664, 0.002154621205942761, 0.002154621205942761, 0.002154621205942761, 0.002154621205942761, 0.002154621205942761, 0.002154621205942761, 0.002154621205942761, 0.002154621205942761, 0.002154621205942761, 0.002154621205942761], \"Total\": [6.0, 5.0, 8.0, 5.0, 4.0, 4.0, 4.0, 4.0, 3.0, 4.0, 3.0, 3.0, 4.0, 4.0, 2.0, 4.0, 3.0, 3.0, 2.0, 3.0, 4.0, 3.0, 3.0, 3.0, 3.0, 2.0, 3.0, 3.0, 3.0, 3.0, 4.244530222243064, 3.0500618175985013, 2.864276904587085, 2.329621442657467, 2.329621442657467, 2.329621442657467, 2.2269885163009633, 2.2269885163009633, 1.7929326646807202, 1.6869471290370068, 1.6869471290370068, 1.6869471290370068, 1.5793672129207326, 1.5793672129207326, 1.4039152150034255, 1.4039152150034255, 1.4039152150034255, 1.4039152150034255, 1.4039152150034255, 1.4039152150034255, 1.4039152150034255, 1.4039152150034255, 1.4039152150034255, 1.4039152150034255, 1.3012824195162043, 1.3012824195162043, 1.3012824195162043, 1.3012824195162043, 1.3012824195162043, 1.2284633479554012, 8.024264157818845, 3.1878315874911443, 4.528214323362767, 4.3946781696589525, 4.139630125082624, 4.019284175012113, 3.760536825847006, 3.4994254137255734, 3.474342889056913, 2.8520945524583565, 2.746468859906425, 2.291213023980715, 2.0357017984209316, 1.4441370312168536, 1.3385112344387782, 1.3385112344387782, 1.3385112344387782, 1.3385112344387782, 1.3385112344387782, 1.3385112344387782, 1.3385112344387782, 1.2054385249282484, 1.2054385249282484, 1.052316978604845, 0.9773742121009189, 0.9773742121009189, 0.9565227297539347, 0.9565227297539347, 0.8340601692476919, 0.8340601692476919, 0.8444606528823821, 0.8444606528823821, 5.918705282152054, 2.074242661184436, 4.244530222243064, 8.024264157818845, 3.7654952452768895, 3.4181622183700884, 3.1345456681520436, 3.003055093222075, 2.780170584096157, 2.595509201736553, 2.28333237612203, 2.2354217461163666, 1.9541288210827892, 1.9467262016506315, 1.6386872067384752, 1.6386872067384752, 1.4565408447892592, 1.4565408447892592, 1.4565408447892592, 1.3499920984056708, 1.2743944828400429, 1.2743944828400429, 1.2743944828400429, 1.2743944828400429, 1.2157564605966147, 1.2157564605966147, 1.1678457364564545, 1.1678457364564545, 1.1273378390873154, 1.1273378390873154, 1.1273378390873154, 1.1273378390873154, 1.0336100986473986, 1.0336100986473986, 5.918705282152054, 4.00008817427327, 3.205312073549825, 2.7483251733587397, 2.074242661184436, 1.8654820711709366, 1.8654820711709366, 1.489273719111736, 1.3239891529088663, 1.3239891529088663, 1.3239891529088663, 1.3239891529088663, 1.3239891529088663, 1.3239891529088663, 1.3239891529088663, 1.3239891529088663, 1.3239891529088663, 1.2273039011146474, 1.2273039011146474, 1.105494800934912, 1.105494800934912, 0.9934199252591074, 0.9934199252591074, 0.9934199252591074, 0.9934199252591074, 0.9934199252591074, 0.9402101394880228, 0.9402101394880228, 0.9402101394880228, 0.9402101394880228, 3.7949749359300036, 3.444350515583871, 2.8072794832832337, 2.768732124652092, 2.5369458894838073, 2.255287897994555, 2.124324282824671, 2.0038266887191694, 2.0038266887191694, 1.8998749735135918, 1.5993447834571077, 1.5993447834571077, 1.3176866989894518, 1.3176866989894518, 1.3176866989894518, 1.2439318589761434, 1.2439318589761434, 1.1867231767979713, 1.1867231767979713, 1.1867231767979713, 1.1399802367489695, 1.1399802367489695, 1.1399802367489695, 1.1399802367489695, 1.0360286145217958, 1.0360286145217958, 1.0360286145217958, 0.9417527899036703, 0.8444606528823821, 0.8444606528823821, 4.721286477863413, 4.448667466188647, 3.8138130049215273, 2.6818648372543548, 2.1860469420155533, 1.829890058174407, 1.6026400295470715, 1.4245617319029067, 1.4245617319029067, 1.4245617319029067, 1.4245617319029067, 1.4245617319029067, 1.4245617319029067, 1.2464833510902102, 1.1891549495313862, 1.1891549495313862, 1.142314266154048, 1.142314266154048, 1.142314266154048, 1.142314266154048, 1.0684050534460454, 1.0684050534460454, 1.0684050534460454, 0.8461761585816225, 0.8461761585816225, 0.8461761585816225, 0.8461761585816225, 0.8340601692476919, 0.8340601692476919, 0.8444606528823821, 8.024264157818845, 4.528214323362767, 2.074242661184436, 3.375215448425869, 3.1521886266349184, 3.102578998977472, 2.7651521468610145, 2.677212724899272, 2.4098084044751484, 2.072382184558652, 1.3509426521059895, 1.3509426521059895, 1.3509426521059895, 1.2522517008169112, 1.2522517008169112, 1.0835384053961918, 1.0835384053961918, 1.0835384053961918, 1.0835384053961918, 1.0835384053961918, 1.0835384053961918, 1.0835384053961918, 1.0835384053961918, 1.0135160612645508, 1.0135160612645508, 1.0135160612645508, 1.0135160612645508, 8.024264157818845, 0.8340601692476919, 0.8340601692476919, 0.8444606528823821, 0.8444606528823821, 0.8444606528823821, 2.8986175929278715, 4.448667466188647, 3.444350515583871, 6.846369148220294, 5.299931637221961, 6.846369148220294, 3.7766115203800417, 2.99908936249768, 2.504499060093425, 2.13899325634169, 1.3488065422265445, 1.3488065422265445, 1.2502744429383699, 1.2502744429383699, 1.2502744429383699, 1.2502744429383699, 1.1261388614005812, 1.1261388614005812, 1.1261388614005812, 1.1261388614005812, 1.1261388614005812, 1.1261388614005812, 1.081832879273526, 5.299931637221961, 0.8340601692476919, 0.8340601692476919, 0.8444606528823821, 0.8444606528823821, 0.8444606528823821, 0.8461761585816225, 0.8461761585816225, 0.8461761585816225, 0.8461761585816225, 0.8732533947688884, 0.8732533947688884, 3.760536825847006, 2.2354217461163666, 2.28333237612203, 8.024264157818845, 5.918705282152054, 4.244530222243064, 4.404243669077523, 4.3946781696589525, 3.7949749359300036, 4.448667466188647, 4.00008817427327, 4.404243669077523, 3.449545150670079, 2.281051130637663, 2.116618039206412, 1.8030623477288659, 1.4817279294645618, 1.3172949674006174, 1.3172949674006174, 1.3172949674006174, 1.3172949674006174, 1.1528618759693663, 1.1528618759693663, 1.1528618759693663, 1.1528618759693663, 1.0999262617768235, 1.0999262617768235, 1.0566747607483074, 1.0566747607483074, 1.0566747607483074, 1.0566747607483074, 1.0566747607483074, 0.8732533947688884, 0.8732533947688884, 0.8340601692476919, 0.8340601692476919, 0.8444606528823821, 0.8444606528823821, 0.8444606528823821, 0.8461761585816225, 0.8461761585816225, 6.846369148220294, 4.019284175012113, 2.2354217461163666, 4.244530222243064, 8.024264157818845, 5.299931637221961, 5.918705282152054, 2.8986175929278715, 2.6872861677795257, 1.7892491188485669, 1.3480490363605282, 1.1987020462284532, 1.1987020462284532, 1.1987020462284532, 1.1987020462284532, 1.0493551465771325, 1.0493551465771325, 1.0493551465771325, 1.0012761167324515, 0.928779136210649, 0.928779136210649, 0.928779136210649, 0.928779136210649, 0.928779136210649, 0.928779136210649, 0.928779136210649, 0.8340601692476919, 0.8340601692476919, 0.8444606528823821, 0.8444606528823821, 0.8444606528823821, 0.8461761585816225, 0.8461761585816225, 0.8461761585816225, 0.8461761585816225, 0.8732533947688884, 0.8732533947688884, 2.072382184558652, 8.024264157818845, 6.846369148220294, 5.299931637221961, 5.918705282152054, 4.244530222243064, 4.404243669077523, 4.3946781696589525, 3.7949749359300036, 4.448667466188647, 4.00008817427327], \"Category\": [\"Default\", \"Default\", \"Default\", \"Default\", \"Default\", \"Default\", \"Default\", \"Default\", \"Default\", \"Default\", \"Default\", \"Default\", \"Default\", \"Default\", \"Default\", \"Default\", \"Default\", \"Default\", \"Default\", \"Default\", \"Default\", \"Default\", \"Default\", \"Default\", \"Default\", \"Default\", \"Default\", \"Default\", \"Default\", \"Default\", \"Topic1\", \"Topic1\", \"Topic1\", \"Topic1\", \"Topic1\", \"Topic1\", \"Topic1\", \"Topic1\", \"Topic1\", \"Topic1\", \"Topic1\", \"Topic1\", \"Topic1\", \"Topic1\", \"Topic1\", \"Topic1\", \"Topic1\", \"Topic1\", \"Topic1\", \"Topic1\", \"Topic1\", \"Topic1\", \"Topic1\", \"Topic1\", \"Topic1\", \"Topic1\", \"Topic1\", \"Topic1\", \"Topic1\", \"Topic1\", \"Topic1\", \"Topic1\", \"Topic2\", \"Topic2\", \"Topic2\", \"Topic2\", \"Topic2\", \"Topic2\", \"Topic2\", \"Topic2\", \"Topic2\", \"Topic2\", \"Topic2\", \"Topic2\", \"Topic2\", \"Topic2\", \"Topic2\", \"Topic2\", \"Topic2\", \"Topic2\", \"Topic2\", \"Topic2\", \"Topic2\", \"Topic2\", \"Topic2\", \"Topic2\", \"Topic2\", \"Topic2\", \"Topic2\", \"Topic2\", \"Topic2\", \"Topic2\", \"Topic2\", \"Topic2\", \"Topic2\", \"Topic2\", \"Topic3\", \"Topic3\", \"Topic3\", \"Topic3\", \"Topic3\", \"Topic3\", \"Topic3\", \"Topic3\", \"Topic3\", \"Topic3\", \"Topic3\", \"Topic3\", \"Topic3\", \"Topic3\", \"Topic3\", \"Topic3\", \"Topic3\", \"Topic3\", \"Topic3\", \"Topic3\", \"Topic3\", \"Topic3\", \"Topic3\", \"Topic3\", \"Topic3\", \"Topic3\", \"Topic3\", \"Topic3\", \"Topic3\", \"Topic3\", \"Topic4\", \"Topic4\", \"Topic4\", \"Topic4\", \"Topic4\", \"Topic4\", \"Topic4\", \"Topic4\", \"Topic4\", \"Topic4\", \"Topic4\", \"Topic4\", \"Topic4\", \"Topic4\", \"Topic4\", \"Topic4\", \"Topic4\", \"Topic4\", \"Topic4\", \"Topic4\", \"Topic4\", \"Topic4\", \"Topic4\", \"Topic4\", \"Topic4\", \"Topic4\", \"Topic4\", \"Topic4\", \"Topic4\", \"Topic4\", \"Topic5\", \"Topic5\", \"Topic5\", \"Topic5\", \"Topic5\", \"Topic5\", \"Topic5\", \"Topic5\", \"Topic5\", \"Topic5\", \"Topic5\", \"Topic5\", \"Topic5\", \"Topic5\", \"Topic5\", \"Topic5\", \"Topic5\", \"Topic5\", \"Topic5\", \"Topic5\", \"Topic5\", \"Topic5\", \"Topic5\", \"Topic5\", \"Topic5\", \"Topic5\", \"Topic5\", \"Topic5\", \"Topic5\", \"Topic5\", \"Topic6\", \"Topic6\", \"Topic6\", \"Topic6\", \"Topic6\", \"Topic6\", \"Topic6\", \"Topic6\", \"Topic6\", \"Topic6\", \"Topic6\", \"Topic6\", \"Topic6\", \"Topic6\", \"Topic6\", \"Topic6\", \"Topic6\", \"Topic6\", \"Topic6\", \"Topic6\", \"Topic6\", \"Topic6\", \"Topic6\", \"Topic6\", \"Topic6\", \"Topic6\", \"Topic6\", \"Topic6\", \"Topic6\", \"Topic6\", \"Topic6\", \"Topic6\", \"Topic6\", \"Topic7\", \"Topic7\", \"Topic7\", \"Topic7\", \"Topic7\", \"Topic7\", \"Topic7\", \"Topic7\", \"Topic7\", \"Topic7\", \"Topic7\", \"Topic7\", \"Topic7\", \"Topic7\", \"Topic7\", \"Topic7\", \"Topic7\", \"Topic7\", \"Topic7\", \"Topic7\", \"Topic7\", \"Topic7\", \"Topic7\", \"Topic7\", \"Topic7\", \"Topic7\", \"Topic7\", \"Topic7\", \"Topic7\", \"Topic7\", \"Topic7\", \"Topic7\", \"Topic7\", \"Topic7\", \"Topic7\", \"Topic8\", \"Topic8\", \"Topic8\", \"Topic8\", \"Topic8\", \"Topic8\", \"Topic8\", \"Topic8\", \"Topic8\", \"Topic8\", \"Topic8\", \"Topic8\", \"Topic8\", \"Topic8\", \"Topic8\", \"Topic8\", \"Topic8\", \"Topic8\", \"Topic8\", \"Topic8\", \"Topic8\", \"Topic8\", \"Topic8\", \"Topic8\", \"Topic8\", \"Topic8\", \"Topic8\", \"Topic8\", \"Topic8\", \"Topic8\", \"Topic8\", \"Topic8\", \"Topic8\", \"Topic8\", \"Topic8\", \"Topic8\", \"Topic8\", \"Topic8\", \"Topic8\", \"Topic8\", \"Topic8\", \"Topic9\", \"Topic9\", \"Topic9\", \"Topic9\", \"Topic9\", \"Topic9\", \"Topic9\", \"Topic9\", \"Topic9\", \"Topic9\", \"Topic9\", \"Topic9\", \"Topic9\", \"Topic9\", \"Topic9\", \"Topic9\", \"Topic9\", \"Topic9\", \"Topic9\", \"Topic9\", \"Topic9\", \"Topic9\", \"Topic9\", \"Topic9\", \"Topic9\", \"Topic9\", \"Topic9\", \"Topic9\", \"Topic9\", \"Topic9\", \"Topic9\", \"Topic9\", \"Topic9\", \"Topic9\", \"Topic9\", \"Topic9\", \"Topic9\", \"Topic10\", \"Topic10\", \"Topic10\", \"Topic10\", \"Topic10\", \"Topic10\", \"Topic10\", \"Topic10\", \"Topic10\", \"Topic10\", \"Topic10\", \"Topic10\", \"Topic10\", \"Topic10\", \"Topic10\", \"Topic10\", \"Topic10\", \"Topic10\", \"Topic10\", \"Topic10\", \"Topic10\", \"Topic10\", \"Topic10\", \"Topic10\", \"Topic10\", \"Topic10\", \"Topic10\", \"Topic10\", \"Topic10\", \"Topic10\", \"Topic10\", \"Topic10\", \"Topic10\", \"Topic10\", \"Topic10\", \"Topic10\", \"Topic10\", \"Topic10\", \"Topic10\", \"Topic10\", \"Topic10\"], \"logprob\": [30.0, 29.0, 28.0, 27.0, 26.0, 25.0, 24.0, 23.0, 22.0, 21.0, 20.0, 19.0, 18.0, 17.0, 16.0, 15.0, 14.0, 13.0, 12.0, 11.0, 10.0, 9.0, 8.0, 7.0, 6.0, 5.0, 4.0, 3.0, 2.0, 1.0, -2.8118, -3.1443, -3.2076, -3.416, -3.416, -3.416, -3.4615, -3.4615, -3.6808, -3.7425, -3.7425, -3.7425, -3.8093, -3.8093, -3.9288, -3.9288, -3.9288, -3.9288, -3.9288, -3.9288, -3.9288, -3.9288, -3.9288, -3.9288, -4.006, -4.006, -4.006, -4.006, -4.006, -4.0646, -2.2597, -3.3275, -2.5191, -2.5492, -2.6093, -2.639, -2.7059, -2.7783, -2.7855, -2.9843, -3.0223, -3.2052, -3.3246, -3.6725, -3.7496, -3.7496, -3.7496, -3.7496, -3.7496, -3.7496, -3.7496, -3.8562, -3.8562, -3.9948, -4.0703, -4.0703, -4.0924, -4.0924, -9.9749, -9.9749, -9.9749, -9.9749, -9.9748, -9.9748, -9.9748, -9.9749, -2.6992, -2.7966, -2.8838, -2.9269, -3.0047, -3.074, -3.2033, -3.2247, -3.3606, -3.3644, -3.5389, -3.5389, -3.6584, -3.6584, -3.6584, -3.7356, -3.7942, -3.7942, -3.7942, -3.7942, -3.8421, -3.8421, -3.8831, -3.8831, -3.9191, -3.9191, -3.9191, -3.9191, -4.0077, -4.0077, -2.1601, -2.5537, -2.7766, -2.9316, -3.2157, -3.3229, -3.3229, -3.5512, -3.6708, -3.6708, -3.6708, -3.6708, -3.6708, -3.6708, -3.6708, -3.6708, -3.6708, -3.748, -3.748, -3.8545, -3.8545, -3.9637, -3.9637, -3.9637, -3.9637, -3.9637, -4.0201, -4.0201, -4.0201, -4.0201, -2.5825, -2.6801, -2.8861, -2.9, -2.9882, -3.1069, -3.1674, -3.2264, -3.2264, -3.2803, -3.4547, -3.4547, -3.6514, -3.6514, -3.6514, -3.71, -3.71, -3.758, -3.758, -3.758, -3.7989, -3.7989, -3.7989, -3.7989, -3.8965, -3.8965, -3.8965, -3.9941, -4.106, -4.106, -2.2515, -2.3112, -2.4661, -2.8206, -3.0269, -3.2068, -3.3411, -3.4606, -3.4606, -3.4606, -3.4606, -3.4606, -3.4606, -3.5964, -3.6444, -3.6444, -3.6854, -3.6854, -3.6854, -3.6854, -3.7536, -3.7536, -3.7536, -3.9924, -3.9924, -3.9924, -3.9924, -9.7631, -9.7631, -9.7631, -9.7624, -9.7629, -9.763, -2.4684, -2.5372, -2.5532, -2.6692, -2.7018, -2.8079, -2.9603, -3.394, -3.394, -3.394, -3.4712, -3.4712, -3.6187, -3.6187, -3.6187, -3.6187, -3.6187, -3.6187, -3.6187, -3.6187, -3.687, -3.687, -3.687, -3.687, -4.0773, -9.6964, -9.6964, -9.6964, -9.6964, -9.6964, -9.6963, -9.6964, -9.6964, -9.6964, -9.6964, -1.7389, -2.3364, -2.5685, -2.7502, -2.9094, -3.3767, -3.3767, -3.4539, -3.4539, -3.4539, -3.4539, -3.5605, -3.5605, -3.5605, -3.5605, -3.5605, -3.5605, -3.6014, -2.0875, -9.6791, -9.6791, -9.6791, -9.6791, -9.6791, -9.6791, -9.6791, -9.6791, -9.6791, -9.6791, -9.6791, -9.6791, -9.6791, -9.6791, -9.6791, -9.6791, -9.6791, -9.6791, -9.6791, -9.6791, -9.6791, -9.6791, -2.07, -2.3158, -2.7327, -2.8083, -2.9705, -3.1695, -3.289, -3.289, -3.289, -3.289, -3.4248, -3.4248, -3.4248, -3.4248, -3.4728, -3.4728, -3.5137, -3.5137, -3.5137, -3.5137, -3.5137, -3.7089, -3.7089, -9.5914, -9.5914, -9.5914, -9.5914, -9.5914, -9.5914, -9.5914, -9.5911, -9.5913, -9.5914, -9.5914, -9.5914, -9.5914, -9.5914, -2.1336, -2.2099, -2.6209, -2.9082, -3.0277, -3.0277, -3.0277, -3.0277, -3.1635, -3.1635, -3.1635, -3.2115, -3.2884, -3.2884, -3.2884, -3.2884, -3.2884, -3.2884, -3.2884, -9.3301, -9.3301, -9.3301, -9.3301, -9.3301, -9.3301, -9.3301, -9.3301, -9.3301, -9.3301, -9.3301, -9.3301, -9.3301, -9.3301, -9.3301, -9.3301, -9.3301, -9.3301, -9.3301, -9.3301, -9.3301, -9.3301], \"loglift\": [30.0, 29.0, 28.0, 27.0, 26.0, 25.0, 24.0, 23.0, 22.0, 21.0, 20.0, 19.0, 18.0, 17.0, 16.0, 15.0, 14.0, 13.0, 12.0, 11.0, 10.0, 9.0, 8.0, 7.0, 6.0, 5.0, 4.0, 3.0, 2.0, 1.0, 1.8846, 1.8826, 1.8821, 1.8803, 1.8803, 1.8803, 1.8798, 1.8798, 1.8774, 1.8766, 1.8766, 1.8766, 1.8757, 1.8757, 1.8739, 1.8739, 1.8739, 1.8739, 1.8739, 1.8739, 1.8739, 1.8739, 1.8739, 1.8739, 1.8727, 1.8727, 1.8727, 1.8727, 1.8727, 1.8716, 1.7998, 1.6552, 2.1126, 2.1124, 2.1121, 2.112, 2.1116, 2.1111, 2.1111, 2.1097, 2.1094, 2.1078, 2.1066, 2.1021, 2.1008, 2.1008, 2.1008, 2.1008, 2.1008, 2.1008, 2.1008, 2.099, 2.099, 2.0963, 2.0946, 2.0946, 2.0941, 2.0941, -3.6514, -3.6514, -3.6638, -3.6638, -5.6109, -4.5624, -5.2784, -5.9153, 2.117, 2.1164, 2.1158, 2.1155, 2.1149, 2.1143, 2.1131, 2.1129, 2.1115, 2.1114, 2.1093, 2.1093, 2.1076, 2.1076, 2.1076, 2.1064, 2.1054, 2.1054, 2.1054, 2.1054, 2.1045, 2.1045, 2.1038, 2.1038, 2.1031, 2.1031, 2.1031, 2.1031, 2.1013, 2.1013, 2.2038, 2.202, 2.2006, 2.1995, 2.1968, 2.1956, 2.1956, 2.1925, 2.1906, 2.1906, 2.1906, 2.1906, 2.1906, 2.1906, 2.1906, 2.1906, 2.1906, 2.1893, 2.1893, 2.1872, 2.1872, 2.1849, 2.1849, 2.1849, 2.1849, 2.1849, 2.1836, 2.1836, 2.1836, 2.1836, 2.2258, 2.2252, 2.2238, 2.2237, 2.2229, 2.2218, 2.2212, 2.2206, 2.2206, 2.22, 2.2177, 2.2177, 2.2147, 2.2147, 2.2147, 2.2137, 2.2137, 2.2129, 2.2129, 2.2129, 2.2121, 2.2121, 2.2121, 2.2121, 2.2101, 2.2101, 2.2101, 2.2079, 2.2051, 2.2051, 2.3385, 2.3382, 2.3374, 2.3349, 2.333, 2.331, 2.3293, 2.3275, 2.3275, 2.3275, 2.3275, 2.3275, 2.3275, 2.3253, 2.3244, 2.3244, 2.3236, 2.3236, 2.3236, 2.3236, 2.3223, 2.3223, 2.3223, 2.3167, 2.3167, 2.3167, 2.3167, -3.4396, -3.4396, -3.452, -5.7029, -5.1312, -4.3506, 2.4572, 2.4568, 2.4566, 2.4558, 2.4555, 2.4546, 2.453, 2.4472, 2.4472, 2.4472, 2.4459, 2.4459, 2.4431, 2.4431, 2.4431, 2.4431, 2.4431, 2.4431, 2.4431, 2.4431, 2.4417, 2.4417, 2.4417, 2.4417, -0.0177, -3.3729, -3.3729, -3.3853, -3.3853, -3.3853, -4.6185, -5.0469, -4.7911, -5.4781, -5.2221, 2.4795, 2.4768, 2.4753, 2.4738, 2.4723, 2.4661, 2.4661, 2.4648, 2.4648, 2.4648, 2.4648, 2.4628, 2.4628, 2.4628, 2.4628, 2.4628, 2.4628, 2.4619, 2.3868, -3.3557, -3.3557, -3.3681, -3.3681, -3.3681, -3.3701, -3.3701, -3.3701, -3.3701, -3.4016, -3.4016, -4.8616, -4.3415, -4.3627, -5.6196, -5.3152, -4.9827, -5.0197, -5.0175, -4.8708, -5.0297, -4.9234, 2.5895, 2.588, 2.5847, 2.5839, 2.5821, 2.5794, 2.5775, 2.5775, 2.5775, 2.5775, 2.575, 2.575, 2.575, 2.575, 2.574, 2.574, 2.5732, 2.5732, 2.5732, 2.5732, 2.5732, 2.5687, 2.5687, -3.2679, -3.2679, -3.2803, -3.2803, -3.2803, -3.2824, -3.2824, -5.3727, -4.8404, -4.2538, -4.895, -5.5319, -5.1171, -5.2275, 2.9442, 2.9436, 2.9394, 2.9352, 2.9331, 2.9331, 2.9331, 2.9331, 2.9304, 2.9304, 2.9304, 2.9293, 2.9275, 2.9275, 2.9275, 2.9275, 2.9275, 2.9275, 2.9275, -3.0066, -3.0066, -3.019, -3.019, -3.019, -3.0211, -3.0211, -3.0211, -3.0211, -3.0526, -3.0526, -3.9167, -5.2706, -5.1118, -4.8558, -4.9662, -4.6337, -4.6707, -4.6685, -4.5218, -4.6807, -4.5744]}, \"token.table\": {\"Topic\": [3, 7, 2, 8, 5, 5, 8, 3, 5, 4, 4, 1, 10, 5, 5, 3, 7, 5, 3, 3, 8, 6, 1, 7, 6, 9, 9, 9, 4, 7, 10, 8, 6, 3, 2, 6, 1, 3, 4, 8, 5, 5, 3, 4, 2, 1, 5, 9, 9, 6, 3, 10, 10, 5, 3, 4, 7, 1, 9, 1, 7, 3, 4, 2, 7, 7, 4, 4, 3, 6, 1, 9, 10, 10, 5, 2, 9, 2, 7, 7, 7, 4, 1, 1, 3, 4, 3, 5, 8, 6, 3, 2, 1, 2, 6, 9, 1, 2, 4, 5, 8, 6, 4, 6, 5, 3, 1, 7, 6, 9, 8, 3, 3, 4, 4, 7, 4, 4, 2, 5, 6, 5, 7, 1, 7, 2, 6, 3, 2, 8, 1, 1, 1, 5, 2, 3, 5, 2, 1, 10, 4, 1, 5, 9, 8, 10, 4, 7, 7, 8, 6, 6, 1, 1, 1, 7, 5, 6, 1, 9, 6, 3, 5, 9, 10, 10, 10, 2, 6, 5, 2, 4, 6, 10, 8, 3, 5, 3, 1, 8, 5, 1, 2, 5, 10, 6, 10, 9, 9, 8, 5, 4, 1, 5, 10, 3, 4, 2, 8, 4, 9, 6, 4, 9, 2, 1, 1, 6, 7, 4, 3, 3, 5, 3, 3, 1, 4, 9, 2, 2, 9, 2, 3, 10, 9, 4, 5, 3, 1, 4, 6, 10, 8, 8, 2, 1, 8, 5, 5, 2, 7, 7, 1, 3, 1, 8, 7, 7, 9, 7, 6, 6, 7, 6, 10, 4, 10, 1, 1, 9, 2, 2, 9, 6, 4], \"Freq\": [0.998982671603671, 0.9650729556073331, 0.8295736193262309, 1.0591505052649626, 1.18418779677504, 0.8772081898997044, 0.7413961666802479, 1.2204891768091946, 0.8039025552598041, 1.0066236589115891, 1.0137352197773881, 0.7122937263683405, 0.998725509665989, 1.0527008502571298, 1.1825242361043855, 0.7846863851540357, 1.1205684076198585, 1.25051209763341, 0.8225331572651192, 1.0622772675167371, 0.7413961666802479, 0.8754158375057394, 0.9835866219793807, 0.9517196955318675, 0.8022570049775404, 1.1451429859767746, 0.8696798763214465, 0.9463649905783953, 1.063592018423174, 0.9229022201888207, 0.7418127775973244, 1.0003036380021573, 0.840933303430367, 0.8759127759563254, 1.0454534627287422, 1.1817870190011264, 1.185573611392136, 0.8870455380168848, 0.7552931969291086, 0.9350193106361592, 0.7589057404669189, 0.8426565011548947, 0.9570765009043992, 0.9045723228678276, 0.8729000660642342, 1.1154908599739042, 1.25051209763341, 0.9091518538566373, 1.1451429859767746, 0.701970281529475, 0.6865581583774164, 0.9529662128802409, 0.8342356661076528, 1.0835284400714527, 0.967482807403506, 1.0915738898296694, 0.7402238714138578, 0.7122937263683405, 0.8674065999096078, 0.7684726889430995, 0.7402238714138578, 0.7846863851540357, 1.0066236589115891, 0.7470986976207847, 0.9866641864089583, 0.9229022201888207, 0.9359463076172656, 0.7552931969291086, 0.6865581583774164, 1.2479408745114322, 0.898073782312092, 0.8674065999096078, 1.0766822390949984, 1.0766822390949984, 1.0540254066315071, 0.8634726323210804, 0.9463649905783953, 0.9502840116917941, 0.829941499202131, 0.9229022201888207, 0.7985615027295601, 0.7552931969291086, 0.7684726889430995, 0.9410785725857715, 0.3136928575285905, 0.8147941183041885, 0.8562774763679475, 0.8772081898997044, 0.7985628870331436, 1.1817870190011264, 0.7846863851540357, 1.0923116747452266, 1.185573611392136, 0.7470986976207847, 0.701970281529475, 0.6748877308139563, 1.0473847675814991, 0.7470986976207847, 1.063592018423174, 1.06865027791653, 1.022439755796639, 0.701970281529475, 1.0721089368308045, 0.8991456498831011, 0.886804740884052, 1.027365840303684, 0.7122937263683405, 0.7985615027295601, 0.9359746069850465, 0.7591314206363917, 0.8879899577893067, 0.8776646069859481, 0.8870455380168848, 1.063592018423174, 0.9045723228678276, 0.9229022201888207, 1.0066236589115891, 1.0066236589115891, 1.104188018266519, 0.8426565011548947, 0.9148934368975552, 1.0618497876733528, 0.7402238714138578, 0.7122937263683405, 0.9866641864089583, 0.7470986976207847, 0.8754158375057394, 0.8870455380168848, 1.0636779229250224, 0.7998243950742687, 1.185573611392136, 0.7684726889430995, 0.7122937263683405, 0.8772081898997044, 1.0518585358308534, 0.6865581583774164, 0.7589057404669189, 0.982462166880913, 1.2663299476132526, 1.0766822390949984, 0.7552931969291086, 0.7684726889430995, 0.8426565011548947, 0.8767887633631887, 0.8879899577893067, 0.8342356661076528, 0.8147941183041885, 0.9229022201888207, 1.084931258992596, 0.8879899577893067, 1.0590333849562794, 0.9359746069850465, 0.814025100272104, 0.8585085814279515, 0.8723541327062617, 0.12462201895803739, 1.18418779677504, 1.1817870190011264, 0.898073782312092, 0.7591314206363917, 0.701970281529475, 1.023473979004001, 0.9414758453641742, 1.109223983585036, 0.9529662128802409, 1.0349761235560992, 1.1177873326477072, 0.8295736193262309, 0.701970281529475, 0.7589057404669189, 0.857283595253464, 0.7552931969291086, 0.840933303430367, 1.0766822390949984, 0.8879899577893067, 0.8870455380168848, 0.8039025552598041, 0.7846863851540357, 0.7122937263683405, 0.9434083950978706, 0.9652243055676356, 0.8585085814279515, 0.9662699031402384, 1.18418779677504, 0.8342356661076528, 1.1817870190011264, 1.0766822390949984, 0.9463649905783953, 0.9082149627833391, 0.924357189690446, 0.9980903095358934, 0.6714682379518797, 1.1989542683736871, 0.8772081898997044, 0.9529662128802409, 0.8562774763679475, 0.9999779569175906, 0.7470986976207847, 0.8879899577893067, 0.7552931969291086, 0.8674065999096078, 1.1186246071488624, 1.0721089368308045, 0.9463649905783953, 0.9101917923401474, 0.7122937263683405, 1.1989542683736871, 1.0488191200874841, 0.9669375061807356, 0.9642073405519286, 0.8225331572651192, 0.967482807403506, 0.9980903095358934, 0.7407450763459961, 0.8946857582801239, 0.8585085814279515, 1.063592018423174, 0.9091518538566373, 0.7470986976207847, 0.6924550637396117, 0.7591314206363917, 0.7470986976207847, 1.1558425599080204, 1.0766822390949984, 0.9449035976041593, 0.7552931969291086, 0.8709914935853889, 1.0790704776035571, 1.2663299476132526, 0.7552931969291086, 0.9359746069850465, 1.116367894111875, 0.8879899577893067, 0.7998243950742687, 1.0454534627287422, 0.7122937263683405, 0.7998243950742687, 0.9652243055676356, 0.9652243055676356, 1.0231495650478089, 0.8888321488926397, 0.9229022201888207, 0.7122937263683405, 1.2204891768091946, 0.9423893318130646, 0.7998243950742687, 0.9866641864089583, 0.9229022201888207, 0.8674065999096078, 0.9866641864089583, 0.8754158375057394, 1.0929618372785213, 0.9229022201888207, 0.8754158375057394, 0.8342356661076528, 1.0066236589115891, 1.0766822390949984, 0.7684726889430995, 0.7122937263683405, 0.7591314206363917, 0.9952020871945301, 1.0231495650478089, 0.9463649905783953, 0.701970281529475, 0.7552931969291086], \"Term\": [\"\\uac00\\uc7a5\", \"\\uac00\\uc871\", \"\\uac00\\uc9c0\\ub2e4\", \"\\uac15\\uc544\\uc9c0\", \"\\uac19\\uc774\", \"\\uac1c\\ubd09\", \"\\uac1c\\uc778\", \"\\uac74\\uac15\", \"\\uac80\\uc0c9\\uc5b4\", \"\\uac80\\ud1a0\", \"\\uac8c\\uc784\", \"\\uaca8\\uc6b8\\uc655\\uad6d\", \"\\uacbd\\uc81c\", \"\\uacbd\\ud5d8\", \"\\uace0\\uc591\\uc774\", \"\\uace8\\ud504\", \"\\uacf5\\uac10\", \"\\uacf5\\uac10\\ub300\", \"\\uacf5\\ub7b5\", \"\\uacf5\\uc720\", \"\\uacfc\\uc678\", \"\\uacfc\\uc81c\", \"\\uad00\\ub828\", \"\\uad00\\uc2ec\", \"\\uad00\\uc2ec\\uac70\\ub9ac\", \"\\uad00\\ud558\\ub2e4\", \"\\uad50\\uc721\", \"\\uad6c\\ub3c4\", \"\\uad6c\\ub3c5\\uc790\", \"\\uad6c\\ub3c5\\uc790\\uc218\", \"\\uad6c\\uc785\", \"\\uadc0\\uc5fd\\ub2e4\", \"\\uae30\\ub150\", \"\\uae30\\ub85d\", \"\\uae30\\uc5b5\", \"\\uae30\\uc6b8\\uc774\\ub2e4\", \"\\uae30\\uc874\", \"\\uae34\\uc7a5\\uac10\", \"\\ub098\\ub77c\", \"\\ub098\\uc624\\ub2e4\", \"\\ub0a8\\uae30\\ub2e4\", \"\\ub0a8\\uc790\", \"\\ub0b4\\uc6a9\", \"\\ub108\\ubb34\", \"\\ub178\\ub798\", \"\\ub178\\ub825\", \"\\ub208\\uc2f8\\uc6c0\", \"\\ub290\\ub07c\\ub2e4\", \"\\ub2e4\\ub8e8\\ub2e4\", \"\\ub2e4\\ub978\", \"\\ub2e4\\uc2dc\", \"\\ub2e4\\uc591\", \"\\ub2e4\\uc774\\uc5b4\\ud2b8\", \"\\ub300\\ud558\\ub2e4\", \"\\ub300\\ud559\\uc6d0\", \"\\ub3c4\\uc6c0\", \"\\ub3d9\\uae30\", \"\\ub3d9\\ub124\", \"\\ub3d9\\ub8cc\", \"\\ub3d9\\ubb3c\", \"\\ub3d9\\ucc3d\", \"\\ub3d9\\ud638\\ud68c\", \"\\ub4dc\\ub9ac\\ub2e4\", \"\\ub4e4\\uc5b4\\uac00\\ub2e4\", \"\\ub4e4\\uc774\\ub2e4\", \"\\ub531\\ud788\", \"\\ub77c\\uc774\\ube0c\", \"\\ub808\\uace0\", \"\\ub808\\uace0\\ud504\\ub80c\\uc988\", \"\\ub85c\\ub610\", \"\\ub9ac\\ubdf0\", \"\\ub9ac\\uc561\\uc158\", \"\\ub9c8\\uc74c\", \"\\ub9c8\\uc9c0\\ub9c9\", \"\\ub9cc\\ub4e4\\ub2e4\", \"\\ub9ce\\uc774\", \"\\ub9e4\\ub044\\ub7fd\\ub2e4\", \"\\ub9e4\\ub2c8\\uc544\\uce35\", \"\\uba39\\ubc29\", \"\\uba4b\\uc9c0\\ub2e4\", \"\\uba54\\ub274\", \"\\uba54\\ucd94\\ub9ac\", \"\\ubaa8\\ub4e0\", \"\\ubaa8\\uc2b5\", \"\\ubaa8\\uc2b5\", \"\\ubb38\\ud654\", \"\\ubc00\\uc811\", \"\\ubc14\\ud0d5\", \"\\ubc18\\ub824\\uacac\", \"\\ubc18\\uc751\", \"\\ubc29\\ubc95\", \"\\ubc29\\uc1a1\", \"\\ubc30\\uacbd\\uc74c\\uc545\", \"\\ubc34\\ub4dc\", \"\\ubca0\\uc774\\ube44\", \"\\ubca0\\uc774\\ud0b9\", \"\\ubcf4\\uc774\\ub2e4\", \"\\ubd80\\ub974\\ub2e4\", \"\\ubd80\\uc790\", \"\\ubd84\\uc57c\", \"\\ube0c\\uc774\\ub85c\\uadf8\", \"\\ube14\\ub85c\\uadf8\", \"\\ube44\\uad50\", \"\\uc0ac\\ub78c\", \"\\uc0ac\\uc6a9\", \"\\uc0ac\\ud68c\", \"\\uc0b0\\ucc45\", \"\\uc0c8\\ub86d\\ub2e4\", \"\\uc0dd\\uac01\", \"\\uc0dd\\ubc29\\uc1a1\", \"\\uc0dd\\uc77c\\ub0a0\", \"\\uc0dd\\ud65c\", \"\\uc124\\ub808\\ub2e4\", \"\\uc131\\uacf5\", \"\\uc138\\uc77c\", \"\\uc18c\\uac1c\", \"\\uc18c\\ube44\", \"\\uc18c\\ube44\\uc790\", \"\\uc18c\\ud1b5\", \"\\uc190\\uc27d\\ub2e4\", \"\\uc218\\uc5c5\", \"\\uc218\\uc9d1\", \"\\uc2a4\\ud0c0\\uc77c\", \"\\uc2a4\\ud53c\\ub4dc\", \"\\uc2dc\\uac04\", \"\\uc2dc\\uc2b9\", \"\\uc2dc\\uc5f0\", \"\\uc2dc\\uc791\", \"\\uc2dc\\uccad\\uc790\", \"\\uc2dd\\ubb3c\", \"\\uc2e0\\uacbd\", \"\\uc2e0\\uaddc\", \"\\uc2e4\\ub825\", \"\\uc2e4\\ubb34\", \"\\uc2e4\\uc2dc\\uac04\", \"\\uc2e4\\uccb4\", \"\\uc544\\uae30\", \"\\uc544\\uc774\", \"\\uc544\\uc9c1\", \"\\uc544\\ud504\\ub2e4\", \"\\uc54c\\ucc28\\ub2e4\", \"\\uc560\\ucc29\", \"\\uc5b4\\ub974\\uc2e0\", \"\\uc5b4\\ub9ac\\ub2e4\", \"\\uc5b8\\ub355\", \"\\uc5b8\\ubc15\\uc2f1\", \"\\uc5b8\\uc5b4\", \"\\uc5bd\\ub9e4\\uc774\\ub2e4\", \"\\uc5c5\\ub85c\\ub4dc\", \"\\uc5ec\\ub984\", \"\\uc5ec\\ud589\", \"\\uc5ed\\uc0ac\", \"\\uc5f0\\uc2b5\", \"\\uc5f0\\uc8fc\", \"\\uc601\\uc0c1\", \"\\uc601\\uc0c1\", \"\\uc601\\uc0c1\\uad6c\\ub3c4\", \"\\uc601\\uc0c1\\uae30\\ubc95\", \"\\uc601\\uc0c1\\ubbf8\", \"\\uc601\\ud654\", \"\\uc628\\ub77c\\uc778\", \"\\uc62c\\ub9ac\\ub2e4\", \"\\uc694\\ub9ac\", \"\\uc694\\uc18c\", \"\\uc6a9\\uc774\", \"\\uc6b4\\ub3d9\", \"\\uc704\\ud558\\ub2e4\", \"\\uc720\\ud22c\", \"\\uc721\\uc544\", \"\\uc74c\\uc2dd\", \"\\uc74c\\uc545\", \"\\uc74c\\uc6d0\", \"\\uc758\\ubbf8\", \"\\uc774\\ub8e8\\uc5b4\\uc9c0\\ub2e4\", \"\\uc774\\ubcc4\", \"\\uc774\\uc81c\", \"\\uc778\\uae30\", \"\\uc778\\uc0c1\", \"\\uc778\\ucc9c\", \"\\uc77c\\uc0c1\", \"\\uc790\\uc2e0\", \"\\uc790\\uc5f0\", \"\\uc790\\uc720\", \"\\uc791\\uc5c5\", \"\\uc7a5\\ub09c\\uac10\", \"\\uc7a5\\uc18c\", \"\\uc7ac\\uac74\\ucd95\", \"\\uc7ac\\ubbf8\", \"\\uc7ac\\ubbf8\\uc788\\ub2e4\", \"\\uc800\\uc7a5\", \"\\uc804\\ub2ec\", \"\\uc804\\ub2ec\\ub825\", \"\\uc804\\ubc18\\uc801\", \"\\uc804\\uc790\\uc81c\\ud488\", \"\\uc811\\uadfc\\uc131\", \"\\uc811\\ud558\\ub2e4\", \"\\uc815\\ubcf4\", \"\\uc815\\uc131\", \"\\uc815\\uc5fd\", \"\\uc81c\\uacf5\", \"\\uc81c\\uc77c\", \"\\uc81c\\uc791\", \"\\uc81c\\ud488\", \"\\uc870\\uae08\", \"\\uc88b\\uc544\\ud558\\ub2e4\", \"\\uc8fc\\uc2dd\", \"\\uc8fc\\uc758\", \"\\uc8fc\\uc81c\", \"\\uc990\\uac70\\uc6c0\", \"\\uc990\\uae30\\ub2e4\", \"\\uc9c0\\uae08\", \"\\uc9c0\\ub0b4\\ub2e4\", \"\\uc9c0\\uc2dd\", \"\\uc9c0\\uc774\", \"\\uc9c1\\uc7a5\", \"\\uc9c1\\uc811\", \"\\uc9c4\\uc9dc\", \"\\uc9d1\\uc911\", \"\\ucc28\\ub7c9\", \"\\ucc3d\\ub2e8\", \"\\ucc44\\ub110\", \"\\ucc44\\ud305\", \"\\ucc98\\uc74c\", \"\\ucca0\\uac70\", \"\\ucd2c\\uc601\", \"\\ucd5c\\ub300\\ud55c\", \"\\ucd94\\uc5b5\", \"\\ucde8\\ubbf8\", \"\\ucea0\\ud551\", \"\\ucee4\\ubc84\", \"\\ucee8\\uc149\", \"\\ucf58\\ud150\\uce20\", \"\\ucfe0\\ub9ac\\ucf54\", \"\\ud0a4\\uc6b0\\ub2e4\", \"\\ud14c\\uc774\\ube14\", \"\\ud1a0\\ud06c\", \"\\ud1a0\\ud0b9\", \"\\ud2b9\\ubcc4\", \"\\ud2b9\\uc815\", \"\\ud2b9\\uc9d5\", \"\\ud328\\uc158\", \"\\ud328\\uc158\\uc1fc\", \"\\ud398\\uc778\\ud305\", \"\\ud3b8\\uc548\", \"\\ud3b8\\uc9d1\", \"\\ud3b8\\ud558\\ub2e4\", \"\\ud3c9\\uc18c\", \"\\ud48d\\uacbd\", \"\\ud50c\\ub808\\uc774\", \"\\ud558\\uc6b8\", \"\\ud559\\uad50\", \"\\ud568\\uaed8\", \"\\ud574\\uc678\", \"\\ud589\\ubcf5\\uac10\", \"\\ud5ec\\uc2a4\\uc7a5\", \"\\ud604\\uba85\", \"\\ud604\\uc7a5\", \"\\ud64d\\ubcf4\", \"\\ud658\\uacbd\", \"\\ud65c\\uae30\\ucc28\\ub2e4\", \"\\ud65c\\ub3d9\", \"\\ud6c4\\uc6d0\", \"\\ud758\\ub7ec\\uac00\\ub2e4\", \"\\ud765\\ubbf8\", \"\\ud798\\ub4e4\\ub2e4\"]}, \"R\": 30, \"lambda.step\": 0.01, \"plot.opts\": {\"xlab\": \"PC1\", \"ylab\": \"PC2\"}, \"topic.order\": [10, 4, 1, 9, 5, 7, 3, 6, 2, 8]};\n",
      "\n",
      "function LDAvis_load_lib(url, callback){\n",
      "  var s = document.createElement('script');\n",
      "  s.src = url;\n",
      "  s.async = true;\n",
      "  s.onreadystatechange = s.onload = callback;\n",
      "  s.onerror = function(){console.warn(\"failed to load library \" + url);};\n",
      "  document.getElementsByTagName(\"head\")[0].appendChild(s);\n",
      "}\n",
      "\n",
      "if(typeof(LDAvis) !== \"undefined\"){\n",
      "   // already loaded: just create the visualization\n",
      "   !function(LDAvis){\n",
      "       new LDAvis(\"#\" + \"ldavis_el754321404274581657763115694940\", ldavis_el754321404274581657763115694940_data);\n",
      "   }(LDAvis);\n",
      "}else if(typeof define === \"function\" && define.amd){\n",
      "   // require.js is available: use it to load d3/LDAvis\n",
      "   require.config({paths: {d3: \"https://d3js.org/d3.v5\"}});\n",
      "   require([\"d3\"], function(d3){\n",
      "      window.d3 = d3;\n",
      "      LDAvis_load_lib(\"https://cdn.jsdelivr.net/gh/bmabey/pyLDAvis@3.2.2/pyLDAvis/js/ldavis.v3.0.0.js\", function(){\n",
      "        new LDAvis(\"#\" + \"ldavis_el754321404274581657763115694940\", ldavis_el754321404274581657763115694940_data);\n",
      "      });\n",
      "    });\n",
      "}else{\n",
      "    // require.js not available: dynamically load d3 & LDAvis\n",
      "    LDAvis_load_lib(\"https://d3js.org/d3.v5.js\", function(){\n",
      "         LDAvis_load_lib(\"https://cdn.jsdelivr.net/gh/bmabey/pyLDAvis@3.2.2/pyLDAvis/js/ldavis.v3.0.0.js\", function(){\n",
      "                 new LDAvis(\"#\" + \"ldavis_el754321404274581657763115694940\", ldavis_el754321404274581657763115694940_data);\n",
      "            })\n",
      "         });\n",
      "}\n",
      "</script></body></html>\n"
     ]
    }
   ],
   "source": [
    "print(soup)"
   ]
  }
 ],
 "metadata": {
  "kernelspec": {
   "display_name": "Python 3",
   "language": "python",
   "name": "python3"
  },
  "language_info": {
   "codemirror_mode": {
    "name": "ipython",
    "version": 3
   },
   "file_extension": ".py",
   "mimetype": "text/x-python",
   "name": "python",
   "nbconvert_exporter": "python",
   "pygments_lexer": "ipython3",
   "version": "3.8.1"
  },
  "toc": {
   "base_numbering": 1,
   "nav_menu": {},
   "number_sections": true,
   "sideBar": true,
   "skip_h1_title": false,
   "title_cell": "Table of Contents",
   "title_sidebar": "Contents",
   "toc_cell": false,
   "toc_position": {},
   "toc_section_display": true,
   "toc_window_display": false
  },
  "varInspector": {
   "cols": {
    "lenName": 16,
    "lenType": 16,
    "lenVar": 40
   },
   "kernels_config": {
    "python": {
     "delete_cmd_postfix": "",
     "delete_cmd_prefix": "del ",
     "library": "var_list.py",
     "varRefreshCmd": "print(var_dic_list())"
    },
    "r": {
     "delete_cmd_postfix": ") ",
     "delete_cmd_prefix": "rm(",
     "library": "var_list.r",
     "varRefreshCmd": "cat(var_dic_list()) "
    }
   },
   "types_to_exclude": [
    "module",
    "function",
    "builtin_function_or_method",
    "instance",
    "_Feature"
   ],
   "window_display": false
  }
 },
 "nbformat": 4,
 "nbformat_minor": 4
}
